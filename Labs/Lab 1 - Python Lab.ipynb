{
 "cells": [
  {
   "cell_type": "markdown",
   "source": [
    "# Lab 1 - Python Lab\n",
    "## Author: *your name here*\n",
    "## Date: 11:59 PM February 13, 2022\n",
    "\n",
    "You should have access to a Notebook software that can edit and run `.ipynb` files. Prefereably, I recommend using Jupyter Notebook through the [Anaconda package](https://docs.anaconda.com/anaconda/install/index.html). You will write code in places marked \"TO-DO\" to complete the problems. Most of this will be a pure programming assignment but there are some questions that instead ask you to \"write a few sentences\". This is a writing class afterall. The tools for the solutions to these probelms can be found in the class python practice lectures. I encourage you to use Google and to flex your Google-Fu skills, but you should be learning. If you copy and paste esoteric code you don't understand, you're only cheating youself.\n",
    "\n",
    "To \"hand in\" this lab, you should first download this file. The best way to do this is by cloning the class repository, solving it on your local device, then copying this file into your personal class repository on Github. For the student's convenience I will upload the Python Labs and Practice Lectures onto the Slack channel. \n",
    "\n",
    "Work on this with your friends! Programming is often a collaborative effort.\n",
    "\n",
    "### Basic Python Skills\n",
    "\n",
    "1. Print out the numerical constant pi with ten digits after the decimal point using the internal constant `pi`."
   ],
   "metadata": {}
  },
  {
   "cell_type": "code",
   "execution_count": 1,
   "source": [
    "# TO-DO\n",
    "import numpy as np\n",
    "round(np.pi,10)"
   ],
   "outputs": [
    {
     "output_type": "execute_result",
     "data": {
      "text/plain": [
       "3.1415926536"
      ]
     },
     "metadata": {},
     "execution_count": 1
    }
   ],
   "metadata": {}
  },
  {
   "cell_type": "markdown",
   "source": [
    "2. Sum up the first 103 terms of the series 1 + 1/2 + 1/4 + 1/8 + ..."
   ],
   "metadata": {}
  },
  {
   "cell_type": "code",
   "execution_count": 2,
   "source": [
    "# TO-DO\n",
    "y = 1\n",
    "for i in range(1,103):\n",
    "    y += 1/i\n",
    "y"
   ],
   "outputs": [
    {
     "output_type": "execute_result",
     "data": {
      "text/plain": [
       "6.207082429307257"
      ]
     },
     "metadata": {},
     "execution_count": 2
    }
   ],
   "metadata": {}
  },
  {
   "cell_type": "markdown",
   "source": [
    "3. Find the product of the first 37 terms in the sequence 1/3, 1/6, 1/9  ..."
   ],
   "metadata": {}
  },
  {
   "cell_type": "code",
   "execution_count": 3,
   "source": [
    "# TO-DO\n",
    "j = 1\n",
    "for i in range(3,37,3):\n",
    "    j *= (1/i)\n",
    "j"
   ],
   "outputs": [
    {
     "output_type": "execute_result",
     "data": {
      "text/plain": [
       "3.9283301416089635e-15"
      ]
     },
     "metadata": {},
     "execution_count": 3
    }
   ],
   "metadata": {}
  },
  {
   "cell_type": "markdown",
   "source": [
    "4. Find the product of the first 387 terms of `1 * 1/2 * 1/4 * 1/8 *` ..."
   ],
   "metadata": {}
  },
  {
   "cell_type": "code",
   "execution_count": 4,
   "source": [
    "# TO-DO\n",
    "j = 1\n",
    "for i in range(2,387,2):\n",
    "    j *= (1/i)\n",
    "j"
   ],
   "outputs": [
    {
     "output_type": "execute_result",
     "data": {
      "text/plain": [
       "0.0"
      ]
     },
     "metadata": {},
     "execution_count": 4
    }
   ],
   "metadata": {}
  },
  {
   "cell_type": "markdown",
   "source": [
    "5. Is this answer *exactly* correct? \n",
    "\n",
    "*write your answer here*\n",
    "\n",
    "6. Figure out a means to express the answer more exactly. Not compute exactly, but express more exactly."
   ],
   "metadata": {}
  },
  {
   "cell_type": "code",
   "execution_count": 5,
   "source": [
    "# TO-DO\n",
    "-np.log(2)*sum(range(1,387))"
   ],
   "outputs": [
    {
     "output_type": "execute_result",
     "data": {
      "text/plain": [
       "-51771.856063202875"
      ]
     },
     "metadata": {},
     "execution_count": 5
    }
   ],
   "metadata": {}
  },
  {
   "cell_type": "markdown",
   "source": [
    "7. Create the sequence `x = [Inf, 20, 18, ..., -20]`."
   ],
   "metadata": {}
  },
  {
   "cell_type": "code",
   "execution_count": 7,
   "source": [
    "# TO-DO\n",
    "x = list(range(-20,21))\n",
    "x.append(np.inf)\n",
    "x.sort(reverse=True)\n",
    "np.array(x)"
   ],
   "outputs": [
    {
     "output_type": "execute_result",
     "data": {
      "text/plain": [
       "array([ inf,  20.,  19.,  18.,  17.,  16.,  15.,  14.,  13.,  12.,  11.,\n",
       "        10.,   9.,   8.,   7.,   6.,   5.,   4.,   3.,   2.,   1.,   0.,\n",
       "        -1.,  -2.,  -3.,  -4.,  -5.,  -6.,  -7.,  -8.,  -9., -10., -11.,\n",
       "       -12., -13., -14., -15., -16., -17., -18., -19., -20.])"
      ]
     },
     "metadata": {},
     "execution_count": 7
    }
   ],
   "metadata": {}
  },
  {
   "cell_type": "markdown",
   "source": [
    "8. Create the sequence `x = [log_3(Inf), log_3(100), log_3(98), ... log_3(-20)]`."
   ],
   "metadata": {}
  },
  {
   "cell_type": "code",
   "execution_count": 51,
   "source": [
    "# TO-DO\n",
    "y = np.log(x)/np.log(3)\n",
    "y_ = np.copy(y)\n",
    "y"
   ],
   "outputs": [
    {
     "output_type": "stream",
     "name": "stderr",
     "text": [
      "/var/folders/tz/_fthv9sx6pq_hc0qzmtt7w7h0000gn/T/ipykernel_80791/2280979774.py:2: RuntimeWarning: divide by zero encountered in log\n",
      "  y = np.log(x)/np.log(3)\n",
      "/var/folders/tz/_fthv9sx6pq_hc0qzmtt7w7h0000gn/T/ipykernel_80791/2280979774.py:2: RuntimeWarning: invalid value encountered in log\n",
      "  y = np.log(x)/np.log(3)\n"
     ]
    },
    {
     "output_type": "execute_result",
     "data": {
      "text/plain": [
       "array([       inf, 2.72683303, 2.68014386, 2.63092975, 2.57890192,\n",
       "       2.52371901, 2.46497352, 2.4021735 , 2.33471752, 2.26185951,\n",
       "       2.18265834, 2.09590327, 2.        , 1.89278926, 1.77124375,\n",
       "       1.63092975, 1.46497352, 1.26185951, 1.        , 0.63092975,\n",
       "       0.        ,       -inf,        nan,        nan,        nan,\n",
       "              nan,        nan,        nan,        nan,        nan,\n",
       "              nan,        nan,        nan,        nan,        nan,\n",
       "              nan,        nan,        nan,        nan,        nan,\n",
       "              nan,        nan])"
      ]
     },
     "metadata": {},
     "execution_count": 51
    }
   ],
   "metadata": {}
  },
  {
   "cell_type": "markdown",
   "source": [
    "9. Comment on the appropriateness of the non-numeric values.\n",
    "\n",
    "NAN occurs because you cannot take the log of a negative number.\n",
    "-Inf occurs when you take the log of 0.\n",
    "<span style=\"color:red\">Very appropriate, all negative values are NAN</span></br>\n",
    "10. Create a vector of booleans where the entry is true if `x[i]` is positive and finite."
   ],
   "metadata": {}
  },
  {
   "cell_type": "code",
   "execution_count": 55,
   "source": [
    "# TO-DO\n",
    "for i in range(len(y)):\n",
    "    if y[i] >= 0 and y[i] != np.inf:\n",
    "        y[i] = True\n",
    "    else:\n",
    "        y[i] = False\n",
    "\n",
    "y"
   ],
   "outputs": [
    {
     "output_type": "execute_result",
     "data": {
      "text/plain": [
       "array([0., 1., 1., 1., 1., 1., 1., 1., 1., 1., 1., 1., 1., 1., 1., 1., 1.,\n",
       "       1., 1., 1., 1., 0., 0., 0., 0., 0., 0., 0., 0., 0., 0., 0., 0., 0.,\n",
       "       0., 0., 0., 0., 0., 0., 0., 0.])"
      ]
     },
     "metadata": {},
     "execution_count": 55
    }
   ],
   "metadata": {}
  },
  {
   "cell_type": "markdown",
   "source": [
    "11. Locate the indices of the non-real numbers in this vector. Hint: use the `help` function. Don't hesitate to use the documentation via `help()`."
   ],
   "metadata": {}
  },
  {
   "cell_type": "code",
   "execution_count": 56,
   "source": [
    "# TO-DO\n",
    "res1 = np.where(y == False)\n",
    "res1\n"
   ],
   "outputs": [
    {
     "output_type": "execute_result",
     "data": {
      "text/plain": [
       "(array([ 0, 21, 22, 23, 24, 25, 26, 27, 28, 29, 30, 31, 32, 33, 34, 35, 36,\n",
       "        37, 38, 39, 40, 41]),)"
      ]
     },
     "metadata": {},
     "execution_count": 56
    }
   ],
   "metadata": {}
  },
  {
   "cell_type": "markdown",
   "source": [
    "12. Locate the indices of the infinite quantities in this vector. \n",
    "<span style = \"color:deeppink\">Asking questions in this order is bad practice the array has already been updated to a bool array </span>"
   ],
   "metadata": {}
  },
  {
   "cell_type": "code",
   "execution_count": 36,
   "source": [
    "# TO-DO\n",
    "res = np.where(np.logical_or(y_ == np.inf, y_ == -np.inf))\n",
    "res"
   ],
   "outputs": [
    {
     "output_type": "execute_result",
     "data": {
      "text/plain": [
       "(array([ 0, 21]),)"
      ]
     },
     "metadata": {},
     "execution_count": 36
    }
   ],
   "metadata": {}
  },
  {
   "cell_type": "markdown",
   "source": [
    "13. Locate the indices of the min and max in this vector."
   ],
   "metadata": {}
  },
  {
   "cell_type": "code",
   "execution_count": 41,
   "source": [
    "# TO-DO\n",
    "print(' min index: ',np.where(y_==min(y_))[0],'\\n','max index: ',np.where(y_==max(y_))[0])"
   ],
   "outputs": [
    {
     "output_type": "stream",
     "name": "stdout",
     "text": [
      " min index:  [21] \n",
      " max index:  [0]\n"
     ]
    }
   ],
   "metadata": {}
  },
  {
   "cell_type": "markdown",
   "source": [
    "14. Count the number of unique values in `x`."
   ],
   "metadata": {}
  },
  {
   "cell_type": "code",
   "execution_count": 47,
   "source": [
    "# TO-DO\n",
    "print('This accounts for +/- inf and 1 NAN: ',len(np.unique(y_)))"
   ],
   "outputs": [
    {
     "output_type": "stream",
     "name": "stdout",
     "text": [
      "This accounts for +/- inf and 1 NAN:  23\n"
     ]
    }
   ],
   "metadata": {}
  },
  {
   "cell_type": "markdown",
   "source": [
    "15. Cast `x` to a factor. Do the number of levels make sense?"
   ],
   "metadata": {}
  },
  {
   "cell_type": "code",
   "execution_count": 50,
   "source": [
    "# TO-DO\n",
    "y_.astype(int)"
   ],
   "outputs": [
    {
     "output_type": "execute_result",
     "data": {
      "text/plain": [
       "array([-9223372036854775808,                    2,                    2,\n",
       "                          2,                    2,                    2,\n",
       "                          2,                    2,                    2,\n",
       "                          2,                    2,                    2,\n",
       "                          2,                    1,                    1,\n",
       "                          1,                    1,                    1,\n",
       "                          1,                    0,                    0,\n",
       "       -9223372036854775808, -9223372036854775808, -9223372036854775808,\n",
       "       -9223372036854775808, -9223372036854775808, -9223372036854775808,\n",
       "       -9223372036854775808, -9223372036854775808, -9223372036854775808,\n",
       "       -9223372036854775808, -9223372036854775808, -9223372036854775808,\n",
       "       -9223372036854775808, -9223372036854775808, -9223372036854775808,\n",
       "       -9223372036854775808, -9223372036854775808, -9223372036854775808,\n",
       "       -9223372036854775808, -9223372036854775808, -9223372036854775808])"
      ]
     },
     "metadata": {},
     "execution_count": 50
    }
   ],
   "metadata": {}
  },
  {
   "cell_type": "markdown",
   "source": [
    "16. Cast `x` to integers. What do we learn about R's infinity representation in the integer data type?"
   ],
   "metadata": {}
  },
  {
   "cell_type": "code",
   "execution_count": 53,
   "source": [
    "# TO-DO\n",
    "print(\"we learn that python's max int value is: \",9223372036854775808)"
   ],
   "outputs": [
    {
     "output_type": "stream",
     "name": "stdout",
     "text": [
      "we learn that python's max int value is:  9223372036854775808\n"
     ]
    }
   ],
   "metadata": {}
  },
  {
   "cell_type": "markdown",
   "source": [
    "17. Use `x` to create a new vector `y` containing only the positive real numbers in x."
   ],
   "metadata": {}
  },
  {
   "cell_type": "code",
   "execution_count": 60,
   "source": [
    "# TO-DO\n",
    "res2 = np.where(y == True)\n",
    "y1 = np.take(y_,res2)\n",
    "y1"
   ],
   "outputs": [
    {
     "output_type": "execute_result",
     "data": {
      "text/plain": [
       "array([[2.72683303, 2.68014386, 2.63092975, 2.57890192, 2.52371901,\n",
       "        2.46497352, 2.4021735 , 2.33471752, 2.26185951, 2.18265834,\n",
       "        2.09590327, 2.        , 1.89278926, 1.77124375, 1.63092975,\n",
       "        1.46497352, 1.26185951, 1.        , 0.63092975, 0.        ]])"
      ]
     },
     "metadata": {},
     "execution_count": 60
    }
   ],
   "metadata": {}
  },
  {
   "cell_type": "markdown",
   "source": [
    "18. Use the left rectangle method to numerically integrate x^2 from 0 to 1 with rectangle width size 1e-6."
   ],
   "metadata": {}
  },
  {
   "cell_type": "code",
   "execution_count": 61,
   "source": [
    "# TO-DO\n",
    "delta = 1e-6\n",
    "x = np.sum(np.arange(0,1,delta)**2)*delta\n",
    "x"
   ],
   "outputs": [
    {
     "output_type": "execute_result",
     "data": {
      "text/plain": [
       "0.33333283333349994"
      ]
     },
     "metadata": {},
     "execution_count": 61
    }
   ],
   "metadata": {}
  },
  {
   "cell_type": "markdown",
   "source": [
    "19. Calculate the average of 100 realizations of standard Bernoullis in one line using the `random` library."
   ],
   "metadata": {}
  },
  {
   "cell_type": "code",
   "execution_count": 63,
   "source": [
    "# TO-DO\n",
    "np.mean(np.random.randint(2,size = 100))"
   ],
   "outputs": [
    {
     "output_type": "execute_result",
     "data": {
      "text/plain": [
       "0.5"
      ]
     },
     "metadata": {},
     "execution_count": 63
    }
   ],
   "metadata": {}
  },
  {
   "cell_type": "markdown",
   "source": [
    "20. Calculate the average of 500 realizations of Bernoullis with p = 0.9."
   ],
   "metadata": {}
  },
  {
   "cell_type": "code",
   "execution_count": 64,
   "source": [
    "# TO-DO\n",
    "import random\n",
    "s = [0,1]\n",
    "np.mean(random.choices(s, weights=(10, 90), k=500))"
   ],
   "outputs": [
    {
     "output_type": "execute_result",
     "data": {
      "text/plain": [
       "0.904"
      ]
     },
     "metadata": {},
     "execution_count": 64
    }
   ],
   "metadata": {}
  },
  {
   "cell_type": "markdown",
   "source": [
    "21. Calculate the average of 1000 realizations of Bernoullis with p = 0.9."
   ],
   "metadata": {}
  },
  {
   "cell_type": "code",
   "execution_count": 66,
   "source": [
    "# TO-DO\n",
    "s = [0,1]\n",
    "np.mean(random.choices(s, weights=(10, 90), k=1000))"
   ],
   "outputs": [
    {
     "output_type": "execute_result",
     "data": {
      "text/plain": [
       "0.91"
      ]
     },
     "metadata": {},
     "execution_count": 66
    }
   ],
   "metadata": {}
  },
  {
   "cell_type": "markdown",
   "source": [
    "23. Convert this variable into three binary variables without any information loss and put them into a data matrix."
   ],
   "metadata": {}
  },
  {
   "cell_type": "code",
   "execution_count": 117,
   "source": [
    "# TO-DO\n",
    "import pandas as pd\n",
    "s = [0,1,2,3]\n",
    "a = np.random.choice(s, size = 100)\n",
    "array = np.zeros([100,4])\n",
    "for j in range(100):\n",
    "    array[j,a[j]] = 1\n",
    "cols = [\"no_crime\",\"infraction\", \"misdimeanor\", \"felony\"]\n",
    "df = pd.DataFrame(array, columns=cols, dtype=np.int16)\n",
    "df"
   ],
   "outputs": [
    {
     "output_type": "execute_result",
     "data": {
      "text/html": [
       "<div>\n",
       "<style scoped>\n",
       "    .dataframe tbody tr th:only-of-type {\n",
       "        vertical-align: middle;\n",
       "    }\n",
       "\n",
       "    .dataframe tbody tr th {\n",
       "        vertical-align: top;\n",
       "    }\n",
       "\n",
       "    .dataframe thead th {\n",
       "        text-align: right;\n",
       "    }\n",
       "</style>\n",
       "<table border=\"1\" class=\"dataframe\">\n",
       "  <thead>\n",
       "    <tr style=\"text-align: right;\">\n",
       "      <th></th>\n",
       "      <th>no_crime</th>\n",
       "      <th>infraction</th>\n",
       "      <th>misdimeanor</th>\n",
       "      <th>felony</th>\n",
       "    </tr>\n",
       "  </thead>\n",
       "  <tbody>\n",
       "    <tr>\n",
       "      <th>0</th>\n",
       "      <td>0</td>\n",
       "      <td>0</td>\n",
       "      <td>0</td>\n",
       "      <td>1</td>\n",
       "    </tr>\n",
       "    <tr>\n",
       "      <th>1</th>\n",
       "      <td>0</td>\n",
       "      <td>0</td>\n",
       "      <td>0</td>\n",
       "      <td>1</td>\n",
       "    </tr>\n",
       "    <tr>\n",
       "      <th>2</th>\n",
       "      <td>0</td>\n",
       "      <td>0</td>\n",
       "      <td>0</td>\n",
       "      <td>1</td>\n",
       "    </tr>\n",
       "    <tr>\n",
       "      <th>3</th>\n",
       "      <td>0</td>\n",
       "      <td>0</td>\n",
       "      <td>1</td>\n",
       "      <td>0</td>\n",
       "    </tr>\n",
       "    <tr>\n",
       "      <th>4</th>\n",
       "      <td>0</td>\n",
       "      <td>0</td>\n",
       "      <td>1</td>\n",
       "      <td>0</td>\n",
       "    </tr>\n",
       "    <tr>\n",
       "      <th>...</th>\n",
       "      <td>...</td>\n",
       "      <td>...</td>\n",
       "      <td>...</td>\n",
       "      <td>...</td>\n",
       "    </tr>\n",
       "    <tr>\n",
       "      <th>95</th>\n",
       "      <td>0</td>\n",
       "      <td>1</td>\n",
       "      <td>0</td>\n",
       "      <td>0</td>\n",
       "    </tr>\n",
       "    <tr>\n",
       "      <th>96</th>\n",
       "      <td>0</td>\n",
       "      <td>0</td>\n",
       "      <td>0</td>\n",
       "      <td>1</td>\n",
       "    </tr>\n",
       "    <tr>\n",
       "      <th>97</th>\n",
       "      <td>1</td>\n",
       "      <td>0</td>\n",
       "      <td>0</td>\n",
       "      <td>0</td>\n",
       "    </tr>\n",
       "    <tr>\n",
       "      <th>98</th>\n",
       "      <td>0</td>\n",
       "      <td>0</td>\n",
       "      <td>1</td>\n",
       "      <td>0</td>\n",
       "    </tr>\n",
       "    <tr>\n",
       "      <th>99</th>\n",
       "      <td>0</td>\n",
       "      <td>0</td>\n",
       "      <td>0</td>\n",
       "      <td>1</td>\n",
       "    </tr>\n",
       "  </tbody>\n",
       "</table>\n",
       "<p>100 rows × 4 columns</p>\n",
       "</div>"
      ],
      "text/plain": [
       "    no_crime  infraction  misdimeanor  felony\n",
       "0          0           0            0       1\n",
       "1          0           0            0       1\n",
       "2          0           0            0       1\n",
       "3          0           0            1       0\n",
       "4          0           0            1       0\n",
       "..       ...         ...          ...     ...\n",
       "95         0           1            0       0\n",
       "96         0           0            0       1\n",
       "97         1           0            0       0\n",
       "98         0           0            1       0\n",
       "99         0           0            0       1\n",
       "\n",
       "[100 rows x 4 columns]"
      ]
     },
     "metadata": {},
     "execution_count": 117
    }
   ],
   "metadata": {}
  },
  {
   "cell_type": "code",
   "execution_count": 140,
   "source": [
    "df['x_3_ord'] = (df.no_crime == 0)\n",
    "df['x_3_ord'] = df['x_3_ord'].astype(np.int16)\n",
    "df.sort_values('x_3_ord')"
   ],
   "outputs": [
    {
     "output_type": "execute_result",
     "data": {
      "text/html": [
       "<div>\n",
       "<style scoped>\n",
       "    .dataframe tbody tr th:only-of-type {\n",
       "        vertical-align: middle;\n",
       "    }\n",
       "\n",
       "    .dataframe tbody tr th {\n",
       "        vertical-align: top;\n",
       "    }\n",
       "\n",
       "    .dataframe thead th {\n",
       "        text-align: right;\n",
       "    }\n",
       "</style>\n",
       "<table border=\"1\" class=\"dataframe\">\n",
       "  <thead>\n",
       "    <tr style=\"text-align: right;\">\n",
       "      <th></th>\n",
       "      <th>no_crime</th>\n",
       "      <th>infraction</th>\n",
       "      <th>misdimeanor</th>\n",
       "      <th>felony</th>\n",
       "      <th>x_3_ord</th>\n",
       "    </tr>\n",
       "  </thead>\n",
       "  <tbody>\n",
       "    <tr>\n",
       "      <th>49</th>\n",
       "      <td>1</td>\n",
       "      <td>0</td>\n",
       "      <td>0</td>\n",
       "      <td>0</td>\n",
       "      <td>0</td>\n",
       "    </tr>\n",
       "    <tr>\n",
       "      <th>56</th>\n",
       "      <td>1</td>\n",
       "      <td>0</td>\n",
       "      <td>0</td>\n",
       "      <td>0</td>\n",
       "      <td>0</td>\n",
       "    </tr>\n",
       "    <tr>\n",
       "      <th>50</th>\n",
       "      <td>1</td>\n",
       "      <td>0</td>\n",
       "      <td>0</td>\n",
       "      <td>0</td>\n",
       "      <td>0</td>\n",
       "    </tr>\n",
       "    <tr>\n",
       "      <th>58</th>\n",
       "      <td>1</td>\n",
       "      <td>0</td>\n",
       "      <td>0</td>\n",
       "      <td>0</td>\n",
       "      <td>0</td>\n",
       "    </tr>\n",
       "    <tr>\n",
       "      <th>43</th>\n",
       "      <td>1</td>\n",
       "      <td>0</td>\n",
       "      <td>0</td>\n",
       "      <td>0</td>\n",
       "      <td>0</td>\n",
       "    </tr>\n",
       "    <tr>\n",
       "      <th>...</th>\n",
       "      <td>...</td>\n",
       "      <td>...</td>\n",
       "      <td>...</td>\n",
       "      <td>...</td>\n",
       "      <td>...</td>\n",
       "    </tr>\n",
       "    <tr>\n",
       "      <th>29</th>\n",
       "      <td>0</td>\n",
       "      <td>0</td>\n",
       "      <td>0</td>\n",
       "      <td>1</td>\n",
       "      <td>1</td>\n",
       "    </tr>\n",
       "    <tr>\n",
       "      <th>27</th>\n",
       "      <td>0</td>\n",
       "      <td>1</td>\n",
       "      <td>0</td>\n",
       "      <td>0</td>\n",
       "      <td>1</td>\n",
       "    </tr>\n",
       "    <tr>\n",
       "      <th>26</th>\n",
       "      <td>0</td>\n",
       "      <td>0</td>\n",
       "      <td>0</td>\n",
       "      <td>1</td>\n",
       "      <td>1</td>\n",
       "    </tr>\n",
       "    <tr>\n",
       "      <th>54</th>\n",
       "      <td>0</td>\n",
       "      <td>0</td>\n",
       "      <td>1</td>\n",
       "      <td>0</td>\n",
       "      <td>1</td>\n",
       "    </tr>\n",
       "    <tr>\n",
       "      <th>99</th>\n",
       "      <td>0</td>\n",
       "      <td>0</td>\n",
       "      <td>0</td>\n",
       "      <td>1</td>\n",
       "      <td>1</td>\n",
       "    </tr>\n",
       "  </tbody>\n",
       "</table>\n",
       "<p>100 rows × 5 columns</p>\n",
       "</div>"
      ],
      "text/plain": [
       "    no_crime  infraction  misdimeanor  felony  x_3_ord\n",
       "49         1           0            0       0        0\n",
       "56         1           0            0       0        0\n",
       "50         1           0            0       0        0\n",
       "58         1           0            0       0        0\n",
       "43         1           0            0       0        0\n",
       "..       ...         ...          ...     ...      ...\n",
       "29         0           0            0       1        1\n",
       "27         0           1            0       0        1\n",
       "26         0           0            0       1        1\n",
       "54         0           0            1       0        1\n",
       "99         0           0            0       1        1\n",
       "\n",
       "[100 rows x 5 columns]"
      ]
     },
     "metadata": {},
     "execution_count": 140
    }
   ],
   "metadata": {}
  },
  {
   "cell_type": "markdown",
   "source": [
    "24. What should the sum of each row be (in English)? \n",
    "\n",
    "<span style=\"color:pink\">sum of each column should be the total number of each kind of crime, except for x_3_ord which will just tell you total number of all crimes</span></br>\n",
    "\n",
    "25. Verify that. "
   ],
   "metadata": {}
  },
  {
   "cell_type": "code",
   "execution_count": 141,
   "source": [
    "# TO-DO\n",
    "df.sum()"
   ],
   "outputs": [
    {
     "output_type": "execute_result",
     "data": {
      "text/plain": [
       "no_crime       22\n",
       "infraction     22\n",
       "misdimeanor    25\n",
       "felony         31\n",
       "x_3_ord        78\n",
       "dtype: int64"
      ]
     },
     "metadata": {},
     "execution_count": 141
    }
   ],
   "metadata": {}
  },
  {
   "cell_type": "markdown",
   "source": [
    "26. How should the column sum look (in English)? \n",
    "<span style=\"color:pink\">We should expect for x_3_ord and no_crime to sum up to 100, and the sum of all columns exclusing x_3_ord should also be 100</span></br>\n",
    "\n",
    "\n",
    "27. Verify that."
   ],
   "metadata": {}
  },
  {
   "cell_type": "code",
   "execution_count": 145,
   "source": [
    "# TO-DO\n",
    "print('sum of all columns: ',df.sum().sum() - df['x_3_ord'].sum())\n",
    "print('sum of all x_3_ord and no_crime: ',df.no_crime.sum() + df['x_3_ord'].sum())"
   ],
   "outputs": [
    {
     "output_type": "stream",
     "name": "stdout",
     "text": [
      "sum of all columns:  100\n",
      "sum of all x_3_ord and no_crime:  100\n"
     ]
    }
   ],
   "metadata": {}
  },
  {
   "cell_type": "markdown",
   "source": [
    "28. Generate a Pandas DataFrame with 100 rows where:\n",
    "\n",
    "* The first column is realization from a normal with mean 17 and variance 38.\n",
    "* The second column is uniform between -10 and 10.\n",
    "* The third column is poisson with mean 6.\n",
    "* The fourth column in exponential with lambda of 9.\n",
    "* The fifth column is binomial with n = 20 and p = 0.12.\n",
    "* and the sixth column is a binary variable with exactly 24% 1's dispersed randomly.\n",
    "\n",
    "Name the rows the entries of the `fake_first_names` list."
   ],
   "metadata": {}
  },
  {
   "cell_type": "code",
   "execution_count": 172,
   "source": [
    "fake_first_names = [\"Sophia\", \"Emma\", \"Olivia\", \"Ava\", \"Mia\", \"Isabella\", \"Riley\", \n",
    "  \"Aria\", \"Zoe\", \"Charlotte\", \"Lily\", \"Layla\", \"Amelia\", \"Emily\", \n",
    "  \"Madelyn\", \"Aubrey\", \"Adalyn\", \"Madison\", \"Chloe\", \"Harper\", \n",
    "  \"Abigail\", \"Aaliyah\", \"Avery\", \"Evelyn\", \"Kaylee\", \"Ella\", \"Ellie\", \n",
    "  \"Scarlett\", \"Arianna\", \"Hailey\", \"Nora\", \"Addison\", \"Brooklyn\", \n",
    "  \"Hannah\", \"Mila\", \"Leah\", \"Elizabeth\", \"Sarah\", \"Eliana\", \"Mackenzie\", \n",
    "  \"Peyton\", \"Maria\", \"Grace\", \"Adeline\", \"Elena\", \"Anna\", \"Victoria\", \n",
    "  \"Camilla\", \"Lillian\", \"Natalie\", \"Jackson\", \"Aiden\", \"Lucas\", \n",
    "  \"Liam\", \"Noah\", \"Ethan\", \"Mason\", \"Caden\", \"Oliver\", \"Elijah\", \n",
    "  \"Grayson\", \"Jacob\", \"Michael\", \"Benjamin\", \"Carter\", \"James\", \n",
    "  \"Jayden\", \"Logan\", \"Alexander\", \"Caleb\", \"Ryan\", \"Luke\", \"Daniel\", \n",
    "  \"Jack\", \"William\", \"Owen\", \"Gabriel\", \"Matthew\", \"Connor\", \"Jayce\", \n",
    "  \"Isaac\", \"Sebastian\", \"Henry\", \"Muhammad\", \"Cameron\", \"Wyatt\", \n",
    "  \"Dylan\", \"Nathan\", \"Nicholas\", \"Julian\", \"Eli\", \"Levi\", \"Isaiah\", \n",
    "  \"Landon\", \"David\", \"Christian\", \"Andrew\", \"Brayden\", \"John\", \n",
    "  \"Lincoln\"]\n",
    "\n",
    "# TO-DO\n",
    "df = pd.DataFrame()\n",
    "df['names'] = fake_first_names\n",
    "df = df.set_index('names')\n",
    "df['1'] = np.random.normal(17,38, size = df.shape[0])\n",
    "df['2'] = np.random.uniform(-10,10, size = df.shape[0])\n",
    "df['3'] = np.random.poisson(6, size=df.shape[0])\n",
    "df['4'] = np.random.exponential(9, size=df.shape[0])\n",
    "df['5'] = np.random.binomial(n=20,p=0.12,size=df.shape[0])\n",
    "df['6'] = random.choices([0,1],weights=[76,24],k=df.shape[0])\n",
    "df"
   ],
   "outputs": [
    {
     "output_type": "execute_result",
     "data": {
      "text/html": [
       "<div>\n",
       "<style scoped>\n",
       "    .dataframe tbody tr th:only-of-type {\n",
       "        vertical-align: middle;\n",
       "    }\n",
       "\n",
       "    .dataframe tbody tr th {\n",
       "        vertical-align: top;\n",
       "    }\n",
       "\n",
       "    .dataframe thead th {\n",
       "        text-align: right;\n",
       "    }\n",
       "</style>\n",
       "<table border=\"1\" class=\"dataframe\">\n",
       "  <thead>\n",
       "    <tr style=\"text-align: right;\">\n",
       "      <th></th>\n",
       "      <th>1</th>\n",
       "      <th>2</th>\n",
       "      <th>3</th>\n",
       "      <th>4</th>\n",
       "      <th>5</th>\n",
       "      <th>6</th>\n",
       "    </tr>\n",
       "    <tr>\n",
       "      <th>names</th>\n",
       "      <th></th>\n",
       "      <th></th>\n",
       "      <th></th>\n",
       "      <th></th>\n",
       "      <th></th>\n",
       "      <th></th>\n",
       "    </tr>\n",
       "  </thead>\n",
       "  <tbody>\n",
       "    <tr>\n",
       "      <th>Sophia</th>\n",
       "      <td>40.829762</td>\n",
       "      <td>-9.756126</td>\n",
       "      <td>6</td>\n",
       "      <td>46.824084</td>\n",
       "      <td>1</td>\n",
       "      <td>0</td>\n",
       "    </tr>\n",
       "    <tr>\n",
       "      <th>Emma</th>\n",
       "      <td>34.833281</td>\n",
       "      <td>-2.756712</td>\n",
       "      <td>8</td>\n",
       "      <td>10.730208</td>\n",
       "      <td>2</td>\n",
       "      <td>0</td>\n",
       "    </tr>\n",
       "    <tr>\n",
       "      <th>Olivia</th>\n",
       "      <td>2.327557</td>\n",
       "      <td>0.202463</td>\n",
       "      <td>7</td>\n",
       "      <td>0.591315</td>\n",
       "      <td>2</td>\n",
       "      <td>0</td>\n",
       "    </tr>\n",
       "    <tr>\n",
       "      <th>Ava</th>\n",
       "      <td>27.281128</td>\n",
       "      <td>2.062833</td>\n",
       "      <td>7</td>\n",
       "      <td>25.651552</td>\n",
       "      <td>4</td>\n",
       "      <td>0</td>\n",
       "    </tr>\n",
       "    <tr>\n",
       "      <th>Mia</th>\n",
       "      <td>-53.356680</td>\n",
       "      <td>-3.084459</td>\n",
       "      <td>3</td>\n",
       "      <td>1.834804</td>\n",
       "      <td>1</td>\n",
       "      <td>0</td>\n",
       "    </tr>\n",
       "    <tr>\n",
       "      <th>...</th>\n",
       "      <td>...</td>\n",
       "      <td>...</td>\n",
       "      <td>...</td>\n",
       "      <td>...</td>\n",
       "      <td>...</td>\n",
       "      <td>...</td>\n",
       "    </tr>\n",
       "    <tr>\n",
       "      <th>Christian</th>\n",
       "      <td>-11.313041</td>\n",
       "      <td>-9.527140</td>\n",
       "      <td>3</td>\n",
       "      <td>6.259422</td>\n",
       "      <td>3</td>\n",
       "      <td>0</td>\n",
       "    </tr>\n",
       "    <tr>\n",
       "      <th>Andrew</th>\n",
       "      <td>-8.418361</td>\n",
       "      <td>1.161247</td>\n",
       "      <td>8</td>\n",
       "      <td>3.849820</td>\n",
       "      <td>0</td>\n",
       "      <td>0</td>\n",
       "    </tr>\n",
       "    <tr>\n",
       "      <th>Brayden</th>\n",
       "      <td>15.211233</td>\n",
       "      <td>2.705160</td>\n",
       "      <td>6</td>\n",
       "      <td>2.058810</td>\n",
       "      <td>2</td>\n",
       "      <td>0</td>\n",
       "    </tr>\n",
       "    <tr>\n",
       "      <th>John</th>\n",
       "      <td>58.964043</td>\n",
       "      <td>7.001681</td>\n",
       "      <td>3</td>\n",
       "      <td>9.778721</td>\n",
       "      <td>2</td>\n",
       "      <td>0</td>\n",
       "    </tr>\n",
       "    <tr>\n",
       "      <th>Lincoln</th>\n",
       "      <td>15.559065</td>\n",
       "      <td>1.265284</td>\n",
       "      <td>3</td>\n",
       "      <td>1.154972</td>\n",
       "      <td>1</td>\n",
       "      <td>1</td>\n",
       "    </tr>\n",
       "  </tbody>\n",
       "</table>\n",
       "<p>100 rows × 6 columns</p>\n",
       "</div>"
      ],
      "text/plain": [
       "                   1         2  3          4  5  6\n",
       "names                                             \n",
       "Sophia     40.829762 -9.756126  6  46.824084  1  0\n",
       "Emma       34.833281 -2.756712  8  10.730208  2  0\n",
       "Olivia      2.327557  0.202463  7   0.591315  2  0\n",
       "Ava        27.281128  2.062833  7  25.651552  4  0\n",
       "Mia       -53.356680 -3.084459  3   1.834804  1  0\n",
       "...              ...       ... ..        ... .. ..\n",
       "Christian -11.313041 -9.527140  3   6.259422  3  0\n",
       "Andrew     -8.418361  1.161247  8   3.849820  0  0\n",
       "Brayden    15.211233  2.705160  6   2.058810  2  0\n",
       "John       58.964043  7.001681  3   9.778721  2  0\n",
       "Lincoln    15.559065  1.265284  3   1.154972  1  1\n",
       "\n",
       "[100 rows x 6 columns]"
      ]
     },
     "metadata": {},
     "execution_count": 172
    }
   ],
   "metadata": {}
  },
  {
   "cell_type": "markdown",
   "source": [
    "29. Create a data frame of the same data as above except make the binary variable a factor \"DOMESTIC\" vs \"FOREIGN\" for 0 and 1 respectively. Use RStudio's `View` function to ensure this worked as desired."
   ],
   "metadata": {}
  },
  {
   "cell_type": "code",
   "execution_count": 174,
   "source": [
    "# TO-DO\n",
    "df['6'] = df['6'].replace({0:\"DOMESTIC\",1:'FOREIGN'})\n",
    "df"
   ],
   "outputs": [
    {
     "output_type": "execute_result",
     "data": {
      "text/html": [
       "<div>\n",
       "<style scoped>\n",
       "    .dataframe tbody tr th:only-of-type {\n",
       "        vertical-align: middle;\n",
       "    }\n",
       "\n",
       "    .dataframe tbody tr th {\n",
       "        vertical-align: top;\n",
       "    }\n",
       "\n",
       "    .dataframe thead th {\n",
       "        text-align: right;\n",
       "    }\n",
       "</style>\n",
       "<table border=\"1\" class=\"dataframe\">\n",
       "  <thead>\n",
       "    <tr style=\"text-align: right;\">\n",
       "      <th></th>\n",
       "      <th>1</th>\n",
       "      <th>2</th>\n",
       "      <th>3</th>\n",
       "      <th>4</th>\n",
       "      <th>5</th>\n",
       "      <th>6</th>\n",
       "    </tr>\n",
       "    <tr>\n",
       "      <th>names</th>\n",
       "      <th></th>\n",
       "      <th></th>\n",
       "      <th></th>\n",
       "      <th></th>\n",
       "      <th></th>\n",
       "      <th></th>\n",
       "    </tr>\n",
       "  </thead>\n",
       "  <tbody>\n",
       "    <tr>\n",
       "      <th>Sophia</th>\n",
       "      <td>40.829762</td>\n",
       "      <td>-9.756126</td>\n",
       "      <td>6</td>\n",
       "      <td>46.824084</td>\n",
       "      <td>1</td>\n",
       "      <td>DOMESTIC</td>\n",
       "    </tr>\n",
       "    <tr>\n",
       "      <th>Emma</th>\n",
       "      <td>34.833281</td>\n",
       "      <td>-2.756712</td>\n",
       "      <td>8</td>\n",
       "      <td>10.730208</td>\n",
       "      <td>2</td>\n",
       "      <td>DOMESTIC</td>\n",
       "    </tr>\n",
       "    <tr>\n",
       "      <th>Olivia</th>\n",
       "      <td>2.327557</td>\n",
       "      <td>0.202463</td>\n",
       "      <td>7</td>\n",
       "      <td>0.591315</td>\n",
       "      <td>2</td>\n",
       "      <td>DOMESTIC</td>\n",
       "    </tr>\n",
       "    <tr>\n",
       "      <th>Ava</th>\n",
       "      <td>27.281128</td>\n",
       "      <td>2.062833</td>\n",
       "      <td>7</td>\n",
       "      <td>25.651552</td>\n",
       "      <td>4</td>\n",
       "      <td>DOMESTIC</td>\n",
       "    </tr>\n",
       "    <tr>\n",
       "      <th>Mia</th>\n",
       "      <td>-53.356680</td>\n",
       "      <td>-3.084459</td>\n",
       "      <td>3</td>\n",
       "      <td>1.834804</td>\n",
       "      <td>1</td>\n",
       "      <td>DOMESTIC</td>\n",
       "    </tr>\n",
       "    <tr>\n",
       "      <th>...</th>\n",
       "      <td>...</td>\n",
       "      <td>...</td>\n",
       "      <td>...</td>\n",
       "      <td>...</td>\n",
       "      <td>...</td>\n",
       "      <td>...</td>\n",
       "    </tr>\n",
       "    <tr>\n",
       "      <th>Christian</th>\n",
       "      <td>-11.313041</td>\n",
       "      <td>-9.527140</td>\n",
       "      <td>3</td>\n",
       "      <td>6.259422</td>\n",
       "      <td>3</td>\n",
       "      <td>DOMESTIC</td>\n",
       "    </tr>\n",
       "    <tr>\n",
       "      <th>Andrew</th>\n",
       "      <td>-8.418361</td>\n",
       "      <td>1.161247</td>\n",
       "      <td>8</td>\n",
       "      <td>3.849820</td>\n",
       "      <td>0</td>\n",
       "      <td>DOMESTIC</td>\n",
       "    </tr>\n",
       "    <tr>\n",
       "      <th>Brayden</th>\n",
       "      <td>15.211233</td>\n",
       "      <td>2.705160</td>\n",
       "      <td>6</td>\n",
       "      <td>2.058810</td>\n",
       "      <td>2</td>\n",
       "      <td>DOMESTIC</td>\n",
       "    </tr>\n",
       "    <tr>\n",
       "      <th>John</th>\n",
       "      <td>58.964043</td>\n",
       "      <td>7.001681</td>\n",
       "      <td>3</td>\n",
       "      <td>9.778721</td>\n",
       "      <td>2</td>\n",
       "      <td>DOMESTIC</td>\n",
       "    </tr>\n",
       "    <tr>\n",
       "      <th>Lincoln</th>\n",
       "      <td>15.559065</td>\n",
       "      <td>1.265284</td>\n",
       "      <td>3</td>\n",
       "      <td>1.154972</td>\n",
       "      <td>1</td>\n",
       "      <td>FOREIGN</td>\n",
       "    </tr>\n",
       "  </tbody>\n",
       "</table>\n",
       "<p>100 rows × 6 columns</p>\n",
       "</div>"
      ],
      "text/plain": [
       "                   1         2  3          4  5         6\n",
       "names                                                    \n",
       "Sophia     40.829762 -9.756126  6  46.824084  1  DOMESTIC\n",
       "Emma       34.833281 -2.756712  8  10.730208  2  DOMESTIC\n",
       "Olivia      2.327557  0.202463  7   0.591315  2  DOMESTIC\n",
       "Ava        27.281128  2.062833  7  25.651552  4  DOMESTIC\n",
       "Mia       -53.356680 -3.084459  3   1.834804  1  DOMESTIC\n",
       "...              ...       ... ..        ... ..       ...\n",
       "Christian -11.313041 -9.527140  3   6.259422  3  DOMESTIC\n",
       "Andrew     -8.418361  1.161247  8   3.849820  0  DOMESTIC\n",
       "Brayden    15.211233  2.705160  6   2.058810  2  DOMESTIC\n",
       "John       58.964043  7.001681  3   9.778721  2  DOMESTIC\n",
       "Lincoln    15.559065  1.265284  3   1.154972  1   FOREIGN\n",
       "\n",
       "[100 rows x 6 columns]"
      ]
     },
     "metadata": {},
     "execution_count": 174
    }
   ],
   "metadata": {}
  },
  {
   "cell_type": "markdown",
   "source": [
    "30. Print out a table of the binary variable. Then print out the proportions of \"DOMESTIC\" vs \"FOREIGN\"."
   ],
   "metadata": {}
  },
  {
   "cell_type": "code",
   "execution_count": 177,
   "source": [
    "# TO-DO\n",
    "print(df['6'])\n",
    "print(\"Domestic: \", (df['6'] == \"DOMESTIC\").sum())\n",
    "print(\"Foreign: \", (df['6'] == \"FOREIGN\").sum())\n"
   ],
   "outputs": [
    {
     "output_type": "stream",
     "name": "stdout",
     "text": [
      "names\n",
      "Sophia       DOMESTIC\n",
      "Emma         DOMESTIC\n",
      "Olivia       DOMESTIC\n",
      "Ava          DOMESTIC\n",
      "Mia          DOMESTIC\n",
      "               ...   \n",
      "Christian    DOMESTIC\n",
      "Andrew       DOMESTIC\n",
      "Brayden      DOMESTIC\n",
      "John         DOMESTIC\n",
      "Lincoln       FOREIGN\n",
      "Name: 6, Length: 100, dtype: object\n",
      "Domestic:  78\n",
      "Foreign:  22\n"
     ]
    }
   ],
   "metadata": {}
  },
  {
   "cell_type": "markdown",
   "source": [
    "31. Print out a summary of the whole dataframe."
   ],
   "metadata": {}
  },
  {
   "cell_type": "code",
   "execution_count": 180,
   "source": [
    "# TO-DO\n",
    "df.head()"
   ],
   "outputs": [
    {
     "output_type": "execute_result",
     "data": {
      "text/html": [
       "<div>\n",
       "<style scoped>\n",
       "    .dataframe tbody tr th:only-of-type {\n",
       "        vertical-align: middle;\n",
       "    }\n",
       "\n",
       "    .dataframe tbody tr th {\n",
       "        vertical-align: top;\n",
       "    }\n",
       "\n",
       "    .dataframe thead th {\n",
       "        text-align: right;\n",
       "    }\n",
       "</style>\n",
       "<table border=\"1\" class=\"dataframe\">\n",
       "  <thead>\n",
       "    <tr style=\"text-align: right;\">\n",
       "      <th></th>\n",
       "      <th>1</th>\n",
       "      <th>2</th>\n",
       "      <th>3</th>\n",
       "      <th>4</th>\n",
       "      <th>5</th>\n",
       "      <th>6</th>\n",
       "    </tr>\n",
       "    <tr>\n",
       "      <th>names</th>\n",
       "      <th></th>\n",
       "      <th></th>\n",
       "      <th></th>\n",
       "      <th></th>\n",
       "      <th></th>\n",
       "      <th></th>\n",
       "    </tr>\n",
       "  </thead>\n",
       "  <tbody>\n",
       "    <tr>\n",
       "      <th>Sophia</th>\n",
       "      <td>40.829762</td>\n",
       "      <td>-9.756126</td>\n",
       "      <td>6</td>\n",
       "      <td>46.824084</td>\n",
       "      <td>1</td>\n",
       "      <td>DOMESTIC</td>\n",
       "    </tr>\n",
       "    <tr>\n",
       "      <th>Emma</th>\n",
       "      <td>34.833281</td>\n",
       "      <td>-2.756712</td>\n",
       "      <td>8</td>\n",
       "      <td>10.730208</td>\n",
       "      <td>2</td>\n",
       "      <td>DOMESTIC</td>\n",
       "    </tr>\n",
       "    <tr>\n",
       "      <th>Olivia</th>\n",
       "      <td>2.327557</td>\n",
       "      <td>0.202463</td>\n",
       "      <td>7</td>\n",
       "      <td>0.591315</td>\n",
       "      <td>2</td>\n",
       "      <td>DOMESTIC</td>\n",
       "    </tr>\n",
       "    <tr>\n",
       "      <th>Ava</th>\n",
       "      <td>27.281128</td>\n",
       "      <td>2.062833</td>\n",
       "      <td>7</td>\n",
       "      <td>25.651552</td>\n",
       "      <td>4</td>\n",
       "      <td>DOMESTIC</td>\n",
       "    </tr>\n",
       "    <tr>\n",
       "      <th>Mia</th>\n",
       "      <td>-53.356680</td>\n",
       "      <td>-3.084459</td>\n",
       "      <td>3</td>\n",
       "      <td>1.834804</td>\n",
       "      <td>1</td>\n",
       "      <td>DOMESTIC</td>\n",
       "    </tr>\n",
       "  </tbody>\n",
       "</table>\n",
       "</div>"
      ],
      "text/plain": [
       "                1         2  3          4  5         6\n",
       "names                                                 \n",
       "Sophia  40.829762 -9.756126  6  46.824084  1  DOMESTIC\n",
       "Emma    34.833281 -2.756712  8  10.730208  2  DOMESTIC\n",
       "Olivia   2.327557  0.202463  7   0.591315  2  DOMESTIC\n",
       "Ava     27.281128  2.062833  7  25.651552  4  DOMESTIC\n",
       "Mia    -53.356680 -3.084459  3   1.834804  1  DOMESTIC"
      ]
     },
     "metadata": {},
     "execution_count": 180
    }
   ],
   "metadata": {}
  },
  {
   "cell_type": "markdown",
   "source": [
    "32. Output summary statistics of the DataFrame."
   ],
   "metadata": {}
  },
  {
   "cell_type": "code",
   "execution_count": 181,
   "source": [
    "# To-DO\n",
    "df.describe()"
   ],
   "outputs": [
    {
     "output_type": "execute_result",
     "data": {
      "text/html": [
       "<div>\n",
       "<style scoped>\n",
       "    .dataframe tbody tr th:only-of-type {\n",
       "        vertical-align: middle;\n",
       "    }\n",
       "\n",
       "    .dataframe tbody tr th {\n",
       "        vertical-align: top;\n",
       "    }\n",
       "\n",
       "    .dataframe thead th {\n",
       "        text-align: right;\n",
       "    }\n",
       "</style>\n",
       "<table border=\"1\" class=\"dataframe\">\n",
       "  <thead>\n",
       "    <tr style=\"text-align: right;\">\n",
       "      <th></th>\n",
       "      <th>1</th>\n",
       "      <th>2</th>\n",
       "      <th>3</th>\n",
       "      <th>4</th>\n",
       "      <th>5</th>\n",
       "    </tr>\n",
       "  </thead>\n",
       "  <tbody>\n",
       "    <tr>\n",
       "      <th>count</th>\n",
       "      <td>100.000000</td>\n",
       "      <td>100.000000</td>\n",
       "      <td>100.000000</td>\n",
       "      <td>100.000000</td>\n",
       "      <td>100.00000</td>\n",
       "    </tr>\n",
       "    <tr>\n",
       "      <th>mean</th>\n",
       "      <td>10.508613</td>\n",
       "      <td>-1.303457</td>\n",
       "      <td>5.930000</td>\n",
       "      <td>9.300610</td>\n",
       "      <td>2.49000</td>\n",
       "    </tr>\n",
       "    <tr>\n",
       "      <th>std</th>\n",
       "      <td>39.811654</td>\n",
       "      <td>5.649534</td>\n",
       "      <td>2.433997</td>\n",
       "      <td>11.188098</td>\n",
       "      <td>1.47364</td>\n",
       "    </tr>\n",
       "    <tr>\n",
       "      <th>min</th>\n",
       "      <td>-114.292836</td>\n",
       "      <td>-9.779669</td>\n",
       "      <td>1.000000</td>\n",
       "      <td>0.007856</td>\n",
       "      <td>0.00000</td>\n",
       "    </tr>\n",
       "    <tr>\n",
       "      <th>25%</th>\n",
       "      <td>-16.351247</td>\n",
       "      <td>-5.809962</td>\n",
       "      <td>4.000000</td>\n",
       "      <td>2.478581</td>\n",
       "      <td>2.00000</td>\n",
       "    </tr>\n",
       "    <tr>\n",
       "      <th>50%</th>\n",
       "      <td>11.157573</td>\n",
       "      <td>-2.312818</td>\n",
       "      <td>6.000000</td>\n",
       "      <td>5.914096</td>\n",
       "      <td>2.00000</td>\n",
       "    </tr>\n",
       "    <tr>\n",
       "      <th>75%</th>\n",
       "      <td>37.157192</td>\n",
       "      <td>2.474193</td>\n",
       "      <td>8.000000</td>\n",
       "      <td>11.221598</td>\n",
       "      <td>4.00000</td>\n",
       "    </tr>\n",
       "    <tr>\n",
       "      <th>max</th>\n",
       "      <td>101.422724</td>\n",
       "      <td>9.796994</td>\n",
       "      <td>12.000000</td>\n",
       "      <td>70.118348</td>\n",
       "      <td>7.00000</td>\n",
       "    </tr>\n",
       "  </tbody>\n",
       "</table>\n",
       "</div>"
      ],
      "text/plain": [
       "                1           2           3           4          5\n",
       "count  100.000000  100.000000  100.000000  100.000000  100.00000\n",
       "mean    10.508613   -1.303457    5.930000    9.300610    2.49000\n",
       "std     39.811654    5.649534    2.433997   11.188098    1.47364\n",
       "min   -114.292836   -9.779669    1.000000    0.007856    0.00000\n",
       "25%    -16.351247   -5.809962    4.000000    2.478581    2.00000\n",
       "50%     11.157573   -2.312818    6.000000    5.914096    2.00000\n",
       "75%     37.157192    2.474193    8.000000   11.221598    4.00000\n",
       "max    101.422724    9.796994   12.000000   70.118348    7.00000"
      ]
     },
     "metadata": {},
     "execution_count": 181
    }
   ],
   "metadata": {}
  },
  {
   "cell_type": "markdown",
   "source": [
    "33. Let `n = 50`. Create a n x n matrix `A` of exactly 50% entries 0's, 25% 1's 25% 2's. These values should be in random locations."
   ],
   "metadata": {}
  },
  {
   "cell_type": "code",
   "execution_count": 194,
   "source": [
    "# TO-DO\n",
    "arr = random.choices([0,1,2],weights=[50,25,25],k=2500)\n",
    "arr = np.reshape(arr,(50,50)).astype(np.float16)\n",
    "arr"
   ],
   "outputs": [
    {
     "output_type": "execute_result",
     "data": {
      "text/plain": [
       "array([[0., 0., 2., ..., 1., 0., 0.],\n",
       "       [1., 2., 2., ..., 0., 0., 0.],\n",
       "       [1., 0., 2., ..., 1., 0., 0.],\n",
       "       ...,\n",
       "       [1., 0., 1., ..., 0., 0., 0.],\n",
       "       [0., 1., 0., ..., 0., 1., 0.],\n",
       "       [0., 1., 2., ..., 0., 0., 0.]], dtype=float16)"
      ]
     },
     "metadata": {},
     "execution_count": 194
    }
   ],
   "metadata": {}
  },
  {
   "cell_type": "markdown",
   "source": [
    "34. Randomly punch holes (i.e. `NAN`) values in this matrix so that an each entry is missing with probability 30%. Hint: NumPy has a `np.nan` function."
   ],
   "metadata": {}
  },
  {
   "cell_type": "code",
   "execution_count": 196,
   "source": [
    "# TO-DO\n",
    "index = random.choices([0,1],weights=[70,30],k=2500)\n",
    "index = np.reshape(index,(50,50))\n",
    "ind = np.where(index == 1)\n",
    "arr[ind] = np.nan\n",
    "arr"
   ],
   "outputs": [
    {
     "output_type": "execute_result",
     "data": {
      "text/plain": [
       "array([[nan, nan,  2., ..., nan,  0.,  0.],\n",
       "       [nan,  2., nan, ...,  0.,  0., nan],\n",
       "       [ 1.,  0.,  2., ...,  1., nan,  0.],\n",
       "       ...,\n",
       "       [ 1.,  0.,  1., ...,  0.,  0., nan],\n",
       "       [ 0.,  1.,  0., ..., nan, nan,  0.],\n",
       "       [ 0., nan,  2., ..., nan,  0., nan]], dtype=float16)"
      ]
     },
     "metadata": {},
     "execution_count": 196
    }
   ],
   "metadata": {}
  },
  {
   "cell_type": "markdown",
   "source": [
    "35. Sort the rows in matrix `A` by the largest row sum to lowest. Be careful about the NAN's!"
   ],
   "metadata": {}
  },
  {
   "cell_type": "markdown",
   "source": [
    "<span style=\"color:pink\">numpy nansum counts nans as 0</span>"
   ],
   "metadata": {}
  },
  {
   "cell_type": "code",
   "execution_count": 200,
   "source": [
    "# TO-DO\n",
    "np.sort(np.nansum(arr,axis=1))"
   ],
   "outputs": [
    {
     "output_type": "execute_result",
     "data": {
      "text/plain": [
       "array([ 8.,  9., 10., 10., 11., 12., 12., 12., 12., 13., 13., 13., 14.,\n",
       "       14., 14., 14., 15., 16., 16., 16., 16., 16., 17., 17., 17., 18.,\n",
       "       18., 18., 18., 19., 19., 19., 19., 19., 19., 20., 20., 20., 20.,\n",
       "       21., 21., 21., 22., 22., 22., 23., 24., 24., 25., 28.],\n",
       "      dtype=float16)"
      ]
     },
     "metadata": {},
     "execution_count": 200
    }
   ],
   "metadata": {}
  },
  {
   "cell_type": "markdown",
   "source": [
    "36. Set a seed and then create a list `v` consisting of a sample of 1,000 iid normal realizations with mean -10 and variance 100."
   ],
   "metadata": {}
  },
  {
   "cell_type": "code",
   "execution_count": 204,
   "source": [
    "# TO-DO\n",
    "v = np.random.normal(-10,100,size=1000)"
   ],
   "outputs": [],
   "metadata": {}
  },
  {
   "cell_type": "markdown",
   "source": [
    "37. Repeat (36) with a new seed. Save this new result to `w`."
   ],
   "metadata": {}
  },
  {
   "cell_type": "code",
   "execution_count": 205,
   "source": [
    "# TO-DO\n",
    "w = np.random.normal(-10,100,size=1000)"
   ],
   "outputs": [],
   "metadata": {}
  },
  {
   "cell_type": "markdown",
   "source": [
    "38. Find the average of `v` and the standard error of `v`."
   ],
   "metadata": {}
  },
  {
   "cell_type": "code",
   "execution_count": 208,
   "source": [
    "# TO-DO\n",
    "print(\"Average v: \",np.mean(v))\n",
    "print(\"Error: \", ((-10-np.mean(v))/-10 * 100 ),\"%\")"
   ],
   "outputs": [
    {
     "output_type": "stream",
     "name": "stdout",
     "text": [
      "Average v:  -9.823748538621958\n",
      "Error:  1.7625146137804213 %\n"
     ]
    }
   ],
   "metadata": {}
  },
  {
   "cell_type": "markdown",
   "source": [
    "39. Find the 5%ile of `v` using the Numpy library, read documentation to figure out which function to use. Is the estimate about what is expected by theory?\n",
    "\n",
    "Yes, the 5th percentile is towards the edge of the bell curve and is expected to be significantly different from the average"
   ],
   "metadata": {}
  },
  {
   "cell_type": "code",
   "execution_count": 209,
   "source": [
    "# TO-DO\n",
    "np.percentile(v,5)"
   ],
   "outputs": [
    {
     "output_type": "execute_result",
     "data": {
      "text/plain": [
       "-174.84990405856652"
      ]
     },
     "metadata": {},
     "execution_count": 209
    }
   ],
   "metadata": {}
  },
  {
   "cell_type": "markdown",
   "source": [
    "40. What is the percentile of `v` that corresponds to the value 0? What should it be theoretically? Is the estimate about what is expected by theory?\n",
    "<span style=\"color:red\">It is 53rd percentile, theoretically 0 should be in 50th percentile our estimate is close</span>"
   ],
   "metadata": {}
  },
  {
   "cell_type": "code",
   "execution_count": 227,
   "source": [
    "# TO-DO\n",
    "np.percentile(v,52.82)"
   ],
   "outputs": [
    {
     "output_type": "execute_result",
     "data": {
      "text/plain": [
       "0.011838842438702118"
      ]
     },
     "metadata": {},
     "execution_count": 227
    }
   ],
   "metadata": {}
  }
 ],
 "metadata": {
  "kernelspec": {
   "name": "python3",
   "display_name": "Python 3.9.7 64-bit"
  },
  "language_info": {
   "codemirror_mode": {
    "name": "ipython",
    "version": 3
   },
   "file_extension": ".py",
   "mimetype": "text/x-python",
   "name": "python",
   "nbconvert_exporter": "python",
   "pygments_lexer": "ipython3",
   "version": "3.9.7"
  },
  "interpreter": {
   "hash": "aee8b7b246df8f9039afb4144a1f6fd8d2ca17a180786b69acc140d282b71a49"
  }
 },
 "nbformat": 4,
 "nbformat_minor": 4
}