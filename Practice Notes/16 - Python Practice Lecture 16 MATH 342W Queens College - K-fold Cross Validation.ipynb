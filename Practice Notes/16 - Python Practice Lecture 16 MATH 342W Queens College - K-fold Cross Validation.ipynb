{
 "cells": [
  {
   "cell_type": "markdown",
   "metadata": {},
   "source": [
    "# Python Practice Lecture 16 MATH 342W Queens College - K-fold Cross Validation\n",
    "## Author: Amir ElTabakh\n",
    "## Date: April 5, 2022\n",
    "\n",
    "## Agenda:\n",
    "* The K Tradeoff\n",
    "* Reducing variance with Cross Validation (i.e. K-fold CV)\n",
    "\n",
    "## The K Tradeoff\n",
    "\n",
    "$K$ determines how large the training set is relative to the test set when you're doing honest validation for an algorithm. For now, let's not use K-fold CV, but only examine one split at a time. Consider this simulated dataset with 50 observations:"
   ]
  },
  {
   "cell_type": "code",
   "execution_count": 1,
   "metadata": {},
   "outputs": [],
   "source": [
    "# importing dependencies\n",
    "import numpy as np\n",
    "from sklearn.linear_model import LinearRegression\n",
    "from sklearn.metrics import mean_squared_error # calculates RMSE\n",
    "import pandas as pd\n",
    "import random\n",
    "\n",
    "# ignore warnings\n",
    "import warnings\n",
    "warnings.filterwarnings(\"ignore\")\n",
    "\n",
    "# Data viz\n",
    "import matplotlib as mpl\n",
    "import matplotlib.pyplot as plt\n",
    "import seaborn as sns\n",
    "sns.set_palette(sns.color_palette(\"colorblind\")) # setting color palette\n",
    "sns.set(rc={\"figure.figsize\":(10, 6)}) #width=10, #height=6"
   ]
  },
  {
   "cell_type": "code",
   "execution_count": 2,
   "metadata": {},
   "outputs": [
    {
     "data": {
      "text/html": [
       "<div>\n",
       "<style scoped>\n",
       "    .dataframe tbody tr th:only-of-type {\n",
       "        vertical-align: middle;\n",
       "    }\n",
       "\n",
       "    .dataframe tbody tr th {\n",
       "        vertical-align: top;\n",
       "    }\n",
       "\n",
       "    .dataframe thead th {\n",
       "        text-align: right;\n",
       "    }\n",
       "</style>\n",
       "<table border=\"1\" class=\"dataframe\">\n",
       "  <thead>\n",
       "    <tr style=\"text-align: right;\">\n",
       "      <th></th>\n",
       "      <th>y</th>\n",
       "      <th>x</th>\n",
       "    </tr>\n",
       "  </thead>\n",
       "  <tbody>\n",
       "    <tr>\n",
       "      <th>0</th>\n",
       "      <td>1.475622</td>\n",
       "      <td>0.037434</td>\n",
       "    </tr>\n",
       "    <tr>\n",
       "      <th>1</th>\n",
       "      <td>13.308573</td>\n",
       "      <td>1.996231</td>\n",
       "    </tr>\n",
       "    <tr>\n",
       "      <th>2</th>\n",
       "      <td>3.327321</td>\n",
       "      <td>0.453535</td>\n",
       "    </tr>\n",
       "    <tr>\n",
       "      <th>3</th>\n",
       "      <td>1.945917</td>\n",
       "      <td>0.199896</td>\n",
       "    </tr>\n",
       "    <tr>\n",
       "      <th>4</th>\n",
       "      <td>23.797992</td>\n",
       "      <td>2.741630</td>\n",
       "    </tr>\n",
       "  </tbody>\n",
       "</table>\n",
       "</div>"
      ],
      "text/plain": [
       "           y         x\n",
       "0   1.475622  0.037434\n",
       "1  13.308573  1.996231\n",
       "2   3.327321  0.453535\n",
       "3   1.945917  0.199896\n",
       "4  23.797992  2.741630"
      ]
     },
     "execution_count": 2,
     "metadata": {},
     "output_type": "execute_result"
    }
   ],
   "source": [
    "# setting seed\n",
    "np.random.seed(2022)\n",
    "\n",
    "# constants\n",
    "n = 50\n",
    "xmin = 0\n",
    "xmax = 4\n",
    "\n",
    "# data vecs\n",
    "x = np.random.uniform(low = xmin, high = xmax, size = n)\n",
    "y = [2 + 3 * i ** 2 + np.random.normal(0, 0.8) for i in x]\n",
    "\n",
    "# convert to df\n",
    "Xy = pd.DataFrame({'y': y, 'x': x})\n",
    "\n",
    "# snapshot\n",
    "Xy.head()"
   ]
  },
  {
   "cell_type": "code",
   "execution_count": 3,
   "metadata": {},
   "outputs": [
    {
     "data": {
      "image/png": "[encoded data removed]",
      "text/plain": [
       "<Figure size 640x480 with 1 Axes>"
      ]
     },
     "metadata": {},
     "output_type": "display_data"
    },
    {
     "data": {
      "text/plain": [
       "<ggplot: (143102508776)>"
      ]
     },
     "execution_count": 3,
     "metadata": {},
     "output_type": "execute_result"
    }
   ],
   "source": [
    "from plotnine import ggplot, aes, geom_point\n",
    "\n",
    "# plot the data\n",
    "data_plot = ggplot(Xy) + aes(x = x, y = y) + geom_point()\n",
    "data_plot"
   ]
  },
  {
   "cell_type": "markdown",
   "metadata": {},
   "source": [
    "Note how $f(x)$ is quadratic and there is random noise which is \"ignorance error\". The random noise will be part of generalization error and can never go away.\n",
    "\n",
    "If we use OLS with no derived features, then we can at most get $h*(x)$. Let's see what $h^*(x) = \\beta_0 + \\beta_1 x$ truly is. To do this, we imagine we see an absolute ton of data and run OLS on it."
   ]
  },
  {
   "cell_type": "code",
   "execution_count": 4,
   "metadata": {},
   "outputs": [
    {
     "name": "stdout",
     "output_type": "stream",
     "text": [
      "-5.7301681875688715 11.925324444538758\n"
     ]
    }
   ],
   "source": [
    "# setting seed\n",
    "np.random.seed(1738)\n",
    "\n",
    "n_hidden = 1e6\n",
    "\n",
    "# data vecs\n",
    "x_hidden = np.random.uniform(low = xmin, high = xmax, size = n)\n",
    "y_hidden = [2 + 3 * i ** 2 + np.random.normal(0, 0.8) for i in x_hidden]\n",
    "\n",
    "# convert to dataframes\n",
    "x_hidden = pd.DataFrame(x_hidden)\n",
    "y_hidden = pd.DataFrame(y_hidden)\n",
    "\n",
    "\n",
    "# h_*\n",
    "h_star_model = LinearRegression().fit(x_hidden, y_hidden)\n",
    "\n",
    "print(h_star_model.intercept_[0], h_star_model.coef_[0][0])"
   ]
  },
  {
   "cell_type": "markdown",
   "metadata": {},
   "source": [
    "The fact that $\\beta = [-6~12]^\\top$ can actually be solved with calculus: $\\int_0^4 ((2 + 3x^2) - (b_0 + b_1 x))^2 dx$ and solve for $b_0$ and $b_1$ explicitly by minimizing.\n",
    "\n",
    "Plotting that over $\\mathbb{D}$ we obtain"
   ]
  },
  {
   "cell_type": "code",
   "execution_count": 5,
   "metadata": {},
   "outputs": [
    {
     "data": {
      "image/png": "[encoded data removed]",
      "text/plain": [
       "<Figure size 640x480 with 1 Axes>"
      ]
     },
     "metadata": {},
     "output_type": "display_data"
    },
    {
     "data": {
      "text/plain": [
       "<ggplot: (143102522356)>"
      ]
     },
     "execution_count": 5,
     "metadata": {},
     "output_type": "execute_result"
    }
   ],
   "source": [
    "from plotnine import geom_abline\n",
    "\n",
    "data_plot + geom_abline(\n",
    "    intercept = h_star_model.intercept_[0],\n",
    "    slope = h_star_model.coef_[0][0],\n",
    "    color = 'green')"
   ]
  },
  {
   "cell_type": "markdown",
   "metadata": {},
   "source": [
    "That is the best we're going to get. However, $g_{final}$ falls far short of it:"
   ]
  },
  {
   "cell_type": "code",
   "execution_count": 6,
   "metadata": {},
   "outputs": [
    {
     "name": "stdout",
     "output_type": "stream",
     "text": [
      "-5.779880916597136 12.040200380319078\n"
     ]
    }
   ],
   "source": [
    "# h_*\n",
    "g_final_model = LinearRegression().fit(Xy[['x']], Xy[['y']])\n",
    "\n",
    "print(g_final_model.intercept_[0], g_final_model.coef_[0][0])"
   ]
  },
  {
   "cell_type": "markdown",
   "metadata": {},
   "source": [
    "The actual standard error of g_final can be estimated by imagining tons of future observations:"
   ]
  },
  {
   "cell_type": "code",
   "execution_count": 7,
   "metadata": {},
   "outputs": [
    {
     "data": {
      "text/plain": [
       "3.895685515342658"
      ]
     },
     "execution_count": 7,
     "metadata": {},
     "output_type": "execute_result"
    }
   ],
   "source": [
    "y_hat_g_final = g_final_model.predict(x_hidden)\n",
    "\n",
    "gen_error_true = np.std(y_hidden - y_hat_g_final)\n",
    "gen_error_true[0]"
   ]
  },
  {
   "cell_type": "markdown",
   "metadata": {},
   "source": [
    "The model $g$ can vary quite a bit as we subsample $\\mathbb{D}$ which is what happens when you do train-test splits. It varies a lot because there is large misspecification error. If the model was correctly specified, the results of everything that follows will be less impressive. But in the real world - is your model ever correctly specified? is $f \\in \\mathcal{H}$?? NO. So this is more realistic.\n",
    "\n",
    "Now let's let K be small. Let K = 2 meaning even 50-50 split of test and train.\n",
    "\n",
    "Sets, initialized with paranthesis, not square brackets, allow us to reduce one list from the other using the subtract operator."
   ]
  },
  {
   "cell_type": "code",
   "execution_count": 8,
   "metadata": {},
   "outputs": [
    {
     "name": "stdout",
     "output_type": "stream",
     "text": [
      "3.895685515342658\n",
      "3.866651151341103\n"
     ]
    }
   ],
   "source": [
    "# setting seed\n",
    "random.seed(17388) # two different libraries to set seeds for\n",
    "\n",
    "# constants\n",
    "K = 2\n",
    "prop_train = (K - 1) / K\n",
    "n_train = int(prop_train * n)\n",
    "\n",
    "# train test split indices\n",
    "indices = set([i for i in range(n)])\n",
    "index_train = set(random.sample(indices, n_train))\n",
    "index_test = indices - index_train\n",
    "\n",
    "# split based on indices\n",
    "x_train = pd.DataFrame([x[i] for i in index_train]) # cast from set to list\n",
    "y_train = pd.DataFrame([y[i] for i in index_train])\n",
    "\n",
    "x_test = pd.DataFrame([x[i] for i in index_test])\n",
    "y_test = pd.DataFrame([y[i] for i in index_test])\n",
    "\n",
    "# fitting model\n",
    "g_mod = LinearRegression().fit(x_train, y_train)\n",
    "\n",
    "# yhat via test set\n",
    "y_hat_g_test = g_mod.predict(x_test)\n",
    "\n",
    "# yhat via train set\n",
    "y_hat_g_train = g_mod.predict(x_train)\n",
    "\n",
    "# standard error\n",
    "gen_error_K_2_test = np.std(y_test - y_hat_g_test) # test\n",
    "gen_error_K_2_train = np.std(y_train - y_hat_g_train) # train\n",
    "\n",
    "print(gen_error_true[0]) # true standard error\n",
    "print(gen_error_K_2_test[0]) # tested standard error"
   ]
  },
  {
   "cell_type": "markdown",
   "metadata": {},
   "source": [
    "Although I cooked the books by setting the seed, this realization makes sense. If K=2, I build the model g with half the data than the model g_final. Less data to train on => higher generalization error. How about if K is large. Let's say $K = \\frac{n}{2}$ meaning $n_{train} = 48$ and $n_{test} = 2$."
   ]
  },
  {
   "cell_type": "code",
   "execution_count": 9,
   "metadata": {},
   "outputs": [
    {
     "name": "stdout",
     "output_type": "stream",
     "text": [
      "3.895685515342658\n",
      "4.721271620787243\n",
      "3.9750058046527084\n"
     ]
    }
   ],
   "source": [
    "# setting seed\n",
    "np.random.seed(7777)\n",
    "random.seed(7777) # two different libraries to set seeds for\n",
    "\n",
    "# constants\n",
    "K = n / 2\n",
    "prop_train = (K - 1) / K\n",
    "n_train = int(prop_train * n)\n",
    "\n",
    "# train test split indices\n",
    "indices = set([i for i in range(n)])\n",
    "index_train = set(random.sample(indices, n_train))\n",
    "index_test = indices - index_train\n",
    "\n",
    "# split based on indices\n",
    "x_train = pd.DataFrame([x[i] for i in index_train]) # cast from set to list\n",
    "y_train = pd.DataFrame([y[i] for i in index_train])\n",
    "\n",
    "x_test = pd.DataFrame([x[i] for i in index_test])\n",
    "y_test = pd.DataFrame([y[i] for i in index_test])\n",
    "\n",
    "# fitting model\n",
    "g_mod = LinearRegression().fit(x_train, y_train)\n",
    "\n",
    "# yhat via test set\n",
    "y_hat_g_test = g_mod.predict(x_test)\n",
    "\n",
    "# yhat via train set\n",
    "y_hat_g_train = g_mod.predict(x_train)\n",
    "\n",
    "# standard error\n",
    "gen_error_K_2_test = np.std(y_test - y_hat_g_test) # test\n",
    "gen_error_K_2_train = np.std(y_train - y_hat_g_train) # train\n",
    "\n",
    "print(gen_error_true[0]) # true standard error\n",
    "print(gen_error_K_2_test[0]) # tested standard error\n",
    "print(gen_error_K_2_train[0]) # train standard error"
   ]
  },
  {
   "cell_type": "markdown",
   "metadata": {},
   "source": [
    "Although I cooked the books again by setting the seed, this also makes sense. More data to train on means less error but still more error than all the data. In reality, there is massive variance over specific splits! Let's run the simulation with these two K values many times.\n",
    "\n",
    "While we're at it, let's do all K's! Well, what are all the valid K's? If you want to keep the sizes the same, any factorization of n except the trivial 1 since n = 1 * n. A $K = 1$ would mean there's no split! How to find divisors? Of course a package for this."
   ]
  },
  {
   "cell_type": "code",
   "execution_count": 10,
   "metadata": {},
   "outputs": [
    {
     "data": {
      "text/plain": [
       "[2, 5, 10, 50, 25]"
      ]
     },
     "execution_count": 10,
     "metadata": {},
     "output_type": "execute_result"
    }
   ],
   "source": [
    "# import divisors() method from sympy\n",
    "from sympy import divisors\n",
    "\n",
    "Kuniques = list(set(divisors(n)) - set([1]))\n",
    "Kuniques"
   ]
  },
  {
   "cell_type": "markdown",
   "metadata": {},
   "source": [
    "But should we also include the trivial n? Yes K = n is indeed a valid divisor. And this type of CV is called the \"leave one out cross validation\" (LOOCV). Now we compute the errors over K:"
   ]
  },
  {
   "cell_type": "code",
   "execution_count": 11,
   "metadata": {},
   "outputs": [
    {
     "data": {
      "text/html": [
       "<div>\n",
       "<style scoped>\n",
       "    .dataframe tbody tr th:only-of-type {\n",
       "        vertical-align: middle;\n",
       "    }\n",
       "\n",
       "    .dataframe tbody tr th {\n",
       "        vertical-align: top;\n",
       "    }\n",
       "\n",
       "    .dataframe thead th {\n",
       "        text-align: right;\n",
       "    }\n",
       "</style>\n",
       "<table border=\"1\" class=\"dataframe\">\n",
       "  <thead>\n",
       "    <tr style=\"text-align: right;\">\n",
       "      <th></th>\n",
       "      <th>standard_error</th>\n",
       "      <th>K</th>\n",
       "    </tr>\n",
       "  </thead>\n",
       "  <tbody>\n",
       "    <tr>\n",
       "      <th>0</th>\n",
       "      <td>4.854482</td>\n",
       "      <td>2.0</td>\n",
       "    </tr>\n",
       "    <tr>\n",
       "      <th>1</th>\n",
       "      <td>2.285150</td>\n",
       "      <td>5.0</td>\n",
       "    </tr>\n",
       "    <tr>\n",
       "      <th>2</th>\n",
       "      <td>3.105590</td>\n",
       "      <td>10.0</td>\n",
       "    </tr>\n",
       "    <tr>\n",
       "      <th>3</th>\n",
       "      <td>7.310184</td>\n",
       "      <td>50.0</td>\n",
       "    </tr>\n",
       "    <tr>\n",
       "      <th>4</th>\n",
       "      <td>0.852891</td>\n",
       "      <td>25.0</td>\n",
       "    </tr>\n",
       "    <tr>\n",
       "      <th>...</th>\n",
       "      <td>...</td>\n",
       "      <td>...</td>\n",
       "    </tr>\n",
       "    <tr>\n",
       "      <th>9995</th>\n",
       "      <td>4.322564</td>\n",
       "      <td>2.0</td>\n",
       "    </tr>\n",
       "    <tr>\n",
       "      <th>9996</th>\n",
       "      <td>2.757709</td>\n",
       "      <td>5.0</td>\n",
       "    </tr>\n",
       "    <tr>\n",
       "      <th>9997</th>\n",
       "      <td>3.843814</td>\n",
       "      <td>10.0</td>\n",
       "    </tr>\n",
       "    <tr>\n",
       "      <th>9998</th>\n",
       "      <td>3.889604</td>\n",
       "      <td>50.0</td>\n",
       "    </tr>\n",
       "    <tr>\n",
       "      <th>9999</th>\n",
       "      <td>0.186950</td>\n",
       "      <td>25.0</td>\n",
       "    </tr>\n",
       "  </tbody>\n",
       "</table>\n",
       "<p>10000 rows × 2 columns</p>\n",
       "</div>"
      ],
      "text/plain": [
       "      standard_error     K\n",
       "0           4.854482   2.0\n",
       "1           2.285150   5.0\n",
       "2           3.105590  10.0\n",
       "3           7.310184  50.0\n",
       "4           0.852891  25.0\n",
       "...              ...   ...\n",
       "9995        4.322564   2.0\n",
       "9996        2.757709   5.0\n",
       "9997        3.843814  10.0\n",
       "9998        3.889604  50.0\n",
       "9999        0.186950  25.0\n",
       "\n",
       "[10000 rows x 2 columns]"
      ]
     },
     "execution_count": 11,
     "metadata": {},
     "output_type": "execute_result"
    }
   ],
   "source": [
    "# constants\n",
    "Nsim_per_K = 2000 # simulations per K fold\n",
    "num_Kuniques = len(Kuniques)\n",
    "Ks = Kuniques * Nsim_per_K\n",
    "\n",
    "results = pd.DataFrame({'standard_error': [0 for i in range(Nsim_per_K * num_Kuniques)],\n",
    "                        'K': [0 for i in range(Nsim_per_K * num_Kuniques)]})\n",
    "\n",
    "for i in range(len(Ks)):\n",
    "    # constants\n",
    "    K = Ks[i]\n",
    "    prop_train = (K - 1) / K\n",
    "    n_train = int(prop_train * n)\n",
    "\n",
    "    # train test split indices\n",
    "    indices = set([i for i in range(n)])\n",
    "    index_train = set(random.sample(indices, n_train))\n",
    "    index_test = indices - index_train\n",
    "\n",
    "    # split based on indices\n",
    "    X_train = pd.DataFrame([x[i] for i in index_train]) # cast from set to list\n",
    "    y_train = pd.DataFrame([y[i] for i in index_train])\n",
    "\n",
    "    X_test = pd.DataFrame([x[i] for i in index_test])\n",
    "    y_test = pd.DataFrame([y[i] for i in index_test])\n",
    "\n",
    "    # fitting model\n",
    "    g_mod = LinearRegression().fit(X_train, y_train)\n",
    "    \n",
    "    # get predictions\n",
    "    y_hat_g = g_mod.predict(X_test)\n",
    "    \n",
    "    # get error metric\n",
    "    if len(y_test) == 1:\n",
    "        g_s_e = np.absolute([float(y_test.iloc[i]) - y_hat_g[i] for i in range(len(y_test))])\n",
    "    else:\n",
    "        g_s_e = np.std([float(y_test.iloc[i]) - y_hat_g[i] for i in range(len(y_test))])\n",
    "    \n",
    "    # update results\n",
    "    results.loc[i] = np.asarray([g_s_e, K])\n",
    "    \n",
    "# output results\n",
    "results"
   ]
  },
  {
   "cell_type": "markdown",
   "metadata": {},
   "source": [
    "What are the variabilities? Let's take the average error over each simulated split. "
   ]
  },
  {
   "cell_type": "code",
   "execution_count": 12,
   "metadata": {},
   "outputs": [
    {
     "data": {
      "text/html": [
       "<div>\n",
       "<style scoped>\n",
       "    .dataframe tbody tr th:only-of-type {\n",
       "        vertical-align: middle;\n",
       "    }\n",
       "\n",
       "    .dataframe tbody tr th {\n",
       "        vertical-align: top;\n",
       "    }\n",
       "\n",
       "    .dataframe thead th {\n",
       "        text-align: right;\n",
       "    }\n",
       "</style>\n",
       "<table border=\"1\" class=\"dataframe\">\n",
       "  <thead>\n",
       "    <tr style=\"text-align: right;\">\n",
       "      <th></th>\n",
       "      <th>K_avg</th>\n",
       "      <th>K_SE</th>\n",
       "    </tr>\n",
       "    <tr>\n",
       "      <th>K</th>\n",
       "      <th></th>\n",
       "      <th></th>\n",
       "    </tr>\n",
       "  </thead>\n",
       "  <tbody>\n",
       "    <tr>\n",
       "      <th>2.0</th>\n",
       "      <td>4.138852</td>\n",
       "      <td>0.349815</td>\n",
       "    </tr>\n",
       "    <tr>\n",
       "      <th>5.0</th>\n",
       "      <td>3.923679</td>\n",
       "      <td>0.598949</td>\n",
       "    </tr>\n",
       "    <tr>\n",
       "      <th>10.0</th>\n",
       "      <td>3.586957</td>\n",
       "      <td>0.995828</td>\n",
       "    </tr>\n",
       "    <tr>\n",
       "      <th>25.0</th>\n",
       "      <td>2.351176</td>\n",
       "      <td>1.800594</td>\n",
       "    </tr>\n",
       "    <tr>\n",
       "      <th>50.0</th>\n",
       "      <td>3.716647</td>\n",
       "      <td>1.875211</td>\n",
       "    </tr>\n",
       "  </tbody>\n",
       "</table>\n",
       "</div>"
      ],
      "text/plain": [
       "         K_avg      K_SE\n",
       "K                       \n",
       "2.0   4.138852  0.349815\n",
       "5.0   3.923679  0.598949\n",
       "10.0  3.586957  0.995828\n",
       "25.0  2.351176  1.800594\n",
       "50.0  3.716647  1.875211"
      ]
     },
     "execution_count": 12,
     "metadata": {},
     "output_type": "execute_result"
    }
   ],
   "source": [
    "# mean of the standard errors grouped by K\n",
    "results_summary = pd.DataFrame({'K': list(results.groupby(['K']).mean().index),\n",
    "                                 'K_avg': list(results.groupby(['K']).mean()['standard_error']),\n",
    "                                 'K_SE': list(results.groupby(['K']).std()['standard_error'])\n",
    "                                }).set_index('K')\n",
    "\n",
    "results_summary"
   ]
  },
  {
   "cell_type": "code",
   "execution_count": 13,
   "metadata": {
    "scrolled": true
   },
   "outputs": [
    {
     "data": {
      "text/plain": [
       "<matplotlib.lines.Line2D at 0x2151df85fd0>"
      ]
     },
     "execution_count": 13,
     "metadata": {},
     "output_type": "execute_result"
    },
    {
     "data": {
      "image/png": "[encoded data removed]",
      "text/plain": [
       "<Figure size 601.1x360 with 1 Axes>"
      ]
     },
     "metadata": {},
     "output_type": "display_data"
    }
   ],
   "source": [
    "sns.displot(results,\n",
    "             x = 'standard_error',\n",
    "             hue = 'K',\n",
    "             kind = 'kde',\n",
    "             multiple=\"stack\",\n",
    "             palette = 'bright',\n",
    "             alpha = 0.9,\n",
    "             aspect = 1.5) # width = height * aspect\n",
    "\n",
    "plt.axvline(label='Mean 2.0', x=results_summary.iloc[0, 0], color='blue')\n",
    "plt.axvline(label='Mean 5.0', x=results_summary.iloc[1, 0], color='orange')\n",
    "plt.axvline(label='Mean 10.0', x=results_summary.iloc[2, 0], color='green')\n",
    "plt.axvline(label='Mean 25.0', x=results_summary.iloc[3, 0], color='red')\n",
    "plt.axvline(label='Mean 50.0', x=results_summary.iloc[4, 0], color='purple')"
   ]
  },
  {
   "cell_type": "markdown",
   "metadata": {},
   "source": [
    "The main takeaways are\n",
    "\n",
    "1. The std err of generalization error estimate is much lower for low K than high K\n",
    "\n",
    "With high K, the test set is small meaning the estimate has high variance; with low K, the test set is large meaning you can measure it with low variance.\n",
    "\n",
    "2. The average of generalization error estimate is lower for high K than low K\n",
    "\n",
    "With high K, the training set is large meaning $g$ is closer to g_final and thus has higher expected accuracy; with low K, the training set is small meaning $g$ is further from g_final and thus has lower expected accuracy.\n",
    "\n",
    "Thus, the tradeoff is bias vs. variance. There are many similar tradeoffs in statistics. We will see one later when we do machine learning.\n",
    "\n",
    "Is the estimates' accuracy for what we really care about? No, the generalization error of g_final which we picture below:"
   ]
  },
  {
   "cell_type": "code",
   "execution_count": 14,
   "metadata": {},
   "outputs": [
    {
     "data": {
      "text/plain": [
       "<matplotlib.lines.Line2D at 0x2151e00fdf0>"
      ]
     },
     "execution_count": 14,
     "metadata": {},
     "output_type": "execute_result"
    },
    {
     "data": {
      "image/png": "[encoded data removed]",
      "text/plain": [
       "<Figure size 601.1x360 with 1 Axes>"
      ]
     },
     "metadata": {},
     "output_type": "display_data"
    }
   ],
   "source": [
    "sns.displot(results,\n",
    "             x = 'standard_error',\n",
    "             hue = 'K',\n",
    "             kind = 'kde',\n",
    "             multiple=\"stack\",\n",
    "             palette = 'bright',\n",
    "             alpha = 0.9,\n",
    "             aspect = 1.5) # width = height * aspect\n",
    "\n",
    "plt.axvline(label='Mean 2.0', x=results_summary.iloc[0, 0], color='blue')\n",
    "plt.axvline(label='Mean 5.0', x=results_summary.iloc[1, 0], color='orange')\n",
    "plt.axvline(label='Mean 10.0', x=results_summary.iloc[2, 0], color='green')\n",
    "plt.axvline(label='Mean 25.0', x=results_summary.iloc[3, 0], color='red')\n",
    "plt.axvline(label='Mean 50.0', x=results_summary.iloc[4, 0], color='purple')\n",
    "plt.axvline(label='CV', x=gen_error_true[0], color='white')\n"
   ]
  },
  {
   "cell_type": "markdown",
   "metadata": {},
   "source": [
    "Remember, g_final's error should be lower than both averages since it uses all the data. But we see above it's higher!\n",
    "\n",
    "So what happened? Simple... we are mixing apples and oranges. We calculated that white line by looking at one million future observations. We calculated the red and blue distributions by looking at our data only which is a random realization of many such datasets! Thus, our generalization errors are biased based on the specific n observations in D we received. We will see that K-fold helps a bit with this. But there is nothing we can do about it beyond that (besides collect more observations). If you get a weird sample, you get a weird sample!\n",
    "\n",
    "How would we be able to generate the picture we really want to see? We would run this simulation over many datasets and average. That would be a giant simulation. To show that this is the case, go back and change the seed in the first chunk and rerun. You'll see a different white bar.\n",
    "\n",
    "What is the main takeaway? K matters because it induces a tradeoff. It shouldn't be too large or too small (as we believe at the moment). And, generalization error estimation is very variable in low n. To see this, go back and increase n.\n",
    "\n",
    "## Reducing variance with Cross Validation (i.e. K-fold CV)\n",
    "\n",
    "We saw previous there was a lot of variance in generalization error estimation. We can reduce some of this variance by using a very simple trick. We can rotate the train-test split so that each observation will be in the test set once. How many times is this done? K. Now we see the reason for the definition of K as it tells you how many times you validate. Why is it called \"cross\"? Because the training set crosses over as it does the rotation. Each observation is inside a training set K-1 times. This point will become important later. Why is it called K-fold? Because a fold is one set of training-test and there are K unique folds during the whole procedure.\n",
    "\n",
    "How does this work? Well, let's say K=10, a typical value. This means in each \"fold\", 90% of the data is in the training set and 10% of the data is in the test set. As we run through the K folds, we train a model on the training set and predict on the test set and compute oos residuals We aggregate those oos residuals over the folds to result in n oos residuals. We then run our error metric on all n.\n",
    "\n",
    "Let's begin with the dataset from the previous demo. Here is that code that will create the folds by specifying the K=10 test sets by index. The training sets can then be found by the set difference function.\n",
    "\n",
    "We're gonna jump right into using sci-kit learn's KFold module. "
   ]
  },
  {
   "cell_type": "code",
   "execution_count": 15,
   "metadata": {},
   "outputs": [
    {
     "data": {
      "text/plain": [
       "0.8584252859259888"
      ]
     },
     "execution_count": 15,
     "metadata": {},
     "output_type": "execute_result"
    }
   ],
   "source": [
    "# importing dependencies\n",
    "from sklearn.model_selection import KFold\n",
    "\n",
    "# initializing model\n",
    "model = LinearRegression() # intercept will fit by default\n",
    "\n",
    "# 10 folds\n",
    "K = 10\n",
    "kf = KFold(n_splits=K)\n",
    "\n",
    "# list to hold residuals\n",
    "oos_cross_validation_residuals = []\n",
    "\n",
    "for train_index , test_index in kf.split(x):\n",
    "    X_train = pd.DataFrame([x[i] for i in train_index])\n",
    "    y_train = pd.DataFrame([y[i] for i in train_index])\n",
    "\n",
    "    X_test = pd.DataFrame([x[i] for i in test_index])\n",
    "    y_test = pd.DataFrame([y[i] for i in test_index])\n",
    "    \n",
    "    model.fit(X_train,y_train)\n",
    "    y_hat_g = model.predict(X_test)\n",
    "     \n",
    "    oos_cross_validation_residuals += [np.std(y_test - y_hat_g)]\n",
    "    \n",
    "oos_cross_validation_residual_average = np.std(oos_cross_validation_residuals)\n",
    "oos_cross_validation_residual_average"
   ]
  },
  {
   "cell_type": "markdown",
   "metadata": {},
   "source": [
    "How does this CV error look over K? "
   ]
  },
  {
   "cell_type": "code",
   "execution_count": 16,
   "metadata": {},
   "outputs": [
    {
     "data": {
      "text/plain": [
       "[2, 5, 10, 50, 25]"
      ]
     },
     "execution_count": 16,
     "metadata": {},
     "output_type": "execute_result"
    }
   ],
   "source": [
    "# import divisors() method from sympy\n",
    "from sympy import divisors\n",
    "\n",
    "Kuniques = list(set(divisors(n)) - set([1]))\n",
    "Kuniques"
   ]
  },
  {
   "cell_type": "code",
   "execution_count": 17,
   "metadata": {},
   "outputs": [
    {
     "data": {
      "text/html": [
       "<div>\n",
       "<style scoped>\n",
       "    .dataframe tbody tr th:only-of-type {\n",
       "        vertical-align: middle;\n",
       "    }\n",
       "\n",
       "    .dataframe tbody tr th {\n",
       "        vertical-align: top;\n",
       "    }\n",
       "\n",
       "    .dataframe thead th {\n",
       "        text-align: right;\n",
       "    }\n",
       "</style>\n",
       "<table border=\"1\" class=\"dataframe\">\n",
       "  <thead>\n",
       "    <tr style=\"text-align: right;\">\n",
       "      <th></th>\n",
       "      <th>standard_error</th>\n",
       "      <th>K</th>\n",
       "    </tr>\n",
       "  </thead>\n",
       "  <tbody>\n",
       "    <tr>\n",
       "      <th>0</th>\n",
       "      <td>3.672747</td>\n",
       "      <td>2.0</td>\n",
       "    </tr>\n",
       "    <tr>\n",
       "      <th>1</th>\n",
       "      <td>3.954330</td>\n",
       "      <td>5.0</td>\n",
       "    </tr>\n",
       "    <tr>\n",
       "      <th>2</th>\n",
       "      <td>3.224956</td>\n",
       "      <td>10.0</td>\n",
       "    </tr>\n",
       "    <tr>\n",
       "      <th>3</th>\n",
       "      <td>7.383997</td>\n",
       "      <td>50.0</td>\n",
       "    </tr>\n",
       "    <tr>\n",
       "      <th>4</th>\n",
       "      <td>1.272782</td>\n",
       "      <td>25.0</td>\n",
       "    </tr>\n",
       "  </tbody>\n",
       "</table>\n",
       "</div>"
      ],
      "text/plain": [
       "   standard_error     K\n",
       "0        3.672747   2.0\n",
       "1        3.954330   5.0\n",
       "2        3.224956  10.0\n",
       "3        7.383997  50.0\n",
       "4        1.272782  25.0"
      ]
     },
     "execution_count": 17,
     "metadata": {},
     "output_type": "execute_result"
    }
   ],
   "source": [
    "# constants\n",
    "Nsim_per_K = 1 # simulations per K fold\n",
    "num_Kuniques = len(Kuniques)\n",
    "Ks = Kuniques * Nsim_per_K\n",
    "n = len(y)\n",
    "\n",
    "oos_residuals_CV = pd.DataFrame({'standard_error': [0 for i in range(Nsim_per_K * num_Kuniques)],\n",
    "                        'K': [0 for i in range(Nsim_per_K * num_Kuniques)]})\n",
    "\n",
    "for i in range(len(Ks)):\n",
    "    # constants\n",
    "    K = Ks[i]\n",
    "    prop_train = (K - 1) / K\n",
    "    n_train = int(prop_train * n)\n",
    "\n",
    "    # train test split indices\n",
    "    indices = set([i for i in range(n)])\n",
    "    train_index = set(random.sample(indices, n_train))\n",
    "    test_index = indices - train_index\n",
    "    \n",
    "    # cast as lists\n",
    "    train_index = list(train_index)\n",
    "    test_index = list(test_index)\n",
    "\n",
    "    # split based on indices\n",
    "    X_train = pd.DataFrame([x[i] for i in train_index])\n",
    "    y_train = pd.DataFrame([y[i] for i in train_index])\n",
    "\n",
    "    X_test = pd.DataFrame([x[i] for i in test_index])\n",
    "    y_test = pd.DataFrame([y[i] for i in test_index])\n",
    "\n",
    "    # fitting model\n",
    "    g_mod = LinearRegression().fit(X_train, y_train)\n",
    "    \n",
    "    # get predictions\n",
    "    y_hat_g = g_mod.predict(X_test)\n",
    "    \n",
    "    # get error metric\n",
    "    if len(y_test) == 1:\n",
    "        g_s_e = np.absolute([float(y_test.iloc[i]) - y_hat_g[i] for i in range(len(y_test))])\n",
    "    else:\n",
    "        g_s_e = np.std([float(y_test.iloc[i]) - y_hat_g[i] for i in range(len(y_test))])\n",
    "    \n",
    "    # update results\n",
    "    oos_residuals_CV.loc[i] = np.asarray([g_s_e, K])\n",
    "    \n",
    "# output results\n",
    "oos_residuals_CV"
   ]
  },
  {
   "cell_type": "markdown",
   "metadata": {},
   "source": [
    "There is still an effect of the one random fold. Let's do this many times and look at the distribution just like before."
   ]
  },
  {
   "cell_type": "code",
   "execution_count": 18,
   "metadata": {},
   "outputs": [
    {
     "data": {
      "text/html": [
       "<div>\n",
       "<style scoped>\n",
       "    .dataframe tbody tr th:only-of-type {\n",
       "        vertical-align: middle;\n",
       "    }\n",
       "\n",
       "    .dataframe tbody tr th {\n",
       "        vertical-align: top;\n",
       "    }\n",
       "\n",
       "    .dataframe thead th {\n",
       "        text-align: right;\n",
       "    }\n",
       "</style>\n",
       "<table border=\"1\" class=\"dataframe\">\n",
       "  <thead>\n",
       "    <tr style=\"text-align: right;\">\n",
       "      <th></th>\n",
       "      <th>standard_error</th>\n",
       "      <th>K</th>\n",
       "    </tr>\n",
       "  </thead>\n",
       "  <tbody>\n",
       "    <tr>\n",
       "      <th>0</th>\n",
       "      <td>4.185499</td>\n",
       "      <td>2.0</td>\n",
       "    </tr>\n",
       "    <tr>\n",
       "      <th>1</th>\n",
       "      <td>4.193835</td>\n",
       "      <td>5.0</td>\n",
       "    </tr>\n",
       "    <tr>\n",
       "      <th>2</th>\n",
       "      <td>3.317849</td>\n",
       "      <td>10.0</td>\n",
       "    </tr>\n",
       "    <tr>\n",
       "      <th>3</th>\n",
       "      <td>2.990152</td>\n",
       "      <td>50.0</td>\n",
       "    </tr>\n",
       "    <tr>\n",
       "      <th>4</th>\n",
       "      <td>0.089897</td>\n",
       "      <td>25.0</td>\n",
       "    </tr>\n",
       "    <tr>\n",
       "      <th>...</th>\n",
       "      <td>...</td>\n",
       "      <td>...</td>\n",
       "    </tr>\n",
       "    <tr>\n",
       "      <th>2495</th>\n",
       "      <td>4.207371</td>\n",
       "      <td>2.0</td>\n",
       "    </tr>\n",
       "    <tr>\n",
       "      <th>2496</th>\n",
       "      <td>3.761627</td>\n",
       "      <td>5.0</td>\n",
       "    </tr>\n",
       "    <tr>\n",
       "      <th>2497</th>\n",
       "      <td>5.222147</td>\n",
       "      <td>10.0</td>\n",
       "    </tr>\n",
       "    <tr>\n",
       "      <th>2498</th>\n",
       "      <td>5.706351</td>\n",
       "      <td>50.0</td>\n",
       "    </tr>\n",
       "    <tr>\n",
       "      <th>2499</th>\n",
       "      <td>3.677768</td>\n",
       "      <td>25.0</td>\n",
       "    </tr>\n",
       "  </tbody>\n",
       "</table>\n",
       "<p>2500 rows × 2 columns</p>\n",
       "</div>"
      ],
      "text/plain": [
       "      standard_error     K\n",
       "0           4.185499   2.0\n",
       "1           4.193835   5.0\n",
       "2           3.317849  10.0\n",
       "3           2.990152  50.0\n",
       "4           0.089897  25.0\n",
       "...              ...   ...\n",
       "2495        4.207371   2.0\n",
       "2496        3.761627   5.0\n",
       "2497        5.222147  10.0\n",
       "2498        5.706351  50.0\n",
       "2499        3.677768  25.0\n",
       "\n",
       "[2500 rows x 2 columns]"
      ]
     },
     "execution_count": 18,
     "metadata": {},
     "output_type": "execute_result"
    }
   ],
   "source": [
    "# constants\n",
    "Nsim_per_K = 500 # simulations per K fold\n",
    "num_Kuniques = len(Kuniques)\n",
    "Ks = Kuniques * Nsim_per_K\n",
    "n = len(y)\n",
    "\n",
    "oos_residuals = pd.DataFrame({'standard_error': [0 for i in range(Nsim_per_K * num_Kuniques)],\n",
    "                        'K': [0 for i in range(Nsim_per_K * num_Kuniques)]})\n",
    "\n",
    "for i in range(len(Ks)):\n",
    "    # constants\n",
    "    K = Ks[i]\n",
    "    prop_train = (K - 1) / K\n",
    "    n_train = int(prop_train * n)\n",
    "\n",
    "    # train test split indices\n",
    "    indices = set([i for i in range(n)])\n",
    "    train_index = set(random.sample(indices, n_train))\n",
    "    test_index = indices - train_index\n",
    "    \n",
    "    # cast as lists\n",
    "    train_index = list(train_index)\n",
    "    test_index = list(test_index)\n",
    "\n",
    "    # split based on indices\n",
    "    X_train = pd.DataFrame([x[i] for i in train_index])\n",
    "    y_train = pd.DataFrame([y[i] for i in train_index])\n",
    "\n",
    "    X_test = pd.DataFrame([x[i] for i in test_index])\n",
    "    y_test = pd.DataFrame([y[i] for i in test_index])\n",
    "\n",
    "    # fitting model\n",
    "    g_mod = LinearRegression().fit(X_train, y_train)\n",
    "    \n",
    "    # get predictions\n",
    "    y_hat_g = g_mod.predict(X_test)\n",
    "    \n",
    "    # get error metric\n",
    "    if len(y_test) == 1:\n",
    "        g_s_e = np.absolute([float(y_test.iloc[i]) - y_hat_g[i] for i in range(len(y_test))])\n",
    "    else:\n",
    "        g_s_e = np.std([float(y_test.iloc[i]) - y_hat_g[i] for i in range(len(y_test))])\n",
    "    \n",
    "    # update results\n",
    "    oos_residuals.loc[i] = np.asarray([g_s_e, K])\n",
    "    \n",
    "# output results\n",
    "oos_residuals"
   ]
  },
  {
   "cell_type": "markdown",
   "metadata": {},
   "source": [
    "What is the variability?"
   ]
  },
  {
   "cell_type": "code",
   "execution_count": 19,
   "metadata": {},
   "outputs": [
    {
     "data": {
      "text/html": [
       "<div>\n",
       "<style scoped>\n",
       "    .dataframe tbody tr th:only-of-type {\n",
       "        vertical-align: middle;\n",
       "    }\n",
       "\n",
       "    .dataframe tbody tr th {\n",
       "        vertical-align: top;\n",
       "    }\n",
       "\n",
       "    .dataframe thead th {\n",
       "        text-align: right;\n",
       "    }\n",
       "</style>\n",
       "<table border=\"1\" class=\"dataframe\">\n",
       "  <thead>\n",
       "    <tr style=\"text-align: right;\">\n",
       "      <th></th>\n",
       "      <th>K_avg</th>\n",
       "      <th>K_SE</th>\n",
       "    </tr>\n",
       "    <tr>\n",
       "      <th>K</th>\n",
       "      <th></th>\n",
       "      <th></th>\n",
       "    </tr>\n",
       "  </thead>\n",
       "  <tbody>\n",
       "    <tr>\n",
       "      <th>2.0</th>\n",
       "      <td>4.146039</td>\n",
       "      <td>0.395974</td>\n",
       "    </tr>\n",
       "    <tr>\n",
       "      <th>5.0</th>\n",
       "      <td>3.877967</td>\n",
       "      <td>0.579897</td>\n",
       "    </tr>\n",
       "    <tr>\n",
       "      <th>10.0</th>\n",
       "      <td>3.546045</td>\n",
       "      <td>1.018892</td>\n",
       "    </tr>\n",
       "    <tr>\n",
       "      <th>25.0</th>\n",
       "      <td>2.368054</td>\n",
       "      <td>1.752468</td>\n",
       "    </tr>\n",
       "    <tr>\n",
       "      <th>50.0</th>\n",
       "      <td>3.727671</td>\n",
       "      <td>1.949647</td>\n",
       "    </tr>\n",
       "  </tbody>\n",
       "</table>\n",
       "</div>"
      ],
      "text/plain": [
       "         K_avg      K_SE\n",
       "K                       \n",
       "2.0   4.146039  0.395974\n",
       "5.0   3.877967  0.579897\n",
       "10.0  3.546045  1.018892\n",
       "25.0  2.368054  1.752468\n",
       "50.0  3.727671  1.949647"
      ]
     },
     "execution_count": 19,
     "metadata": {},
     "output_type": "execute_result"
    }
   ],
   "source": [
    "# mean of the standard errors grouped by K\n",
    "oos_results_summary = pd.DataFrame({'K': list(oos_residuals.groupby(['K']).mean().index),\n",
    "                                 'K_avg': list(oos_residuals.groupby(['K']).mean()['standard_error']),\n",
    "                                 'K_SE': list(oos_residuals.groupby(['K']).std()['standard_error'])\n",
    "                                }).set_index('K')\n",
    "\n",
    "oos_results_summary"
   ]
  },
  {
   "cell_type": "code",
   "execution_count": 20,
   "metadata": {},
   "outputs": [
    {
     "data": {
      "text/plain": [
       "<matplotlib.lines.Line2D at 0x2151e0b3460>"
      ]
     },
     "execution_count": 20,
     "metadata": {},
     "output_type": "execute_result"
    },
    {
     "data": {
      "image/png": "[encoded data removed]",
      "text/plain": [
       "<Figure size 601.1x360 with 1 Axes>"
      ]
     },
     "metadata": {},
     "output_type": "display_data"
    }
   ],
   "source": [
    "sns.displot(oos_residuals,\n",
    "             x = 'standard_error',\n",
    "             hue = 'K',\n",
    "             kind = 'kde',\n",
    "             multiple=\"stack\",\n",
    "             palette = 'bright',\n",
    "             alpha = 0.9,\n",
    "             aspect = 1.5) # width = height * aspect\n",
    "\n",
    "plt.axvline(label='Mean 2.0', x=oos_results_summary.iloc[0, 0], color='blue')\n",
    "plt.axvline(label='Mean 5.0', x=oos_results_summary.iloc[1, 0], color='orange')\n",
    "plt.axvline(label='Mean 10.0', x=oos_results_summary.iloc[2, 0], color='green')\n",
    "plt.axvline(label='Mean 25.0', x=oos_results_summary.iloc[3, 0], color='red')\n",
    "plt.axvline(label='Mean 50.0', x=oos_results_summary.iloc[4, 0], color='purple')\n",
    "plt.axvline(label='CV', x=oos_cross_validation_residual_average, color='black')\n"
   ]
  },
  {
   "cell_type": "markdown",
   "metadata": {},
   "source": [
    "Admittedly, I don't know the properties of CV estimates as well as I should. Thus, there will be only procedural questions on the next exam. I do know that selecting K \"optimally\" for general datasets is an open question.\n",
    "\n",
    "There is one other nice thing about having folds, you can estimate the standard error in your generalization estimate by pretending you have K iid samples and pretending the normal theory applies. For example, let's say K = 5. Instead of aggregating all residuals, we leave them separate and get K = 5 difference estimates for generalization error."
   ]
  },
  {
   "cell_type": "code",
   "execution_count": 21,
   "metadata": {},
   "outputs": [
    {
     "name": "stdout",
     "output_type": "stream",
     "text": [
      "3.950922846645746\n",
      "0.8584252859259888\n"
     ]
    }
   ],
   "source": [
    "# importing dependencies\n",
    "from sklearn.model_selection import KFold\n",
    "\n",
    "# initializing model\n",
    "model = LinearRegression() # intercept will fit by default\n",
    "\n",
    "# 10 folds\n",
    "K = 10\n",
    "kf = KFold(n_splits=K)\n",
    "\n",
    "# list to hold residuals\n",
    "oos_cross_validation_residuals = []\n",
    "\n",
    "for train_index , test_index in kf.split(x):\n",
    "    X_train = pd.DataFrame([x[i] for i in train_index])\n",
    "    y_train = pd.DataFrame([y[i] for i in train_index])\n",
    "\n",
    "    X_test = pd.DataFrame([x[i] for i in test_index])\n",
    "    y_test = pd.DataFrame([y[i] for i in test_index])\n",
    "    \n",
    "    model.fit(X_train,y_train)\n",
    "    y_hat_g = model.predict(X_test)\n",
    "     \n",
    "    oos_cross_validation_residuals += [np.std(y_test - y_hat_g)]\n",
    "    \n",
    "oos_cross_validation_residual_mean = np.mean(oos_cross_validation_residuals)\n",
    "print(oos_cross_validation_residual_mean)\n",
    "\n",
    "oos_cross_validation_residual_std = np.std(oos_cross_validation_residuals)\n",
    "print(oos_cross_validation_residual_std)"
   ]
  },
  {
   "cell_type": "code",
   "execution_count": 22,
   "metadata": {},
   "outputs": [
    {
     "name": "stdout",
     "output_type": "stream",
     "text": [
      "(2.2258526513895607, 5.675993041901931)\n",
      "1.2627430676861833 48.69439853538999\n"
     ]
    }
   ],
   "source": [
    "# calculating confidence interval\n",
    "import scipy.stats as st\n",
    "\n",
    "confidence_interval = st.t.interval(alpha = 0.95,\n",
    "                                   df = len(y) - 1,\n",
    "                                   loc = oos_cross_validation_residual_mean,\n",
    "                                   scale = oos_cross_validation_residual_std)\n",
    "\n",
    "print(confidence_interval)\n",
    "print(min(y), max(y))"
   ]
  },
  {
   "cell_type": "markdown",
   "metadata": {},
   "source": [
    "Although this is technically nonsense since they're not iid samples since the training set is crossed over containing mostly the same observations, at least it's something. In the above example, we've managed to capture the true generalization error.\n",
    "\n",
    "Coverage in this confidence interval is over D. So I wouldn't gain much insight by simulating different splits with the same K.\n",
    "\n",
    "I believe confidence intervals for generalization error is an open problem or maybe proved that you can't find them in general situations.\n",
    "\n",
    "Here's a real data example with the `breast_cancer` dataset."
   ]
  },
  {
   "cell_type": "code",
   "execution_count": 23,
   "metadata": {},
   "outputs": [
    {
     "data": {
      "text/html": [
       "<div>\n",
       "<style scoped>\n",
       "    .dataframe tbody tr th:only-of-type {\n",
       "        vertical-align: middle;\n",
       "    }\n",
       "\n",
       "    .dataframe tbody tr th {\n",
       "        vertical-align: top;\n",
       "    }\n",
       "\n",
       "    .dataframe thead th {\n",
       "        text-align: right;\n",
       "    }\n",
       "</style>\n",
       "<table border=\"1\" class=\"dataframe\">\n",
       "  <thead>\n",
       "    <tr style=\"text-align: right;\">\n",
       "      <th></th>\n",
       "      <th>mean radius</th>\n",
       "      <th>mean texture</th>\n",
       "      <th>mean perimeter</th>\n",
       "      <th>mean area</th>\n",
       "      <th>mean smoothness</th>\n",
       "      <th>mean compactness</th>\n",
       "      <th>mean concavity</th>\n",
       "      <th>mean concave points</th>\n",
       "      <th>mean symmetry</th>\n",
       "      <th>mean fractal dimension</th>\n",
       "      <th>...</th>\n",
       "      <th>worst radius</th>\n",
       "      <th>worst texture</th>\n",
       "      <th>worst perimeter</th>\n",
       "      <th>worst area</th>\n",
       "      <th>worst smoothness</th>\n",
       "      <th>worst compactness</th>\n",
       "      <th>worst concavity</th>\n",
       "      <th>worst concave points</th>\n",
       "      <th>worst symmetry</th>\n",
       "      <th>worst fractal dimension</th>\n",
       "    </tr>\n",
       "  </thead>\n",
       "  <tbody>\n",
       "    <tr>\n",
       "      <th>0</th>\n",
       "      <td>17.99</td>\n",
       "      <td>10.38</td>\n",
       "      <td>122.80</td>\n",
       "      <td>1001.0</td>\n",
       "      <td>0.11840</td>\n",
       "      <td>0.27760</td>\n",
       "      <td>0.30010</td>\n",
       "      <td>0.14710</td>\n",
       "      <td>0.2419</td>\n",
       "      <td>0.07871</td>\n",
       "      <td>...</td>\n",
       "      <td>25.380</td>\n",
       "      <td>17.33</td>\n",
       "      <td>184.60</td>\n",
       "      <td>2019.0</td>\n",
       "      <td>0.16220</td>\n",
       "      <td>0.66560</td>\n",
       "      <td>0.7119</td>\n",
       "      <td>0.2654</td>\n",
       "      <td>0.4601</td>\n",
       "      <td>0.11890</td>\n",
       "    </tr>\n",
       "    <tr>\n",
       "      <th>1</th>\n",
       "      <td>20.57</td>\n",
       "      <td>17.77</td>\n",
       "      <td>132.90</td>\n",
       "      <td>1326.0</td>\n",
       "      <td>0.08474</td>\n",
       "      <td>0.07864</td>\n",
       "      <td>0.08690</td>\n",
       "      <td>0.07017</td>\n",
       "      <td>0.1812</td>\n",
       "      <td>0.05667</td>\n",
       "      <td>...</td>\n",
       "      <td>24.990</td>\n",
       "      <td>23.41</td>\n",
       "      <td>158.80</td>\n",
       "      <td>1956.0</td>\n",
       "      <td>0.12380</td>\n",
       "      <td>0.18660</td>\n",
       "      <td>0.2416</td>\n",
       "      <td>0.1860</td>\n",
       "      <td>0.2750</td>\n",
       "      <td>0.08902</td>\n",
       "    </tr>\n",
       "    <tr>\n",
       "      <th>2</th>\n",
       "      <td>19.69</td>\n",
       "      <td>21.25</td>\n",
       "      <td>130.00</td>\n",
       "      <td>1203.0</td>\n",
       "      <td>0.10960</td>\n",
       "      <td>0.15990</td>\n",
       "      <td>0.19740</td>\n",
       "      <td>0.12790</td>\n",
       "      <td>0.2069</td>\n",
       "      <td>0.05999</td>\n",
       "      <td>...</td>\n",
       "      <td>23.570</td>\n",
       "      <td>25.53</td>\n",
       "      <td>152.50</td>\n",
       "      <td>1709.0</td>\n",
       "      <td>0.14440</td>\n",
       "      <td>0.42450</td>\n",
       "      <td>0.4504</td>\n",
       "      <td>0.2430</td>\n",
       "      <td>0.3613</td>\n",
       "      <td>0.08758</td>\n",
       "    </tr>\n",
       "    <tr>\n",
       "      <th>3</th>\n",
       "      <td>11.42</td>\n",
       "      <td>20.38</td>\n",
       "      <td>77.58</td>\n",
       "      <td>386.1</td>\n",
       "      <td>0.14250</td>\n",
       "      <td>0.28390</td>\n",
       "      <td>0.24140</td>\n",
       "      <td>0.10520</td>\n",
       "      <td>0.2597</td>\n",
       "      <td>0.09744</td>\n",
       "      <td>...</td>\n",
       "      <td>14.910</td>\n",
       "      <td>26.50</td>\n",
       "      <td>98.87</td>\n",
       "      <td>567.7</td>\n",
       "      <td>0.20980</td>\n",
       "      <td>0.86630</td>\n",
       "      <td>0.6869</td>\n",
       "      <td>0.2575</td>\n",
       "      <td>0.6638</td>\n",
       "      <td>0.17300</td>\n",
       "    </tr>\n",
       "    <tr>\n",
       "      <th>4</th>\n",
       "      <td>20.29</td>\n",
       "      <td>14.34</td>\n",
       "      <td>135.10</td>\n",
       "      <td>1297.0</td>\n",
       "      <td>0.10030</td>\n",
       "      <td>0.13280</td>\n",
       "      <td>0.19800</td>\n",
       "      <td>0.10430</td>\n",
       "      <td>0.1809</td>\n",
       "      <td>0.05883</td>\n",
       "      <td>...</td>\n",
       "      <td>22.540</td>\n",
       "      <td>16.67</td>\n",
       "      <td>152.20</td>\n",
       "      <td>1575.0</td>\n",
       "      <td>0.13740</td>\n",
       "      <td>0.20500</td>\n",
       "      <td>0.4000</td>\n",
       "      <td>0.1625</td>\n",
       "      <td>0.2364</td>\n",
       "      <td>0.07678</td>\n",
       "    </tr>\n",
       "    <tr>\n",
       "      <th>...</th>\n",
       "      <td>...</td>\n",
       "      <td>...</td>\n",
       "      <td>...</td>\n",
       "      <td>...</td>\n",
       "      <td>...</td>\n",
       "      <td>...</td>\n",
       "      <td>...</td>\n",
       "      <td>...</td>\n",
       "      <td>...</td>\n",
       "      <td>...</td>\n",
       "      <td>...</td>\n",
       "      <td>...</td>\n",
       "      <td>...</td>\n",
       "      <td>...</td>\n",
       "      <td>...</td>\n",
       "      <td>...</td>\n",
       "      <td>...</td>\n",
       "      <td>...</td>\n",
       "      <td>...</td>\n",
       "      <td>...</td>\n",
       "      <td>...</td>\n",
       "    </tr>\n",
       "    <tr>\n",
       "      <th>564</th>\n",
       "      <td>21.56</td>\n",
       "      <td>22.39</td>\n",
       "      <td>142.00</td>\n",
       "      <td>1479.0</td>\n",
       "      <td>0.11100</td>\n",
       "      <td>0.11590</td>\n",
       "      <td>0.24390</td>\n",
       "      <td>0.13890</td>\n",
       "      <td>0.1726</td>\n",
       "      <td>0.05623</td>\n",
       "      <td>...</td>\n",
       "      <td>25.450</td>\n",
       "      <td>26.40</td>\n",
       "      <td>166.10</td>\n",
       "      <td>2027.0</td>\n",
       "      <td>0.14100</td>\n",
       "      <td>0.21130</td>\n",
       "      <td>0.4107</td>\n",
       "      <td>0.2216</td>\n",
       "      <td>0.2060</td>\n",
       "      <td>0.07115</td>\n",
       "    </tr>\n",
       "    <tr>\n",
       "      <th>565</th>\n",
       "      <td>20.13</td>\n",
       "      <td>28.25</td>\n",
       "      <td>131.20</td>\n",
       "      <td>1261.0</td>\n",
       "      <td>0.09780</td>\n",
       "      <td>0.10340</td>\n",
       "      <td>0.14400</td>\n",
       "      <td>0.09791</td>\n",
       "      <td>0.1752</td>\n",
       "      <td>0.05533</td>\n",
       "      <td>...</td>\n",
       "      <td>23.690</td>\n",
       "      <td>38.25</td>\n",
       "      <td>155.00</td>\n",
       "      <td>1731.0</td>\n",
       "      <td>0.11660</td>\n",
       "      <td>0.19220</td>\n",
       "      <td>0.3215</td>\n",
       "      <td>0.1628</td>\n",
       "      <td>0.2572</td>\n",
       "      <td>0.06637</td>\n",
       "    </tr>\n",
       "    <tr>\n",
       "      <th>566</th>\n",
       "      <td>16.60</td>\n",
       "      <td>28.08</td>\n",
       "      <td>108.30</td>\n",
       "      <td>858.1</td>\n",
       "      <td>0.08455</td>\n",
       "      <td>0.10230</td>\n",
       "      <td>0.09251</td>\n",
       "      <td>0.05302</td>\n",
       "      <td>0.1590</td>\n",
       "      <td>0.05648</td>\n",
       "      <td>...</td>\n",
       "      <td>18.980</td>\n",
       "      <td>34.12</td>\n",
       "      <td>126.70</td>\n",
       "      <td>1124.0</td>\n",
       "      <td>0.11390</td>\n",
       "      <td>0.30940</td>\n",
       "      <td>0.3403</td>\n",
       "      <td>0.1418</td>\n",
       "      <td>0.2218</td>\n",
       "      <td>0.07820</td>\n",
       "    </tr>\n",
       "    <tr>\n",
       "      <th>567</th>\n",
       "      <td>20.60</td>\n",
       "      <td>29.33</td>\n",
       "      <td>140.10</td>\n",
       "      <td>1265.0</td>\n",
       "      <td>0.11780</td>\n",
       "      <td>0.27700</td>\n",
       "      <td>0.35140</td>\n",
       "      <td>0.15200</td>\n",
       "      <td>0.2397</td>\n",
       "      <td>0.07016</td>\n",
       "      <td>...</td>\n",
       "      <td>25.740</td>\n",
       "      <td>39.42</td>\n",
       "      <td>184.60</td>\n",
       "      <td>1821.0</td>\n",
       "      <td>0.16500</td>\n",
       "      <td>0.86810</td>\n",
       "      <td>0.9387</td>\n",
       "      <td>0.2650</td>\n",
       "      <td>0.4087</td>\n",
       "      <td>0.12400</td>\n",
       "    </tr>\n",
       "    <tr>\n",
       "      <th>568</th>\n",
       "      <td>7.76</td>\n",
       "      <td>24.54</td>\n",
       "      <td>47.92</td>\n",
       "      <td>181.0</td>\n",
       "      <td>0.05263</td>\n",
       "      <td>0.04362</td>\n",
       "      <td>0.00000</td>\n",
       "      <td>0.00000</td>\n",
       "      <td>0.1587</td>\n",
       "      <td>0.05884</td>\n",
       "      <td>...</td>\n",
       "      <td>9.456</td>\n",
       "      <td>30.37</td>\n",
       "      <td>59.16</td>\n",
       "      <td>268.6</td>\n",
       "      <td>0.08996</td>\n",
       "      <td>0.06444</td>\n",
       "      <td>0.0000</td>\n",
       "      <td>0.0000</td>\n",
       "      <td>0.2871</td>\n",
       "      <td>0.07039</td>\n",
       "    </tr>\n",
       "  </tbody>\n",
       "</table>\n",
       "<p>569 rows × 30 columns</p>\n",
       "</div>"
      ],
      "text/plain": [
       "     mean radius  mean texture  mean perimeter  mean area  mean smoothness  \\\n",
       "0          17.99         10.38          122.80     1001.0          0.11840   \n",
       "1          20.57         17.77          132.90     1326.0          0.08474   \n",
       "2          19.69         21.25          130.00     1203.0          0.10960   \n",
       "3          11.42         20.38           77.58      386.1          0.14250   \n",
       "4          20.29         14.34          135.10     1297.0          0.10030   \n",
       "..           ...           ...             ...        ...              ...   \n",
       "564        21.56         22.39          142.00     1479.0          0.11100   \n",
       "565        20.13         28.25          131.20     1261.0          0.09780   \n",
       "566        16.60         28.08          108.30      858.1          0.08455   \n",
       "567        20.60         29.33          140.10     1265.0          0.11780   \n",
       "568         7.76         24.54           47.92      181.0          0.05263   \n",
       "\n",
       "     mean compactness  mean concavity  mean concave points  mean symmetry  \\\n",
       "0             0.27760         0.30010              0.14710         0.2419   \n",
       "1             0.07864         0.08690              0.07017         0.1812   \n",
       "2             0.15990         0.19740              0.12790         0.2069   \n",
       "3             0.28390         0.24140              0.10520         0.2597   \n",
       "4             0.13280         0.19800              0.10430         0.1809   \n",
       "..                ...             ...                  ...            ...   \n",
       "564           0.11590         0.24390              0.13890         0.1726   \n",
       "565           0.10340         0.14400              0.09791         0.1752   \n",
       "566           0.10230         0.09251              0.05302         0.1590   \n",
       "567           0.27700         0.35140              0.15200         0.2397   \n",
       "568           0.04362         0.00000              0.00000         0.1587   \n",
       "\n",
       "     mean fractal dimension  ...  worst radius  worst texture  \\\n",
       "0                   0.07871  ...        25.380          17.33   \n",
       "1                   0.05667  ...        24.990          23.41   \n",
       "2                   0.05999  ...        23.570          25.53   \n",
       "3                   0.09744  ...        14.910          26.50   \n",
       "4                   0.05883  ...        22.540          16.67   \n",
       "..                      ...  ...           ...            ...   \n",
       "564                 0.05623  ...        25.450          26.40   \n",
       "565                 0.05533  ...        23.690          38.25   \n",
       "566                 0.05648  ...        18.980          34.12   \n",
       "567                 0.07016  ...        25.740          39.42   \n",
       "568                 0.05884  ...         9.456          30.37   \n",
       "\n",
       "     worst perimeter  worst area  worst smoothness  worst compactness  \\\n",
       "0             184.60      2019.0           0.16220            0.66560   \n",
       "1             158.80      1956.0           0.12380            0.18660   \n",
       "2             152.50      1709.0           0.14440            0.42450   \n",
       "3              98.87       567.7           0.20980            0.86630   \n",
       "4             152.20      1575.0           0.13740            0.20500   \n",
       "..               ...         ...               ...                ...   \n",
       "564           166.10      2027.0           0.14100            0.21130   \n",
       "565           155.00      1731.0           0.11660            0.19220   \n",
       "566           126.70      1124.0           0.11390            0.30940   \n",
       "567           184.60      1821.0           0.16500            0.86810   \n",
       "568            59.16       268.6           0.08996            0.06444   \n",
       "\n",
       "     worst concavity  worst concave points  worst symmetry  \\\n",
       "0             0.7119                0.2654          0.4601   \n",
       "1             0.2416                0.1860          0.2750   \n",
       "2             0.4504                0.2430          0.3613   \n",
       "3             0.6869                0.2575          0.6638   \n",
       "4             0.4000                0.1625          0.2364   \n",
       "..               ...                   ...             ...   \n",
       "564           0.4107                0.2216          0.2060   \n",
       "565           0.3215                0.1628          0.2572   \n",
       "566           0.3403                0.1418          0.2218   \n",
       "567           0.9387                0.2650          0.4087   \n",
       "568           0.0000                0.0000          0.2871   \n",
       "\n",
       "     worst fractal dimension  \n",
       "0                    0.11890  \n",
       "1                    0.08902  \n",
       "2                    0.08758  \n",
       "3                    0.17300  \n",
       "4                    0.07678  \n",
       "..                       ...  \n",
       "564                  0.07115  \n",
       "565                  0.06637  \n",
       "566                  0.07820  \n",
       "567                  0.12400  \n",
       "568                  0.07039  \n",
       "\n",
       "[569 rows x 30 columns]"
      ]
     },
     "execution_count": 23,
     "metadata": {},
     "output_type": "execute_result"
    }
   ],
   "source": [
    "from sklearn.datasets import load_breast_cancer\n",
    "\n",
    "data = load_breast_cancer(as_frame = True)\n",
    "df = data.frame\n",
    "X = df.iloc[:,:-1]\n",
    "y = df.iloc[:,-1]\n",
    "\n",
    "X"
   ]
  },
  {
   "cell_type": "code",
   "execution_count": 24,
   "metadata": {},
   "outputs": [
    {
     "name": "stdout",
     "output_type": "stream",
     "text": [
      "0.24089771870604665\n",
      "0.03227633906367752\n"
     ]
    }
   ],
   "source": [
    "from sklearn.model_selection import cross_val_score\n",
    "from sklearn.model_selection import KFold\n",
    "\n",
    "k = 5\n",
    "kf = KFold(n_splits=k, random_state=None)\n",
    "\n",
    "model = LinearRegression()\n",
    " \n",
    "residuals = []\n",
    " \n",
    "for train_index , test_index in kf.split(X):\n",
    "    X_train , X_test = X.iloc[train_index,:],X.iloc[test_index,:]\n",
    "    y_train , y_test = y[train_index] , y[test_index]\n",
    "     \n",
    "    model.fit(X_train,y_train)\n",
    "    y_hat_g = model.predict(X_test)\n",
    "     \n",
    "    residuals += [np.std(y_test - y_hat_g)]\n",
    "\n",
    "print(np.mean(residuals))\n",
    "print(np.std(residuals))"
   ]
  },
  {
   "cell_type": "code",
   "execution_count": 25,
   "metadata": {},
   "outputs": [
    {
     "name": "stdout",
     "output_type": "stream",
     "text": [
      "(0.17750217054311385, 0.30429326686897945)\n"
     ]
    }
   ],
   "source": [
    "# calculating confidence interval\n",
    "import scipy.stats as st\n",
    "\n",
    "confidence_interval = st.t.interval(alpha = 0.95,\n",
    "                                   df = len(X) - 1,\n",
    "                                   loc = np.mean(residuals),\n",
    "                                   scale = np.std(residuals))\n",
    "\n",
    "print(confidence_interval)"
   ]
  }
 ],
 "metadata": {
  "kernelspec": {
   "display_name": "Python 3",
   "language": "python",
   "name": "python3"
  },
  "language_info": {
   "codemirror_mode": {
    "name": "ipython",
    "version": 3
   },
   "file_extension": ".py",
   "mimetype": "text/x-python",
   "name": "python",
   "nbconvert_exporter": "python",
   "pygments_lexer": "ipython3",
   "version": "3.8.5"
  }
 },
 "nbformat": 4,
 "nbformat_minor": 4
}
