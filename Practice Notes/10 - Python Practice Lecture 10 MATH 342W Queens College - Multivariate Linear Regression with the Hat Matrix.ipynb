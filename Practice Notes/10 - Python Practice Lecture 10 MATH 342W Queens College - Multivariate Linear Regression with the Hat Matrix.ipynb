{
 "cells": [
  {
   "cell_type": "markdown",
   "metadata": {},
   "source": [
    "# Python Practice Lecture 10 MATH 342W Queens College - Multivariate Linear Regression with the Hat Matrix\n",
    "## Author: Amir ElTabakh\n",
    "## Date: March 3, 2021\n",
    "\n",
    "## Agenda:\n",
    "* Multivariate Linear Regression with the Hat Matrix\n",
    "\n",
    "## Multivariate linear regression with the Hat Matrix\n",
    "\n",
    "First let's do the null model to examine what the null hat matrix looks like. In this exercise, we will see that $g_0 = \\bar{y}$ is really the OLS solution in the case of no features, only an intercept i.e. $b_0 = \\bar{y}$.\n",
    "\n",
    "We'll load in the Boston Housing data."
   ]
  },
  {
   "cell_type": "code",
   "execution_count": 1,
   "metadata": {},
   "outputs": [
    {
     "data": {
      "text/html": [
       "<div>\n",
       "<style scoped>\n",
       "    .dataframe tbody tr th:only-of-type {\n",
       "        vertical-align: middle;\n",
       "    }\n",
       "\n",
       "    .dataframe tbody tr th {\n",
       "        vertical-align: top;\n",
       "    }\n",
       "\n",
       "    .dataframe thead th {\n",
       "        text-align: right;\n",
       "    }\n",
       "</style>\n",
       "<table border=\"1\" class=\"dataframe\">\n",
       "  <thead>\n",
       "    <tr style=\"text-align: right;\">\n",
       "      <th></th>\n",
       "      <th>CRIM</th>\n",
       "      <th>ZN</th>\n",
       "      <th>INDUS</th>\n",
       "      <th>CHAS</th>\n",
       "      <th>NOX</th>\n",
       "      <th>RM</th>\n",
       "      <th>AGE</th>\n",
       "      <th>DIS</th>\n",
       "      <th>RAD</th>\n",
       "      <th>TAX</th>\n",
       "      <th>PTRATIO</th>\n",
       "      <th>B</th>\n",
       "      <th>LSTAT</th>\n",
       "    </tr>\n",
       "  </thead>\n",
       "  <tbody>\n",
       "    <tr>\n",
       "      <th>0</th>\n",
       "      <td>0.00632</td>\n",
       "      <td>18.0</td>\n",
       "      <td>2.31</td>\n",
       "      <td>0.0</td>\n",
       "      <td>0.538</td>\n",
       "      <td>6.575</td>\n",
       "      <td>65.2</td>\n",
       "      <td>4.0900</td>\n",
       "      <td>1.0</td>\n",
       "      <td>296.0</td>\n",
       "      <td>15.3</td>\n",
       "      <td>396.90</td>\n",
       "      <td>4.98</td>\n",
       "    </tr>\n",
       "    <tr>\n",
       "      <th>1</th>\n",
       "      <td>0.02731</td>\n",
       "      <td>0.0</td>\n",
       "      <td>7.07</td>\n",
       "      <td>0.0</td>\n",
       "      <td>0.469</td>\n",
       "      <td>6.421</td>\n",
       "      <td>78.9</td>\n",
       "      <td>4.9671</td>\n",
       "      <td>2.0</td>\n",
       "      <td>242.0</td>\n",
       "      <td>17.8</td>\n",
       "      <td>396.90</td>\n",
       "      <td>9.14</td>\n",
       "    </tr>\n",
       "    <tr>\n",
       "      <th>2</th>\n",
       "      <td>0.02729</td>\n",
       "      <td>0.0</td>\n",
       "      <td>7.07</td>\n",
       "      <td>0.0</td>\n",
       "      <td>0.469</td>\n",
       "      <td>7.185</td>\n",
       "      <td>61.1</td>\n",
       "      <td>4.9671</td>\n",
       "      <td>2.0</td>\n",
       "      <td>242.0</td>\n",
       "      <td>17.8</td>\n",
       "      <td>392.83</td>\n",
       "      <td>4.03</td>\n",
       "    </tr>\n",
       "    <tr>\n",
       "      <th>3</th>\n",
       "      <td>0.03237</td>\n",
       "      <td>0.0</td>\n",
       "      <td>2.18</td>\n",
       "      <td>0.0</td>\n",
       "      <td>0.458</td>\n",
       "      <td>6.998</td>\n",
       "      <td>45.8</td>\n",
       "      <td>6.0622</td>\n",
       "      <td>3.0</td>\n",
       "      <td>222.0</td>\n",
       "      <td>18.7</td>\n",
       "      <td>394.63</td>\n",
       "      <td>2.94</td>\n",
       "    </tr>\n",
       "    <tr>\n",
       "      <th>4</th>\n",
       "      <td>0.06905</td>\n",
       "      <td>0.0</td>\n",
       "      <td>2.18</td>\n",
       "      <td>0.0</td>\n",
       "      <td>0.458</td>\n",
       "      <td>7.147</td>\n",
       "      <td>54.2</td>\n",
       "      <td>6.0622</td>\n",
       "      <td>3.0</td>\n",
       "      <td>222.0</td>\n",
       "      <td>18.7</td>\n",
       "      <td>396.90</td>\n",
       "      <td>5.33</td>\n",
       "    </tr>\n",
       "  </tbody>\n",
       "</table>\n",
       "</div>"
      ],
      "text/plain": [
       "      CRIM    ZN  INDUS  CHAS    NOX     RM   AGE     DIS  RAD    TAX  \\\n",
       "0  0.00632  18.0   2.31   0.0  0.538  6.575  65.2  4.0900  1.0  296.0   \n",
       "1  0.02731   0.0   7.07   0.0  0.469  6.421  78.9  4.9671  2.0  242.0   \n",
       "2  0.02729   0.0   7.07   0.0  0.469  7.185  61.1  4.9671  2.0  242.0   \n",
       "3  0.03237   0.0   2.18   0.0  0.458  6.998  45.8  6.0622  3.0  222.0   \n",
       "4  0.06905   0.0   2.18   0.0  0.458  7.147  54.2  6.0622  3.0  222.0   \n",
       "\n",
       "   PTRATIO       B  LSTAT  \n",
       "0     15.3  396.90   4.98  \n",
       "1     17.8  396.90   9.14  \n",
       "2     17.8  392.83   4.03  \n",
       "3     18.7  394.63   2.94  \n",
       "4     18.7  396.90   5.33  "
      ]
     },
     "execution_count": 1,
     "metadata": {},
     "output_type": "execute_result"
    }
   ],
   "source": [
    "# Lines below are just to ignore warnings\n",
    "import warnings\n",
    "warnings.filterwarnings('ignore')\n",
    "\n",
    "# Importing dependencies\n",
    "from sklearn import datasets\n",
    "import pandas as pd\n",
    "import numpy as np\n",
    "\n",
    "# Load the Boston Housing dataset as bh\n",
    "bh = datasets.load_boston()\n",
    "\n",
    "# Initialize target variable\n",
    "y = bh.target\n",
    "\n",
    "# Create Boston Housing df\n",
    "df = pd.DataFrame(data = bh.data, columns = bh.feature_names)\n",
    "\n",
    "# Load the first 5 rows of df\n",
    "df.head()"
   ]
  },
  {
   "cell_type": "markdown",
   "metadata": {},
   "source": [
    "Let's build a linear model of just the intercept column."
   ]
  },
  {
   "cell_type": "code",
   "execution_count": 4,
   "metadata": {},
   "outputs": [
    {
     "data": {
      "text/plain": [
       "array([22.53280632, 22.53280632, 22.53280632, 22.53280632, 22.53280632,\n",
       "       22.53280632, 22.53280632, 22.53280632, 22.53280632, 22.53280632,\n",
       "       22.53280632, 22.53280632, 22.53280632, 22.53280632, 22.53280632,\n",
       "       22.53280632, 22.53280632, 22.53280632, 22.53280632, 22.53280632])"
      ]
     },
     "execution_count": 4,
     "metadata": {},
     "output_type": "execute_result"
    }
   ],
   "source": [
    "# Importing dependencies\n",
    "from sklearn.linear_model import LinearRegression\n",
    "from sklearn.metrics import mean_squared_error, r2_score # RMSE, R^2\n",
    "\n",
    "# Intitialize model\n",
    "model_intercept = LinearRegression()\n",
    "\n",
    "# define 1-vector\n",
    "ones = [[1] for i in range(len(df))]\n",
    "\n",
    "# convert to a numpy array\n",
    "ones = np.asarray(ones, dtype=np.float64)\n",
    "\n",
    "# Fit y on the 1-vector\n",
    "model_intercept.fit(ones, y)\n",
    "\n",
    "# get yhat\n",
    "yhat = model_intercept.predict(ones)\n",
    "\n",
    "# print first 20 predictions\n",
    "yhat[0:20]"
   ]
  },
  {
   "cell_type": "code",
   "execution_count": 3,
   "metadata": {},
   "outputs": [
    {
     "name": "stdout",
     "output_type": "stream",
     "text": [
      "22.532806324110677\n"
     ]
    }
   ],
   "source": [
    "# print the mean of y\n",
    "print(np.mean(y))"
   ]
  },
  {
   "cell_type": "markdown",
   "metadata": {},
   "source": [
    "Let's do a simple example of projection. Let's project $y$ onto the intercept column, the column of all 1's. What do you think will happen?"
   ]
  },
  {
   "cell_type": "code",
   "execution_count": 5,
   "metadata": {},
   "outputs": [
    {
     "data": {
      "text/plain": [
       "array([[0.00197628, 0.00197628, 0.00197628, 0.00197628],\n",
       "       [0.00197628, 0.00197628, 0.00197628, 0.00197628],\n",
       "       [0.00197628, 0.00197628, 0.00197628, 0.00197628],\n",
       "       [0.00197628, 0.00197628, 0.00197628, 0.00197628]])"
      ]
     },
     "execution_count": 5,
     "metadata": {},
     "output_type": "execute_result"
    }
   ],
   "source": [
    "H = ones @ ones.transpose() / sum(ones**2)\n",
    "H[1:5, 1:5]"
   ]
  },
  {
   "cell_type": "code",
   "execution_count": 6,
   "metadata": {},
   "outputs": [
    {
     "data": {
      "text/plain": [
       "(506, 506)"
      ]
     },
     "execution_count": 6,
     "metadata": {},
     "output_type": "execute_result"
    }
   ],
   "source": [
    "# output shape of the Hat matrix\n",
    "H.shape"
   ]
  },
  {
   "cell_type": "code",
   "execution_count": 7,
   "metadata": {},
   "outputs": [
    {
     "data": {
      "text/plain": [
       "array([0.00197628])"
      ]
     },
     "execution_count": 7,
     "metadata": {},
     "output_type": "execute_result"
    }
   ],
   "source": [
    "# Output unique values of Hat matrix\n",
    "np.unique(H)"
   ]
  },
  {
   "cell_type": "code",
   "execution_count": 7,
   "metadata": {},
   "outputs": [
    {
     "name": "stdout",
     "output_type": "stream",
     "text": [
      "0.001976284584980237\n"
     ]
    }
   ],
   "source": [
    "# In fact\n",
    "print(1 / 506)"
   ]
  },
  {
   "cell_type": "markdown",
   "metadata": {},
   "source": [
    "The whole matrix is just one single value for each element! What is this value? It's $\\frac{1}{506}$ where 506 is $n$. So what's going to happen?"
   ]
  },
  {
   "cell_type": "code",
   "execution_count": 8,
   "metadata": {},
   "outputs": [
    {
     "data": {
      "text/plain": [
       "array([22.53280632, 22.53280632, 22.53280632, 22.53280632, 22.53280632,\n",
       "       22.53280632, 22.53280632, 22.53280632, 22.53280632, 22.53280632,\n",
       "       22.53280632, 22.53280632, 22.53280632, 22.53280632, 22.53280632,\n",
       "       22.53280632, 22.53280632, 22.53280632, 22.53280632, 22.53280632])"
      ]
     },
     "execution_count": 8,
     "metadata": {},
     "output_type": "execute_result"
    }
   ],
   "source": [
    "# Getting y projected on ones\n",
    "y_proj_one = H @ y\n",
    "y_proj_one[0:20]"
   ]
  },
  {
   "cell_type": "markdown",
   "metadata": {},
   "source": [
    "Projection onto the space of all ones makes the null model ($g = \\bar{y}$). It's the same as the model of response = intercept + error, i.e. $y = \\mu_y + \\epsilon$. The OLS intercept estimate is clearly $\\bar{y}$. Let's build a multivariate linear regression model with the `LinearRegression` sklearn module."
   ]
  },
  {
   "cell_type": "code",
   "execution_count": 9,
   "metadata": {},
   "outputs": [
    {
     "name": "stdout",
     "output_type": "stream",
     "text": [
      "36.459488385089855\n",
      "[-1.08011358e-01  4.64204584e-02  2.05586264e-02  2.68673382e+00\n",
      " -1.77666112e+01  3.80986521e+00  6.92224640e-04 -1.47556685e+00\n",
      "  3.06049479e-01 -1.23345939e-02 -9.52747232e-01  9.31168327e-03\n",
      " -5.24758378e-01]\n"
     ]
    }
   ],
   "source": [
    "# intitialize model\n",
    "model = LinearRegression(fit_intercept = True)\n",
    "\n",
    "# fit\n",
    "model.fit(df, y)\n",
    "\n",
    "# print intercept b0\n",
    "print(model.intercept_)\n",
    "\n",
    "# print coefficients\n",
    "print(model.coef_)"
   ]
  },
  {
   "cell_type": "markdown",
   "metadata": {},
   "source": [
    "Now we'll do the same using our linear algebra.\n",
    "\n",
    "First we'll add the intercept column, and then we'll convert the df to a NumPy array so that we can more easily use NumPy's linear algebra functionality."
   ]
  },
  {
   "cell_type": "code",
   "execution_count": 10,
   "metadata": {},
   "outputs": [
    {
     "data": {
      "text/plain": [
       "array([ 3.64594884e+01, -1.08011358e-01,  4.64204584e-02,  2.05586264e-02,\n",
       "        2.68673382e+00, -1.77666112e+01,  3.80986521e+00,  6.92224640e-04,\n",
       "       -1.47556685e+00,  3.06049479e-01, -1.23345939e-02, -9.52747232e-01,\n",
       "        9.31168327e-03, -5.24758378e-01])"
      ]
     },
     "execution_count": 10,
     "metadata": {},
     "output_type": "execute_result"
    }
   ],
   "source": [
    "# Let's get our b vec\n",
    "X = df\n",
    "\n",
    "# add intercept column\n",
    "X.insert(0, 'INTERCEPT', [1 for i in range(len(X))])\n",
    "\n",
    "# Convert X to numpy array (matrix)\n",
    "X = X.to_numpy()\n",
    "\n",
    "# linear algebra\n",
    "Xt = X.transpose()\n",
    "XtXinv = np.linalg.inv(Xt @ X)\n",
    "b = XtXinv @ Xt @ y\n",
    "b"
   ]
  },
  {
   "cell_type": "markdown",
   "metadata": {},
   "source": [
    "We calculated the same intercept and coefficient values. Let's use the Hat matrix to calculate all predictions."
   ]
  },
  {
   "cell_type": "code",
   "execution_count": 11,
   "metadata": {},
   "outputs": [
    {
     "data": {
      "text/plain": [
       "array([[1.0000e+00, 1.0000e+00, 1.0000e+00, ..., 1.0000e+00, 1.0000e+00,\n",
       "        1.0000e+00],\n",
       "       [6.3200e-03, 2.7310e-02, 2.7290e-02, ..., 6.0760e-02, 1.0959e-01,\n",
       "        4.7410e-02],\n",
       "       [1.8000e+01, 0.0000e+00, 0.0000e+00, ..., 0.0000e+00, 0.0000e+00,\n",
       "        0.0000e+00],\n",
       "       ...,\n",
       "       [1.5300e+01, 1.7800e+01, 1.7800e+01, ..., 2.1000e+01, 2.1000e+01,\n",
       "        2.1000e+01],\n",
       "       [3.9690e+02, 3.9690e+02, 3.9283e+02, ..., 3.9690e+02, 3.9345e+02,\n",
       "        3.9690e+02],\n",
       "       [4.9800e+00, 9.1400e+00, 4.0300e+00, ..., 5.6400e+00, 6.4800e+00,\n",
       "        7.8800e+00]])"
      ]
     },
     "execution_count": 11,
     "metadata": {},
     "output_type": "execute_result"
    }
   ],
   "source": [
    "X.transpose()"
   ]
  },
  {
   "cell_type": "code",
   "execution_count": 12,
   "metadata": {},
   "outputs": [
    {
     "name": "stdout",
     "output_type": "stream",
     "text": [
      "(506, 506)\n"
     ]
    }
   ],
   "source": [
    "# get Hat matrix\n",
    "H = X @ XtXinv @ Xt\n",
    "\n",
    "# The `.dot()` method works fine\n",
    "#H = X.dot(XtXinv.dot(Xt))\n",
    "\n",
    "print(H.shape)"
   ]
  },
  {
   "cell_type": "code",
   "execution_count": 13,
   "metadata": {},
   "outputs": [
    {
     "data": {
      "text/plain": [
       "array([30.00384338, 25.02556238, 30.56759672, 28.60703649, 27.94352423,\n",
       "       25.25628446, 23.00180827, 19.53598843, 11.52363685, 18.92026211])"
      ]
     },
     "execution_count": 13,
     "metadata": {},
     "output_type": "execute_result"
    }
   ],
   "source": [
    "# Calculate your predictions\n",
    "yhat = H @ y\n",
    "yhat[0:10]"
   ]
  },
  {
   "cell_type": "markdown",
   "metadata": {},
   "source": [
    "Can you tell this is projected onto a 13 dimensionsal space from a 506 dimensional space? Not really... but it is...\n",
    "\n",
    "Now let's project over and over..."
   ]
  },
  {
   "cell_type": "code",
   "execution_count": 14,
   "metadata": {},
   "outputs": [
    {
     "data": {
      "text/plain": [
       "array([30.00384338, 25.02556238, 30.56759672, 28.60703649, 27.94352423,\n",
       "       25.25628446, 23.00180827, 19.53598843, 11.52363685, 18.92026211])"
      ]
     },
     "execution_count": 14,
     "metadata": {},
     "output_type": "execute_result"
    }
   ],
   "source": [
    "(H @ H @ H @ H @ H @H @ H @ H @ H @ y)[0:10]"
   ]
  },
  {
   "cell_type": "markdown",
   "metadata": {},
   "source": [
    "Same thing! Once you project, you're there, you can't project to another different space. That's the idempotency of $H$.\n",
    "\n",
    "Let's make sure that it really does represent the column space of $X$. Let's try to project different columns of $X$:"
   ]
  },
  {
   "cell_type": "code",
   "execution_count": 15,
   "metadata": {},
   "outputs": [
    {
     "name": "stdout",
     "output_type": "stream",
     "text": [
      "[1. 1. 1. 1. 1.]\n",
      "[1. 1. 1. 1. 1.]\n"
     ]
    }
   ],
   "source": [
    "# H @ intercept\n",
    "print(X[0:5, 0])\n",
    "print((H @ X[:, 0])[0:5])"
   ]
  },
  {
   "cell_type": "code",
   "execution_count": 16,
   "metadata": {},
   "outputs": [
    {
     "name": "stdout",
     "output_type": "stream",
     "text": [
      "[0.00632 0.02731 0.02729 0.03237 0.06905]\n",
      "[0.00632 0.02731 0.02729 0.03237 0.06905]\n"
     ]
    }
   ],
   "source": [
    "# H @ CRIM\n",
    "print(X[0:5, 1])\n",
    "print((H @ X[:, 1])[0:5])"
   ]
  },
  {
   "cell_type": "code",
   "execution_count": 17,
   "metadata": {},
   "outputs": [
    {
     "name": "stdout",
     "output_type": "stream",
     "text": [
      "[18.  0.  0.  0.  0.]\n",
      "[ 1.80000000e+01 -3.86579657e-13  5.09148279e-13  3.55937502e-13\n",
      " -7.48734408e-13]\n"
     ]
    }
   ],
   "source": [
    "# H @ ZN\n",
    "print(X[0:5, 2])\n",
    "print((H @ X[:, 2])[0:5])"
   ]
  },
  {
   "cell_type": "code",
   "execution_count": 18,
   "metadata": {},
   "outputs": [
    {
     "name": "stdout",
     "output_type": "stream",
     "text": [
      "[2.31 7.07 7.07 2.18 2.18]\n",
      "[2.31 7.07 7.07 2.18 2.18]\n"
     ]
    }
   ],
   "source": [
    "# H @ INDUS\n",
    "print(X[0:5, 3])\n",
    "print((H @ X[:, 3])[0:5])"
   ]
  },
  {
   "cell_type": "code",
   "execution_count": 19,
   "metadata": {},
   "outputs": [
    {
     "name": "stdout",
     "output_type": "stream",
     "text": [
      "[0. 0. 0. 0. 0.]\n",
      "[-3.80251386e-15 -3.23092247e-15  2.74086309e-15  1.52568930e-15\n",
      " -5.36853548e-15]\n"
     ]
    }
   ],
   "source": [
    "# H @ CHAS\n",
    "print(X[0:5, 4])\n",
    "print((H @ X[:, 4])[0:5])"
   ]
  },
  {
   "cell_type": "markdown",
   "metadata": {},
   "source": [
    "We can calculate the residual error using the Hat matrix as well."
   ]
  },
  {
   "cell_type": "code",
   "execution_count": 23,
   "metadata": {},
   "outputs": [
    {
     "data": {
      "text/plain": [
       "array([-6.00384338, -3.42556238,  4.13240328,  4.79296351,  8.25647577])"
      ]
     },
     "execution_count": 23,
     "metadata": {},
     "output_type": "execute_result"
    }
   ],
   "source": [
    "e = y - yhat\n",
    "e[0:5]"
   ]
  },
  {
   "cell_type": "code",
   "execution_count": 24,
   "metadata": {},
   "outputs": [
    {
     "data": {
      "text/plain": [
       "array([-6.00384338, -3.42556238,  4.13240328,  4.79296351,  8.25647577])"
      ]
     },
     "execution_count": 24,
     "metadata": {},
     "output_type": "execute_result"
    }
   ],
   "source": [
    "I = np.identity(len(X))\n",
    "e = (I - H) @ y\n",
    "e[0:5]"
   ]
  },
  {
   "cell_type": "markdown",
   "metadata": {},
   "source": [
    "Let's do that projection over and over onto the complement of the column space of $X$:"
   ]
  },
  {
   "cell_type": "code",
   "execution_count": 25,
   "metadata": {},
   "outputs": [
    {
     "data": {
      "text/plain": [
       "array([-6.00384338, -3.42556238,  4.13240328,  4.79296351,  8.25647577])"
      ]
     },
     "execution_count": 25,
     "metadata": {},
     "output_type": "execute_result"
    }
   ],
   "source": [
    "((I - H) @  (I - H) @ (I - H) @ (I - H) @ (I - H) @ (I - H) @ y)[0:5]"
   ]
  }
 ],
 "metadata": {
  "kernelspec": {
   "display_name": "Python 3",
   "language": "python",
   "name": "python3"
  },
  "language_info": {
   "codemirror_mode": {
    "name": "ipython",
    "version": 3
   },
   "file_extension": ".py",
   "mimetype": "text/x-python",
   "name": "python",
   "nbconvert_exporter": "python",
   "pygments_lexer": "ipython3",
   "version": "3.8.5"
  }
 },
 "nbformat": 4,
 "nbformat_minor": 4
}
