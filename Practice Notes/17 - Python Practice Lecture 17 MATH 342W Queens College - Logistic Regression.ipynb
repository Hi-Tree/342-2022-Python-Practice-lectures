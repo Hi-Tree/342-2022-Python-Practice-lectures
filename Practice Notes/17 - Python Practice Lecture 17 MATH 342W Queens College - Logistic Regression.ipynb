{
 "cells": [
  {
   "cell_type": "markdown",
   "metadata": {},
   "source": [
    "# Python Practice Lecture 17 MATH 342W Queens College \n",
    "# - Logistic Regression\n",
    "## Author: Amir ElTabakh\n",
    "## Date: April 7, 2022\n",
    "\n",
    "## Agenda:\n",
    "* Logistic Regression for Binary Response\n",
    "* Probit and Cloglog probability estimation\n",
    "\n",
    "## Logistic Regression for Binary Response\n",
    "\n",
    "Let's clean up and load the cancer dataset, remove missing data, remove the ID column and add more appropriate feature names:"
   ]
  },
  {
   "cell_type": "code",
   "execution_count": 1,
   "metadata": {},
   "outputs": [],
   "source": [
    "# importing dependencies\n",
    "import numpy as np\n",
    "from sklearn.linear_model import LogisticRegression\n",
    "from sklearn.model_selection import train_test_split\n",
    "import pandas as pd\n",
    "import random\n",
    "\n",
    "# Data viz\n",
    "import matplotlib as mpl\n",
    "import matplotlib.pyplot as plt\n",
    "import seaborn as sns\n",
    "sns.set_palette(sns.color_palette(\"colorblind\")) # setting color palette\n",
    "sns.set(rc={\"figure.figsize\":(10, 6)}) #width=10, #height=6"
   ]
  },
  {
   "cell_type": "code",
   "execution_count": 2,
   "metadata": {},
   "outputs": [
    {
     "data": {
      "text/plain": [
       "dict_keys(['data', '__doc__', 'package', 'title', 'from_cache'])"
      ]
     },
     "execution_count": 2,
     "metadata": {},
     "output_type": "execute_result"
    }
   ],
   "source": [
    "# importing dataset\n",
    "import statsmodels.api as sm\n",
    "biopsy = sm.datasets.get_rdataset(\"biopsy\",\"MASS\")\n",
    "\n",
    "biopsy.keys()"
   ]
  },
  {
   "cell_type": "code",
   "execution_count": 3,
   "metadata": {
    "scrolled": true
   },
   "outputs": [
    {
     "name": "stdout",
     "output_type": "stream",
     "text": [
      ".. container::\n",
      "\n",
      "   ====== ===============\n",
      "   biopsy R Documentation\n",
      "   ====== ===============\n",
      "\n",
      "   .. rubric:: Biopsy Data on Breast Cancer Patients\n",
      "      :name: biopsy-data-on-breast-cancer-patients\n",
      "\n",
      "   .. rubric:: Description\n",
      "      :name: description\n",
      "\n",
      "   This breast cancer database was obtained from the University of\n",
      "   Wisconsin Hospitals, Madison from Dr. William H. Wolberg. He assessed\n",
      "   biopsies of breast tumours for 699 patients up to 15 July 1992; each\n",
      "   of nine attributes has been scored on a scale of 1 to 10, and the\n",
      "   outcome is also known. There are 699 rows and 11 columns.\n",
      "\n",
      "   .. rubric:: Usage\n",
      "      :name: usage\n",
      "\n",
      "   ::\n",
      "\n",
      "      biopsy\n",
      "\n",
      "   .. rubric:: Format\n",
      "      :name: format\n",
      "\n",
      "   This data frame contains the following columns:\n",
      "\n",
      "   ``ID``\n",
      "      sample code number (not unique).\n",
      "\n",
      "   ``V1``\n",
      "      clump thickness.\n",
      "\n",
      "   ``V2``\n",
      "      uniformity of cell size.\n",
      "\n",
      "   ``V3``\n",
      "      uniformity of cell shape.\n",
      "\n",
      "   ``V4``\n",
      "      marginal adhesion.\n",
      "\n",
      "   ``V5``\n",
      "      single epithelial cell size.\n",
      "\n",
      "   ``V6``\n",
      "      bare nuclei (16 values are missing).\n",
      "\n",
      "   ``V7``\n",
      "      bland chromatin.\n",
      "\n",
      "   ``V8``\n",
      "      normal nucleoli.\n",
      "\n",
      "   ``V9``\n",
      "      mitoses.\n",
      "\n",
      "   ``class``\n",
      "      ``\"benign\"`` or ``\"malignant\"``.\n",
      "\n",
      "   .. rubric:: Source\n",
      "      :name: source\n",
      "\n",
      "   P. M. Murphy and D. W. Aha (1992). UCI Repository of machine learning\n",
      "   databases. [Machine-readable data repository]. Irvine, CA: University\n",
      "   of California, Department of Information and Computer Science.\n",
      "\n",
      "   O. L. Mangasarian and W. H. Wolberg (1990) Cancer diagnosis via\n",
      "   linear programming. *SIAM News* **23**, pp 1 & 18.\n",
      "\n",
      "   William H. Wolberg and O.L. Mangasarian (1990) Multisurface method of\n",
      "   pattern separation for medical diagnosis applied to breast cytology.\n",
      "   *Proceedings of the National Academy of Sciences, U.S.A.* **87**, pp.\n",
      "   9193–9196.\n",
      "\n",
      "   O. L. Mangasarian, R. Setiono and W.H. Wolberg (1990) Pattern\n",
      "   recognition via linear programming: Theory and application to medical\n",
      "   diagnosis. In *Large-scale Numerical Optimization* eds Thomas F.\n",
      "   Coleman and Yuying Li, SIAM Publications, Philadelphia, pp 22–30.\n",
      "\n",
      "   K. P. Bennett and O. L. Mangasarian (1992) Robust linear programming\n",
      "   discrimination of two linearly inseparable sets. *Optimization\n",
      "   Methods and Software* **1**, pp. 23–34 (Gordon & Breach Science\n",
      "   Publishers).\n",
      "\n",
      "   .. rubric:: References\n",
      "      :name: references\n",
      "\n",
      "   Venables, W. N. and Ripley, B. D. (1999) *Modern Applied Statistics\n",
      "   with S-PLUS.* Third Edition. Springer.\n",
      "\n"
     ]
    }
   ],
   "source": [
    "print(biopsy.__doc__)"
   ]
  },
  {
   "cell_type": "markdown",
   "metadata": {},
   "source": [
    "The documentation states:\n",
    "```\n",
    "``V6``\n",
    "      bare nuclei (16 values are missing).\n",
    "```\n",
    "We'll have to deal with this missing data."
   ]
  },
  {
   "cell_type": "code",
   "execution_count": 4,
   "metadata": {},
   "outputs": [
    {
     "data": {
      "text/html": [
       "<div>\n",
       "<style scoped>\n",
       "    .dataframe tbody tr th:only-of-type {\n",
       "        vertical-align: middle;\n",
       "    }\n",
       "\n",
       "    .dataframe tbody tr th {\n",
       "        vertical-align: top;\n",
       "    }\n",
       "\n",
       "    .dataframe thead th {\n",
       "        text-align: right;\n",
       "    }\n",
       "</style>\n",
       "<table border=\"1\" class=\"dataframe\">\n",
       "  <thead>\n",
       "    <tr style=\"text-align: right;\">\n",
       "      <th></th>\n",
       "      <th>V1</th>\n",
       "      <th>V2</th>\n",
       "      <th>V3</th>\n",
       "      <th>V4</th>\n",
       "      <th>V5</th>\n",
       "      <th>V6</th>\n",
       "      <th>V7</th>\n",
       "      <th>V8</th>\n",
       "      <th>V9</th>\n",
       "      <th>class</th>\n",
       "    </tr>\n",
       "  </thead>\n",
       "  <tbody>\n",
       "    <tr>\n",
       "      <th>0</th>\n",
       "      <td>5</td>\n",
       "      <td>1</td>\n",
       "      <td>1</td>\n",
       "      <td>1</td>\n",
       "      <td>2</td>\n",
       "      <td>1.0</td>\n",
       "      <td>3</td>\n",
       "      <td>1</td>\n",
       "      <td>1</td>\n",
       "      <td>benign</td>\n",
       "    </tr>\n",
       "    <tr>\n",
       "      <th>1</th>\n",
       "      <td>5</td>\n",
       "      <td>4</td>\n",
       "      <td>4</td>\n",
       "      <td>5</td>\n",
       "      <td>7</td>\n",
       "      <td>10.0</td>\n",
       "      <td>3</td>\n",
       "      <td>2</td>\n",
       "      <td>1</td>\n",
       "      <td>benign</td>\n",
       "    </tr>\n",
       "    <tr>\n",
       "      <th>2</th>\n",
       "      <td>3</td>\n",
       "      <td>1</td>\n",
       "      <td>1</td>\n",
       "      <td>1</td>\n",
       "      <td>2</td>\n",
       "      <td>2.0</td>\n",
       "      <td>3</td>\n",
       "      <td>1</td>\n",
       "      <td>1</td>\n",
       "      <td>benign</td>\n",
       "    </tr>\n",
       "    <tr>\n",
       "      <th>3</th>\n",
       "      <td>6</td>\n",
       "      <td>8</td>\n",
       "      <td>8</td>\n",
       "      <td>1</td>\n",
       "      <td>3</td>\n",
       "      <td>4.0</td>\n",
       "      <td>3</td>\n",
       "      <td>7</td>\n",
       "      <td>1</td>\n",
       "      <td>benign</td>\n",
       "    </tr>\n",
       "    <tr>\n",
       "      <th>4</th>\n",
       "      <td>4</td>\n",
       "      <td>1</td>\n",
       "      <td>1</td>\n",
       "      <td>3</td>\n",
       "      <td>2</td>\n",
       "      <td>1.0</td>\n",
       "      <td>3</td>\n",
       "      <td>1</td>\n",
       "      <td>1</td>\n",
       "      <td>benign</td>\n",
       "    </tr>\n",
       "    <tr>\n",
       "      <th>...</th>\n",
       "      <td>...</td>\n",
       "      <td>...</td>\n",
       "      <td>...</td>\n",
       "      <td>...</td>\n",
       "      <td>...</td>\n",
       "      <td>...</td>\n",
       "      <td>...</td>\n",
       "      <td>...</td>\n",
       "      <td>...</td>\n",
       "      <td>...</td>\n",
       "    </tr>\n",
       "    <tr>\n",
       "      <th>694</th>\n",
       "      <td>3</td>\n",
       "      <td>1</td>\n",
       "      <td>1</td>\n",
       "      <td>1</td>\n",
       "      <td>3</td>\n",
       "      <td>2.0</td>\n",
       "      <td>1</td>\n",
       "      <td>1</td>\n",
       "      <td>1</td>\n",
       "      <td>benign</td>\n",
       "    </tr>\n",
       "    <tr>\n",
       "      <th>695</th>\n",
       "      <td>2</td>\n",
       "      <td>1</td>\n",
       "      <td>1</td>\n",
       "      <td>1</td>\n",
       "      <td>2</td>\n",
       "      <td>1.0</td>\n",
       "      <td>1</td>\n",
       "      <td>1</td>\n",
       "      <td>1</td>\n",
       "      <td>benign</td>\n",
       "    </tr>\n",
       "    <tr>\n",
       "      <th>696</th>\n",
       "      <td>5</td>\n",
       "      <td>10</td>\n",
       "      <td>10</td>\n",
       "      <td>3</td>\n",
       "      <td>7</td>\n",
       "      <td>3.0</td>\n",
       "      <td>8</td>\n",
       "      <td>10</td>\n",
       "      <td>2</td>\n",
       "      <td>malignant</td>\n",
       "    </tr>\n",
       "    <tr>\n",
       "      <th>697</th>\n",
       "      <td>4</td>\n",
       "      <td>8</td>\n",
       "      <td>6</td>\n",
       "      <td>4</td>\n",
       "      <td>3</td>\n",
       "      <td>4.0</td>\n",
       "      <td>10</td>\n",
       "      <td>6</td>\n",
       "      <td>1</td>\n",
       "      <td>malignant</td>\n",
       "    </tr>\n",
       "    <tr>\n",
       "      <th>698</th>\n",
       "      <td>4</td>\n",
       "      <td>8</td>\n",
       "      <td>8</td>\n",
       "      <td>5</td>\n",
       "      <td>4</td>\n",
       "      <td>5.0</td>\n",
       "      <td>10</td>\n",
       "      <td>4</td>\n",
       "      <td>1</td>\n",
       "      <td>malignant</td>\n",
       "    </tr>\n",
       "  </tbody>\n",
       "</table>\n",
       "<p>699 rows × 10 columns</p>\n",
       "</div>"
      ],
      "text/plain": [
       "     V1  V2  V3  V4  V5    V6  V7  V8  V9      class\n",
       "0     5   1   1   1   2   1.0   3   1   1     benign\n",
       "1     5   4   4   5   7  10.0   3   2   1     benign\n",
       "2     3   1   1   1   2   2.0   3   1   1     benign\n",
       "3     6   8   8   1   3   4.0   3   7   1     benign\n",
       "4     4   1   1   3   2   1.0   3   1   1     benign\n",
       "..   ..  ..  ..  ..  ..   ...  ..  ..  ..        ...\n",
       "694   3   1   1   1   3   2.0   1   1   1     benign\n",
       "695   2   1   1   1   2   1.0   1   1   1     benign\n",
       "696   5  10  10   3   7   3.0   8  10   2  malignant\n",
       "697   4   8   6   4   3   4.0  10   6   1  malignant\n",
       "698   4   8   8   5   4   5.0  10   4   1  malignant\n",
       "\n",
       "[699 rows x 10 columns]"
      ]
     },
     "execution_count": 4,
     "metadata": {},
     "output_type": "execute_result"
    }
   ],
   "source": [
    "# snapshot\n",
    "biopsy_df = biopsy.data.iloc[:, 1:] # remove ID column\n",
    "biopsy_df"
   ]
  },
  {
   "cell_type": "markdown",
   "metadata": {},
   "source": [
    "$trace(\\mathcal{H}) = trace(V^{-1} \\cdot D \\cdot V) = trace(V^{-1} \\cdot V \\cdot D) = trace(D) = \\Sigma\\ \\lambda_i$"
   ]
  },
  {
   "cell_type": "markdown",
   "metadata": {},
   "source": [
    "Let's rename the columns."
   ]
  },
  {
   "cell_type": "code",
   "execution_count": 5,
   "metadata": {},
   "outputs": [
    {
     "data": {
      "text/html": [
       "<div>\n",
       "<style scoped>\n",
       "    .dataframe tbody tr th:only-of-type {\n",
       "        vertical-align: middle;\n",
       "    }\n",
       "\n",
       "    .dataframe tbody tr th {\n",
       "        vertical-align: top;\n",
       "    }\n",
       "\n",
       "    .dataframe thead th {\n",
       "        text-align: right;\n",
       "    }\n",
       "</style>\n",
       "<table border=\"1\" class=\"dataframe\">\n",
       "  <thead>\n",
       "    <tr style=\"text-align: right;\">\n",
       "      <th></th>\n",
       "      <th>clump_thickness</th>\n",
       "      <th>cell_size_uniformity</th>\n",
       "      <th>cell_shape_uniformity</th>\n",
       "      <th>marginal_adhesion</th>\n",
       "      <th>epithelial_cell_size</th>\n",
       "      <th>bare_nuclei</th>\n",
       "      <th>bland_chromatin</th>\n",
       "      <th>normal_nucleoli</th>\n",
       "      <th>mitoses</th>\n",
       "      <th>class</th>\n",
       "    </tr>\n",
       "  </thead>\n",
       "  <tbody>\n",
       "    <tr>\n",
       "      <th>0</th>\n",
       "      <td>5</td>\n",
       "      <td>1</td>\n",
       "      <td>1</td>\n",
       "      <td>1</td>\n",
       "      <td>2</td>\n",
       "      <td>1.0</td>\n",
       "      <td>3</td>\n",
       "      <td>1</td>\n",
       "      <td>1</td>\n",
       "      <td>benign</td>\n",
       "    </tr>\n",
       "    <tr>\n",
       "      <th>1</th>\n",
       "      <td>5</td>\n",
       "      <td>4</td>\n",
       "      <td>4</td>\n",
       "      <td>5</td>\n",
       "      <td>7</td>\n",
       "      <td>10.0</td>\n",
       "      <td>3</td>\n",
       "      <td>2</td>\n",
       "      <td>1</td>\n",
       "      <td>benign</td>\n",
       "    </tr>\n",
       "    <tr>\n",
       "      <th>2</th>\n",
       "      <td>3</td>\n",
       "      <td>1</td>\n",
       "      <td>1</td>\n",
       "      <td>1</td>\n",
       "      <td>2</td>\n",
       "      <td>2.0</td>\n",
       "      <td>3</td>\n",
       "      <td>1</td>\n",
       "      <td>1</td>\n",
       "      <td>benign</td>\n",
       "    </tr>\n",
       "    <tr>\n",
       "      <th>3</th>\n",
       "      <td>6</td>\n",
       "      <td>8</td>\n",
       "      <td>8</td>\n",
       "      <td>1</td>\n",
       "      <td>3</td>\n",
       "      <td>4.0</td>\n",
       "      <td>3</td>\n",
       "      <td>7</td>\n",
       "      <td>1</td>\n",
       "      <td>benign</td>\n",
       "    </tr>\n",
       "    <tr>\n",
       "      <th>4</th>\n",
       "      <td>4</td>\n",
       "      <td>1</td>\n",
       "      <td>1</td>\n",
       "      <td>3</td>\n",
       "      <td>2</td>\n",
       "      <td>1.0</td>\n",
       "      <td>3</td>\n",
       "      <td>1</td>\n",
       "      <td>1</td>\n",
       "      <td>benign</td>\n",
       "    </tr>\n",
       "    <tr>\n",
       "      <th>...</th>\n",
       "      <td>...</td>\n",
       "      <td>...</td>\n",
       "      <td>...</td>\n",
       "      <td>...</td>\n",
       "      <td>...</td>\n",
       "      <td>...</td>\n",
       "      <td>...</td>\n",
       "      <td>...</td>\n",
       "      <td>...</td>\n",
       "      <td>...</td>\n",
       "    </tr>\n",
       "    <tr>\n",
       "      <th>694</th>\n",
       "      <td>3</td>\n",
       "      <td>1</td>\n",
       "      <td>1</td>\n",
       "      <td>1</td>\n",
       "      <td>3</td>\n",
       "      <td>2.0</td>\n",
       "      <td>1</td>\n",
       "      <td>1</td>\n",
       "      <td>1</td>\n",
       "      <td>benign</td>\n",
       "    </tr>\n",
       "    <tr>\n",
       "      <th>695</th>\n",
       "      <td>2</td>\n",
       "      <td>1</td>\n",
       "      <td>1</td>\n",
       "      <td>1</td>\n",
       "      <td>2</td>\n",
       "      <td>1.0</td>\n",
       "      <td>1</td>\n",
       "      <td>1</td>\n",
       "      <td>1</td>\n",
       "      <td>benign</td>\n",
       "    </tr>\n",
       "    <tr>\n",
       "      <th>696</th>\n",
       "      <td>5</td>\n",
       "      <td>10</td>\n",
       "      <td>10</td>\n",
       "      <td>3</td>\n",
       "      <td>7</td>\n",
       "      <td>3.0</td>\n",
       "      <td>8</td>\n",
       "      <td>10</td>\n",
       "      <td>2</td>\n",
       "      <td>malignant</td>\n",
       "    </tr>\n",
       "    <tr>\n",
       "      <th>697</th>\n",
       "      <td>4</td>\n",
       "      <td>8</td>\n",
       "      <td>6</td>\n",
       "      <td>4</td>\n",
       "      <td>3</td>\n",
       "      <td>4.0</td>\n",
       "      <td>10</td>\n",
       "      <td>6</td>\n",
       "      <td>1</td>\n",
       "      <td>malignant</td>\n",
       "    </tr>\n",
       "    <tr>\n",
       "      <th>698</th>\n",
       "      <td>4</td>\n",
       "      <td>8</td>\n",
       "      <td>8</td>\n",
       "      <td>5</td>\n",
       "      <td>4</td>\n",
       "      <td>5.0</td>\n",
       "      <td>10</td>\n",
       "      <td>4</td>\n",
       "      <td>1</td>\n",
       "      <td>malignant</td>\n",
       "    </tr>\n",
       "  </tbody>\n",
       "</table>\n",
       "<p>699 rows × 10 columns</p>\n",
       "</div>"
      ],
      "text/plain": [
       "     clump_thickness  cell_size_uniformity  cell_shape_uniformity  \\\n",
       "0                  5                     1                      1   \n",
       "1                  5                     4                      4   \n",
       "2                  3                     1                      1   \n",
       "3                  6                     8                      8   \n",
       "4                  4                     1                      1   \n",
       "..               ...                   ...                    ...   \n",
       "694                3                     1                      1   \n",
       "695                2                     1                      1   \n",
       "696                5                    10                     10   \n",
       "697                4                     8                      6   \n",
       "698                4                     8                      8   \n",
       "\n",
       "     marginal_adhesion  epithelial_cell_size  bare_nuclei  bland_chromatin  \\\n",
       "0                    1                     2          1.0                3   \n",
       "1                    5                     7         10.0                3   \n",
       "2                    1                     2          2.0                3   \n",
       "3                    1                     3          4.0                3   \n",
       "4                    3                     2          1.0                3   \n",
       "..                 ...                   ...          ...              ...   \n",
       "694                  1                     3          2.0                1   \n",
       "695                  1                     2          1.0                1   \n",
       "696                  3                     7          3.0                8   \n",
       "697                  4                     3          4.0               10   \n",
       "698                  5                     4          5.0               10   \n",
       "\n",
       "     normal_nucleoli  mitoses      class  \n",
       "0                  1        1     benign  \n",
       "1                  2        1     benign  \n",
       "2                  1        1     benign  \n",
       "3                  7        1     benign  \n",
       "4                  1        1     benign  \n",
       "..               ...      ...        ...  \n",
       "694                1        1     benign  \n",
       "695                1        1     benign  \n",
       "696               10        2  malignant  \n",
       "697                6        1  malignant  \n",
       "698                4        1  malignant  \n",
       "\n",
       "[699 rows x 10 columns]"
      ]
     },
     "execution_count": 5,
     "metadata": {},
     "output_type": "execute_result"
    }
   ],
   "source": [
    "biopsy_df.columns = [\"clump_thickness\",\n",
    "                \"cell_size_uniformity\",\n",
    "                \"cell_shape_uniformity\",\n",
    "                \"marginal_adhesion\",\n",
    "                \"epithelial_cell_size\",\n",
    "                \"bare_nuclei\",\n",
    "                \"bland_chromatin\",\n",
    "                \"normal_nucleoli\",\n",
    "                \"mitoses\",\n",
    "                \"class\"\n",
    "                    ]\n",
    "\n",
    "biopsy_df"
   ]
  },
  {
   "cell_type": "markdown",
   "metadata": {},
   "source": [
    "The data may contain some rows with missing values. To eliminate such rows, use the following command."
   ]
  },
  {
   "cell_type": "code",
   "execution_count": 6,
   "metadata": {},
   "outputs": [
    {
     "name": "stdout",
     "output_type": "stream",
     "text": [
      "683\n"
     ]
    }
   ],
   "source": [
    "# removing rows with missing values\n",
    "biopsy_df = biopsy_df.dropna()\n",
    "print(len(biopsy_df))"
   ]
  },
  {
   "cell_type": "markdown",
   "metadata": {},
   "source": [
    "We dropped a number of rows, lets reset the index to avoid any bugs."
   ]
  },
  {
   "cell_type": "code",
   "execution_count": 7,
   "metadata": {},
   "outputs": [],
   "source": [
    "# reset index\n",
    "biopsy_df = biopsy_df.reset_index(drop=True)"
   ]
  },
  {
   "cell_type": "markdown",
   "metadata": {},
   "source": [
    "We can either estimate probability of the biopsy tissue being benign (this would mean y = 1 is the benign category level) or estimate the probability of the biopsy tissue being malignant (this would mean y = 1 is the malignant category level).\n",
    "\n",
    "Let's go with the latter. To make the encoding explicitly 0/1, we can cast the factor to numeric or we can rely on R's default factor representation i.e. that the first level is 0 and the second level is 1. Here, we can use this default without reordering since the levels above show that benign is first and thus  = 0 and malignant is second and thus = 1 (via coincidence of alphabetical order)."
   ]
  },
  {
   "cell_type": "code",
   "execution_count": 8,
   "metadata": {},
   "outputs": [
    {
     "data": {
      "text/html": [
       "<div>\n",
       "<style scoped>\n",
       "    .dataframe tbody tr th:only-of-type {\n",
       "        vertical-align: middle;\n",
       "    }\n",
       "\n",
       "    .dataframe tbody tr th {\n",
       "        vertical-align: top;\n",
       "    }\n",
       "\n",
       "    .dataframe thead th {\n",
       "        text-align: right;\n",
       "    }\n",
       "</style>\n",
       "<table border=\"1\" class=\"dataframe\">\n",
       "  <thead>\n",
       "    <tr style=\"text-align: right;\">\n",
       "      <th></th>\n",
       "      <th>clump_thickness</th>\n",
       "      <th>cell_size_uniformity</th>\n",
       "      <th>cell_shape_uniformity</th>\n",
       "      <th>marginal_adhesion</th>\n",
       "      <th>epithelial_cell_size</th>\n",
       "      <th>bare_nuclei</th>\n",
       "      <th>bland_chromatin</th>\n",
       "      <th>normal_nucleoli</th>\n",
       "      <th>mitoses</th>\n",
       "      <th>class</th>\n",
       "    </tr>\n",
       "  </thead>\n",
       "  <tbody>\n",
       "    <tr>\n",
       "      <th>0</th>\n",
       "      <td>5</td>\n",
       "      <td>1</td>\n",
       "      <td>1</td>\n",
       "      <td>1</td>\n",
       "      <td>2</td>\n",
       "      <td>1.0</td>\n",
       "      <td>3</td>\n",
       "      <td>1</td>\n",
       "      <td>1</td>\n",
       "      <td>0</td>\n",
       "    </tr>\n",
       "    <tr>\n",
       "      <th>1</th>\n",
       "      <td>5</td>\n",
       "      <td>4</td>\n",
       "      <td>4</td>\n",
       "      <td>5</td>\n",
       "      <td>7</td>\n",
       "      <td>10.0</td>\n",
       "      <td>3</td>\n",
       "      <td>2</td>\n",
       "      <td>1</td>\n",
       "      <td>0</td>\n",
       "    </tr>\n",
       "    <tr>\n",
       "      <th>2</th>\n",
       "      <td>3</td>\n",
       "      <td>1</td>\n",
       "      <td>1</td>\n",
       "      <td>1</td>\n",
       "      <td>2</td>\n",
       "      <td>2.0</td>\n",
       "      <td>3</td>\n",
       "      <td>1</td>\n",
       "      <td>1</td>\n",
       "      <td>0</td>\n",
       "    </tr>\n",
       "    <tr>\n",
       "      <th>3</th>\n",
       "      <td>6</td>\n",
       "      <td>8</td>\n",
       "      <td>8</td>\n",
       "      <td>1</td>\n",
       "      <td>3</td>\n",
       "      <td>4.0</td>\n",
       "      <td>3</td>\n",
       "      <td>7</td>\n",
       "      <td>1</td>\n",
       "      <td>0</td>\n",
       "    </tr>\n",
       "    <tr>\n",
       "      <th>4</th>\n",
       "      <td>4</td>\n",
       "      <td>1</td>\n",
       "      <td>1</td>\n",
       "      <td>3</td>\n",
       "      <td>2</td>\n",
       "      <td>1.0</td>\n",
       "      <td>3</td>\n",
       "      <td>1</td>\n",
       "      <td>1</td>\n",
       "      <td>0</td>\n",
       "    </tr>\n",
       "    <tr>\n",
       "      <th>...</th>\n",
       "      <td>...</td>\n",
       "      <td>...</td>\n",
       "      <td>...</td>\n",
       "      <td>...</td>\n",
       "      <td>...</td>\n",
       "      <td>...</td>\n",
       "      <td>...</td>\n",
       "      <td>...</td>\n",
       "      <td>...</td>\n",
       "      <td>...</td>\n",
       "    </tr>\n",
       "    <tr>\n",
       "      <th>678</th>\n",
       "      <td>3</td>\n",
       "      <td>1</td>\n",
       "      <td>1</td>\n",
       "      <td>1</td>\n",
       "      <td>3</td>\n",
       "      <td>2.0</td>\n",
       "      <td>1</td>\n",
       "      <td>1</td>\n",
       "      <td>1</td>\n",
       "      <td>0</td>\n",
       "    </tr>\n",
       "    <tr>\n",
       "      <th>679</th>\n",
       "      <td>2</td>\n",
       "      <td>1</td>\n",
       "      <td>1</td>\n",
       "      <td>1</td>\n",
       "      <td>2</td>\n",
       "      <td>1.0</td>\n",
       "      <td>1</td>\n",
       "      <td>1</td>\n",
       "      <td>1</td>\n",
       "      <td>0</td>\n",
       "    </tr>\n",
       "    <tr>\n",
       "      <th>680</th>\n",
       "      <td>5</td>\n",
       "      <td>10</td>\n",
       "      <td>10</td>\n",
       "      <td>3</td>\n",
       "      <td>7</td>\n",
       "      <td>3.0</td>\n",
       "      <td>8</td>\n",
       "      <td>10</td>\n",
       "      <td>2</td>\n",
       "      <td>1</td>\n",
       "    </tr>\n",
       "    <tr>\n",
       "      <th>681</th>\n",
       "      <td>4</td>\n",
       "      <td>8</td>\n",
       "      <td>6</td>\n",
       "      <td>4</td>\n",
       "      <td>3</td>\n",
       "      <td>4.0</td>\n",
       "      <td>10</td>\n",
       "      <td>6</td>\n",
       "      <td>1</td>\n",
       "      <td>1</td>\n",
       "    </tr>\n",
       "    <tr>\n",
       "      <th>682</th>\n",
       "      <td>4</td>\n",
       "      <td>8</td>\n",
       "      <td>8</td>\n",
       "      <td>5</td>\n",
       "      <td>4</td>\n",
       "      <td>5.0</td>\n",
       "      <td>10</td>\n",
       "      <td>4</td>\n",
       "      <td>1</td>\n",
       "      <td>1</td>\n",
       "    </tr>\n",
       "  </tbody>\n",
       "</table>\n",
       "<p>683 rows × 10 columns</p>\n",
       "</div>"
      ],
      "text/plain": [
       "     clump_thickness  cell_size_uniformity  cell_shape_uniformity  \\\n",
       "0                  5                     1                      1   \n",
       "1                  5                     4                      4   \n",
       "2                  3                     1                      1   \n",
       "3                  6                     8                      8   \n",
       "4                  4                     1                      1   \n",
       "..               ...                   ...                    ...   \n",
       "678                3                     1                      1   \n",
       "679                2                     1                      1   \n",
       "680                5                    10                     10   \n",
       "681                4                     8                      6   \n",
       "682                4                     8                      8   \n",
       "\n",
       "     marginal_adhesion  epithelial_cell_size  bare_nuclei  bland_chromatin  \\\n",
       "0                    1                     2          1.0                3   \n",
       "1                    5                     7         10.0                3   \n",
       "2                    1                     2          2.0                3   \n",
       "3                    1                     3          4.0                3   \n",
       "4                    3                     2          1.0                3   \n",
       "..                 ...                   ...          ...              ...   \n",
       "678                  1                     3          2.0                1   \n",
       "679                  1                     2          1.0                1   \n",
       "680                  3                     7          3.0                8   \n",
       "681                  4                     3          4.0               10   \n",
       "682                  5                     4          5.0               10   \n",
       "\n",
       "     normal_nucleoli  mitoses  class  \n",
       "0                  1        1      0  \n",
       "1                  2        1      0  \n",
       "2                  1        1      0  \n",
       "3                  7        1      0  \n",
       "4                  1        1      0  \n",
       "..               ...      ...    ...  \n",
       "678                1        1      0  \n",
       "679                1        1      0  \n",
       "680               10        2      1  \n",
       "681                6        1      1  \n",
       "682                4        1      1  \n",
       "\n",
       "[683 rows x 10 columns]"
      ]
     },
     "execution_count": 8,
     "metadata": {},
     "output_type": "execute_result"
    }
   ],
   "source": [
    "biopsy_df[\"class\"] = [0 if biopsy_df[\"class\"][i] == 'benign' else 1 for i in range(len(biopsy_df))]\n",
    "biopsy_df"
   ]
  },
  {
   "cell_type": "markdown",
   "metadata": {},
   "source": [
    "Now let's split into training and testing subsets for experiments!"
   ]
  },
  {
   "cell_type": "code",
   "execution_count": 9,
   "metadata": {
    "scrolled": true
   },
   "outputs": [
    {
     "name": "stdout",
     "output_type": "stream",
     "text": [
      "Help on function train_test_split in module sklearn.model_selection._split:\n",
      "\n",
      "train_test_split(*arrays, test_size=None, train_size=None, random_state=None, shuffle=True, stratify=None)\n",
      "    Split arrays or matrices into random train and test subsets.\n",
      "    \n",
      "    Quick utility that wraps input validation and\n",
      "    ``next(ShuffleSplit().split(X, y))`` and application to input data\n",
      "    into a single call for splitting (and optionally subsampling) data in a\n",
      "    oneliner.\n",
      "    \n",
      "    Read more in the :ref:`User Guide <cross_validation>`.\n",
      "    \n",
      "    Parameters\n",
      "    ----------\n",
      "    *arrays : sequence of indexables with same length / shape[0]\n",
      "        Allowed inputs are lists, numpy arrays, scipy-sparse\n",
      "        matrices or pandas dataframes.\n",
      "    \n",
      "    test_size : float or int, default=None\n",
      "        If float, should be between 0.0 and 1.0 and represent the proportion\n",
      "        of the dataset to include in the test split. If int, represents the\n",
      "        absolute number of test samples. If None, the value is set to the\n",
      "        complement of the train size. If ``train_size`` is also None, it will\n",
      "        be set to 0.25.\n",
      "    \n",
      "    train_size : float or int, default=None\n",
      "        If float, should be between 0.0 and 1.0 and represent the\n",
      "        proportion of the dataset to include in the train split. If\n",
      "        int, represents the absolute number of train samples. If None,\n",
      "        the value is automatically set to the complement of the test size.\n",
      "    \n",
      "    random_state : int, RandomState instance or None, default=None\n",
      "        Controls the shuffling applied to the data before applying the split.\n",
      "        Pass an int for reproducible output across multiple function calls.\n",
      "        See :term:`Glossary <random_state>`.\n",
      "    \n",
      "    shuffle : bool, default=True\n",
      "        Whether or not to shuffle the data before splitting. If shuffle=False\n",
      "        then stratify must be None.\n",
      "    \n",
      "    stratify : array-like, default=None\n",
      "        If not None, data is split in a stratified fashion, using this as\n",
      "        the class labels.\n",
      "        Read more in the :ref:`User Guide <stratification>`.\n",
      "    \n",
      "    Returns\n",
      "    -------\n",
      "    splitting : list, length=2 * len(arrays)\n",
      "        List containing train-test split of inputs.\n",
      "    \n",
      "        .. versionadded:: 0.16\n",
      "            If the input is sparse, the output will be a\n",
      "            ``scipy.sparse.csr_matrix``. Else, output type is the same as the\n",
      "            input type.\n",
      "    \n",
      "    Examples\n",
      "    --------\n",
      "    >>> import numpy as np\n",
      "    >>> from sklearn.model_selection import train_test_split\n",
      "    >>> X, y = np.arange(10).reshape((5, 2)), range(5)\n",
      "    >>> X\n",
      "    array([[0, 1],\n",
      "           [2, 3],\n",
      "           [4, 5],\n",
      "           [6, 7],\n",
      "           [8, 9]])\n",
      "    >>> list(y)\n",
      "    [0, 1, 2, 3, 4]\n",
      "    \n",
      "    >>> X_train, X_test, y_train, y_test = train_test_split(\n",
      "    ...     X, y, test_size=0.33, random_state=42)\n",
      "    ...\n",
      "    >>> X_train\n",
      "    array([[4, 5],\n",
      "           [0, 1],\n",
      "           [6, 7]])\n",
      "    >>> y_train\n",
      "    [2, 0, 3]\n",
      "    >>> X_test\n",
      "    array([[2, 3],\n",
      "           [8, 9]])\n",
      "    >>> y_test\n",
      "    [1, 4]\n",
      "    \n",
      "    >>> train_test_split(y, shuffle=False)\n",
      "    [[0, 1, 2], [3, 4]]\n",
      "\n"
     ]
    }
   ],
   "source": [
    "# check out the documentation\n",
    "help(train_test_split)"
   ]
  },
  {
   "cell_type": "code",
   "execution_count": 10,
   "metadata": {},
   "outputs": [
    {
     "name": "stdout",
     "output_type": "stream",
     "text": [
      "(512, 10)\n",
      "(171, 10)\n",
      "(512,)\n",
      "(171,)\n"
     ]
    }
   ],
   "source": [
    "# defining X and y\n",
    "X = biopsy_df.iloc[:, :-1]\n",
    "y = biopsy_df.iloc[:, -1]\n",
    "\n",
    "# adding 1 vector to X\n",
    "X.insert(0, \"one_vec\", 1)\n",
    "\n",
    "# train test split\n",
    "X_train, X_test, y_train, y_test = train_test_split(X, y, random_state= 1984)\n",
    "\n",
    "print(X_train.shape)\n",
    "print(X_test.shape)\n",
    "print(y_train.shape)\n",
    "print(y_test.shape)"
   ]
  },
  {
   "cell_type": "markdown",
   "metadata": {},
   "source": [
    "Scikit learn does not have the link functions relevant to this class (they have others, feel free to take a [look](https://scikit-learn.org/stable/modules/generated/sklearn.linear_model.LogisticRegression.html?highlight=logistic%20regression#sklearn.linear_model.LogisticRegression).\n",
    "\n",
    "We'll be using our handy dandy `statsmodel` library."
   ]
  },
  {
   "cell_type": "code",
   "execution_count": 11,
   "metadata": {},
   "outputs": [],
   "source": [
    "# Documentation\n",
    "#help(sm.Logit)"
   ]
  },
  {
   "cell_type": "code",
   "execution_count": 12,
   "metadata": {},
   "outputs": [
    {
     "name": "stdout",
     "output_type": "stream",
     "text": [
      "Optimization terminated successfully.\n",
      "         Current function value: 0.077964\n",
      "         Iterations 10\n"
     ]
    },
    {
     "data": {
      "text/html": [
       "<table class=\"simpletable\">\n",
       "<caption>Logit Regression Results</caption>\n",
       "<tr>\n",
       "  <th>Dep. Variable:</th>         <td>class</td>      <th>  No. Observations:  </th>   <td>   512</td>  \n",
       "</tr>\n",
       "<tr>\n",
       "  <th>Model:</th>                 <td>Logit</td>      <th>  Df Residuals:      </th>   <td>   502</td>  \n",
       "</tr>\n",
       "<tr>\n",
       "  <th>Method:</th>                 <td>MLE</td>       <th>  Df Model:          </th>   <td>     9</td>  \n",
       "</tr>\n",
       "<tr>\n",
       "  <th>Date:</th>            <td>Sat, 29 Jan 2022</td> <th>  Pseudo R-squ.:     </th>   <td>0.8822</td>  \n",
       "</tr>\n",
       "<tr>\n",
       "  <th>Time:</th>                <td>13:53:21</td>     <th>  Log-Likelihood:    </th>  <td> -39.918</td> \n",
       "</tr>\n",
       "<tr>\n",
       "  <th>converged:</th>             <td>True</td>       <th>  LL-Null:           </th>  <td> -338.72</td> \n",
       "</tr>\n",
       "<tr>\n",
       "  <th>Covariance Type:</th>     <td>nonrobust</td>    <th>  LLR p-value:       </th> <td>6.838e-123</td>\n",
       "</tr>\n",
       "</table>\n",
       "<table class=\"simpletable\">\n",
       "<tr>\n",
       "            <td></td>               <th>coef</th>     <th>std err</th>      <th>z</th>      <th>P>|z|</th>  <th>[0.025</th>    <th>0.975]</th>  \n",
       "</tr>\n",
       "<tr>\n",
       "  <th>one_vec</th>               <td>   -9.9954</td> <td>    1.366</td> <td>   -7.317</td> <td> 0.000</td> <td>  -12.673</td> <td>   -7.318</td>\n",
       "</tr>\n",
       "<tr>\n",
       "  <th>clump_thickness</th>       <td>    0.5827</td> <td>    0.172</td> <td>    3.378</td> <td> 0.001</td> <td>    0.245</td> <td>    0.921</td>\n",
       "</tr>\n",
       "<tr>\n",
       "  <th>cell_size_uniformity</th>  <td>   -0.1183</td> <td>    0.240</td> <td>   -0.493</td> <td> 0.622</td> <td>   -0.589</td> <td>    0.352</td>\n",
       "</tr>\n",
       "<tr>\n",
       "  <th>cell_shape_uniformity</th> <td>    0.3575</td> <td>    0.259</td> <td>    1.380</td> <td> 0.168</td> <td>   -0.150</td> <td>    0.865</td>\n",
       "</tr>\n",
       "<tr>\n",
       "  <th>marginal_adhesion</th>     <td>    0.4915</td> <td>    0.167</td> <td>    2.943</td> <td> 0.003</td> <td>    0.164</td> <td>    0.819</td>\n",
       "</tr>\n",
       "<tr>\n",
       "  <th>epithelial_cell_size</th>  <td>    0.1303</td> <td>    0.191</td> <td>    0.684</td> <td> 0.494</td> <td>   -0.243</td> <td>    0.504</td>\n",
       "</tr>\n",
       "<tr>\n",
       "  <th>bare_nuclei</th>           <td>    0.3978</td> <td>    0.115</td> <td>    3.464</td> <td> 0.001</td> <td>    0.173</td> <td>    0.623</td>\n",
       "</tr>\n",
       "<tr>\n",
       "  <th>bland_chromatin</th>       <td>    0.3773</td> <td>    0.181</td> <td>    2.086</td> <td> 0.037</td> <td>    0.023</td> <td>    0.732</td>\n",
       "</tr>\n",
       "<tr>\n",
       "  <th>normal_nucleoli</th>       <td>    0.2011</td> <td>    0.136</td> <td>    1.481</td> <td> 0.139</td> <td>   -0.065</td> <td>    0.467</td>\n",
       "</tr>\n",
       "<tr>\n",
       "  <th>mitoses</th>               <td>    0.4661</td> <td>    0.426</td> <td>    1.095</td> <td> 0.273</td> <td>   -0.368</td> <td>    1.300</td>\n",
       "</tr>\n",
       "</table><br/><br/>Possibly complete quasi-separation: A fraction 0.10 of observations can be<br/>perfectly predicted. This might indicate that there is complete<br/>quasi-separation. In this case some parameters will not be identified."
      ],
      "text/plain": [
       "<class 'statsmodels.iolib.summary.Summary'>\n",
       "\"\"\"\n",
       "                           Logit Regression Results                           \n",
       "==============================================================================\n",
       "Dep. Variable:                  class   No. Observations:                  512\n",
       "Model:                          Logit   Df Residuals:                      502\n",
       "Method:                           MLE   Df Model:                            9\n",
       "Date:                Sat, 29 Jan 2022   Pseudo R-squ.:                  0.8822\n",
       "Time:                        13:53:21   Log-Likelihood:                -39.918\n",
       "converged:                       True   LL-Null:                       -338.72\n",
       "Covariance Type:            nonrobust   LLR p-value:                6.838e-123\n",
       "=========================================================================================\n",
       "                            coef    std err          z      P>|z|      [0.025      0.975]\n",
       "-----------------------------------------------------------------------------------------\n",
       "one_vec                  -9.9954      1.366     -7.317      0.000     -12.673      -7.318\n",
       "clump_thickness           0.5827      0.172      3.378      0.001       0.245       0.921\n",
       "cell_size_uniformity     -0.1183      0.240     -0.493      0.622      -0.589       0.352\n",
       "cell_shape_uniformity     0.3575      0.259      1.380      0.168      -0.150       0.865\n",
       "marginal_adhesion         0.4915      0.167      2.943      0.003       0.164       0.819\n",
       "epithelial_cell_size      0.1303      0.191      0.684      0.494      -0.243       0.504\n",
       "bare_nuclei               0.3978      0.115      3.464      0.001       0.173       0.623\n",
       "bland_chromatin           0.3773      0.181      2.086      0.037       0.023       0.732\n",
       "normal_nucleoli           0.2011      0.136      1.481      0.139      -0.065       0.467\n",
       "mitoses                   0.4661      0.426      1.095      0.273      -0.368       1.300\n",
       "=========================================================================================\n",
       "\n",
       "Possibly complete quasi-separation: A fraction 0.10 of observations can be\n",
       "perfectly predicted. This might indicate that there is complete\n",
       "quasi-separation. In this case some parameters will not be identified.\n",
       "\"\"\""
      ]
     },
     "execution_count": 12,
     "metadata": {},
     "output_type": "execute_result"
    }
   ],
   "source": [
    "# importing dependencies\n",
    "import statsmodels.api as sm\n",
    "\n",
    "logistic_mod = sm.Logit(y_train, X_train).fit()\n",
    "\n",
    "logistic_mod.summary()"
   ]
  },
  {
   "cell_type": "markdown",
   "metadata": {},
   "source": [
    "That was fast! There was actually a lot of optimization in that line.\n",
    "\n",
    "Interpretation? If clump thickness increases by one unit the log odds of malignancy increases by 0.5827...\n",
    "\n",
    "All but one of the coefficients are positive which means if any those covariates increase...\n",
    "\n",
    "And let's take a look at the fitted values:"
   ]
  },
  {
   "cell_type": "code",
   "execution_count": 13,
   "metadata": {},
   "outputs": [
    {
     "data": {
      "text/plain": [
       "[0, 0, 0, 0, 0, 1, 1, 0, 1, 0]"
      ]
     },
     "execution_count": 13,
     "metadata": {},
     "output_type": "execute_result"
    }
   ],
   "source": [
    "# getting predictions\n",
    "yhat = list(map(round, logistic_mod.predict(X_test)))\n",
    "yhat[0:10]"
   ]
  },
  {
   "cell_type": "markdown",
   "metadata": {},
   "source": [
    "The Logit fit function actually provides a lit of probabilities. I mapped the round function so I could get values in the support of my response. Let's check out the probabilities the model evaluated."
   ]
  },
  {
   "cell_type": "code",
   "execution_count": 14,
   "metadata": {},
   "outputs": [
    {
     "data": {
      "text/plain": [
       "539    0.002977\n",
       "544    0.013772\n",
       "487    0.012587\n",
       "403    0.109261\n",
       "123    0.001356\n",
       "54     0.976667\n",
       "205    0.999795\n",
       "356    0.009924\n",
       "386    0.999872\n",
       "375    0.028139\n",
       "61     0.480505\n",
       "597    1.000000\n",
       "339    0.999864\n",
       "671    0.006468\n",
       "672    0.005319\n",
       "666    0.024296\n",
       "455    0.003808\n",
       "305    0.002919\n",
       "456    0.043815\n",
       "331    0.000930\n",
       "dtype: float64"
      ]
     },
     "execution_count": 14,
     "metadata": {},
     "output_type": "execute_result"
    }
   ],
   "source": [
    "logistic_mod.predict(X_test)[0:20]"
   ]
  },
  {
   "cell_type": "markdown",
   "metadata": {},
   "source": [
    "Let's take a look at all the in-sample probability estimates:"
   ]
  },
  {
   "cell_type": "code",
   "execution_count": 15,
   "metadata": {},
   "outputs": [
    {
     "data": {
      "text/plain": [
       "<AxesSubplot:ylabel='Count'>"
      ]
     },
     "execution_count": 15,
     "metadata": {},
     "output_type": "execute_result"
    },
    {
     "data": {
      "image/png": "[encoded data removed]",
      "text/plain": [
       "<Figure size 720x432 with 1 Axes>"
      ]
     },
     "metadata": {},
     "output_type": "display_data"
    }
   ],
   "source": [
    "# probability hats via the training set\n",
    "p_hats_train = list(logistic_mod.predict(X_train))\n",
    "\n",
    "# lets plot how the model did\n",
    "sns.histplot(x = p_hats_train, hue = y_train, bins = 100) # 0 begign, 1 malignant"
   ]
  },
  {
   "cell_type": "markdown",
   "metadata": {},
   "source": [
    "This is how the response looks in the dataset."
   ]
  },
  {
   "cell_type": "code",
   "execution_count": 16,
   "metadata": {},
   "outputs": [
    {
     "data": {
      "text/plain": [
       "<AxesSubplot:xlabel='class', ylabel='Count'>"
      ]
     },
     "execution_count": 16,
     "metadata": {},
     "output_type": "execute_result"
    },
    {
     "data": {
      "image/png": "[encoded data removed]",
      "text/plain": [
       "<Figure size 720x432 with 1 Axes>"
      ]
     },
     "metadata": {},
     "output_type": "display_data"
    }
   ],
   "source": [
    "# lets plot how the model did\n",
    "sns.histplot(x = biopsy_df['class'], bins = 10) # 0 begign, 1 malignant"
   ]
  },
  {
   "cell_type": "markdown",
   "metadata": {},
   "source": [
    "It's very sure of itself! \n",
    "\n",
    "Let's see $y$ by $\\hat{p}$ another way:"
   ]
  },
  {
   "cell_type": "code",
   "execution_count": 17,
   "metadata": {},
   "outputs": [
    {
     "name": "stderr",
     "output_type": "stream",
     "text": [
      "E:\\Users\\amira\\anaconda\\lib\\site-packages\\seaborn\\categorical.py:1296: UserWarning: 43.1% of the points cannot be placed; you may want to decrease the size of the markers or use stripplot.\n",
      "  warnings.warn(msg, UserWarning)\n",
      "E:\\Users\\amira\\anaconda\\lib\\site-packages\\seaborn\\categorical.py:1296: UserWarning: 35.4% of the points cannot be placed; you may want to decrease the size of the markers or use stripplot.\n",
      "  warnings.warn(msg, UserWarning)\n"
     ]
    },
    {
     "data": {
      "text/plain": [
       "<AxesSubplot:xlabel='class'>"
      ]
     },
     "execution_count": 17,
     "metadata": {},
     "output_type": "execute_result"
    },
    {
     "data": {
      "image/png": "[encoded data removed]",
      "text/plain": [
       "<Figure size 720x432 with 1 Axes>"
      ]
     },
     "metadata": {},
     "output_type": "display_data"
    }
   ],
   "source": [
    "# 0 begign, 1 malignant\n",
    "#sns.violinplot(x = y_train, y = p_hats_train, inner=None)\n",
    "sns.swarmplot(x = y_train, y = p_hats_train, hue=y_train, size=3)"
   ]
  },
  {
   "cell_type": "markdown",
   "metadata": {},
   "source": [
    "Made only a few mistakes here and there in the training set! How about the test set?"
   ]
  },
  {
   "cell_type": "code",
   "execution_count": 18,
   "metadata": {},
   "outputs": [
    {
     "data": {
      "text/plain": [
       "<AxesSubplot:ylabel='Count'>"
      ]
     },
     "execution_count": 18,
     "metadata": {},
     "output_type": "execute_result"
    },
    {
     "data": {
      "image/png": "[encoded data removed]",
      "text/plain": [
       "<Figure size 720x432 with 1 Axes>"
      ]
     },
     "metadata": {},
     "output_type": "display_data"
    }
   ],
   "source": [
    "# probability hats via the testing set\n",
    "p_hats_test = list(logistic_mod.predict(X_test))\n",
    "\n",
    "# lets plot how the model did\n",
    "sns.histplot(x = p_hats_test, hue = y_test, bins = 100) # 0 begign, 1 malignant"
   ]
  },
  {
   "cell_type": "code",
   "execution_count": 19,
   "metadata": {},
   "outputs": [
    {
     "data": {
      "text/plain": [
       "<AxesSubplot:xlabel='class'>"
      ]
     },
     "execution_count": 19,
     "metadata": {},
     "output_type": "execute_result"
    },
    {
     "data": {
      "image/png": "[encoded data removed]",
      "text/plain": [
       "<Figure size 720x432 with 1 Axes>"
      ]
     },
     "metadata": {},
     "output_type": "display_data"
    }
   ],
   "source": [
    "# using a swarm plot\n",
    "sns.swarmplot(x = y_test, y = p_hats_test, hue=y_test, size=3)"
   ]
  },
  {
   "cell_type": "markdown",
   "metadata": {},
   "source": [
    "Looks pretty good! We now will talk about error metrics for probabilistic estimation models. That will give us a way to validate this model and provide an estimate of future performance. \n",
    "\n",
    "#### Brier Score\n",
    "\n",
    "A Brier Score is a metric to measure the accuracy of probabilistic forecasts. It is typically used when the outcome of a forecast is binary, that is, either the outcome occurs or it doesn't. For example, suppose a weather forecast says there is a 90% chance of rain and it actually does rain. We can calculate the Brier Score for this forecast using the following formula:\n",
    "\n",
    "$(f - o)^2$\n",
    "\n",
    "Where,\n",
    "\n",
    "* $f$ is the forecasted probability\n",
    "* $o$ is the actual outcome (1 if the event occurs, 0 if it doesn't)\n",
    "\n",
    "In this example, the Brier Score for our forecast would be $(0.9 – 1)^2 = -0.1^2 = 0.01$\n",
    "\n",
    "A Brier Score for a set of forecasts is simply calculated as the average of the Brier Scores for the individual forecasts:\n",
    "\n",
    "$\\Sigma (f_t - o_t)^2 \\times \\frac{1}{n}$\n",
    "\n",
    "A Brier Score can take on any value between 0 and 1, with 0 being the best score achievable and 1 being the worst score achievable. The lower the Brier Score, the more accurate the prediction(s).\n",
    "\n",
    "What is the in-sample average Brier score?"
   ]
  },
  {
   "cell_type": "code",
   "execution_count": 20,
   "metadata": {},
   "outputs": [
    {
     "data": {
      "text/plain": [
       "0.019281564821271514"
      ]
     },
     "execution_count": 20,
     "metadata": {},
     "output_type": "execute_result"
    }
   ],
   "source": [
    "np.mean((p_hats_train - y_train)**2)"
   ]
  },
  {
   "cell_type": "markdown",
   "metadata": {},
   "source": [
    "This is very good Brier score! Again, most of the probabilities were spot on. And the oos Brier score?"
   ]
  },
  {
   "cell_type": "code",
   "execution_count": 21,
   "metadata": {},
   "outputs": [
    {
     "data": {
      "text/plain": [
       "0.02322118286199541"
      ]
     },
     "execution_count": 21,
     "metadata": {},
     "output_type": "execute_result"
    }
   ],
   "source": [
    "np.mean((p_hats_test - y_test)**2)"
   ]
  },
  {
   "cell_type": "markdown",
   "metadata": {},
   "source": [
    "Not as good but still very good!\n",
    "\n",
    "What is the in-sample log score?"
   ]
  },
  {
   "cell_type": "code",
   "execution_count": 22,
   "metadata": {},
   "outputs": [
    {
     "data": {
      "text/plain": [
       "-0.07796428000764244"
      ]
     },
     "execution_count": 22,
     "metadata": {},
     "output_type": "execute_result"
    }
   ],
   "source": [
    "one_minus_p_hat_train = [1 - p_hats_train[i] for i in range(len(p_hats_train))]\n",
    "np.mean(y_train * np.log(p_hats_train) + (1 - y_train) * np.log(one_minus_p_hat_train))"
   ]
  },
  {
   "cell_type": "markdown",
   "metadata": {},
   "source": [
    "This isn't bad (if you get intuition in reading them). And oos?"
   ]
  },
  {
   "cell_type": "code",
   "execution_count": 23,
   "metadata": {},
   "outputs": [
    {
     "data": {
      "text/plain": [
       "-0.07898214502012264"
      ]
     },
     "execution_count": 23,
     "metadata": {},
     "output_type": "execute_result"
    }
   ],
   "source": [
    "one_minus_p_hat_test = [1 - p_hats_test[i] for i in range(len(p_hats_test))]\n",
    "np.mean(y_test * np.log(p_hats_test) + (1 - y_test) * np.log(one_minus_p_hat_test))"
   ]
  },
  {
   "cell_type": "markdown",
   "metadata": {},
   "source": [
    "Not as good but still very good!\n",
    "\n",
    "If we wanted to be more careful, we can use K-fold CV to get a less variable oos metric. Maybe we'll do that in a lab?\n",
    "\n",
    "\n",
    "## Probit and Cloglog probability estimation\n",
    "\n",
    "These are different generalized linear models but fit using the same code. All we need to do is change the link argument. For a probit regression we just do:"
   ]
  },
  {
   "cell_type": "code",
   "execution_count": 24,
   "metadata": {},
   "outputs": [
    {
     "name": "stdout",
     "output_type": "stream",
     "text": [
      "Optimization terminated successfully.\n",
      "         Current function value: 0.079211\n",
      "         Iterations 9\n"
     ]
    },
    {
     "data": {
      "text/html": [
       "<table class=\"simpletable\">\n",
       "<tr>\n",
       "        <td>Model:</td>             <td>Probit</td>      <td>Pseudo R-squared:</td>    <td>0.880</td>   \n",
       "</tr>\n",
       "<tr>\n",
       "  <td>Dependent Variable:</td>       <td>class</td>            <td>AIC:</td>         <td>101.1120</td>  \n",
       "</tr>\n",
       "<tr>\n",
       "         <td>Date:</td>        <td>2022-01-29 13:53</td>       <td>BIC:</td>         <td>143.4953</td>  \n",
       "</tr>\n",
       "<tr>\n",
       "   <td>No. Observations:</td>         <td>512</td>        <td>Log-Likelihood:</td>    <td>-40.556</td>  \n",
       "</tr>\n",
       "<tr>\n",
       "       <td>Df Model:</td>              <td>9</td>            <td>LL-Null:</td>        <td>-338.72</td>  \n",
       "</tr>\n",
       "<tr>\n",
       "     <td>Df Residuals:</td>           <td>502</td>         <td>LLR p-value:</td>    <td>1.2851e-122</td>\n",
       "</tr>\n",
       "<tr>\n",
       "      <td>Converged:</td>           <td>1.0000</td>           <td>Scale:</td>         <td>1.0000</td>   \n",
       "</tr>\n",
       "<tr>\n",
       "    <td>No. Iterations:</td>        <td>9.0000</td>              <td></td>               <td></td>      \n",
       "</tr>\n",
       "</table>\n",
       "<table class=\"simpletable\">\n",
       "<tr>\n",
       "            <td></td>             <th>Coef.</th>  <th>Std.Err.</th>    <th>z</th>     <th>P>|z|</th> <th>[0.025</th>  <th>0.975]</th> \n",
       "</tr>\n",
       "<tr>\n",
       "  <th>one_vec</th>               <td>-4.9617</td>  <td>0.5613</td>  <td>-8.8389</td> <td>0.0000</td> <td>-6.0619</td> <td>-3.8614</td>\n",
       "</tr>\n",
       "<tr>\n",
       "  <th>clump_thickness</th>       <td>0.2589</td>   <td>0.0810</td>  <td>3.1962</td>  <td>0.0014</td> <td>0.1001</td>  <td>0.4176</td> \n",
       "</tr>\n",
       "<tr>\n",
       "  <th>cell_size_uniformity</th>  <td>-0.0321</td>  <td>0.1160</td>  <td>-0.2764</td> <td>0.7822</td> <td>-0.2594</td> <td>0.1953</td> \n",
       "</tr>\n",
       "<tr>\n",
       "  <th>cell_shape_uniformity</th> <td>0.2249</td>   <td>0.1275</td>  <td>1.7644</td>  <td>0.0777</td> <td>-0.0249</td> <td>0.4747</td> \n",
       "</tr>\n",
       "<tr>\n",
       "  <th>marginal_adhesion</th>     <td>0.2012</td>   <td>0.0785</td>  <td>2.5622</td>  <td>0.0104</td> <td>0.0473</td>  <td>0.3551</td> \n",
       "</tr>\n",
       "<tr>\n",
       "  <th>epithelial_cell_size</th>  <td>0.0949</td>   <td>0.1047</td>  <td>0.9057</td>  <td>0.3651</td> <td>-0.1104</td> <td>0.3001</td> \n",
       "</tr>\n",
       "<tr>\n",
       "  <th>bare_nuclei</th>           <td>0.1918</td>   <td>0.0530</td>  <td>3.6174</td>  <td>0.0003</td> <td>0.0879</td>  <td>0.2958</td> \n",
       "</tr>\n",
       "<tr>\n",
       "  <th>bland_chromatin</th>       <td>0.1725</td>   <td>0.0884</td>  <td>1.9520</td>  <td>0.0509</td> <td>-0.0007</td> <td>0.3458</td> \n",
       "</tr>\n",
       "<tr>\n",
       "  <th>normal_nucleoli</th>       <td>0.0823</td>   <td>0.0650</td>  <td>1.2670</td>  <td>0.2051</td> <td>-0.0450</td> <td>0.2097</td> \n",
       "</tr>\n",
       "<tr>\n",
       "  <th>mitoses</th>               <td>0.1833</td>   <td>0.1754</td>  <td>1.0452</td>  <td>0.2960</td> <td>-0.1605</td> <td>0.5272</td> \n",
       "</tr>\n",
       "</table>"
      ],
      "text/plain": [
       "<class 'statsmodels.iolib.summary2.Summary'>\n",
       "\"\"\"\n",
       "                           Results: Probit\n",
       "=====================================================================\n",
       "Model:               Probit            Pseudo R-squared:  0.880      \n",
       "Dependent Variable:  class             AIC:               101.1120   \n",
       "Date:                2022-01-29 13:53  BIC:               143.4953   \n",
       "No. Observations:    512               Log-Likelihood:    -40.556    \n",
       "Df Model:            9                 LL-Null:           -338.72    \n",
       "Df Residuals:        502               LLR p-value:       1.2851e-122\n",
       "Converged:           1.0000            Scale:             1.0000     \n",
       "No. Iterations:      9.0000                                          \n",
       "---------------------------------------------------------------------\n",
       "                       Coef.  Std.Err.    z    P>|z|   [0.025  0.975]\n",
       "---------------------------------------------------------------------\n",
       "one_vec               -4.9617   0.5613 -8.8389 0.0000 -6.0619 -3.8614\n",
       "clump_thickness        0.2589   0.0810  3.1962 0.0014  0.1001  0.4176\n",
       "cell_size_uniformity  -0.0321   0.1160 -0.2764 0.7822 -0.2594  0.1953\n",
       "cell_shape_uniformity  0.2249   0.1275  1.7644 0.0777 -0.0249  0.4747\n",
       "marginal_adhesion      0.2012   0.0785  2.5622 0.0104  0.0473  0.3551\n",
       "epithelial_cell_size   0.0949   0.1047  0.9057 0.3651 -0.1104  0.3001\n",
       "bare_nuclei            0.1918   0.0530  3.6174 0.0003  0.0879  0.2958\n",
       "bland_chromatin        0.1725   0.0884  1.9520 0.0509 -0.0007  0.3458\n",
       "normal_nucleoli        0.0823   0.0650  1.2670 0.2051 -0.0450  0.2097\n",
       "mitoses                0.1833   0.1754  1.0452 0.2960 -0.1605  0.5272\n",
       "=====================================================================\n",
       "\n",
       "\"\"\""
      ]
     },
     "execution_count": 24,
     "metadata": {},
     "output_type": "execute_result"
    }
   ],
   "source": [
    "from statsmodels.discrete.discrete_model import Probit\n",
    "\n",
    "probit_mod = Probit(y_train, X_train).fit()\n",
    "\n",
    "probit_mod.summary2()"
   ]
  },
  {
   "cell_type": "markdown",
   "metadata": {},
   "source": [
    "As we saw before, almost all coefficients for the covariates are positive. What's the interpretation of $b$ for `bare_nuclei`?\n",
    "\n",
    "Let's take a look at all the in-sample probability estimates:"
   ]
  },
  {
   "cell_type": "code",
   "execution_count": 25,
   "metadata": {},
   "outputs": [
    {
     "data": {
      "text/plain": [
       "<AxesSubplot:ylabel='Count'>"
      ]
     },
     "execution_count": 25,
     "metadata": {},
     "output_type": "execute_result"
    },
    {
     "data": {
      "image/png": "[encoded data removed]",
      "text/plain": [
       "<Figure size 720x432 with 1 Axes>"
      ]
     },
     "metadata": {},
     "output_type": "display_data"
    }
   ],
   "source": [
    "# probability hats via the training set\n",
    "p_hats_train = list(probit_mod.predict(X_train))\n",
    "\n",
    "# lets plot how the model did\n",
    "sns.histplot(x = p_hats_train, hue = y_train, bins = 100) # 0 begign, 1 malignant"
   ]
  },
  {
   "cell_type": "code",
   "execution_count": 26,
   "metadata": {},
   "outputs": [
    {
     "data": {
      "text/plain": [
       "<AxesSubplot:ylabel='Count'>"
      ]
     },
     "execution_count": 26,
     "metadata": {},
     "output_type": "execute_result"
    },
    {
     "data": {
      "image/png": "[encoded data removed]",
      "text/plain": [
       "<Figure size 720x432 with 1 Axes>"
      ]
     },
     "metadata": {},
     "output_type": "display_data"
    }
   ],
   "source": [
    "# probability hats via the training set\n",
    "p_hats_test = list(probit_mod.predict(X_test))\n",
    "\n",
    "# lets plot how the model did\n",
    "sns.histplot(x = p_hats_test, hue = y_test, bins = 100) # 0 begign, 1 malignant"
   ]
  },
  {
   "cell_type": "markdown",
   "metadata": {},
   "source": [
    "Also basically the same-looking. To get an apples-apples comparison with logistic regression let's calculate the brier and log scoring metrics:"
   ]
  },
  {
   "cell_type": "code",
   "execution_count": 27,
   "metadata": {},
   "outputs": [
    {
     "name": "stdout",
     "output_type": "stream",
     "text": [
      "Brier Score Train: 0.02082164675278907\n",
      "Log Score Train: -0.07921097861123534\n"
     ]
    }
   ],
   "source": [
    "# calculating performance metrics for training data\n",
    "\n",
    "brier_probit_train = np.mean((p_hats_train - y_train)**2)\n",
    "\n",
    "print(f\"Brier Score Train: {brier_probit_train}\")\n",
    "\n",
    "one_minus_p_hat_train = [1 - p_hats_train[i] for i in range(len(p_hats_train))]\n",
    "log_score_probit_train = np.mean(y_train * np.log(p_hats_train) + (1 - y_train) * np.log(one_minus_p_hat_train))\n",
    "\n",
    "print(f\"Log Score Train: {log_score_probit_train}\")"
   ]
  },
  {
   "cell_type": "code",
   "execution_count": 28,
   "metadata": {},
   "outputs": [
    {
     "name": "stdout",
     "output_type": "stream",
     "text": [
      "Brier Score Test: 0.020805962946753173\n",
      "Log Score Test: -0.06907317143466227\n"
     ]
    }
   ],
   "source": [
    "# calculating performance metrics for testing data\n",
    "\n",
    "brier_probit_test = np.mean((p_hats_test - y_test)**2)\n",
    "\n",
    "print(f\"Brier Score Test: {brier_probit_test}\")\n",
    "\n",
    "one_minus_p_hat_test = [1 - p_hats_test[i] for i in range(len(p_hats_test))]\n",
    "log_score_probit_test = np.mean(y_test * np.log(p_hats_test) + (1 - y_test) * np.log(one_minus_p_hat_test))\n",
    "\n",
    "print(f\"Log Score Test: {log_score_probit_test}\")"
   ]
  },
  {
   "cell_type": "markdown",
   "metadata": {},
   "source": [
    "It appears the logistic regression is better oos.\n",
    "\n",
    "In addition to logit and probit regression, any continuous distribution from SciPy.stats package can be used for the distr argument. Alternatively, one can define its own distribution simply creating a subclass from rv_continuous and implementing a few methods."
   ]
  },
  {
   "cell_type": "code",
   "execution_count": 29,
   "metadata": {},
   "outputs": [],
   "source": [
    "# we'll have to remove the intercept column for the OrderedModel function to work\n",
    "del X_train['one_vec']\n",
    "del X_test['one_vec']"
   ]
  },
  {
   "cell_type": "code",
   "execution_count": 30,
   "metadata": {},
   "outputs": [
    {
     "data": {
      "text/html": [
       "<table class=\"simpletable\">\n",
       "<caption>OrderedModel Results</caption>\n",
       "<tr>\n",
       "  <th>Dep. Variable:</th>           <td>class</td>       <th>  Log-Likelihood:    </th> <td> -33.710</td>\n",
       "</tr>\n",
       "<tr>\n",
       "  <th>Model:</th>               <td>OrderedModel</td>    <th>  AIC:               </th> <td>   87.42</td>\n",
       "</tr>\n",
       "<tr>\n",
       "  <th>Method:</th>           <td>Maximum Likelihood</td> <th>  BIC:               </th> <td>   129.8</td>\n",
       "</tr>\n",
       "<tr>\n",
       "  <th>Date:</th>              <td>Sat, 29 Jan 2022</td>  <th>                     </th>     <td> </td>   \n",
       "</tr>\n",
       "<tr>\n",
       "  <th>Time:</th>                  <td>13:53:25</td>      <th>                     </th>     <td> </td>   \n",
       "</tr>\n",
       "<tr>\n",
       "  <th>No. Observations:</th>       <td>   512</td>       <th>                     </th>     <td> </td>   \n",
       "</tr>\n",
       "<tr>\n",
       "  <th>Df Residuals:</th>           <td>   502</td>       <th>                     </th>     <td> </td>   \n",
       "</tr>\n",
       "<tr>\n",
       "  <th>Df Model:</th>               <td>    10</td>       <th>                     </th>     <td> </td>   \n",
       "</tr>\n",
       "</table>\n",
       "<table class=\"simpletable\">\n",
       "<tr>\n",
       "            <td></td>               <th>coef</th>     <th>std err</th>      <th>z</th>      <th>P>|z|</th>  <th>[0.025</th>    <th>0.975]</th>  \n",
       "</tr>\n",
       "<tr>\n",
       "  <th>clump_thickness</th>       <td>    0.3517</td> <td>    0.124</td> <td>    2.838</td> <td> 0.005</td> <td>    0.109</td> <td>    0.595</td>\n",
       "</tr>\n",
       "<tr>\n",
       "  <th>cell_size_uniformity</th>  <td>    0.0060</td> <td>    0.189</td> <td>    0.032</td> <td> 0.975</td> <td>   -0.364</td> <td>    0.376</td>\n",
       "</tr>\n",
       "<tr>\n",
       "  <th>cell_shape_uniformity</th> <td>    0.2000</td> <td>    0.180</td> <td>    1.110</td> <td> 0.267</td> <td>   -0.153</td> <td>    0.553</td>\n",
       "</tr>\n",
       "<tr>\n",
       "  <th>marginal_adhesion</th>     <td>    0.2990</td> <td>    0.120</td> <td>    2.488</td> <td> 0.013</td> <td>    0.063</td> <td>    0.534</td>\n",
       "</tr>\n",
       "<tr>\n",
       "  <th>epithelial_cell_size</th>  <td>    0.0306</td> <td>    0.132</td> <td>    0.232</td> <td> 0.816</td> <td>   -0.227</td> <td>    0.289</td>\n",
       "</tr>\n",
       "<tr>\n",
       "  <th>bare_nuclei</th>           <td>    0.3158</td> <td>    0.084</td> <td>    3.773</td> <td> 0.000</td> <td>    0.152</td> <td>    0.480</td>\n",
       "</tr>\n",
       "<tr>\n",
       "  <th>bland_chromatin</th>       <td>    0.2151</td> <td>    0.131</td> <td>    1.644</td> <td> 0.100</td> <td>   -0.041</td> <td>    0.472</td>\n",
       "</tr>\n",
       "<tr>\n",
       "  <th>normal_nucleoli</th>       <td>    0.1251</td> <td>    0.097</td> <td>    1.290</td> <td> 0.197</td> <td>   -0.065</td> <td>    0.315</td>\n",
       "</tr>\n",
       "<tr>\n",
       "  <th>mitoses</th>               <td>    0.3561</td> <td>    0.219</td> <td>    1.627</td> <td> 0.104</td> <td>   -0.073</td> <td>    0.785</td>\n",
       "</tr>\n",
       "<tr>\n",
       "  <th>0/1</th>                   <td>    5.6784</td> <td>    0.968</td> <td>    5.869</td> <td> 0.000</td> <td>    3.782</td> <td>    7.575</td>\n",
       "</tr>\n",
       "</table>"
      ],
      "text/plain": [
       "<class 'statsmodels.iolib.summary.Summary'>\n",
       "\"\"\"\n",
       "                             OrderedModel Results                             \n",
       "==============================================================================\n",
       "Dep. Variable:                  class   Log-Likelihood:                -33.710\n",
       "Model:                   OrderedModel   AIC:                             87.42\n",
       "Method:            Maximum Likelihood   BIC:                             129.8\n",
       "Date:                Sat, 29 Jan 2022                                         \n",
       "Time:                        13:53:25                                         \n",
       "No. Observations:                 512                                         \n",
       "Df Residuals:                     502                                         \n",
       "Df Model:                          10                                         \n",
       "=========================================================================================\n",
       "                            coef    std err          z      P>|z|      [0.025      0.975]\n",
       "-----------------------------------------------------------------------------------------\n",
       "clump_thickness           0.3517      0.124      2.838      0.005       0.109       0.595\n",
       "cell_size_uniformity      0.0060      0.189      0.032      0.975      -0.364       0.376\n",
       "cell_shape_uniformity     0.2000      0.180      1.110      0.267      -0.153       0.553\n",
       "marginal_adhesion         0.2990      0.120      2.488      0.013       0.063       0.534\n",
       "epithelial_cell_size      0.0306      0.132      0.232      0.816      -0.227       0.289\n",
       "bare_nuclei               0.3158      0.084      3.773      0.000       0.152       0.480\n",
       "bland_chromatin           0.2151      0.131      1.644      0.100      -0.041       0.472\n",
       "normal_nucleoli           0.1251      0.097      1.290      0.197      -0.065       0.315\n",
       "mitoses                   0.3561      0.219      1.627      0.104      -0.073       0.785\n",
       "0/1                       5.6784      0.968      5.869      0.000       3.782       7.575\n",
       "=========================================================================================\n",
       "\"\"\""
      ]
     },
     "execution_count": 30,
     "metadata": {},
     "output_type": "execute_result"
    }
   ],
   "source": [
    "import numpy as np\n",
    "import pandas as pd\n",
    "import scipy.stats as stats\n",
    "\n",
    "from statsmodels.miscmodels.ordinal_model import OrderedModel\n",
    "\n",
    "\n",
    "# minimal definition of a custom scipy distribution.\n",
    "class CLogLog(stats.rv_continuous):\n",
    "    def _ppf(self, q):\n",
    "        return np.log(-np.log(1 - q))\n",
    "\n",
    "    def _cdf(self, x):\n",
    "        return 1 - np.exp(-np.exp(x))\n",
    "\n",
    "\n",
    "cloglog = CLogLog()\n",
    "\n",
    "# definition of the model and fitting\n",
    "mod_cloglog = OrderedModel(y_train,\n",
    "                           X_train,\n",
    "                           distr=cloglog).fit(method='bfgs', disp=False)\n",
    "mod_cloglog.summary()"
   ]
  },
  {
   "cell_type": "markdown",
   "metadata": {},
   "source": [
    "Same signs on coefficients. Interpretation? Difficult... \n",
    "\n",
    "Let's take a look at all the in-sample and out of sample probability estimates:"
   ]
  },
  {
   "cell_type": "code",
   "execution_count": 31,
   "metadata": {},
   "outputs": [
    {
     "data": {
      "text/plain": [
       "<AxesSubplot:xlabel='0', ylabel='Count'>"
      ]
     },
     "execution_count": 31,
     "metadata": {},
     "output_type": "execute_result"
    },
    {
     "data": {
      "image/png": "[encoded data removed]",
      "text/plain": [
       "<Figure size 720x432 with 1 Axes>"
      ]
     },
     "metadata": {},
     "output_type": "display_data"
    }
   ],
   "source": [
    "# probability hats via the training set\n",
    "p_hats_train = mod_cloglog.predict(X_train, which = \"prob\").iloc[:, 0]\n",
    "\n",
    "# lets plot how the model did\n",
    "sns.histplot(x = p_hats_train, hue = y_train, bins = 100) # 0 begign, 1 malignant"
   ]
  },
  {
   "cell_type": "code",
   "execution_count": 32,
   "metadata": {},
   "outputs": [
    {
     "data": {
      "text/plain": [
       "<AxesSubplot:xlabel='0', ylabel='Count'>"
      ]
     },
     "execution_count": 32,
     "metadata": {},
     "output_type": "execute_result"
    },
    {
     "data": {
      "image/png": "[encoded data removed]",
      "text/plain": [
       "<Figure size 720x432 with 1 Axes>"
      ]
     },
     "metadata": {},
     "output_type": "display_data"
    }
   ],
   "source": [
    "# probability hats via the testing set\n",
    "p_hats_test = mod_cloglog.predict(X_test, which = \"prob\").iloc[:, 0]\n",
    "\n",
    "# lets plot how the model did\n",
    "sns.histplot(x = p_hats_test, hue = y_test, bins = 100) # 0 begign, 1 malignant"
   ]
  },
  {
   "cell_type": "markdown",
   "metadata": {},
   "source": [
    "Let's see how it does compared to the logistic and probit models."
   ]
  },
  {
   "cell_type": "code",
   "execution_count": 33,
   "metadata": {
    "scrolled": true
   },
   "outputs": [
    {
     "name": "stdout",
     "output_type": "stream",
     "text": [
      "0.9492046881753748\n"
     ]
    }
   ],
   "source": [
    "# In sample Brier Score\n",
    "print(np.mean((p_hats_train - y_train)**2))"
   ]
  },
  {
   "cell_type": "code",
   "execution_count": 34,
   "metadata": {},
   "outputs": [
    {
     "name": "stdout",
     "output_type": "stream",
     "text": [
      "0.9393397608267596\n"
     ]
    }
   ],
   "source": [
    "# Out of sample Brier Score\n",
    "print(np.mean((p_hats_test - y_test)**2))"
   ]
  }
 ],
 "metadata": {
  "kernelspec": {
   "display_name": "Python 3",
   "language": "python",
   "name": "python3"
  },
  "language_info": {
   "codemirror_mode": {
    "name": "ipython",
    "version": 3
   },
   "file_extension": ".py",
   "mimetype": "text/x-python",
   "name": "python",
   "nbconvert_exporter": "python",
   "pygments_lexer": "ipython3",
   "version": "3.8.5"
  }
 },
 "nbformat": 4,
 "nbformat_minor": 4
}
