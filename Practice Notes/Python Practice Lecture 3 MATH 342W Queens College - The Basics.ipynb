{
 "cells": [
  {
   "cell_type": "markdown",
   "metadata": {},
   "source": [
    "# Python Practice Lecture 3 MATH 342W Queens College - The Basics\n",
    "## Author: Amir ElTabakh\n",
    "## Date: February 4, 2021\n",
    "\n",
    "You can get started with this cheatsheet:\n",
    "https://www.pythoncheatsheet.org/\n",
    "\n",
    "\n",
    "\n",
    "## Basic Python\n",
    "\n",
    "What is Python? \n",
    "\n",
    "* Python is an open-source high-level programming language\n",
    "* Interpreted, object-oriented, and scripted\n",
    "* Has a tremendous developer community and industry community\n",
    "* It is very attractive for Rapid Application Development\n",
    "* History: In 1989 Guido van Rossum developed the language and named it after the BBC TV show *Monty Python's Flying Circus*\n",
    "\n",
    "Upsides? \n",
    "* General-purpose tool used in a wide range of industries\n",
    "* Python is a high-level programming language, therefore Python code resembles natural language\n",
    "* Dynamic semantics allows developers to declare variables without declaring the variable's type.\n",
    "* Python is platform-agnostic, you can run the same source code across operating systems, this is achieved due to bytecode and a Python Virtual Machine.\n",
    "* Python easily teams up with other languages using extensions like [Cython](https://cython.org/) for C, [Gython](https://pypi.org/project/gython/) for Go, [Jython](https://www.jython.org/) for Java.\n",
    "\n",
    "Downsides?\n",
    "* Slow (but this can be fixed by inlining other languages). This is mostly due to the fact that it is an interpreted and dynamically-typed language.\n",
    "* No multithreading\n",
    "* High memory consumption\n",
    "\n",
    "What is Jupyter Notebook? \n",
    "\n",
    "* An integrated developer environment (IDE). It is not the only IDE for Python, but it is one of the most popular at the time of this writing. Click [here](https://jupyter-notebook-beginner-guide.readthedocs.io/en/latest/what_is_jupyter.html#what-is-the-jupyter-notebook) for more information.\n",
    "\n",
    "File types:\n",
    "\n",
    "* The standard Python script has a `.py` extension\n",
    "* This file if you note has an `.ipynb` extension meaning it is a notebook file. You can enter markdown scripts, images, and code all in a notebook file. You could run an `.ipynb` file outside of Jupyter, such as in Google Colab.\n",
    "\n",
    "Things to know:\n",
    "* We will be using Python 3\n",
    "* You can specify the type cell in the toolbar (Code or Markdown)\n",
    "* Access shortcuts and tools about Jupyter Notebook through the Help tab.\n",
    "* Don't be afraid to pull out your Google-Fu!\n",
    "\n",
    "Let's see some Python! Since Python is interpreted, you can run commands directly into a command terminal. We will skip that step, and begin working directly on the notebook through cells. Click on a cell and hit ctrl-enter to run the cell. You could also press the Run button on the toolbar above."
   ]
  },
  {
   "cell_type": "code",
   "execution_count": 1,
   "metadata": {},
   "outputs": [
    {
     "name": "stdout",
     "output_type": "stream",
     "text": [
      "Hello world!\n"
     ]
    }
   ],
   "source": [
    "print(\"Hello world!\")"
   ]
  },
  {
   "cell_type": "markdown",
   "metadata": {},
   "source": [
    "Congrats!\n",
    "\n",
    "Software engineer Tim Peters wrote a collection of 19 guiding principles for writing compter programs in Python. The 20th principle was left \"for Guido to fill in\", referring to Guido van Rossum, the original author of the Python Programming Language. Keep the principles in mind while on your journey into the world of Python programming!\n",
    "\n",
    "Run `import this` in the next cell to read 'The Zen of Python'."
   ]
  },
  {
   "cell_type": "code",
   "execution_count": 2,
   "metadata": {},
   "outputs": [
    {
     "name": "stdout",
     "output_type": "stream",
     "text": [
      "The Zen of Python, by Tim Peters\n",
      "\n",
      "Beautiful is better than ugly.\n",
      "Explicit is better than implicit.\n",
      "Simple is better than complex.\n",
      "Complex is better than complicated.\n",
      "Flat is better than nested.\n",
      "Sparse is better than dense.\n",
      "Readability counts.\n",
      "Special cases aren't special enough to break the rules.\n",
      "Although practicality beats purity.\n",
      "Errors should never pass silently.\n",
      "Unless explicitly silenced.\n",
      "In the face of ambiguity, refuse the temptation to guess.\n",
      "There should be one-- and preferably only one --obvious way to do it.\n",
      "Although that way may not be obvious at first unless you're Dutch.\n",
      "Now is better than never.\n",
      "Although never is often better than *right* now.\n",
      "If the implementation is hard to explain, it's a bad idea.\n",
      "If the implementation is easy to explain, it may be a good idea.\n",
      "Namespaces are one honking great idea -- let's do more of those!\n"
     ]
    }
   ],
   "source": [
    "import this"
   ]
  },
  {
   "cell_type": "markdown",
   "metadata": {},
   "source": [
    "## The Basics of Python"
   ]
  },
  {
   "cell_type": "code",
   "execution_count": 3,
   "metadata": {},
   "outputs": [
    {
     "data": {
      "text/plain": [
       "5"
      ]
     },
     "execution_count": 3,
     "metadata": {},
     "output_type": "execute_result"
    }
   ],
   "source": [
    "5"
   ]
  },
  {
   "cell_type": "markdown",
   "metadata": {},
   "source": [
    "That's the digit five, nothing too exciting. The above is called a cell and it tells Jupyter Notebook that there is Python code in that cell. A Python cell is analgous to an RStudio chunk.\n",
    "\n",
    "Here is some Python code commented:"
   ]
  },
  {
   "cell_type": "code",
   "execution_count": 4,
   "metadata": {},
   "outputs": [
    {
     "data": {
      "text/plain": [
       "5"
      ]
     },
     "execution_count": 4,
     "metadata": {},
     "output_type": "execute_result"
    }
   ],
   "source": [
    "5 # This will produce the number 5"
   ]
  },
  {
   "cell_type": "markdown",
   "metadata": {},
   "source": [
    "Everything beyond the `#` is a comment and is ignored during interpretation.\n",
    "\n",
    "A variable is a container that contains some value. This is called assignment, and we use the `=` operator. There are some good practices and rules for naming variables.\n",
    "\n",
    "* Can't begin with a number\n",
    "* Avoid the '-' character\n",
    "* Cannot be a Python keyword\n",
    "* It is best practice to_use_snake_case for variable names.\n",
    "\n",
    "In R, you may use the `<-` operator to substitute for the `=` operator. The `<-` operator is not legal in Python."
   ]
  },
  {
   "cell_type": "code",
   "execution_count": 5,
   "metadata": {},
   "outputs": [],
   "source": [
    "x = 5 # Assigning the variable `x` with the value 5\n",
    "\n",
    "y = x - 2\n",
    "\n",
    "x = 43 # Overwriting variable value"
   ]
  },
  {
   "cell_type": "markdown",
   "metadata": {},
   "source": [
    "Let's start using Python as a calculator."
   ]
  },
  {
   "cell_type": "code",
   "execution_count": 6,
   "metadata": {},
   "outputs": [
    {
     "data": {
      "text/plain": [
       "10"
      ]
     },
     "execution_count": 6,
     "metadata": {},
     "output_type": "execute_result"
    }
   ],
   "source": [
    "5 + 5 # addition"
   ]
  },
  {
   "cell_type": "code",
   "execution_count": 7,
   "metadata": {},
   "outputs": [
    {
     "data": {
      "text/plain": [
       "0"
      ]
     },
     "execution_count": 7,
     "metadata": {},
     "output_type": "execute_result"
    }
   ],
   "source": [
    "5 - 5 # subtraction"
   ]
  },
  {
   "cell_type": "code",
   "execution_count": 8,
   "metadata": {},
   "outputs": [
    {
     "data": {
      "text/plain": [
       "1.0"
      ]
     },
     "execution_count": 8,
     "metadata": {},
     "output_type": "execute_result"
    }
   ],
   "source": [
    "5 / 5 # division"
   ]
  },
  {
   "cell_type": "code",
   "execution_count": 9,
   "metadata": {},
   "outputs": [
    {
     "data": {
      "text/plain": [
       "1"
      ]
     },
     "execution_count": 9,
     "metadata": {},
     "output_type": "execute_result"
    }
   ],
   "source": [
    "5 // 3 # Integer division"
   ]
  },
  {
   "cell_type": "code",
   "execution_count": 10,
   "metadata": {},
   "outputs": [
    {
     "data": {
      "text/plain": [
       "25"
      ]
     },
     "execution_count": 10,
     "metadata": {},
     "output_type": "execute_result"
    }
   ],
   "source": [
    "5 * 5 # multiplication"
   ]
  },
  {
   "cell_type": "code",
   "execution_count": 11,
   "metadata": {},
   "outputs": [
    {
     "data": {
      "text/plain": [
       "3125"
      ]
     },
     "execution_count": 11,
     "metadata": {},
     "output_type": "execute_result"
    }
   ],
   "source": [
    "5 ** 5 # exponent"
   ]
  },
  {
   "cell_type": "code",
   "execution_count": 12,
   "metadata": {},
   "outputs": [
    {
     "data": {
      "text/plain": [
       "2"
      ]
     },
     "execution_count": 12,
     "metadata": {},
     "output_type": "execute_result"
    }
   ],
   "source": [
    "5 % 3 # modulo"
   ]
  },
  {
   "cell_type": "code",
   "execution_count": 13,
   "metadata": {
    "tags": []
   },
   "outputs": [
    {
     "data": {
      "text/plain": [
       "115.92740743"
      ]
     },
     "execution_count": 13,
     "metadata": {},
     "output_type": "execute_result"
    }
   ],
   "source": [
    "100 * (1 + 0.03)**5 # order of operations"
   ]
  },
  {
   "cell_type": "markdown",
   "metadata": {},
   "source": [
    "There are a number of other asignment operators in Python that can make your development time that much more efficient."
   ]
  },
  {
   "cell_type": "code",
   "execution_count": 14,
   "metadata": {},
   "outputs": [
    {
     "name": "stdout",
     "output_type": "stream",
     "text": [
      "Operation '+=', Value of x: 4\n",
      "Operation '-=', Value of x: 2\n",
      "Operation '*=', Value of x: 12\n",
      "Operation '/=', Value of x: 3.0\n",
      "Operation '**=', Value of x: 9.0\n",
      "Operation '%=', Value of x: 1.0\n"
     ]
    }
   ],
   "source": [
    "x = 3\n",
    "\n",
    "x += 1\n",
    "print(\"Operation '+=', Value of x: \" + str(x))\n",
    "\n",
    "x -= 2\n",
    "print(\"Operation '-=', Value of x: \" + str(x))\n",
    "\n",
    "x *= 6\n",
    "print(\"Operation '*=', Value of x: \" + str(x))\n",
    "\n",
    "x /= 4\n",
    "print(\"Operation '/=', Value of x: \" + str(x))\n",
    "\n",
    "x **= 2\n",
    "print(\"Operation '**=', Value of x: \" + str(x))\n",
    "\n",
    "x %= 2\n",
    "print(\"Operation '%=', Value of x: \" + str(x))"
   ]
  },
  {
   "cell_type": "markdown",
   "metadata": {},
   "source": [
    "### Illegal Computations\n",
    "\n",
    "There are many illegal computation values in Python."
   ]
  },
  {
   "cell_type": "code",
   "execution_count": 15,
   "metadata": {},
   "outputs": [
    {
     "ename": "ZeroDivisionError",
     "evalue": "division by zero",
     "output_type": "error",
     "traceback": [
      "\u001b[1;31m---------------------------------------------------------------------------\u001b[0m",
      "\u001b[1;31mZeroDivisionError\u001b[0m                         Traceback (most recent call last)",
      "\u001b[1;32m<ipython-input-15-9444a318b8bc>\u001b[0m in \u001b[0;36m<module>\u001b[1;34m\u001b[0m\n\u001b[0;32m      1\u001b[0m \u001b[1;32mfrom\u001b[0m \u001b[0mmath\u001b[0m \u001b[1;32mimport\u001b[0m \u001b[0minf\u001b[0m\u001b[1;33m,\u001b[0m \u001b[0mlog10\u001b[0m\u001b[1;33m\u001b[0m\u001b[1;33m\u001b[0m\u001b[0m\n\u001b[0;32m      2\u001b[0m \u001b[1;33m\u001b[0m\u001b[0m\n\u001b[1;32m----> 3\u001b[1;33m \u001b[1;36m1\u001b[0m \u001b[1;33m/\u001b[0m \u001b[1;36m0\u001b[0m \u001b[1;31m# ZeroDivisionError\u001b[0m\u001b[1;33m\u001b[0m\u001b[1;33m\u001b[0m\u001b[0m\n\u001b[0m\u001b[0;32m      4\u001b[0m \u001b[1;36m0\u001b[0m \u001b[1;33m/\u001b[0m \u001b[1;36m0\u001b[0m \u001b[1;31m# ZeroDivisionError\u001b[0m\u001b[1;33m\u001b[0m\u001b[1;33m\u001b[0m\u001b[0m\n\u001b[0;32m      5\u001b[0m \u001b[1;33m\u001b[0m\u001b[0m\n",
      "\u001b[1;31mZeroDivisionError\u001b[0m: division by zero"
     ]
    }
   ],
   "source": [
    "from math import inf, log10\n",
    "\n",
    "1 / 0 # ZeroDivisionError\n",
    "0 / 0 # ZeroDivisionError\n",
    "\n",
    "log10(0) # ValueError\n",
    "log10(-1) # ValueError\n",
    "sqrt(-1) # ValueError"
   ]
  },
  {
   "cell_type": "markdown",
   "metadata": {},
   "source": [
    "Regarding the cell above, in Python the default is to output only the last line, in constrast to R which would run all of them. If one would like to output all of the lines, they would have to wrap each line in a print statement.\n",
    "\n",
    "You can have multiple statements per line. The semicolon ends a statement like C++ but it is omitted usually because if the line ends it is implied. "
   ]
  },
  {
   "cell_type": "code",
   "execution_count": 16,
   "metadata": {},
   "outputs": [
    {
     "name": "stdout",
     "output_type": "stream",
     "text": [
      "10\n"
     ]
    },
    {
     "data": {
      "text/plain": [
       "0"
      ]
     },
     "execution_count": 16,
     "metadata": {},
     "output_type": "execute_result"
    }
   ],
   "source": [
    "print(5 + 5); 5 - 5"
   ]
  },
  {
   "cell_type": "markdown",
   "metadata": {},
   "source": [
    "Let's take a look at how to represent numbers using scientific notation."
   ]
  },
  {
   "cell_type": "code",
   "execution_count": 17,
   "metadata": {},
   "outputs": [
    {
     "data": {
      "text/plain": [
       "3125.0"
      ]
     },
     "execution_count": 17,
     "metadata": {},
     "output_type": "execute_result"
    }
   ],
   "source": [
    "3,125 # Do not use commas to express numbers, a comma is used to seperate elements in a data structure.\n",
    "3.125e3 #scientific notation\n",
    "3.125E3"
   ]
  },
  {
   "cell_type": "markdown",
   "metadata": {},
   "source": [
    "Every language has a means of invoking functions. Here are some included famous math functions. Python uses parentheses to invoke functions. The quantities within the parentheses are known as \"parameters\" or \"arguments\" to the function.\n",
    "\n",
    "These famous math functions are not in base Python. You will have to import the `math` library into this instance of Python whenever you would like to use these functions (there are other libraries that have these functions, but we will use math).\n",
    "\n",
    "Notice the syntax."
   ]
  },
  {
   "cell_type": "code",
   "execution_count": 18,
   "metadata": {},
   "outputs": [
    {
     "data": {
      "text/plain": [
       "2.718281828459045"
      ]
     },
     "execution_count": 18,
     "metadata": {},
     "output_type": "execute_result"
    }
   ],
   "source": [
    "# Importing dependencies from `math` library\n",
    "from math import sqrt, log, floor, ceil, log, log10, sin, acos, exp, pi\n",
    "\n",
    "sqrt(2)\n",
    "log(2)\n",
    "log(2, 2) # The second number indicates the base, it is an optional parameter (Default is e)\n",
    "abs(-1)\n",
    "floor(1.2)\n",
    "ceil(1.2)\n",
    "round(1.2345)\n",
    "round(1.2345, 2)\n",
    "log10(1000)\n",
    "sin(pi) #pi is a hard-wired numerical constant, the only one in the language (I think)\n",
    "#note the numerical error\n",
    "acos(1)\n",
    "exp(1)"
   ]
  },
  {
   "cell_type": "code",
   "execution_count": 19,
   "metadata": {},
   "outputs": [
    {
     "data": {
      "text/plain": [
       "1.4142135623730951"
      ]
     },
     "execution_count": 19,
     "metadata": {},
     "output_type": "execute_result"
    }
   ],
   "source": [
    "sqrt(2) # square root"
   ]
  },
  {
   "cell_type": "code",
   "execution_count": 20,
   "metadata": {},
   "outputs": [
    {
     "data": {
      "text/plain": [
       "0.6931471805599453"
      ]
     },
     "execution_count": 20,
     "metadata": {},
     "output_type": "execute_result"
    }
   ],
   "source": [
    "log(2) # log"
   ]
  },
  {
   "cell_type": "code",
   "execution_count": 21,
   "metadata": {},
   "outputs": [
    {
     "data": {
      "text/plain": [
       "1.0"
      ]
     },
     "execution_count": 21,
     "metadata": {},
     "output_type": "execute_result"
    }
   ],
   "source": [
    "log(2, 2) # The second number indicates the base, it is an optional parameter (Default is e)"
   ]
  },
  {
   "cell_type": "code",
   "execution_count": 22,
   "metadata": {},
   "outputs": [
    {
     "data": {
      "text/plain": [
       "3.0"
      ]
     },
     "execution_count": 22,
     "metadata": {},
     "output_type": "execute_result"
    }
   ],
   "source": [
    "log10(1000) # log base 10"
   ]
  },
  {
   "cell_type": "code",
   "execution_count": 23,
   "metadata": {},
   "outputs": [
    {
     "data": {
      "text/plain": [
       "1"
      ]
     },
     "execution_count": 23,
     "metadata": {},
     "output_type": "execute_result"
    }
   ],
   "source": [
    "abs(-1) # absolute value"
   ]
  },
  {
   "cell_type": "code",
   "execution_count": 24,
   "metadata": {},
   "outputs": [
    {
     "data": {
      "text/plain": [
       "1"
      ]
     },
     "execution_count": 24,
     "metadata": {},
     "output_type": "execute_result"
    }
   ],
   "source": [
    "floor(1.2) # floor "
   ]
  },
  {
   "cell_type": "code",
   "execution_count": 25,
   "metadata": {},
   "outputs": [
    {
     "data": {
      "text/plain": [
       "2"
      ]
     },
     "execution_count": 25,
     "metadata": {},
     "output_type": "execute_result"
    }
   ],
   "source": [
    "ceil(1.2) # ceiling"
   ]
  },
  {
   "cell_type": "code",
   "execution_count": 26,
   "metadata": {},
   "outputs": [
    {
     "data": {
      "text/plain": [
       "1"
      ]
     },
     "execution_count": 26,
     "metadata": {},
     "output_type": "execute_result"
    }
   ],
   "source": [
    "round(1.2345) # round to whole number"
   ]
  },
  {
   "cell_type": "code",
   "execution_count": 27,
   "metadata": {},
   "outputs": [
    {
     "data": {
      "text/plain": [
       "1.23"
      ]
     },
     "execution_count": 27,
     "metadata": {},
     "output_type": "execute_result"
    }
   ],
   "source": [
    "round(1.2345, 2) # round to the nearest 2nd decimal"
   ]
  },
  {
   "cell_type": "code",
   "execution_count": 28,
   "metadata": {},
   "outputs": [
    {
     "data": {
      "text/plain": [
       "1.2246467991473532e-16"
      ]
     },
     "execution_count": 28,
     "metadata": {},
     "output_type": "execute_result"
    }
   ],
   "source": [
    "sin(pi) # sin (radians) - pi is a hard-wired numerical constant, the only one in the language (I think)\n",
    "# Assume the output to be 0. This is due to numerical overflow."
   ]
  },
  {
   "cell_type": "code",
   "execution_count": 29,
   "metadata": {},
   "outputs": [
    {
     "data": {
      "text/plain": [
       "0.0"
      ]
     },
     "execution_count": 29,
     "metadata": {},
     "output_type": "execute_result"
    }
   ],
   "source": [
    "acos(1) # arc cosine (radians)"
   ]
  },
  {
   "cell_type": "code",
   "execution_count": 31,
   "metadata": {},
   "outputs": [
    {
     "name": "stdout",
     "output_type": "stream",
     "text": [
      "Help on built-in function exp in module math:\n",
      "\n",
      "exp(x, /)\n",
      "    Return e raised to the power of x.\n",
      "\n"
     ]
    }
   ],
   "source": [
    "exp(1) # Return e raised to the power of the passed value\n",
    "\n",
    "# check out the documentation\n",
    "import math\n",
    "help(math.exp)"
   ]
  },
  {
   "cell_type": "markdown",
   "metadata": {},
   "source": [
    "A specified collection of functions are imported from the `math` library. The below is also valid, I import the entire `math` library, and then specify the function and the library in the line."
   ]
  },
  {
   "cell_type": "code",
   "execution_count": 32,
   "metadata": {},
   "outputs": [
    {
     "data": {
      "text/plain": [
       "1.4142135623730951"
      ]
     },
     "execution_count": 32,
     "metadata": {},
     "output_type": "execute_result"
    }
   ],
   "source": [
    "import math\n",
    "\n",
    "math.sqrt(2)"
   ]
  },
  {
   "cell_type": "markdown",
   "metadata": {},
   "source": [
    "### Data Types\n",
    "\n",
    "Lets look at the type (or *class*) of different data types. We will use the `type()` function."
   ]
  },
  {
   "cell_type": "code",
   "execution_count": 33,
   "metadata": {},
   "outputs": [
    {
     "name": "stdout",
     "output_type": "stream",
     "text": [
      "<class 'int'>\n",
      "<class 'float'>\n",
      "<class 'str'>\n",
      "<class 'bool'>\n"
     ]
    },
    {
     "data": {
      "text/plain": [
       "True"
      ]
     },
     "execution_count": 33,
     "metadata": {},
     "output_type": "execute_result"
    }
   ],
   "source": [
    "print(type(4))\n",
    "print(type(4.0))\n",
    "print(type('4'))\n",
    "print(type(4 == 4.0))\n",
    "\n",
    "4 == 4.0 # What does this return?\n",
    "# 4 === 4.0 # What does this return?"
   ]
  },
  {
   "cell_type": "markdown",
   "metadata": {},
   "source": [
    "One can test for equivalence for integers, doubles, and strings! We use the `==` operator to test for equivalence."
   ]
  },
  {
   "cell_type": "code",
   "execution_count": 34,
   "metadata": {},
   "outputs": [
    {
     "name": "stdout",
     "output_type": "stream",
     "text": [
      "Equivalence between integers:\n",
      "False\n",
      "True\n",
      "\n",
      "\n"
     ]
    }
   ],
   "source": [
    "# Checking for equivalence between integers\n",
    "print(\"Equivalence between integers:\")\n",
    "print(4 == 5)\n",
    "print(10 == 10)\n",
    "print(\"\\n\") # \\n prints a new line"
   ]
  },
  {
   "cell_type": "code",
   "execution_count": 35,
   "metadata": {},
   "outputs": [
    {
     "name": "stdout",
     "output_type": "stream",
     "text": [
      "Equivalence between strings:\n",
      "False\n",
      "True\n"
     ]
    }
   ],
   "source": [
    "# Checking for equivalence between strings\n",
    "print(\"Equivalence between strings:\")\n",
    "print(\"Math 342\" == \"Data Science via Machine Learning\")\n",
    "print(\"Math 342\" == \"Math 342\")"
   ]
  },
  {
   "cell_type": "markdown",
   "metadata": {},
   "source": [
    "### Casting\n",
    "You can change the data type of a variable, this is known as casting. There may be times when you want to specify a type on to a variable. This can be done with casting. Python is an object-orientated language, and as such it uses classes to define data types, including its primitive types.\n",
    "\n",
    "Casting in python is therefore done using constructor functions:\n",
    "\n",
    "* `int()` - constructs an integer number from an integer literal, a float literal (by removing all decimals), or a string literal (providing the string represents a whole number).\n",
    "* `float()` - constructs a float number from an integer literal, a float literal or a string literal (providing the string represents a float or an integer).\n",
    "* `str()` - constructs a string from a wide variety of data types, including strings, integer literals and float literals."
   ]
  },
  {
   "cell_type": "code",
   "execution_count": 36,
   "metadata": {},
   "outputs": [
    {
     "name": "stdout",
     "output_type": "stream",
     "text": [
      "10.2 <class 'float'>\n",
      "10 <class 'int'> \n",
      "\n"
     ]
    }
   ],
   "source": [
    "# float to int\n",
    "\n",
    "x = 10.2\n",
    "print(x, type(x))\n",
    "x = int(x)\n",
    "print(x, type(x), '\\n')"
   ]
  },
  {
   "cell_type": "code",
   "execution_count": 37,
   "metadata": {},
   "outputs": [
    {
     "name": "stdout",
     "output_type": "stream",
     "text": [
      "10 <class 'str'>\n",
      "10.0 <class 'float'> \n",
      "\n"
     ]
    }
   ],
   "source": [
    "# str to float\n",
    "\n",
    "y = \"10\"\n",
    "print(y, type(y))\n",
    "y = float(y)\n",
    "print(y, type(y), '\\n')"
   ]
  },
  {
   "cell_type": "code",
   "execution_count": 38,
   "metadata": {},
   "outputs": [
    {
     "name": "stdout",
     "output_type": "stream",
     "text": [
      "14 <class 'int'>\n",
      "14 <class 'str'>\n"
     ]
    }
   ],
   "source": [
    "# int to str\n",
    "\n",
    "z = 14\n",
    "print(z, type(z))\n",
    "z = str(z)\n",
    "print(z, type(z))"
   ]
  },
  {
   "cell_type": "markdown",
   "metadata": {},
   "source": [
    "### Print Statements\n",
    "\n",
    "Printing out values is an important part of data science and software programming. It allows the developer to observe their work, assists in debugging, and explore their instance of Python. You can wrap most objects in a print statement. A print statement can evaluate an operation and output the result, as with `print(7 + 4)`."
   ]
  },
  {
   "cell_type": "code",
   "execution_count": 39,
   "metadata": {},
   "outputs": [
    {
     "name": "stdout",
     "output_type": "stream",
     "text": [
      "Math 342\n"
     ]
    }
   ],
   "source": [
    "x = \"Math 342\"\n",
    "print(x)"
   ]
  },
  {
   "cell_type": "code",
   "execution_count": 40,
   "metadata": {},
   "outputs": [
    {
     "name": "stdout",
     "output_type": "stream",
     "text": [
      "11\n"
     ]
    }
   ],
   "source": [
    "x = 7 + 4\n",
    "print(x)"
   ]
  },
  {
   "cell_type": "code",
   "execution_count": 41,
   "metadata": {},
   "outputs": [
    {
     "name": "stdout",
     "output_type": "stream",
     "text": [
      "11\n"
     ]
    }
   ],
   "source": [
    "print(7 + 4)"
   ]
  },
  {
   "cell_type": "code",
   "execution_count": 42,
   "metadata": {},
   "outputs": [
    {
     "name": "stdout",
     "output_type": "stream",
     "text": [
      "1 2 3\n",
      "1 2 3\n"
     ]
    }
   ],
   "source": [
    "x = 1\n",
    "y = 2\n",
    "z = 3\n",
    "\n",
    "print(x, y, z)\n",
    "print(str(x) + \" \" + str(y) + \" \" + str(z))"
   ]
  },
  {
   "cell_type": "markdown",
   "metadata": {},
   "source": [
    "In the cell above we attempt to concatenate the values x, y and z with a space character. There are a few things to note:\n",
    "\n",
    "1. You can only concatenate strings together, so be sure to cast non-string variables into strings.\n",
    "2. The space character is wrapped with double quotes, but I could have used single quotes. What matters is consistency.\n",
    "3. The print statement has many parameters you can explore on your own time, but this is generally functional enough.\n",
    "\n",
    "### f - strings\n",
    "f -strings, or formatted string literals, are special because they contain expressions in curly braces which are evaluated at run time. Inside of these curly brackets you can make get calls from dictionaries, run arithmetic operations or call functions. You don't have to worry about casting. Also they look neat!"
   ]
  },
  {
   "cell_type": "code",
   "execution_count": 43,
   "metadata": {},
   "outputs": [
    {
     "name": "stdout",
     "output_type": "stream",
     "text": [
      "I am taking class 342 of the math major.\n"
     ]
    }
   ],
   "source": [
    "major = 'math'\n",
    "course = 342\n",
    "statement = f\"I am taking class {course} of the {major} major.\"\n",
    "\n",
    "print(statement)"
   ]
  },
  {
   "cell_type": "markdown",
   "metadata": {},
   "source": [
    "## Flow Control\n",
    "\n",
    "Often times we want to do different tasks under different conditions. For instance, if it's raining, we take an umbrella, otherwise we don't. This is called flow control. But before you learn about flow control statements, you first need to learn how to represent yes and no options, and you need to understand how to write branching points as Python code. To that end, let’s explore Boolean values, comparison operators, and Boolean operators.\n",
    "\n",
    "### Comparison Operators\n",
    "Comparison operators, also called relational operators, compare two values and evaluate down to a single Boolean value, that is, True or False. As we've seen, you can also use these operators with strings.\n",
    "\n",
    "Note: The difference between the `=` and `==` operators\n",
    "- The == operator (equal to) asks whether two values are the same as each other.\n",
    "- The = operator assigns the value on the right into the variable on the left."
   ]
  },
  {
   "cell_type": "code",
   "execution_count": 44,
   "metadata": {},
   "outputs": [
    {
     "data": {
      "text/plain": [
       "False"
      ]
     },
     "execution_count": 44,
     "metadata": {},
     "output_type": "execute_result"
    }
   ],
   "source": [
    "4 == 6 # tests for equivalence"
   ]
  },
  {
   "cell_type": "code",
   "execution_count": 45,
   "metadata": {},
   "outputs": [
    {
     "data": {
      "text/plain": [
       "True"
      ]
     },
     "execution_count": 45,
     "metadata": {},
     "output_type": "execute_result"
    }
   ],
   "source": [
    "4 != 6 # tests if not equivalent"
   ]
  },
  {
   "cell_type": "code",
   "execution_count": 46,
   "metadata": {},
   "outputs": [
    {
     "data": {
      "text/plain": [
       "True"
      ]
     },
     "execution_count": 46,
     "metadata": {},
     "output_type": "execute_result"
    }
   ],
   "source": [
    "4 < 6 # less than"
   ]
  },
  {
   "cell_type": "code",
   "execution_count": 47,
   "metadata": {},
   "outputs": [
    {
     "data": {
      "text/plain": [
       "True"
      ]
     },
     "execution_count": 47,
     "metadata": {},
     "output_type": "execute_result"
    }
   ],
   "source": [
    "4 <= 6 # less than or equal to"
   ]
  },
  {
   "cell_type": "code",
   "execution_count": 48,
   "metadata": {},
   "outputs": [
    {
     "data": {
      "text/plain": [
       "False"
      ]
     },
     "execution_count": 48,
     "metadata": {},
     "output_type": "execute_result"
    }
   ],
   "source": [
    "4 > 6 # greater than"
   ]
  },
  {
   "cell_type": "code",
   "execution_count": 49,
   "metadata": {},
   "outputs": [
    {
     "data": {
      "text/plain": [
       "False"
      ]
     },
     "execution_count": 49,
     "metadata": {},
     "output_type": "execute_result"
    }
   ],
   "source": [
    "4 >= 6 # greater than or equal to"
   ]
  },
  {
   "cell_type": "markdown",
   "metadata": {},
   "source": [
    "### Boolean Operators\n",
    "\n",
    "There are three Boolean operators, and, or, and not, that are used to compare Boolean values.\n",
    "\n",
    "- The `and` Boolean operator returns True if all Boolean values are true\n",
    "- The `or` Boolean operator returns True if at least one Boolean values are true\n",
    "- The `not` Boolean operator returns the opposite of a Boolean value\n",
    "\n",
    "Lets get our hands dirty!"
   ]
  },
  {
   "cell_type": "code",
   "execution_count": 50,
   "metadata": {},
   "outputs": [
    {
     "data": {
      "text/plain": [
       "True"
      ]
     },
     "execution_count": 50,
     "metadata": {},
     "output_type": "execute_result"
    }
   ],
   "source": [
    "True"
   ]
  },
  {
   "cell_type": "code",
   "execution_count": 51,
   "metadata": {},
   "outputs": [
    {
     "data": {
      "text/plain": [
       "False"
      ]
     },
     "execution_count": 51,
     "metadata": {},
     "output_type": "execute_result"
    }
   ],
   "source": [
    "False"
   ]
  },
  {
   "cell_type": "code",
   "execution_count": 52,
   "metadata": {},
   "outputs": [
    {
     "data": {
      "text/plain": [
       "True"
      ]
     },
     "execution_count": 52,
     "metadata": {},
     "output_type": "execute_result"
    }
   ],
   "source": [
    "True and True"
   ]
  },
  {
   "cell_type": "code",
   "execution_count": 53,
   "metadata": {},
   "outputs": [
    {
     "data": {
      "text/plain": [
       "False"
      ]
     },
     "execution_count": 53,
     "metadata": {},
     "output_type": "execute_result"
    }
   ],
   "source": [
    "False and True"
   ]
  },
  {
   "cell_type": "code",
   "execution_count": 54,
   "metadata": {},
   "outputs": [
    {
     "data": {
      "text/plain": [
       "False"
      ]
     },
     "execution_count": 54,
     "metadata": {},
     "output_type": "execute_result"
    }
   ],
   "source": [
    "False and False"
   ]
  },
  {
   "cell_type": "code",
   "execution_count": 55,
   "metadata": {},
   "outputs": [
    {
     "data": {
      "text/plain": [
       "True"
      ]
     },
     "execution_count": 55,
     "metadata": {},
     "output_type": "execute_result"
    }
   ],
   "source": [
    "True or True"
   ]
  },
  {
   "cell_type": "code",
   "execution_count": 56,
   "metadata": {},
   "outputs": [
    {
     "data": {
      "text/plain": [
       "True"
      ]
     },
     "execution_count": 56,
     "metadata": {},
     "output_type": "execute_result"
    }
   ],
   "source": [
    "True or False"
   ]
  },
  {
   "cell_type": "code",
   "execution_count": 57,
   "metadata": {},
   "outputs": [
    {
     "data": {
      "text/plain": [
       "False"
      ]
     },
     "execution_count": 57,
     "metadata": {},
     "output_type": "execute_result"
    }
   ],
   "source": [
    "False or False"
   ]
  },
  {
   "cell_type": "code",
   "execution_count": 58,
   "metadata": {},
   "outputs": [
    {
     "data": {
      "text/plain": [
       "False"
      ]
     },
     "execution_count": 58,
     "metadata": {},
     "output_type": "execute_result"
    }
   ],
   "source": [
    "not True"
   ]
  },
  {
   "cell_type": "code",
   "execution_count": 59,
   "metadata": {},
   "outputs": [
    {
     "data": {
      "text/plain": [
       "True"
      ]
     },
     "execution_count": 59,
     "metadata": {},
     "output_type": "execute_result"
    }
   ],
   "source": [
    "not False"
   ]
  },
  {
   "cell_type": "code",
   "execution_count": 60,
   "metadata": {},
   "outputs": [
    {
     "data": {
      "text/plain": [
       "True"
      ]
     },
     "execution_count": 60,
     "metadata": {},
     "output_type": "execute_result"
    }
   ],
   "source": [
    "not not True"
   ]
  },
  {
   "cell_type": "markdown",
   "metadata": {},
   "source": [
    "### If Statements\n",
    "\n",
    "If statements are how you execute a conditional in Python. An if statement consists of the following:\n",
    "\n",
    "- The `if` keyword\n",
    "- A condition that expresses either a True or False value\n",
    "- A colon\n",
    "- The code to execute if the condition is true, which is on the next line and indented"
   ]
  },
  {
   "cell_type": "code",
   "execution_count": 61,
   "metadata": {},
   "outputs": [
    {
     "name": "stdout",
     "output_type": "stream",
     "text": [
      "Fisher smokes Marlboros.\n"
     ]
    }
   ],
   "source": [
    "statistician = \"Fisher\"\n",
    "\n",
    "if statistician == \"Fisher\":\n",
    "    print(\"Fisher smokes Marlboros.\")"
   ]
  },
  {
   "cell_type": "markdown",
   "metadata": {},
   "source": [
    "If the first condition fails, you can add the `else` keyword to execute a different set of instructions. Lets test it out using the same example above."
   ]
  },
  {
   "cell_type": "code",
   "execution_count": 62,
   "metadata": {
    "tags": []
   },
   "outputs": [
    {
     "name": "stdout",
     "output_type": "stream",
     "text": [
      "Pearson probably believes smoking causes lung cancer.\n"
     ]
    }
   ],
   "source": [
    "statistician = \"Pearson\"\n",
    "\n",
    "if statistician == \"Fisher\":\n",
    "    print(\"Fisher smokes Marlboros.\")\n",
    "else:\n",
    "    print(statistician + \" probably believes smoking causes lung cancer.\")"
   ]
  },
  {
   "cell_type": "markdown",
   "metadata": {},
   "source": [
    "What if you have many possible clauses to execute, not just two? The `elif` statement (\"else if\") always follows an if statement, or another elif statement. It provides another condition that is only checked if all of the previous conditions were False. Once the interpreter executes a condition that is True, the interpreter then exits the if statement!"
   ]
  },
  {
   "cell_type": "code",
   "execution_count": 63,
   "metadata": {},
   "outputs": [
    {
     "name": "stdout",
     "output_type": "stream",
     "text": [
      "I should probably take more Kapelner classes...\n"
     ]
    }
   ],
   "source": [
    "mathematician = 'Laplace'\n",
    "\n",
    "if mathematician == 'Carl Friedrich Gauss':\n",
    "    print(\"Gauss is best known for the method of least squares\")\n",
    "    \n",
    "elif mathematician == 'Florence Nightingale':\n",
    "    print(\"Nightingale used her skills in data collection and analysis to provide evidence of unsanitary conditions for soldiers in the Crimean War.\")\n",
    "\n",
    "elif mathematician == 'C. R. Rao':\n",
    "    print(\"Rao is known for the Cramér–Rao bound, which expresses a lower bound on the variance of unbiased estimators.\")\n",
    "    \n",
    "else:\n",
    "    print(\"I should probably take more Kapelner classes...\")"
   ]
  },
  {
   "cell_type": "markdown",
   "metadata": {},
   "source": [
    "## Loops\n",
    "\n",
    "### While Loops\n",
    "\n",
    "You can make a block of code execute repeatedly using a `while` statement. As long as the condition is `True`, the loop will run, otherwise the interpreter exits the loop. A `while` loops consists of the following:\n",
    "\n",
    "- The `while` keyword\n",
    "- A condition that expresses either a True or False value\n",
    "- A colon\n",
    "- The code to execute if the condition is true, which is on the next line and indented (called the while clause)"
   ]
  },
  {
   "cell_type": "code",
   "execution_count": 64,
   "metadata": {},
   "outputs": [
    {
     "name": "stdout",
     "output_type": "stream",
     "text": [
      "I'll pop another blueberry\n",
      "I'll pop another blueberry\n",
      "I'll pop another blueberry\n",
      "I'll pop another blueberry\n",
      "I'll pop another blueberry\n",
      "I'll pop another blueberry\n",
      "I'll pop another blueberry\n",
      "I'll pop another blueberry\n",
      "I'll pop another blueberry\n",
      "I'll pop another blueberry\n",
      "Eh... only 10 blueberries. I should get some more.\n"
     ]
    }
   ],
   "source": [
    "number_of_blueberries_in_mouth = 0\n",
    "\n",
    "while number_of_blueberries_in_mouth < 10:\n",
    "    print(\"I'll pop another blueberry\")\n",
    "    number_of_blueberries_in_mouth += 1\n",
    "    \n",
    "print(\"Eh... only \" + str(number_of_blueberries_in_mouth) + \" blueberries. I should get some more.\")"
   ]
  },
  {
   "cell_type": "markdown",
   "metadata": {},
   "source": [
    "You don't have to wait for the condition to return a `False` value to exit the loop. You can use the `break` keyword to break out of the while loops clause early. Use an if statement to execute the `break`."
   ]
  },
  {
   "cell_type": "code",
   "execution_count": 65,
   "metadata": {},
   "outputs": [
    {
     "name": "stdout",
     "output_type": "stream",
     "text": [
      "I'll pop another blueberry\n",
      "I'll pop another blueberry\n",
      "I'll pop another blueberry\n",
      "I'll pop another blueberry\n",
      "I'll pop another blueberry\n",
      "I'll pop another blueberry\n",
      "I'll pop another blueberry\n",
      "I'll pop another blueberry\n",
      "I'll pop another blueberry\n",
      "I'll pop another blueberry\n",
      "I'll pop another blueberry\n",
      "I'll pop another blueberry\n",
      "I'll pop another blueberry\n",
      "I'll pop another blueberry\n",
      "I'll pop another blueberry\n",
      "I'll pop another blueberry\n",
      "I'll pop another blueberry\n",
      "I'll pop another blueberry\n",
      "I'll pop another blueberry\n",
      "I'll pop another blueberry\n",
      "I ate 20 blueberries. I am full.\n"
     ]
    }
   ],
   "source": [
    "number_of_blueberries_in_mouth = 0\n",
    "\n",
    "while number_of_blueberries_in_mouth < 100:\n",
    "    print(\"I'll pop another blueberry\")\n",
    "    number_of_blueberries_in_mouth += 1\n",
    "    \n",
    "    if number_of_blueberries_in_mouth == 20:\n",
    "        print(\"I ate \" + str(number_of_blueberries_in_mouth) + \" blueberries. I am full.\")\n",
    "        break"
   ]
  },
  {
   "cell_type": "markdown",
   "metadata": {},
   "source": [
    "Like `break`, you use `continue` inside a loop. When the program reaches a `continue` statement the interpreter jumps to the start of the while loop.\n",
    "\n",
    "Esteban is currently trying to login to his laptop, lets build a little login program."
   ]
  },
  {
   "cell_type": "code",
   "execution_count": 66,
   "metadata": {},
   "outputs": [
    {
     "name": "stdout",
     "output_type": "stream",
     "text": [
      "Who are you?\n",
      "\n",
      "Who are you?\n",
      "\n",
      "Who are you?\n",
      "Esteban Julio Roberto Montoya Dela Rosa Ramirez\n",
      "Hello, Esteban. What is the password? (Your pet.)\n",
      "chickens\n",
      "Access granted.\n"
     ]
    }
   ],
   "source": [
    "while True:\n",
    "    print('Who are you?')\n",
    "    name = input()\n",
    "    if name != 'Esteban Julio Roberto Montoya Dela Rosa Ramirez':\n",
    "        continue\n",
    "    print('Hello, Esteban. What is the password? (Your pet.)')\n",
    "        \n",
    "    password = input()\n",
    "    if password == 'chickens':\n",
    "        break\n",
    "\n",
    "print('Access granted.')"
   ]
  },
  {
   "cell_type": "markdown",
   "metadata": {},
   "source": [
    "### For Loops\n",
    "\n",
    "The while loop keeps looping while the condition is `True`, the for loop statement can execute a block of code a specified number of times. For instance, say you have a list of elements that you wish to run the same code on, you can use a for loop!\n",
    "\n",
    "A for loop entails:\n",
    "- The `for` keyword\n",
    "- A variable name (arbitrary)\n",
    "- The `in` keyword\n",
    "- A call to the `range()` method\n",
    "- A colon\n",
    "- Starting the next line, and indented block of code (called the `for` clause)\n",
    "\n",
    "The `range()` method must take in one argument, but it can take up to three arguments.\n",
    "1. A start argument (default is 0)\n",
    "2. An end argument (must be passed)\n",
    "3. The step argument (default is 1)"
   ]
  },
  {
   "cell_type": "code",
   "execution_count": 67,
   "metadata": {},
   "outputs": [
    {
     "name": "stdout",
     "output_type": "stream",
     "text": [
      "0\n",
      "1\n",
      "2\n",
      "3\n",
      "4\n"
     ]
    }
   ],
   "source": [
    "# Simple for loop to iterate over the numbers 0 - 5, excluding 5\n",
    "for i in range(5):\n",
    "    print(i)"
   ]
  },
  {
   "cell_type": "code",
   "execution_count": 68,
   "metadata": {},
   "outputs": [
    {
     "name": "stdout",
     "output_type": "stream",
     "text": [
      "4\n",
      "9\n",
      "15\n",
      "22\n",
      "30\n",
      "39\n"
     ]
    }
   ],
   "source": [
    "# A for loop to iterate over the numbers between 4 and 10, excluding 10\n",
    "sum_of_nums = 0\n",
    "for i in range(4, 10):\n",
    "    sum_of_nums += i\n",
    "    print(sum_of_nums)"
   ]
  },
  {
   "cell_type": "code",
   "execution_count": 69,
   "metadata": {},
   "outputs": [
    {
     "name": "stdout",
     "output_type": "stream",
     "text": [
      "0\n",
      "2\n",
      "6\n",
      "12\n",
      "20\n"
     ]
    }
   ],
   "source": [
    "# A for loop to iterate over the even numbers between 0 and 10, excluding 10\n",
    "sum_of_nums = 0\n",
    "for i in range(0, 10, 2):\n",
    "    sum_of_nums += i\n",
    "    print(sum_of_nums)"
   ]
  },
  {
   "cell_type": "markdown",
   "metadata": {},
   "source": [
    "## Lists\n",
    "\n",
    "A list is a data structure that contains multiple values in an ordered sequence. You can store an element of any data type in a list, and even elements of different data types in the same list. Let's look at a few examples."
   ]
  },
  {
   "cell_type": "code",
   "execution_count": 70,
   "metadata": {},
   "outputs": [
    {
     "data": {
      "text/plain": [
       "[1, 1, 2, 3, 5, 8, 13]"
      ]
     },
     "execution_count": 70,
     "metadata": {},
     "output_type": "execute_result"
    }
   ],
   "source": [
    "# Some cool numbers in a list\n",
    "list_of_numbers = [1, 1, 2, 3, 5, 8, 13]\n",
    "list_of_numbers"
   ]
  },
  {
   "cell_type": "code",
   "execution_count": 71,
   "metadata": {},
   "outputs": [
    {
     "data": {
      "text/plain": [
       "['Boston', 2000, 300000.0, 3, 2]"
      ]
     },
     "execution_count": 71,
     "metadata": {},
     "output_type": "execute_result"
    }
   ],
   "source": [
    "# Specifications of a house\n",
    "location = \"Boston\"\n",
    "sq_footage = 2000\n",
    "price = 3.0e5\n",
    "num_of_bedrooms = 3\n",
    "num_of_bathrooms = 2\n",
    "\n",
    "# Storing those specifications into a list\n",
    "house_1 = [location, sq_footage, price, num_of_bedrooms, num_of_bathrooms]\n",
    "house_1"
   ]
  },
  {
   "cell_type": "markdown",
   "metadata": {},
   "source": [
    "We can extract the value of a list by calling its index. Keep in mind that iterators in Python are 0 indexed. Indices can only be integer values, not floats. Python also supports negative indices to get values from the back of the list."
   ]
  },
  {
   "cell_type": "code",
   "execution_count": 72,
   "metadata": {},
   "outputs": [
    {
     "name": "stdout",
     "output_type": "stream",
     "text": [
      "The house is in Boston.\n",
      "There are 3 bedrooms in the house.\n"
     ]
    }
   ],
   "source": [
    "print(\"The house is in \" + str(house_1[0]) + \".\")\n",
    "print(\"There are \" + str(house_1[3]) + \" bedrooms in the house.\")"
   ]
  },
  {
   "cell_type": "markdown",
   "metadata": {},
   "source": [
    "Change the value of an element in the list by calling the element via its index and use the assignment operator.\n",
    "You can run mathematical operations on the list as well. You can concatenate lists using the `+` operator, and even multiply the list with the `*` operator.\n",
    "\n",
    "When using the `+` operator, think of it as concatenating two lists together, so remember to use your square brackets!"
   ]
  },
  {
   "cell_type": "code",
   "execution_count": 73,
   "metadata": {},
   "outputs": [
    {
     "data": {
      "text/plain": [
       "['Monaco', 2000, 300000.0, 3, 2]"
      ]
     },
     "execution_count": 73,
     "metadata": {},
     "output_type": "execute_result"
    }
   ],
   "source": [
    "# Changing location on house_1\n",
    "house_1[0] = \"Monaco\"\n",
    "house_1"
   ]
  },
  {
   "cell_type": "code",
   "execution_count": 74,
   "metadata": {},
   "outputs": [
    {
     "data": {
      "text/plain": [
       "['Monaco', 2000, 300000.0, 3, 2, True, 1]"
      ]
     },
     "execution_count": 74,
     "metadata": {},
     "output_type": "execute_result"
    }
   ],
   "source": [
    "garage = True\n",
    "kitchen = 1\n",
    "\n",
    "\n",
    "#house_1 += garage\n",
    "#house_1 += kitchen\n",
    "\n",
    "house_1 += [garage]\n",
    "house_1 += [kitchen]\n",
    "\n",
    "house_1"
   ]
  },
  {
   "cell_type": "code",
   "execution_count": 75,
   "metadata": {
    "scrolled": true
   },
   "outputs": [
    {
     "data": {
      "text/plain": [
       "['Monaco',\n",
       " 2000,\n",
       " 300000.0,\n",
       " 3,\n",
       " 2,\n",
       " True,\n",
       " 1,\n",
       " 'Monaco',\n",
       " 2000,\n",
       " 300000.0,\n",
       " 3,\n",
       " 2,\n",
       " True,\n",
       " 1]"
      ]
     },
     "execution_count": 75,
     "metadata": {},
     "output_type": "execute_result"
    }
   ],
   "source": [
    "# Multiplying the `house_1` list by 2\n",
    "house_1 *= 2\n",
    "house_1"
   ]
  },
  {
   "cell_type": "markdown",
   "metadata": {},
   "source": [
    "Remove an element from the list with the `del` statement. Lets take a look at the `house_1` list we created and remove the last value."
   ]
  },
  {
   "cell_type": "code",
   "execution_count": 76,
   "metadata": {},
   "outputs": [
    {
     "name": "stdout",
     "output_type": "stream",
     "text": [
      "['Monaco', 2000, 300000.0, 3, 2, True, 1, 'Monaco', 2000, 300000.0, 3, 2, True, 1]\n",
      "['Monaco', 2000, 300000.0, 3, 2, True, 1, 'Monaco', 2000, 300000.0, 3, 2, True]\n"
     ]
    }
   ],
   "source": [
    "print(house_1)\n",
    "del house_1[-1]\n",
    "print(house_1)"
   ]
  },
  {
   "cell_type": "markdown",
   "metadata": {
    "tags": []
   },
   "source": [
    "There's a lot a programmer can do with lists. You can sort the values in the list, reverse the elements of the list, make them mutable or immutable, reference values from memory (use the `#`), slice the list (use the `:` operator), and even find the index of an element in the list (use `variable.index('element')`).\n",
    "\n",
    "Lists are incredibly useful, and they have many applications! You'll run into them a lot in your Python journey, get comfortable using them.\n",
    "\n",
    "Now that we've tinkered with lists, lets get back to for loops. Let's use a for loop to iterate over a list of prices and find out how much I spent on breakfast!"
   ]
  },
  {
   "cell_type": "code",
   "execution_count": 77,
   "metadata": {
    "tags": []
   },
   "outputs": [
    {
     "name": "stdout",
     "output_type": "stream",
     "text": [
      "$3.99\n"
     ]
    }
   ],
   "source": [
    "breakfast_item_prices = [0.99, 2.50, 0.50] # list of prices\n",
    "price_of_breakfast = 0\n",
    "\n",
    "for item in breakfast_item_prices:\n",
    "    price_of_breakfast += item\n",
    "    \n",
    "print(\"$\" + str(price_of_breakfast))"
   ]
  },
  {
   "cell_type": "code",
   "execution_count": 78,
   "metadata": {
    "scrolled": true,
    "tags": []
   },
   "outputs": [
    {
     "name": "stdout",
     "output_type": "stream",
     "text": [
      "Index: 0\n",
      "Monaco\n",
      "\n",
      "Index: 1\n",
      "2000\n",
      "\n",
      "Index: 2\n",
      "300000.0\n",
      "\n",
      "Index: 3\n",
      "3\n",
      "\n",
      "Index: 4\n",
      "2\n",
      "\n",
      "Index: 5\n",
      "True\n",
      "\n",
      "Index: 6\n",
      "1\n",
      "\n",
      "Index: 7\n",
      "Monaco\n",
      "\n",
      "Index: 8\n",
      "2000\n",
      "\n",
      "Index: 9\n",
      "300000.0\n",
      "\n",
      "Index: 10\n",
      "3\n",
      "\n",
      "Index: 11\n",
      "2\n",
      "\n",
      "Index: 12\n",
      "True\n",
      "\n"
     ]
    }
   ],
   "source": [
    "# Lets use list indexing to extract elements from the list `house_1`\n",
    "\n",
    "for i in range(len(house_1)):\n",
    "    print(\"Index: \" + str(i))\n",
    "    print(str(house_1[i]) + '\\n')"
   ]
  },
  {
   "cell_type": "markdown",
   "metadata": {},
   "source": [
    "## Dictionaries\n",
    "\n",
    "Lists can store elements together in a collection. But as we see in the cell above, it would be useful to have labels for each element. Enter, dictionaries.\n",
    "\n",
    "Like a list, a dictionary is a mutable collection of values. But unlike indices for lists, indices for dictionaries can use many different data types, not just integers. Indices for dictionaries are called keys, and a key associated with a value is called a key-value pair. To create a dictionary in Python use curly brackets `{}`. Lets see a dictionary in action.\n",
    "\n",
    "Unlike lists, items in dictionaries are unordered. The first item in a list named spam would be spam[0]. But there is no “first” item in a dictionary, there is no index 0. While the order of items matters for determining whether two lists are the same, it does not matter in what order the key-value pairs are typed in a dictionary. Therefore, because dictionaries are not ordered, they can’t be sliced like lists.\n",
    "\n",
    "Lets consider our `house_1` list, we'll rewrite it as a dictionary so that it may be more useful."
   ]
  },
  {
   "cell_type": "code",
   "execution_count": 79,
   "metadata": {},
   "outputs": [],
   "source": [
    "# Specifications of a house\n",
    "location = \"Monaco\"\n",
    "sq_footage = 2000\n",
    "price = 3.0e5\n",
    "num_of_bedrooms = 3\n",
    "num_of_bathrooms = 2\n",
    "garage = True\n",
    "kitchen = 1\n",
    "\n",
    "h_1_dict = {\"Location\":location,\n",
    "               \"Square Footage\": sq_footage,\n",
    "               \"Price\":price,\n",
    "               \"Bedroom Count\":num_of_bedrooms,\n",
    "               \"Bathroom Count\":num_of_bathrooms,\n",
    "               \"Garage\":garage,\n",
    "               \"Kitchen\":kitchen\n",
    "               }"
   ]
  },
  {
   "cell_type": "markdown",
   "metadata": {},
   "source": [
    "The dictionary above, `h_1_dict`, has 7 keys (the strings on the left), and 7 corresponding values. Let's explore the dictionary."
   ]
  },
  {
   "cell_type": "code",
   "execution_count": 80,
   "metadata": {},
   "outputs": [
    {
     "name": "stdout",
     "output_type": "stream",
     "text": [
      "The house is in Monaco, and costs only 300000 dollars!\n"
     ]
    }
   ],
   "source": [
    "statement = \"The house is in \" + h_1_dict['Location'] + \", and costs only \" + str(int(h_1_dict['Price'])) + \" dollars!\"\n",
    "\n",
    "print(statement)"
   ]
  },
  {
   "cell_type": "markdown",
   "metadata": {},
   "source": [
    "There are three dictionary methods that will return list-like values of the dictionary’s keys, values, or both keys and values: `keys()`, `values()`, and `items()`. The values returned by these methods are not true lists: they cannot be modified and do not have an `append()` method. But these data types (dict_keys, dict_values, and dict_items, respectively) can be used in for loops."
   ]
  },
  {
   "cell_type": "code",
   "execution_count": 81,
   "metadata": {},
   "outputs": [
    {
     "name": "stdout",
     "output_type": "stream",
     "text": [
      "Location\n",
      "Square Footage\n",
      "Price\n",
      "Bedroom Count\n",
      "Bathroom Count\n",
      "Garage\n",
      "Kitchen\n"
     ]
    }
   ],
   "source": [
    "# printing keys in `h_1_dict`\n",
    "for k in h_1_dict.keys():\n",
    "    print(k)"
   ]
  },
  {
   "cell_type": "code",
   "execution_count": 82,
   "metadata": {},
   "outputs": [
    {
     "name": "stdout",
     "output_type": "stream",
     "text": [
      "Monaco\n",
      "2000\n",
      "300000.0\n",
      "3\n",
      "2\n",
      "True\n",
      "1\n"
     ]
    }
   ],
   "source": [
    "# printing values in `h_1_dict`\n",
    "for v in h_1_dict.values():\n",
    "    print(v)"
   ]
  },
  {
   "cell_type": "code",
   "execution_count": 83,
   "metadata": {},
   "outputs": [
    {
     "name": "stdout",
     "output_type": "stream",
     "text": [
      "('Location', 'Monaco')\n",
      "('Square Footage', 2000)\n",
      "('Price', 300000.0)\n",
      "('Bedroom Count', 3)\n",
      "('Bathroom Count', 2)\n",
      "('Garage', True)\n",
      "('Kitchen', 1)\n"
     ]
    }
   ],
   "source": [
    "# printing items in `h_1_dict`\n",
    "for i in h_1_dict.items():\n",
    "    print(i)"
   ]
  },
  {
   "cell_type": "markdown",
   "metadata": {},
   "source": [
    "## Randomness and Random Variables\n",
    "\n",
    "True randomization is impossible with modern computers (go talk CS 111 professor). You can however, generate pseudo-random numbers in Python through the `random()` module.\n",
    "\n",
    "### The `help()` Method\n",
    "\n",
    "Sometimes you might have a question about a function, or an object, or a library. You could of course google it, but keep in mind Python has the `help()` function. The Python help function is used to display the documentation of modules, functions, classes, keywords, etc. Let's use it to better understand the `random` library."
   ]
  },
  {
   "cell_type": "code",
   "execution_count": 84,
   "metadata": {},
   "outputs": [
    {
     "name": "stdout",
     "output_type": "stream",
     "text": [
      "Help on module random:\n",
      "\n",
      "NAME\n",
      "    random - Random variable generators.\n",
      "\n",
      "MODULE REFERENCE\n",
      "    https://docs.python.org/3.8/library/random\n",
      "    \n",
      "    The following documentation is automatically generated from the Python\n",
      "    source files.  It may be incomplete, incorrect or include features that\n",
      "    are considered implementation detail and may vary between Python\n",
      "    implementations.  When in doubt, consult the module reference at the\n",
      "    location listed above.\n",
      "\n",
      "DESCRIPTION\n",
      "        integers\n",
      "        --------\n",
      "               uniform within range\n",
      "    \n",
      "        sequences\n",
      "        ---------\n",
      "               pick random element\n",
      "               pick random sample\n",
      "               pick weighted random sample\n",
      "               generate random permutation\n",
      "    \n",
      "        distributions on the real line:\n",
      "        ------------------------------\n",
      "               uniform\n",
      "               triangular\n",
      "               normal (Gaussian)\n",
      "               lognormal\n",
      "               negative exponential\n",
      "               gamma\n",
      "               beta\n",
      "               pareto\n",
      "               Weibull\n",
      "    \n",
      "        distributions on the circle (angles 0 to 2pi)\n",
      "        ---------------------------------------------\n",
      "               circular uniform\n",
      "               von Mises\n",
      "    \n",
      "    General notes on the underlying Mersenne Twister core generator:\n",
      "    \n",
      "    * The period is 2**19937-1.\n",
      "    * It is one of the most extensively tested generators in existence.\n",
      "    * The random() method is implemented in C, executes in a single Python step,\n",
      "      and is, therefore, threadsafe.\n",
      "\n",
      "CLASSES\n",
      "    _random.Random(builtins.object)\n",
      "        Random\n",
      "            SystemRandom\n",
      "    \n",
      "    class Random(_random.Random)\n",
      "     |  Random(x=None)\n",
      "     |  \n",
      "     |  Random number generator base class used by bound module functions.\n",
      "     |  \n",
      "     |  Used to instantiate instances of Random to get generators that don't\n",
      "     |  share state.\n",
      "     |  \n",
      "     |  Class Random can also be subclassed if you want to use a different basic\n",
      "     |  generator of your own devising: in that case, override the following\n",
      "     |  methods:  random(), seed(), getstate(), and setstate().\n",
      "     |  Optionally, implement a getrandbits() method so that randrange()\n",
      "     |  can cover arbitrarily large ranges.\n",
      "     |  \n",
      "     |  Method resolution order:\n",
      "     |      Random\n",
      "     |      _random.Random\n",
      "     |      builtins.object\n",
      "     |  \n",
      "     |  Methods defined here:\n",
      "     |  \n",
      "     |  __getstate__(self)\n",
      "     |      # Issue 17489: Since __reduce__ was defined to fix #759889 this is no\n",
      "     |      # longer called; we leave it here because it has been here since random was\n",
      "     |      # rewritten back in 2001 and why risk breaking something.\n",
      "     |  \n",
      "     |  __init__(self, x=None)\n",
      "     |      Initialize an instance.\n",
      "     |      \n",
      "     |      Optional argument x controls seeding, as for Random.seed().\n",
      "     |  \n",
      "     |  __reduce__(self)\n",
      "     |      Helper for pickle.\n",
      "     |  \n",
      "     |  __setstate__(self, state)\n",
      "     |  \n",
      "     |  betavariate(self, alpha, beta)\n",
      "     |      Beta distribution.\n",
      "     |      \n",
      "     |      Conditions on the parameters are alpha > 0 and beta > 0.\n",
      "     |      Returned values range between 0 and 1.\n",
      "     |  \n",
      "     |  choice(self, seq)\n",
      "     |      Choose a random element from a non-empty sequence.\n",
      "     |  \n",
      "     |  choices(self, population, weights=None, *, cum_weights=None, k=1)\n",
      "     |      Return a k sized list of population elements chosen with replacement.\n",
      "     |      \n",
      "     |      If the relative weights or cumulative weights are not specified,\n",
      "     |      the selections are made with equal probability.\n",
      "     |  \n",
      "     |  expovariate(self, lambd)\n",
      "     |      Exponential distribution.\n",
      "     |      \n",
      "     |      lambd is 1.0 divided by the desired mean.  It should be\n",
      "     |      nonzero.  (The parameter would be called \"lambda\", but that is\n",
      "     |      a reserved word in Python.)  Returned values range from 0 to\n",
      "     |      positive infinity if lambd is positive, and from negative\n",
      "     |      infinity to 0 if lambd is negative.\n",
      "     |  \n",
      "     |  gammavariate(self, alpha, beta)\n",
      "     |      Gamma distribution.  Not the gamma function!\n",
      "     |      \n",
      "     |      Conditions on the parameters are alpha > 0 and beta > 0.\n",
      "     |      \n",
      "     |      The probability distribution function is:\n",
      "     |      \n",
      "     |                  x ** (alpha - 1) * math.exp(-x / beta)\n",
      "     |        pdf(x) =  --------------------------------------\n",
      "     |                    math.gamma(alpha) * beta ** alpha\n",
      "     |  \n",
      "     |  gauss(self, mu, sigma)\n",
      "     |      Gaussian distribution.\n",
      "     |      \n",
      "     |      mu is the mean, and sigma is the standard deviation.  This is\n",
      "     |      slightly faster than the normalvariate() function.\n",
      "     |      \n",
      "     |      Not thread-safe without a lock around calls.\n",
      "     |  \n",
      "     |  getstate(self)\n",
      "     |      Return internal state; can be passed to setstate() later.\n",
      "     |  \n",
      "     |  lognormvariate(self, mu, sigma)\n",
      "     |      Log normal distribution.\n",
      "     |      \n",
      "     |      If you take the natural logarithm of this distribution, you'll get a\n",
      "     |      normal distribution with mean mu and standard deviation sigma.\n",
      "     |      mu can have any value, and sigma must be greater than zero.\n",
      "     |  \n",
      "     |  normalvariate(self, mu, sigma)\n",
      "     |      Normal distribution.\n",
      "     |      \n",
      "     |      mu is the mean, and sigma is the standard deviation.\n",
      "     |  \n",
      "     |  paretovariate(self, alpha)\n",
      "     |      Pareto distribution.  alpha is the shape parameter.\n",
      "     |  \n",
      "     |  randint(self, a, b)\n",
      "     |      Return random integer in range [a, b], including both end points.\n",
      "     |  \n",
      "     |  randrange(self, start, stop=None, step=1, _int=<class 'int'>)\n",
      "     |      Choose a random item from range(start, stop[, step]).\n",
      "     |      \n",
      "     |      This fixes the problem with randint() which includes the\n",
      "     |      endpoint; in Python this is usually not what you want.\n",
      "     |  \n",
      "     |  sample(self, population, k)\n",
      "     |      Chooses k unique random elements from a population sequence or set.\n",
      "     |      \n",
      "     |      Returns a new list containing elements from the population while\n",
      "     |      leaving the original population unchanged.  The resulting list is\n",
      "     |      in selection order so that all sub-slices will also be valid random\n",
      "     |      samples.  This allows raffle winners (the sample) to be partitioned\n",
      "     |      into grand prize and second place winners (the subslices).\n",
      "     |      \n",
      "     |      Members of the population need not be hashable or unique.  If the\n",
      "     |      population contains repeats, then each occurrence is a possible\n",
      "     |      selection in the sample.\n",
      "     |      \n",
      "     |      To choose a sample in a range of integers, use range as an argument.\n",
      "     |      This is especially fast and space efficient for sampling from a\n",
      "     |      large population:   sample(range(10000000), 60)\n",
      "     |  \n",
      "     |  seed(self, a=None, version=2)\n",
      "     |      Initialize internal state from hashable object.\n",
      "     |      \n",
      "     |      None or no argument seeds from current time or from an operating\n",
      "     |      system specific randomness source if available.\n",
      "     |      \n",
      "     |      If *a* is an int, all bits are used.\n",
      "     |      \n",
      "     |      For version 2 (the default), all of the bits are used if *a* is a str,\n",
      "     |      bytes, or bytearray.  For version 1 (provided for reproducing random\n",
      "     |      sequences from older versions of Python), the algorithm for str and\n",
      "     |      bytes generates a narrower range of seeds.\n",
      "     |  \n",
      "     |  setstate(self, state)\n",
      "     |      Restore internal state from object returned by getstate().\n",
      "     |  \n",
      "     |  shuffle(self, x, random=None)\n",
      "     |      Shuffle list x in place, and return None.\n",
      "     |      \n",
      "     |      Optional argument random is a 0-argument function returning a\n",
      "     |      random float in [0.0, 1.0); if it is the default None, the\n",
      "     |      standard random.random will be used.\n",
      "     |  \n",
      "     |  triangular(self, low=0.0, high=1.0, mode=None)\n",
      "     |      Triangular distribution.\n",
      "     |      \n",
      "     |      Continuous distribution bounded by given lower and upper limits,\n",
      "     |      and having a given mode value in-between.\n",
      "     |      \n",
      "     |      http://en.wikipedia.org/wiki/Triangular_distribution\n",
      "     |  \n",
      "     |  uniform(self, a, b)\n",
      "     |      Get a random number in the range [a, b) or [a, b] depending on rounding.\n",
      "     |  \n",
      "     |  vonmisesvariate(self, mu, kappa)\n",
      "     |      Circular data distribution.\n",
      "     |      \n",
      "     |      mu is the mean angle, expressed in radians between 0 and 2*pi, and\n",
      "     |      kappa is the concentration parameter, which must be greater than or\n",
      "     |      equal to zero.  If kappa is equal to zero, this distribution reduces\n",
      "     |      to a uniform random angle over the range 0 to 2*pi.\n",
      "     |  \n",
      "     |  weibullvariate(self, alpha, beta)\n",
      "     |      Weibull distribution.\n",
      "     |      \n",
      "     |      alpha is the scale parameter and beta is the shape parameter.\n",
      "     |  \n",
      "     |  ----------------------------------------------------------------------\n",
      "     |  Class methods defined here:\n",
      "     |  \n",
      "     |  __init_subclass__(**kwargs) from builtins.type\n",
      "     |      Control how subclasses generate random integers.\n",
      "     |      \n",
      "     |      The algorithm a subclass can use depends on the random() and/or\n",
      "     |      getrandbits() implementation available to it and determines\n",
      "     |      whether it can generate random integers from arbitrarily large\n",
      "     |      ranges.\n",
      "     |  \n",
      "     |  ----------------------------------------------------------------------\n",
      "     |  Data descriptors defined here:\n",
      "     |  \n",
      "     |  __dict__\n",
      "     |      dictionary for instance variables (if defined)\n",
      "     |  \n",
      "     |  __weakref__\n",
      "     |      list of weak references to the object (if defined)\n",
      "     |  \n",
      "     |  ----------------------------------------------------------------------\n",
      "     |  Data and other attributes defined here:\n",
      "     |  \n",
      "     |  VERSION = 3\n",
      "     |  \n",
      "     |  ----------------------------------------------------------------------\n",
      "     |  Methods inherited from _random.Random:\n",
      "     |  \n",
      "     |  __getattribute__(self, name, /)\n",
      "     |      Return getattr(self, name).\n",
      "     |  \n",
      "     |  getrandbits(self, k, /)\n",
      "     |      getrandbits(k) -> x.  Generates an int with k random bits.\n",
      "     |  \n",
      "     |  random(self, /)\n",
      "     |      random() -> x in the interval [0, 1).\n",
      "     |  \n",
      "     |  ----------------------------------------------------------------------\n",
      "     |  Static methods inherited from _random.Random:\n",
      "     |  \n",
      "     |  __new__(*args, **kwargs) from builtins.type\n",
      "     |      Create and return a new object.  See help(type) for accurate signature.\n",
      "    \n",
      "    class SystemRandom(Random)\n",
      "     |  SystemRandom(x=None)\n",
      "     |  \n",
      "     |  Alternate random number generator using sources provided\n",
      "     |  by the operating system (such as /dev/urandom on Unix or\n",
      "     |  CryptGenRandom on Windows).\n",
      "     |  \n",
      "     |   Not available on all systems (see os.urandom() for details).\n",
      "     |  \n",
      "     |  Method resolution order:\n",
      "     |      SystemRandom\n",
      "     |      Random\n",
      "     |      _random.Random\n",
      "     |      builtins.object\n",
      "     |  \n",
      "     |  Methods defined here:\n",
      "     |  \n",
      "     |  getrandbits(self, k)\n",
      "     |      getrandbits(k) -> x.  Generates an int with k random bits.\n",
      "     |  \n",
      "     |  getstate = _notimplemented(self, *args, **kwds)\n",
      "     |  \n",
      "     |  random(self)\n",
      "     |      Get the next random number in the range [0.0, 1.0).\n",
      "     |  \n",
      "     |  seed(self, *args, **kwds)\n",
      "     |      Stub method.  Not used for a system random number generator.\n",
      "     |  \n",
      "     |  setstate = _notimplemented(self, *args, **kwds)\n",
      "     |  \n",
      "     |  ----------------------------------------------------------------------\n",
      "     |  Methods inherited from Random:\n",
      "     |  \n",
      "     |  __getstate__(self)\n",
      "     |      # Issue 17489: Since __reduce__ was defined to fix #759889 this is no\n",
      "     |      # longer called; we leave it here because it has been here since random was\n",
      "     |      # rewritten back in 2001 and why risk breaking something.\n",
      "     |  \n",
      "     |  __init__(self, x=None)\n",
      "     |      Initialize an instance.\n",
      "     |      \n",
      "     |      Optional argument x controls seeding, as for Random.seed().\n",
      "     |  \n",
      "     |  __reduce__(self)\n",
      "     |      Helper for pickle.\n",
      "     |  \n",
      "     |  __setstate__(self, state)\n",
      "     |  \n",
      "     |  betavariate(self, alpha, beta)\n",
      "     |      Beta distribution.\n",
      "     |      \n",
      "     |      Conditions on the parameters are alpha > 0 and beta > 0.\n",
      "     |      Returned values range between 0 and 1.\n",
      "     |  \n",
      "     |  choice(self, seq)\n",
      "     |      Choose a random element from a non-empty sequence.\n",
      "     |  \n",
      "     |  choices(self, population, weights=None, *, cum_weights=None, k=1)\n",
      "     |      Return a k sized list of population elements chosen with replacement.\n",
      "     |      \n",
      "     |      If the relative weights or cumulative weights are not specified,\n",
      "     |      the selections are made with equal probability.\n",
      "     |  \n",
      "     |  expovariate(self, lambd)\n",
      "     |      Exponential distribution.\n",
      "     |      \n",
      "     |      lambd is 1.0 divided by the desired mean.  It should be\n",
      "     |      nonzero.  (The parameter would be called \"lambda\", but that is\n",
      "     |      a reserved word in Python.)  Returned values range from 0 to\n",
      "     |      positive infinity if lambd is positive, and from negative\n",
      "     |      infinity to 0 if lambd is negative.\n",
      "     |  \n",
      "     |  gammavariate(self, alpha, beta)\n",
      "     |      Gamma distribution.  Not the gamma function!\n",
      "     |      \n",
      "     |      Conditions on the parameters are alpha > 0 and beta > 0.\n",
      "     |      \n",
      "     |      The probability distribution function is:\n",
      "     |      \n",
      "     |                  x ** (alpha - 1) * math.exp(-x / beta)\n",
      "     |        pdf(x) =  --------------------------------------\n",
      "     |                    math.gamma(alpha) * beta ** alpha\n",
      "     |  \n",
      "     |  gauss(self, mu, sigma)\n",
      "     |      Gaussian distribution.\n",
      "     |      \n",
      "     |      mu is the mean, and sigma is the standard deviation.  This is\n",
      "     |      slightly faster than the normalvariate() function.\n",
      "     |      \n",
      "     |      Not thread-safe without a lock around calls.\n",
      "     |  \n",
      "     |  lognormvariate(self, mu, sigma)\n",
      "     |      Log normal distribution.\n",
      "     |      \n",
      "     |      If you take the natural logarithm of this distribution, you'll get a\n",
      "     |      normal distribution with mean mu and standard deviation sigma.\n",
      "     |      mu can have any value, and sigma must be greater than zero.\n",
      "     |  \n",
      "     |  normalvariate(self, mu, sigma)\n",
      "     |      Normal distribution.\n",
      "     |      \n",
      "     |      mu is the mean, and sigma is the standard deviation.\n",
      "     |  \n",
      "     |  paretovariate(self, alpha)\n",
      "     |      Pareto distribution.  alpha is the shape parameter.\n",
      "     |  \n",
      "     |  randint(self, a, b)\n",
      "     |      Return random integer in range [a, b], including both end points.\n",
      "     |  \n",
      "     |  randrange(self, start, stop=None, step=1, _int=<class 'int'>)\n",
      "     |      Choose a random item from range(start, stop[, step]).\n",
      "     |      \n",
      "     |      This fixes the problem with randint() which includes the\n",
      "     |      endpoint; in Python this is usually not what you want.\n",
      "     |  \n",
      "     |  sample(self, population, k)\n",
      "     |      Chooses k unique random elements from a population sequence or set.\n",
      "     |      \n",
      "     |      Returns a new list containing elements from the population while\n",
      "     |      leaving the original population unchanged.  The resulting list is\n",
      "     |      in selection order so that all sub-slices will also be valid random\n",
      "     |      samples.  This allows raffle winners (the sample) to be partitioned\n",
      "     |      into grand prize and second place winners (the subslices).\n",
      "     |      \n",
      "     |      Members of the population need not be hashable or unique.  If the\n",
      "     |      population contains repeats, then each occurrence is a possible\n",
      "     |      selection in the sample.\n",
      "     |      \n",
      "     |      To choose a sample in a range of integers, use range as an argument.\n",
      "     |      This is especially fast and space efficient for sampling from a\n",
      "     |      large population:   sample(range(10000000), 60)\n",
      "     |  \n",
      "     |  shuffle(self, x, random=None)\n",
      "     |      Shuffle list x in place, and return None.\n",
      "     |      \n",
      "     |      Optional argument random is a 0-argument function returning a\n",
      "     |      random float in [0.0, 1.0); if it is the default None, the\n",
      "     |      standard random.random will be used.\n",
      "     |  \n",
      "     |  triangular(self, low=0.0, high=1.0, mode=None)\n",
      "     |      Triangular distribution.\n",
      "     |      \n",
      "     |      Continuous distribution bounded by given lower and upper limits,\n",
      "     |      and having a given mode value in-between.\n",
      "     |      \n",
      "     |      http://en.wikipedia.org/wiki/Triangular_distribution\n",
      "     |  \n",
      "     |  uniform(self, a, b)\n",
      "     |      Get a random number in the range [a, b) or [a, b] depending on rounding.\n",
      "     |  \n",
      "     |  vonmisesvariate(self, mu, kappa)\n",
      "     |      Circular data distribution.\n",
      "     |      \n",
      "     |      mu is the mean angle, expressed in radians between 0 and 2*pi, and\n",
      "     |      kappa is the concentration parameter, which must be greater than or\n",
      "     |      equal to zero.  If kappa is equal to zero, this distribution reduces\n",
      "     |      to a uniform random angle over the range 0 to 2*pi.\n",
      "     |  \n",
      "     |  weibullvariate(self, alpha, beta)\n",
      "     |      Weibull distribution.\n",
      "     |      \n",
      "     |      alpha is the scale parameter and beta is the shape parameter.\n",
      "     |  \n",
      "     |  ----------------------------------------------------------------------\n",
      "     |  Class methods inherited from Random:\n",
      "     |  \n",
      "     |  __init_subclass__(**kwargs) from builtins.type\n",
      "     |      Control how subclasses generate random integers.\n",
      "     |      \n",
      "     |      The algorithm a subclass can use depends on the random() and/or\n",
      "     |      getrandbits() implementation available to it and determines\n",
      "     |      whether it can generate random integers from arbitrarily large\n",
      "     |      ranges.\n",
      "     |  \n",
      "     |  ----------------------------------------------------------------------\n",
      "     |  Data descriptors inherited from Random:\n",
      "     |  \n",
      "     |  __dict__\n",
      "     |      dictionary for instance variables (if defined)\n",
      "     |  \n",
      "     |  __weakref__\n",
      "     |      list of weak references to the object (if defined)\n",
      "     |  \n",
      "     |  ----------------------------------------------------------------------\n",
      "     |  Data and other attributes inherited from Random:\n",
      "     |  \n",
      "     |  VERSION = 3\n",
      "     |  \n",
      "     |  ----------------------------------------------------------------------\n",
      "     |  Methods inherited from _random.Random:\n",
      "     |  \n",
      "     |  __getattribute__(self, name, /)\n",
      "     |      Return getattr(self, name).\n",
      "     |  \n",
      "     |  ----------------------------------------------------------------------\n",
      "     |  Static methods inherited from _random.Random:\n",
      "     |  \n",
      "     |  __new__(*args, **kwargs) from builtins.type\n",
      "     |      Create and return a new object.  See help(type) for accurate signature.\n",
      "\n",
      "FUNCTIONS\n",
      "    betavariate(alpha, beta) method of Random instance\n",
      "        Beta distribution.\n",
      "        \n",
      "        Conditions on the parameters are alpha > 0 and beta > 0.\n",
      "        Returned values range between 0 and 1.\n",
      "    \n",
      "    choice(seq) method of Random instance\n",
      "        Choose a random element from a non-empty sequence.\n",
      "    \n",
      "    choices(population, weights=None, *, cum_weights=None, k=1) method of Random instance\n",
      "        Return a k sized list of population elements chosen with replacement.\n",
      "        \n",
      "        If the relative weights or cumulative weights are not specified,\n",
      "        the selections are made with equal probability.\n",
      "    \n",
      "    expovariate(lambd) method of Random instance\n",
      "        Exponential distribution.\n",
      "        \n",
      "        lambd is 1.0 divided by the desired mean.  It should be\n",
      "        nonzero.  (The parameter would be called \"lambda\", but that is\n",
      "        a reserved word in Python.)  Returned values range from 0 to\n",
      "        positive infinity if lambd is positive, and from negative\n",
      "        infinity to 0 if lambd is negative.\n",
      "    \n",
      "    gammavariate(alpha, beta) method of Random instance\n",
      "        Gamma distribution.  Not the gamma function!\n",
      "        \n",
      "        Conditions on the parameters are alpha > 0 and beta > 0.\n",
      "        \n",
      "        The probability distribution function is:\n",
      "        \n",
      "                    x ** (alpha - 1) * math.exp(-x / beta)\n",
      "          pdf(x) =  --------------------------------------\n",
      "                      math.gamma(alpha) * beta ** alpha\n",
      "    \n",
      "    gauss(mu, sigma) method of Random instance\n",
      "        Gaussian distribution.\n",
      "        \n",
      "        mu is the mean, and sigma is the standard deviation.  This is\n",
      "        slightly faster than the normalvariate() function.\n",
      "        \n",
      "        Not thread-safe without a lock around calls.\n",
      "    \n",
      "    getrandbits(k, /) method of Random instance\n",
      "        getrandbits(k) -> x.  Generates an int with k random bits.\n",
      "    \n",
      "    getstate() method of Random instance\n",
      "        Return internal state; can be passed to setstate() later.\n",
      "    \n",
      "    lognormvariate(mu, sigma) method of Random instance\n",
      "        Log normal distribution.\n",
      "        \n",
      "        If you take the natural logarithm of this distribution, you'll get a\n",
      "        normal distribution with mean mu and standard deviation sigma.\n",
      "        mu can have any value, and sigma must be greater than zero.\n",
      "    \n",
      "    normalvariate(mu, sigma) method of Random instance\n",
      "        Normal distribution.\n",
      "        \n",
      "        mu is the mean, and sigma is the standard deviation.\n",
      "    \n",
      "    paretovariate(alpha) method of Random instance\n",
      "        Pareto distribution.  alpha is the shape parameter.\n",
      "    \n",
      "    randint(a, b) method of Random instance\n",
      "        Return random integer in range [a, b], including both end points.\n",
      "    \n",
      "    random() method of Random instance\n",
      "        random() -> x in the interval [0, 1).\n",
      "    \n",
      "    randrange(start, stop=None, step=1, _int=<class 'int'>) method of Random instance\n",
      "        Choose a random item from range(start, stop[, step]).\n",
      "        \n",
      "        This fixes the problem with randint() which includes the\n",
      "        endpoint; in Python this is usually not what you want.\n",
      "    \n",
      "    sample(population, k) method of Random instance\n",
      "        Chooses k unique random elements from a population sequence or set.\n",
      "        \n",
      "        Returns a new list containing elements from the population while\n",
      "        leaving the original population unchanged.  The resulting list is\n",
      "        in selection order so that all sub-slices will also be valid random\n",
      "        samples.  This allows raffle winners (the sample) to be partitioned\n",
      "        into grand prize and second place winners (the subslices).\n",
      "        \n",
      "        Members of the population need not be hashable or unique.  If the\n",
      "        population contains repeats, then each occurrence is a possible\n",
      "        selection in the sample.\n",
      "        \n",
      "        To choose a sample in a range of integers, use range as an argument.\n",
      "        This is especially fast and space efficient for sampling from a\n",
      "        large population:   sample(range(10000000), 60)\n",
      "    \n",
      "    seed(a=None, version=2) method of Random instance\n",
      "        Initialize internal state from hashable object.\n",
      "        \n",
      "        None or no argument seeds from current time or from an operating\n",
      "        system specific randomness source if available.\n",
      "        \n",
      "        If *a* is an int, all bits are used.\n",
      "        \n",
      "        For version 2 (the default), all of the bits are used if *a* is a str,\n",
      "        bytes, or bytearray.  For version 1 (provided for reproducing random\n",
      "        sequences from older versions of Python), the algorithm for str and\n",
      "        bytes generates a narrower range of seeds.\n",
      "    \n",
      "    setstate(state) method of Random instance\n",
      "        Restore internal state from object returned by getstate().\n",
      "    \n",
      "    shuffle(x, random=None) method of Random instance\n",
      "        Shuffle list x in place, and return None.\n",
      "        \n",
      "        Optional argument random is a 0-argument function returning a\n",
      "        random float in [0.0, 1.0); if it is the default None, the\n",
      "        standard random.random will be used.\n",
      "    \n",
      "    triangular(low=0.0, high=1.0, mode=None) method of Random instance\n",
      "        Triangular distribution.\n",
      "        \n",
      "        Continuous distribution bounded by given lower and upper limits,\n",
      "        and having a given mode value in-between.\n",
      "        \n",
      "        http://en.wikipedia.org/wiki/Triangular_distribution\n",
      "    \n",
      "    uniform(a, b) method of Random instance\n",
      "        Get a random number in the range [a, b) or [a, b] depending on rounding.\n",
      "    \n",
      "    vonmisesvariate(mu, kappa) method of Random instance\n",
      "        Circular data distribution.\n",
      "        \n",
      "        mu is the mean angle, expressed in radians between 0 and 2*pi, and\n",
      "        kappa is the concentration parameter, which must be greater than or\n",
      "        equal to zero.  If kappa is equal to zero, this distribution reduces\n",
      "        to a uniform random angle over the range 0 to 2*pi.\n",
      "    \n",
      "    weibullvariate(alpha, beta) method of Random instance\n",
      "        Weibull distribution.\n",
      "        \n",
      "        alpha is the scale parameter and beta is the shape parameter.\n",
      "\n",
      "DATA\n",
      "    __all__ = ['Random', 'seed', 'random', 'uniform', 'randint', 'choice',...\n",
      "\n",
      "FILE\n",
      "    e:\\users\\amira\\anaconda\\lib\\random.py\n",
      "\n",
      "\n"
     ]
    }
   ],
   "source": [
    "# Importing the random module\n",
    "import random\n",
    "\n",
    "# Calling the help function on the random library\n",
    "help(random)"
   ]
  },
  {
   "cell_type": "markdown",
   "metadata": {
    "tags": []
   },
   "source": [
    "There are numerous functions and methods in the `random` library. You might find the integer section and the distributions on the real line useful. Below are a few examples."
   ]
  },
  {
   "cell_type": "code",
   "execution_count": 85,
   "metadata": {},
   "outputs": [
    {
     "name": "stdout",
     "output_type": "stream",
     "text": [
      "4\n"
     ]
    }
   ],
   "source": [
    "# Get a random number between 1 and 10\n",
    "a = random.randint(1, 10)\n",
    "print(a)"
   ]
  },
  {
   "cell_type": "code",
   "execution_count": 86,
   "metadata": {},
   "outputs": [
    {
     "name": "stdout",
     "output_type": "stream",
     "text": [
      "Help on method gauss in module random:\n",
      "\n",
      "gauss(mu, sigma) method of random.Random instance\n",
      "    Gaussian distribution.\n",
      "    \n",
      "    mu is the mean, and sigma is the standard deviation.  This is\n",
      "    slightly faster than the normalvariate() function.\n",
      "    \n",
      "    Not thread-safe without a lock around calls.\n",
      "\n",
      "None\n"
     ]
    }
   ],
   "source": [
    "# Lets see the documentation for the gauss function in the random library\n",
    "print(help(random.gauss))"
   ]
  },
  {
   "cell_type": "code",
   "execution_count": 87,
   "metadata": {},
   "outputs": [
    {
     "data": {
      "text/plain": [
       "-0.15839867853333564"
      ]
     },
     "execution_count": 87,
     "metadata": {},
     "output_type": "execute_result"
    }
   ],
   "source": [
    "random.gauss(0, 1)"
   ]
  },
  {
   "cell_type": "markdown",
   "metadata": {},
   "source": [
    "The above line of code is outputting a realization from the standard normal random variable (take Advanced Probability). Everytime we run that cell, we realize a new value from the standard normal (hence random).\n",
    "\n",
    "Sometimes a programmer needs to keep that value consistent while debugging or rerunning the script. You can make the randomness deterministic. This is called setting a seed. Notice, that no matter how many times you run the cell below, the realization does not change unless one changes the state of the seed.\n",
    "\n",
    "Note that the seed only takes effect in the current cell, so save that realization to a variable to use it in other cells."
   ]
  },
  {
   "cell_type": "code",
   "execution_count": 99,
   "metadata": {},
   "outputs": [
    {
     "data": {
      "text/plain": [
       "-0.7640053408801747"
      ]
     },
     "execution_count": 99,
     "metadata": {},
     "output_type": "execute_result"
    }
   ],
   "source": [
    "# Setting seed\n",
    "random.seed(1984)\n",
    "\n",
    "# Realizing from Std. Normal\n",
    "random.gauss(0, 1)"
   ]
  }
 ],
 "metadata": {
  "kernelspec": {
   "display_name": "Python 3",
   "language": "python",
   "name": "python3"
  },
  "language_info": {
   "codemirror_mode": {
    "name": "ipython",
    "version": 3
   },
   "file_extension": ".py",
   "mimetype": "text/x-python",
   "name": "python",
   "nbconvert_exporter": "python",
   "pygments_lexer": "ipython3",
   "version": "3.8.5"
  }
 },
 "nbformat": 4,
 "nbformat_minor": 4
}
