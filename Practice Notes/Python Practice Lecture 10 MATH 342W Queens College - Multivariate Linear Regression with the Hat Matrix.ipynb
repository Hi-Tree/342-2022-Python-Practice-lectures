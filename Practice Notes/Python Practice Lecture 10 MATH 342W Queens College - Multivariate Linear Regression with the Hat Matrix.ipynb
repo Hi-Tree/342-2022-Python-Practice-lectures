{
 "cells": [
  {
   "cell_type": "markdown",
   "metadata": {},
   "source": [
    "# Python Practice Lecture 10 MATH 342W Queens College - Multivariate Linear Regression with the Hat Matrix\n",
    "## Author: Amir ElTabakh\n",
    "## Date: March 3, 2021\n",
    "\n",
    "## Agenda:\n",
    "* Multivariate Linear Regression with the Hat Matrix\n",
    "\n",
    "## Multivariate linear regression with the Hat Matrix\n",
    "\n",
    "First let's do the null model to examine what the null hat matrix looks like. In this exercise, we will see that $g_0 = \\bar{y}$ is really the OLS solution in the case of no features, only an intercept i.e. $b_0 = \\bar{y}$.\n",
    "\n",
    "We'll load in the Boston Housing data."
   ]
  },
  {
   "cell_type": "code",
   "execution_count": 1,
   "metadata": {},
   "outputs": [
    {
     "data": {
      "text/html": [
       "<div>\n",
       "<style scoped>\n",
       "    .dataframe tbody tr th:only-of-type {\n",
       "        vertical-align: middle;\n",
       "    }\n",
       "\n",
       "    .dataframe tbody tr th {\n",
       "        vertical-align: top;\n",
       "    }\n",
       "\n",
       "    .dataframe thead th {\n",
       "        text-align: right;\n",
       "    }\n",
       "</style>\n",
       "<table border=\"1\" class=\"dataframe\">\n",
       "  <thead>\n",
       "    <tr style=\"text-align: right;\">\n",
       "      <th></th>\n",
       "      <th>CRIM</th>\n",
       "      <th>ZN</th>\n",
       "      <th>INDUS</th>\n",
       "      <th>CHAS</th>\n",
       "      <th>NOX</th>\n",
       "      <th>RM</th>\n",
       "      <th>AGE</th>\n",
       "      <th>DIS</th>\n",
       "      <th>RAD</th>\n",
       "      <th>TAX</th>\n",
       "      <th>PTRATIO</th>\n",
       "      <th>B</th>\n",
       "      <th>LSTAT</th>\n",
       "      <th>MEDV</th>\n",
       "    </tr>\n",
       "  </thead>\n",
       "  <tbody>\n",
       "    <tr>\n",
       "      <th>0</th>\n",
       "      <td>0.00632</td>\n",
       "      <td>18.0</td>\n",
       "      <td>2.31</td>\n",
       "      <td>0.0</td>\n",
       "      <td>0.538</td>\n",
       "      <td>6.575</td>\n",
       "      <td>65.2</td>\n",
       "      <td>4.0900</td>\n",
       "      <td>1.0</td>\n",
       "      <td>296.0</td>\n",
       "      <td>15.3</td>\n",
       "      <td>396.90</td>\n",
       "      <td>4.98</td>\n",
       "      <td>24.0</td>\n",
       "    </tr>\n",
       "    <tr>\n",
       "      <th>1</th>\n",
       "      <td>0.02731</td>\n",
       "      <td>0.0</td>\n",
       "      <td>7.07</td>\n",
       "      <td>0.0</td>\n",
       "      <td>0.469</td>\n",
       "      <td>6.421</td>\n",
       "      <td>78.9</td>\n",
       "      <td>4.9671</td>\n",
       "      <td>2.0</td>\n",
       "      <td>242.0</td>\n",
       "      <td>17.8</td>\n",
       "      <td>396.90</td>\n",
       "      <td>9.14</td>\n",
       "      <td>21.6</td>\n",
       "    </tr>\n",
       "    <tr>\n",
       "      <th>2</th>\n",
       "      <td>0.02729</td>\n",
       "      <td>0.0</td>\n",
       "      <td>7.07</td>\n",
       "      <td>0.0</td>\n",
       "      <td>0.469</td>\n",
       "      <td>7.185</td>\n",
       "      <td>61.1</td>\n",
       "      <td>4.9671</td>\n",
       "      <td>2.0</td>\n",
       "      <td>242.0</td>\n",
       "      <td>17.8</td>\n",
       "      <td>392.83</td>\n",
       "      <td>4.03</td>\n",
       "      <td>34.7</td>\n",
       "    </tr>\n",
       "    <tr>\n",
       "      <th>3</th>\n",
       "      <td>0.03237</td>\n",
       "      <td>0.0</td>\n",
       "      <td>2.18</td>\n",
       "      <td>0.0</td>\n",
       "      <td>0.458</td>\n",
       "      <td>6.998</td>\n",
       "      <td>45.8</td>\n",
       "      <td>6.0622</td>\n",
       "      <td>3.0</td>\n",
       "      <td>222.0</td>\n",
       "      <td>18.7</td>\n",
       "      <td>394.63</td>\n",
       "      <td>2.94</td>\n",
       "      <td>33.4</td>\n",
       "    </tr>\n",
       "    <tr>\n",
       "      <th>4</th>\n",
       "      <td>0.06905</td>\n",
       "      <td>0.0</td>\n",
       "      <td>2.18</td>\n",
       "      <td>0.0</td>\n",
       "      <td>0.458</td>\n",
       "      <td>7.147</td>\n",
       "      <td>54.2</td>\n",
       "      <td>6.0622</td>\n",
       "      <td>3.0</td>\n",
       "      <td>222.0</td>\n",
       "      <td>18.7</td>\n",
       "      <td>396.90</td>\n",
       "      <td>5.33</td>\n",
       "      <td>36.2</td>\n",
       "    </tr>\n",
       "  </tbody>\n",
       "</table>\n",
       "</div>"
      ],
      "text/plain": [
       "      CRIM    ZN  INDUS  CHAS    NOX     RM   AGE     DIS  RAD    TAX  \\\n",
       "0  0.00632  18.0   2.31   0.0  0.538  6.575  65.2  4.0900  1.0  296.0   \n",
       "1  0.02731   0.0   7.07   0.0  0.469  6.421  78.9  4.9671  2.0  242.0   \n",
       "2  0.02729   0.0   7.07   0.0  0.469  7.185  61.1  4.9671  2.0  242.0   \n",
       "3  0.03237   0.0   2.18   0.0  0.458  6.998  45.8  6.0622  3.0  222.0   \n",
       "4  0.06905   0.0   2.18   0.0  0.458  7.147  54.2  6.0622  3.0  222.0   \n",
       "\n",
       "   PTRATIO       B  LSTAT  MEDV  \n",
       "0     15.3  396.90   4.98  24.0  \n",
       "1     17.8  396.90   9.14  21.6  \n",
       "2     17.8  392.83   4.03  34.7  \n",
       "3     18.7  394.63   2.94  33.4  \n",
       "4     18.7  396.90   5.33  36.2  "
      ]
     },
     "execution_count": 1,
     "metadata": {},
     "output_type": "execute_result"
    }
   ],
   "source": [
    "# Lines below are just to ignore warnings\n",
    "import warnings\n",
    "warnings.filterwarnings('ignore')\n",
    "\n",
    "# Importing dependencies\n",
    "from sklearn import datasets\n",
    "import pandas as pd\n",
    "import numpy as np\n",
    "\n",
    "# Load the Boston Housing dataset as bh\n",
    "bh = datasets.load_boston()\n",
    "\n",
    "# Initialize target variable\n",
    "y = bh.target\n",
    "y\n",
    "\n",
    "# Create Boston Housing df\n",
    "df = pd.DataFrame(data = bh.data, columns = bh.feature_names)\n",
    "\n",
    "# Create MEDV column in df\n",
    "df['MEDV'] = y\n",
    "\n",
    "# Load the first 5 rows of df\n",
    "df.head()"
   ]
  },
  {
   "cell_type": "markdown",
   "metadata": {},
   "source": [
    "Let's build a linear model of just the intercept column."
   ]
  },
  {
   "cell_type": "code",
   "execution_count": 2,
   "metadata": {},
   "outputs": [
    {
     "data": {
      "text/plain": [
       "array([22.53280632, 22.53280632, 22.53280632, 22.53280632, 22.53280632,\n",
       "       22.53280632, 22.53280632, 22.53280632, 22.53280632, 22.53280632,\n",
       "       22.53280632, 22.53280632, 22.53280632, 22.53280632, 22.53280632,\n",
       "       22.53280632, 22.53280632, 22.53280632, 22.53280632, 22.53280632])"
      ]
     },
     "execution_count": 2,
     "metadata": {},
     "output_type": "execute_result"
    }
   ],
   "source": [
    "# Importing dependencies\n",
    "from sklearn.linear_model import LinearRegression\n",
    "from sklearn.metrics import mean_squared_error, r2_score # RMSE, R^2\n",
    "\n",
    "# Intitialize model\n",
    "model_intercept = LinearRegression()\n",
    "\n",
    "# define 1-vector\n",
    "ones = ([[1] for i in range(len(df))])\n",
    "\n",
    "# convert to a numpy array\n",
    "ones = np.asarray(ones, dtype=np.float64)\n",
    "\n",
    "# Fit y on the 1-vector\n",
    "model_intercept.fit(ones, y)\n",
    "\n",
    "# get yhat\n",
    "yhat = model_intercept.predict(ones)\n",
    "\n",
    "# print first 20 predictions\n",
    "yhat[0:20]"
   ]
  },
  {
   "cell_type": "code",
   "execution_count": 3,
   "metadata": {},
   "outputs": [
    {
     "name": "stdout",
     "output_type": "stream",
     "text": [
      "22.532806324110677\n"
     ]
    }
   ],
   "source": [
    "# print the mean of y\n",
    "print(np.mean(y))"
   ]
  },
  {
   "cell_type": "markdown",
   "metadata": {},
   "source": [
    "Let's do a simple example of projection. Let's project $y$ onto the intercept column, the column of all 1's. What do you think will happen?"
   ]
  },
  {
   "cell_type": "code",
   "execution_count": 4,
   "metadata": {},
   "outputs": [
    {
     "data": {
      "text/plain": [
       "array([[0.00197628, 0.00197628, 0.00197628, 0.00197628],\n",
       "       [0.00197628, 0.00197628, 0.00197628, 0.00197628],\n",
       "       [0.00197628, 0.00197628, 0.00197628, 0.00197628],\n",
       "       [0.00197628, 0.00197628, 0.00197628, 0.00197628]])"
      ]
     },
     "execution_count": 4,
     "metadata": {},
     "output_type": "execute_result"
    }
   ],
   "source": [
    "H = ones @ ones.transpose() / sum(ones**2)\n",
    "H[1:5, 1:5]"
   ]
  },
  {
   "cell_type": "code",
   "execution_count": 5,
   "metadata": {},
   "outputs": [
    {
     "data": {
      "text/plain": [
       "(506, 506)"
      ]
     },
     "execution_count": 5,
     "metadata": {},
     "output_type": "execute_result"
    }
   ],
   "source": [
    "# output shape of the Hat matrix\n",
    "H.shape"
   ]
  },
  {
   "cell_type": "code",
   "execution_count": 6,
   "metadata": {},
   "outputs": [
    {
     "data": {
      "text/plain": [
       "array([0.00197628])"
      ]
     },
     "execution_count": 6,
     "metadata": {},
     "output_type": "execute_result"
    }
   ],
   "source": [
    "# Output unique values of Hat matrix\n",
    "np.unique(H)"
   ]
  },
  {
   "cell_type": "code",
   "execution_count": 7,
   "metadata": {},
   "outputs": [
    {
     "name": "stdout",
     "output_type": "stream",
     "text": [
      "0.001976284584980237\n"
     ]
    }
   ],
   "source": [
    "# In fact\n",
    "print(1 / 506)"
   ]
  },
  {
   "cell_type": "markdown",
   "metadata": {},
   "source": [
    "The whole matrix is just one single value for each element! What is this value? It's $\\frac{1}{506}$ where 506 is $n$. So what's going to happen?"
   ]
  },
  {
   "cell_type": "code",
   "execution_count": 8,
   "metadata": {},
   "outputs": [
    {
     "data": {
      "text/plain": [
       "array([22.53280632, 22.53280632, 22.53280632, 22.53280632, 22.53280632,\n",
       "       22.53280632, 22.53280632, 22.53280632, 22.53280632, 22.53280632,\n",
       "       22.53280632, 22.53280632, 22.53280632, 22.53280632, 22.53280632,\n",
       "       22.53280632, 22.53280632, 22.53280632, 22.53280632, 22.53280632])"
      ]
     },
     "execution_count": 8,
     "metadata": {},
     "output_type": "execute_result"
    }
   ],
   "source": [
    "# Getting y projected on ones\n",
    "y_proj_one = H @ y\n",
    "y_proj_one[0:20]"
   ]
  },
  {
   "cell_type": "markdown",
   "metadata": {},
   "source": [
    "Projection onto the space of all ones makes the null model ($g = \\bar{y}$). It's the same as the model of response = intercept + error, i.e. $y = \\mu_y + \\epsilon$. The OLS intercept estimate is clearly $\\bar{y}$. Let's build a multivariate linear regression model with the `LinearRegression` sklearn module."
   ]
  },
  {
   "cell_type": "code",
   "execution_count": 9,
   "metadata": {},
   "outputs": [
    {
     "name": "stdout",
     "output_type": "stream",
     "text": [
      "36.45948838508992\n",
      "[-1.08011358e-01  4.64204584e-02  2.05586264e-02  2.68673382e+00\n",
      " -1.77666112e+01  3.80986521e+00  6.92224640e-04 -1.47556685e+00\n",
      "  3.06049479e-01 -1.23345939e-02 -9.52747232e-01  9.31168327e-03\n",
      " -5.24758378e-01]\n"
     ]
    }
   ],
   "source": [
    "# Let's get our b vec\n",
    "y = df['MEDV']\n",
    "X = df\n",
    "del X['MEDV']\n",
    "\n",
    "# intitialize model\n",
    "model = LinearRegression(fit_intercept = True)\n",
    "\n",
    "# fit\n",
    "model.fit(X, y)\n",
    "\n",
    "# print intercept b0\n",
    "print(model.intercept_)\n",
    "\n",
    "# print coefficients\n",
    "print(model.coef_)"
   ]
  },
  {
   "cell_type": "markdown",
   "metadata": {},
   "source": [
    "Now we'll do the same using our linear algebra."
   ]
  },
  {
   "cell_type": "code",
   "execution_count": 10,
   "metadata": {},
   "outputs": [
    {
     "data": {
      "text/plain": [
       "0     36.459488\n",
       "1     -0.108011\n",
       "2      0.046420\n",
       "3      0.020559\n",
       "4      2.686734\n",
       "5    -17.766611\n",
       "6      3.809865\n",
       "7      0.000692\n",
       "8     -1.475567\n",
       "9      0.306049\n",
       "10    -0.012335\n",
       "11    -0.952747\n",
       "12     0.009312\n",
       "13    -0.524758\n",
       "dtype: float64"
      ]
     },
     "execution_count": 10,
     "metadata": {},
     "output_type": "execute_result"
    }
   ],
   "source": [
    "# Let's get our b vec\n",
    "\n",
    "# add intercept column\n",
    "X.insert(0, 'INTERCEPT', [1 for i in range(len(X))])\n",
    "\n",
    "# linear algebra\n",
    "Xt = X.transpose()\n",
    "XtXinv = np.linalg.inv(Xt @ X)\n",
    "b = XtXinv @ Xt @ y\n",
    "b"
   ]
  },
  {
   "cell_type": "markdown",
   "metadata": {},
   "source": [
    "We calculated the same intercept and coefficient values. Let's use the Hat matrix to calculate all predictions."
   ]
  },
  {
   "cell_type": "code",
   "execution_count": 11,
   "metadata": {},
   "outputs": [
    {
     "data": {
      "text/plain": [
       "(14, 506)"
      ]
     },
     "execution_count": 11,
     "metadata": {},
     "output_type": "execute_result"
    }
   ],
   "source": [
    "Xt.shape"
   ]
  },
  {
   "cell_type": "code",
   "execution_count": 12,
   "metadata": {},
   "outputs": [
    {
     "name": "stdout",
     "output_type": "stream",
     "text": [
      "(506, 506)\n"
     ]
    }
   ],
   "source": [
    "# get Hat matrix\n",
    "\n",
    "# The @ returns an error\n",
    "#H = X @ XtXinv @ Xt\n",
    "\n",
    "# The `.dot()` method works fine\n",
    "H = X.dot(XtXinv.dot(Xt))\n",
    "\n",
    "print(H.shape)"
   ]
  },
  {
   "cell_type": "code",
   "execution_count": 13,
   "metadata": {},
   "outputs": [
    {
     "data": {
      "text/plain": [
       "0    30.003843\n",
       "1    25.025562\n",
       "2    30.567597\n",
       "3    28.607036\n",
       "4    27.943524\n",
       "5    25.256284\n",
       "6    23.001808\n",
       "7    19.535988\n",
       "8    11.523637\n",
       "9    18.920262\n",
       "dtype: float64"
      ]
     },
     "execution_count": 13,
     "metadata": {},
     "output_type": "execute_result"
    }
   ],
   "source": [
    "# Calculate your predictions\n",
    "yhat = H @ y\n",
    "yhat[0:10]"
   ]
  },
  {
   "cell_type": "markdown",
   "metadata": {},
   "source": [
    "Can you tell this is projected onto a 13 dimensionsal space from a 506 dimensional space? Not really... but it is...\n",
    "\n",
    "Now let's project over and over..."
   ]
  },
  {
   "cell_type": "code",
   "execution_count": 14,
   "metadata": {},
   "outputs": [
    {
     "data": {
      "text/plain": [
       "0    30.003843\n",
       "1    25.025562\n",
       "2    30.567597\n",
       "3    28.607036\n",
       "4    27.943524\n",
       "5    25.256284\n",
       "6    23.001808\n",
       "7    19.535988\n",
       "8    11.523637\n",
       "9    18.920262\n",
       "dtype: float64"
      ]
     },
     "execution_count": 14,
     "metadata": {},
     "output_type": "execute_result"
    }
   ],
   "source": [
    "(H @ H @ H @ H @ H @H @ H @ H @ H @ y)[0:10]"
   ]
  },
  {
   "cell_type": "markdown",
   "metadata": {},
   "source": [
    "Same thing! Once you project, you're there, you can't project to another different space. That's the idempotency of $H$.\n",
    "\n",
    "Let's make sure that it really does represent the column space of $X$. Let's try to project different columns of $X$:"
   ]
  },
  {
   "cell_type": "code",
   "execution_count": 15,
   "metadata": {},
   "outputs": [
    {
     "name": "stdout",
     "output_type": "stream",
     "text": [
      "0    1\n",
      "1    1\n",
      "2    1\n",
      "3    1\n",
      "4    1\n",
      "Name: INTERCEPT, dtype: int64\n",
      "0    1.0\n",
      "1    1.0\n",
      "2    1.0\n",
      "3    1.0\n",
      "4    1.0\n",
      "dtype: float64\n"
     ]
    }
   ],
   "source": [
    "# H @ intercept\n",
    "print(X.iloc[0:5, 0])\n",
    "print((H @ X.iloc[:, 0])[0:5])"
   ]
  },
  {
   "cell_type": "code",
   "execution_count": 16,
   "metadata": {},
   "outputs": [
    {
     "name": "stdout",
     "output_type": "stream",
     "text": [
      "0    0.00632\n",
      "1    0.02731\n",
      "2    0.02729\n",
      "3    0.03237\n",
      "4    0.06905\n",
      "Name: CRIM, dtype: float64\n",
      "0    0.00632\n",
      "1    0.02731\n",
      "2    0.02729\n",
      "3    0.03237\n",
      "4    0.06905\n",
      "dtype: float64\n"
     ]
    }
   ],
   "source": [
    "# H @ CRIM\n",
    "print(X.iloc[0:5, 1])\n",
    "print((H @ X.iloc[:, 1])[0:5])"
   ]
  },
  {
   "cell_type": "code",
   "execution_count": 17,
   "metadata": {},
   "outputs": [
    {
     "name": "stdout",
     "output_type": "stream",
     "text": [
      "0    18.0\n",
      "1     0.0\n",
      "2     0.0\n",
      "3     0.0\n",
      "4     0.0\n",
      "Name: ZN, dtype: float64\n",
      "0    1.800000e+01\n",
      "1   -2.615685e-13\n",
      "2   -3.570477e-13\n",
      "3   -2.192690e-13\n",
      "4   -2.493561e-13\n",
      "dtype: float64\n"
     ]
    }
   ],
   "source": [
    "# H @ ZN\n",
    "print(X.iloc[0:5, 2])\n",
    "print((H @ X.iloc[:, 2])[0:5])"
   ]
  },
  {
   "cell_type": "code",
   "execution_count": 18,
   "metadata": {},
   "outputs": [
    {
     "name": "stdout",
     "output_type": "stream",
     "text": [
      "0    2.31\n",
      "1    7.07\n",
      "2    7.07\n",
      "3    2.18\n",
      "4    2.18\n",
      "Name: INDUS, dtype: float64\n",
      "0    2.31\n",
      "1    7.07\n",
      "2    7.07\n",
      "3    2.18\n",
      "4    2.18\n",
      "dtype: float64\n"
     ]
    }
   ],
   "source": [
    "# H @ INDUS\n",
    "print(X.iloc[0:5, 3])\n",
    "print((H @ X.iloc[:, 3])[0:5])"
   ]
  },
  {
   "cell_type": "code",
   "execution_count": 19,
   "metadata": {},
   "outputs": [
    {
     "name": "stdout",
     "output_type": "stream",
     "text": [
      "0    0.0\n",
      "1    0.0\n",
      "2    0.0\n",
      "3    0.0\n",
      "4    0.0\n",
      "Name: CHAS, dtype: float64\n",
      "0   -9.315465e-16\n",
      "1   -1.655360e-15\n",
      "2   -1.929013e-15\n",
      "3   -7.771561e-16\n",
      "4   -8.777701e-16\n",
      "dtype: float64\n"
     ]
    }
   ],
   "source": [
    "# H @ CHAS\n",
    "print(X.iloc[0:5, 4])\n",
    "print((H @ X.iloc[:, 4])[0:5])"
   ]
  },
  {
   "cell_type": "markdown",
   "metadata": {},
   "source": [
    "We can calculate the residual error using the Hat matrix as well."
   ]
  },
  {
   "cell_type": "code",
   "execution_count": 20,
   "metadata": {},
   "outputs": [
    {
     "data": {
      "text/plain": [
       "0   -6.003843\n",
       "1   -3.425562\n",
       "2    4.132403\n",
       "3    4.792964\n",
       "4    8.256476\n",
       "5    3.443716\n",
       "6   -0.101808\n",
       "7    7.564012\n",
       "8    4.976363\n",
       "9   -0.020262\n",
       "dtype: float64"
      ]
     },
     "execution_count": 20,
     "metadata": {},
     "output_type": "execute_result"
    }
   ],
   "source": [
    "e = y - yhat\n",
    "e[0:10]"
   ]
  },
  {
   "cell_type": "code",
   "execution_count": 21,
   "metadata": {},
   "outputs": [
    {
     "data": {
      "text/plain": [
       "0   -6.003843\n",
       "1   -3.425562\n",
       "2    4.132403\n",
       "3    4.792964\n",
       "4    8.256476\n",
       "5    3.443716\n",
       "6   -0.101808\n",
       "7    7.564012\n",
       "8    4.976363\n",
       "9   -0.020262\n",
       "dtype: float64"
      ]
     },
     "execution_count": 21,
     "metadata": {},
     "output_type": "execute_result"
    }
   ],
   "source": [
    "I = np.identity(len(X))\n",
    "e = (I - H) @ y\n",
    "e[0:10]"
   ]
  },
  {
   "cell_type": "markdown",
   "metadata": {},
   "source": [
    "Let's do that projection over and over onto the complement of the column space of $X$:"
   ]
  },
  {
   "cell_type": "code",
   "execution_count": 22,
   "metadata": {},
   "outputs": [
    {
     "data": {
      "text/plain": [
       "0   -6.003843\n",
       "1   -3.425562\n",
       "2    4.132403\n",
       "3    4.792964\n",
       "4    8.256476\n",
       "5    3.443716\n",
       "6   -0.101808\n",
       "7    7.564012\n",
       "8    4.976363\n",
       "9   -0.020262\n",
       "dtype: float64"
      ]
     },
     "execution_count": 22,
     "metadata": {},
     "output_type": "execute_result"
    }
   ],
   "source": [
    "((I - H) @  (I - H) @ (I - H) @ (I - H) @ (I - H) @ (I - H) @ y)[0:10]"
   ]
  }
 ],
 "metadata": {
  "kernelspec": {
   "display_name": "Python 3",
   "language": "python",
   "name": "python3"
  },
  "language_info": {
   "codemirror_mode": {
    "name": "ipython",
    "version": 3
   },
   "file_extension": ".py",
   "mimetype": "text/x-python",
   "name": "python",
   "nbconvert_exporter": "python",
   "pygments_lexer": "ipython3",
   "version": "3.8.5"
  }
 },
 "nbformat": 4,
 "nbformat_minor": 4
}
