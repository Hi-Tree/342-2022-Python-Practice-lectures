{
 "cells": [
  {
   "cell_type": "markdown",
   "metadata": {},
   "source": [
    "# Python Practice Lecture 12 MATH 342W Queens College - Overfitting\n",
    "## Author: Amir ElTabakh\n",
    "## Date: March 10, 2021\n",
    "\n",
    "## Agenda:\n",
    "* Correlation zero means orthogonality\n",
    "* Random correlations are non-zero\n",
    "* The monotonicity of SSR (or $R^2$) with more features\n",
    "* Overfitting\n",
    "* Assessing overfitting in practice\n",
    "\n",
    "## Correlation zero means orthogonality\n",
    "\n",
    "Let's generate some fake data. In this example we'll have one predictor which will be orthogonal to the centered response. We enforce the response to be centered by adding a column of 1's:"
   ]
  },
  {
   "cell_type": "code",
   "execution_count": 1,
   "metadata": {},
   "outputs": [
    {
     "name": "stdout",
     "output_type": "stream",
     "text": [
      "[ 0.0417359  -0.01932189  0.15401569  0.13356953  0.000608  ]\n",
      "[ 0.09621858 -0.08124517 -0.10176346 -0.09950284  0.02415923]\n"
     ]
    }
   ],
   "source": [
    "# importing dependencies\n",
    "import numpy as np\n",
    "from sklearn.linear_model import LinearRegression\n",
    "from sklearn.metrics import mean_squared_error # calculates RMSE\n",
    "import pandas as pd\n",
    "import seaborn as sns\n",
    "import matplotlib.pyplot as plt\n",
    "\n",
    "# Generating x and y\n",
    "n = 100\n",
    "p = 2\n",
    "\n",
    "X = [[1, np.random.normal(0, 1), np.random.normal(0, 1)] for i in range(n)] # round to nearest 5th decimal place\n",
    "Q, R = np.linalg.qr(X)\n",
    "\n",
    "y = Q[:, 2]\n",
    "x = Q[:, 1]\n",
    "\n",
    "# output first 5 elements of x and y\n",
    "print(x[0:5])\n",
    "print(y[0:5])"
   ]
  },
  {
   "cell_type": "markdown",
   "metadata": {},
   "source": [
    "Let's make sure it's orthogonal."
   ]
  },
  {
   "cell_type": "code",
   "execution_count": 3,
   "metadata": {},
   "outputs": [
    {
     "data": {
      "text/plain": [
       "-2.42861286636753e-17"
      ]
     },
     "execution_count": 3,
     "metadata": {},
     "output_type": "execute_result"
    }
   ],
   "source": [
    "x @ y"
   ]
  },
  {
   "cell_type": "markdown",
   "metadata": {},
   "source": [
    "If they're orthogonal and y is mean-centered, what is the correlation?"
   ]
  },
  {
   "cell_type": "code",
   "execution_count": 5,
   "metadata": {},
   "outputs": [
    {
     "data": {
      "text/plain": [
       "array([[ 1.00000000e+00, -1.10017467e-17],\n",
       "       [-1.10017467e-17,  1.00000000e+00]])"
      ]
     },
     "execution_count": 5,
     "metadata": {},
     "output_type": "execute_result"
    }
   ],
   "source": [
    "np.corrcoef(x, y)"
   ]
  },
  {
   "cell_type": "markdown",
   "metadata": {},
   "source": [
    "If the correlation is 0, what is $b_1$, the slope? It has to be zero. Thus $b_0$ has to be $\\bar{x}$. Since x was also orthogonalized to the vector of 1's, it's centered and hence has average = 0. So both intercept and slope are 0:\n",
    "\n",
    "What is $b$?"
   ]
  },
  {
   "cell_type": "code",
   "execution_count": 6,
   "metadata": {},
   "outputs": [
    {
     "name": "stdout",
     "output_type": "stream",
     "text": [
      "[2.22044605e-18]\n",
      "[[1.33930537e-17]]\n"
     ]
    }
   ],
   "source": [
    "# initialize model\n",
    "model = LinearRegression(fit_intercept = True)\n",
    "\n",
    "x_df = pd.DataFrame(x)\n",
    "y_df = pd.DataFrame(y)\n",
    "\n",
    "# fit model\n",
    "model.fit(x_df, y_df) # cast them to df objects\n",
    "\n",
    "# print b0\n",
    "print(model.intercept_)\n",
    "\n",
    "# print coefficient\n",
    "print(model.coef_)"
   ]
  },
  {
   "cell_type": "markdown",
   "metadata": {},
   "source": [
    "Let's visualize it."
   ]
  },
  {
   "cell_type": "code",
   "execution_count": 8,
   "metadata": {},
   "outputs": [
    {
     "data": {
      "image/png": "[encoded data removed]",
      "text/plain": [
       "<Figure size 432x288 with 1 Axes>"
      ]
     },
     "metadata": {
      "needs_background": "light"
     },
     "output_type": "display_data"
    }
   ],
   "source": [
    "# Shockingly there is no plot function to plot via slope and intercept.\n",
    "# We create our own\n",
    "\n",
    "def abline(slope, intercept):\n",
    "    \"\"\"Plot a line from slope and intercept\"\"\"\n",
    "    axes = plt.gca()\n",
    "    x_vals = np.array(axes.get_xlim())\n",
    "    y_vals = intercept + slope * x_vals\n",
    "    plt.plot(x_vals, y_vals, '--')\n",
    "\n",
    "# set intercept\n",
    "b_0 = model.intercept_[0]\n",
    "b_1 = model.coef_[0][0]\n",
    "\n",
    "# Lets plot the line on the data\n",
    "sns.scatterplot(x=x, y=y)\n",
    "\n",
    "# plotting y = b_0 + b_1 * x\n",
    "abline(b_1, b_0)"
   ]
  },
  {
   "cell_type": "markdown",
   "metadata": {},
   "source": [
    "What is $R^2$? Since $x$ and $y$ are orthogonal... a projection onto the colspace of $X$ gets annihilated."
   ]
  },
  {
   "cell_type": "code",
   "execution_count": 9,
   "metadata": {},
   "outputs": [
    {
     "data": {
      "text/plain": [
       "0.0"
      ]
     },
     "execution_count": 9,
     "metadata": {},
     "output_type": "execute_result"
    }
   ],
   "source": [
    "# R^2\n",
    "model.score(x_df, y_df)"
   ]
  },
  {
   "cell_type": "markdown",
   "metadata": {},
   "source": [
    "## Random correlations are non-zero"
   ]
  },
  {
   "cell_type": "code",
   "execution_count": 10,
   "metadata": {},
   "outputs": [
    {
     "name": "stdout",
     "output_type": "stream",
     "text": [
      "[-0.34524215 -1.76500514 -0.3860731  -0.17339732  0.4708552 ]\n",
      "[ 0.08436104  0.80402293 -0.78987475  0.16513643 -0.4114791 ]\n"
     ]
    }
   ],
   "source": [
    "# Set seed\n",
    "np.random.seed(420)\n",
    "\n",
    "# define x and y\n",
    "x = [np.random.normal(0, 1) for i in range(n)]\n",
    "x = x - np.mean(x)\n",
    "\n",
    "y = [np.random.normal(0, 1) for i in range(n)]\n",
    "y = y - np.mean(y)\n",
    "\n",
    "print(x[0:5])\n",
    "print(y[0:5])"
   ]
  },
  {
   "cell_type": "markdown",
   "metadata": {},
   "source": [
    "In this setup, $x$ and $y$ are centered Gaussian random vectors. Are they orthogonal?"
   ]
  },
  {
   "cell_type": "code",
   "execution_count": 11,
   "metadata": {},
   "outputs": [
    {
     "data": {
      "text/plain": [
       "8.414895305006766"
      ]
     },
     "execution_count": 11,
     "metadata": {},
     "output_type": "execute_result"
    }
   ],
   "source": [
    "x @ y"
   ]
  },
  {
   "cell_type": "markdown",
   "metadata": {},
   "source": [
    "Their product isn't zero. What is the degree between the planes?"
   ]
  },
  {
   "cell_type": "code",
   "execution_count": 12,
   "metadata": {},
   "outputs": [
    {
     "data": {
      "text/plain": [
       "1.4719722411108414"
      ]
     },
     "execution_count": 12,
     "metadata": {},
     "output_type": "execute_result"
    }
   ],
   "source": [
    "# theta in radians\n",
    "theta_in_rad = np.arccos(x @ y / np.sqrt(sum(x**2) * sum(y**2)))\n",
    "theta_in_rad"
   ]
  },
  {
   "cell_type": "code",
   "execution_count": 10,
   "metadata": {},
   "outputs": [
    {
     "data": {
      "text/plain": [
       "84.33779697606442"
      ]
     },
     "execution_count": 10,
     "metadata": {},
     "output_type": "execute_result"
    }
   ],
   "source": [
    "# theta in degrees\n",
    "theta_in_deg = theta_in_rad * 180 / np.pi\n",
    "theta_in_deg"
   ]
  },
  {
   "cell_type": "markdown",
   "metadata": {},
   "source": [
    "They're not orthogonal. How are they correlated?"
   ]
  },
  {
   "cell_type": "code",
   "execution_count": 13,
   "metadata": {},
   "outputs": [
    {
     "name": "stdout",
     "output_type": "stream",
     "text": [
      "0.09866330825056085\n",
      "0.009734448394945189\n"
     ]
    }
   ],
   "source": [
    "# correlation\n",
    "print(np.corrcoef(x, y)[0, 1])\n",
    "\n",
    "# R^2\n",
    "print(np.corrcoef(x, y)[0, 1]**2)"
   ]
  },
  {
   "cell_type": "markdown",
   "metadata": {},
   "source": [
    "They are *nearly* uncorrelated but they still have some correlation. How is this possible? \n",
    "\n",
    "There is \"random chance\"\" AKA \"chance capitalization\"!\n",
    "\n",
    "What about the best fitting line?"
   ]
  },
  {
   "cell_type": "code",
   "execution_count": 14,
   "metadata": {},
   "outputs": [
    {
     "name": "stdout",
     "output_type": "stream",
     "text": [
      "[1.81951308e-17]\n",
      "[[0.08857929]]\n"
     ]
    }
   ],
   "source": [
    "# initialize model\n",
    "model = LinearRegression(fit_intercept = True)\n",
    "\n",
    "x_df = pd.DataFrame(x)\n",
    "y_df = pd.DataFrame(y)\n",
    "\n",
    "# fit model\n",
    "model.fit(x_df, y_df) # cast them to df objects\n",
    "\n",
    "# print b0\n",
    "print(model.intercept_)\n",
    "\n",
    "# print coefficient\n",
    "print(model.coef_)"
   ]
  },
  {
   "cell_type": "markdown",
   "metadata": {},
   "source": [
    "Lets visualize it."
   ]
  },
  {
   "cell_type": "code",
   "execution_count": 15,
   "metadata": {},
   "outputs": [
    {
     "data": {
      "image/png": "[encoded data removed]",
      "text/plain": [
       "<Figure size 432x288 with 1 Axes>"
      ]
     },
     "metadata": {
      "needs_background": "light"
     },
     "output_type": "display_data"
    }
   ],
   "source": [
    "# set intercept\n",
    "b_0 = model.intercept_[0]\n",
    "b_1 = model.coef_[0][0]\n",
    "\n",
    "# Lets plot the line on the data\n",
    "sns.scatterplot(x=x, y=y)\n",
    "\n",
    "# plotting y = b_0 + b_1 * x\n",
    "abline(b_1, b_0)"
   ]
  },
  {
   "cell_type": "markdown",
   "metadata": {},
   "source": [
    "Slope is about 0.08 which is small but non-zero.\n",
    "\n",
    "What is $R^2$? Since $x$ and $y$ are nearly orthogonal... a projection onto the colspace of $X$ gets nearly annihilated."
   ]
  },
  {
   "cell_type": "code",
   "execution_count": 16,
   "metadata": {},
   "outputs": [
    {
     "data": {
      "text/plain": [
       "0.009734448394945083"
      ]
     },
     "execution_count": 16,
     "metadata": {},
     "output_type": "execute_result"
    }
   ],
   "source": [
    "model.score(x_df, y_df)"
   ]
  },
  {
   "cell_type": "markdown",
   "metadata": {},
   "source": [
    "but not entirely. Lesson learned: random noise can be correlated with the response $y$ and give you the illusion of fit!\n",
    "\n",
    "## The monotonicity of SSR (or $R^2$) with more features\n",
    "\n",
    "As $p$ increases, $R^2$ goes up. Here's a nice exercise:"
   ]
  },
  {
   "cell_type": "code",
   "execution_count": 17,
   "metadata": {},
   "outputs": [
    {
     "data": {
      "text/plain": [
       "200"
      ]
     },
     "execution_count": 17,
     "metadata": {},
     "output_type": "execute_result"
    }
   ],
   "source": [
    "n = 200\n",
    "Rsqs = [0] # the rsq of y ~ x is 0\n",
    "\n",
    "# Set seed\n",
    "np.random.seed(1640)\n",
    "\n",
    "# define x and y\n",
    "y = [np.random.normal(0, 1) for i in range(n)]\n",
    "y = pd.DataFrame(y)\n",
    "\n",
    "x = [[1, np.random.normal(0, 1)] for i in range(n)]\n",
    "X = pd.DataFrame(x)\n",
    "\n",
    "for i in range(1, n):\n",
    "    # adding column\n",
    "    X[i+1] = [np.random.normal(0, 1) for j in range(n)]\n",
    "    \n",
    "    # fitting model\n",
    "    model = LinearRegression(fit_intercept = True)\n",
    "    model.fit(X, y) # cast them to df objects\n",
    "    \n",
    "    # add new Rsq to list\n",
    "    Rsqs += [model.score(X, y)]\n",
    "    \n",
    "# see if all 200 Rsqs were collected\n",
    "len(Rsqs)"
   ]
  },
  {
   "cell_type": "markdown",
   "metadata": {},
   "source": [
    "Now let's plot it and see what happens:"
   ]
  },
  {
   "cell_type": "code",
   "execution_count": 18,
   "metadata": {},
   "outputs": [
    {
     "data": {
      "text/plain": [
       "<AxesSubplot:xlabel='Step', ylabel='R-Squared'>"
      ]
     },
     "execution_count": 18,
     "metadata": {},
     "output_type": "execute_result"
    },
    {
     "data": {
      "image/png": "[encoded data removed]",
      "text/plain": [
       "<Figure size 432x288 with 1 Axes>"
      ]
     },
     "metadata": {
      "needs_background": "light"
     },
     "output_type": "display_data"
    }
   ],
   "source": [
    "iteration = [i for i in range(n)]\n",
    "\n",
    "df = pd.DataFrame({\"Step\":iteration,\n",
    "                  \"R-Squared\":Rsqs})\n",
    "\n",
    "sns.lineplot(data = df, x = \"Step\", y = \"R-Squared\")"
   ]
  },
  {
   "cell_type": "markdown",
   "metadata": {},
   "source": [
    "With each additional predictor, what happens to $R^2$?"
   ]
  },
  {
   "cell_type": "code",
   "execution_count": 19,
   "metadata": {},
   "outputs": [
    {
     "data": {
      "text/plain": [
       "<AxesSubplot:xlabel='Step', ylabel='Delta R-Squared'>"
      ]
     },
     "execution_count": 19,
     "metadata": {},
     "output_type": "execute_result"
    },
    {
     "data": {
      "image/png": "[encoded data removed]",
      "text/plain": [
       "<Figure size 432x288 with 1 Axes>"
      ]
     },
     "metadata": {
      "needs_background": "light"
     },
     "output_type": "display_data"
    }
   ],
   "source": [
    "delta_Rsqs = [0 if i == 0 else Rsqs[i] - Rsqs[i-1] for i in range(0, n)]\n",
    "\n",
    "df = pd.DataFrame({\"Step\":iteration,\n",
    "                  \"Delta R-Squared\":delta_Rsqs})\n",
    "\n",
    "sns.lineplot(data = df, x = \"Step\", y = \"Delta R-Squared\")"
   ]
  },
  {
   "cell_type": "markdown",
   "metadata": {},
   "source": [
    "How can this possibly be?? The $x$'s are not related to $y$ whatsoever!!\n",
    "\n",
    "Chance capitalization prevails. Each additional predictor picks up another dimension to add to the column space of $X$. Eventually, the projection explains *all* the variance. If $n = p + 1$, that matrix is square and of full rank, hence $\\hat{y} = y$ and all residuals $e = 0$ since it is merely solving $n$ linearly independent equations.\n",
    "\n",
    "So here's an idea. To get a perfect fit, just augment your design matrix with $n - (p + 1)$ random vectors and you get $R^2 = 100\\%$! There must be something wrong with this.\n",
    "\n",
    "Even if $p$ is large and $<n$, you are getting a lot of fit for free. So there's something wrong with this too!\n",
    "\n",
    "This is called overfitting.\n",
    "\n",
    "## Overfitting\n",
    "\n",
    "Let's see how overfitting increases generalized estimation error.\n",
    "\n",
    "We're gonna try to fit our betas in an effort to get $g$ as close to $h_*$ as possible but actually our g is going to get worse and worse as we load in garbage features."
   ]
  },
  {
   "cell_type": "code",
   "execution_count": 20,
   "metadata": {},
   "outputs": [],
   "source": [
    "# Set seed\n",
    "#np.random.seed(1)\n",
    "bbeta = [1] # h_*\n",
    "\n",
    "# Building Train Data\n",
    "n = 100\n",
    "\n",
    "X = [1, np.random.normal(0, 1)]\n",
    "X = pd.DataFrame(X)\n",
    "\n",
    "y = X @ bbeta + np.random.normal(0, 30) # here we add some random noise, the first term alone is the true y\n",
    "y = pd.DataFrame(y)"
   ]
  },
  {
   "cell_type": "code",
   "execution_count": 21,
   "metadata": {},
   "outputs": [
    {
     "name": "stdout",
     "output_type": "stream",
     "text": [
      "[2.58779968]\n",
      "9.880755579521473\n",
      "9.880755579521473\n"
     ]
    }
   ],
   "source": [
    "all_betas = np.empty(shape = (n, n))\n",
    "\n",
    "# fitting model\n",
    "model = LinearRegression(fit_intercept = False)\n",
    "model.fit(X, y)\n",
    "print( model.coef_[0])\n",
    "\n",
    "for i in range(1):\n",
    "    generated_b = model.coef_[0][i]\n",
    "    all_betas[0, i] = generated_b  \n",
    "\n",
    "# get yhat\n",
    "#yhat = model.predict(X)\n",
    "\n",
    "yhat = X @ np.asarray(all_betas[[0], 0:1])\n",
    "# add new RMSE to list\n",
    "#RMSE = np.sqrt(mean((y - yhat)**2))\n",
    "\n",
    "print(np.sqrt(np.mean((y - pd.DataFrame(yhat))**2))[0])\n",
    "print(mean_squared_error(y_true=y, y_pred=yhat, squared=False))"
   ]
  },
  {
   "cell_type": "code",
   "execution_count": 22,
   "metadata": {
    "scrolled": true
   },
   "outputs": [
    {
     "data": {
      "text/plain": [
       "-126.3501545778198"
      ]
     },
     "execution_count": 22,
     "metadata": {},
     "output_type": "execute_result"
    }
   ],
   "source": [
    "model.score(X, y)"
   ]
  },
  {
   "cell_type": "code",
   "execution_count": 23,
   "metadata": {},
   "outputs": [
    {
     "data": {
      "text/html": [
       "<div>\n",
       "<style scoped>\n",
       "    .dataframe tbody tr th:only-of-type {\n",
       "        vertical-align: middle;\n",
       "    }\n",
       "\n",
       "    .dataframe tbody tr th {\n",
       "        vertical-align: top;\n",
       "    }\n",
       "\n",
       "    .dataframe thead th {\n",
       "        text-align: right;\n",
       "    }\n",
       "</style>\n",
       "<table border=\"1\" class=\"dataframe\">\n",
       "  <thead>\n",
       "    <tr style=\"text-align: right;\">\n",
       "      <th></th>\n",
       "      <th>0</th>\n",
       "    </tr>\n",
       "  </thead>\n",
       "  <tbody>\n",
       "    <tr>\n",
       "      <th>0</th>\n",
       "      <td>1.000000</td>\n",
       "    </tr>\n",
       "    <tr>\n",
       "      <th>1</th>\n",
       "      <td>-0.751138</td>\n",
       "    </tr>\n",
       "  </tbody>\n",
       "</table>\n",
       "</div>"
      ],
      "text/plain": [
       "          0\n",
       "0  1.000000\n",
       "1 -0.751138"
      ]
     },
     "execution_count": 23,
     "metadata": {},
     "output_type": "execute_result"
    }
   ],
   "source": [
    "X.iloc[:, 0:3]"
   ]
  },
  {
   "cell_type": "code",
   "execution_count": 28,
   "metadata": {
    "scrolled": true
   },
   "outputs": [
    {
     "name": "stdout",
     "output_type": "stream",
     "text": [
      "(10, 4)\n"
     ]
    }
   ],
   "source": [
    "# Calculating in sample RMSE metrics\n",
    "import math\n",
    "\n",
    "# Set seed\n",
    "#np.random.seed(2000)\n",
    "bbeta = [1, 2, 3, 4] # h_*\n",
    "\n",
    "# Building Train Data\n",
    "n = 10\n",
    "\n",
    "X = [[1, np.random.normal(), np.random.normal(), np.random.normal()] for i in range(n)]\n",
    "X = pd.DataFrame(X)\n",
    "print(X.shape)\n",
    "\n",
    "y = X @ bbeta + np.random.normal(0, .3) # here we add some random noise, the first term alone is the true y\n",
    "y = pd.DataFrame(y)\n",
    "\n",
    "# all the coefficients\n",
    "all_betas = np.empty(shape = (n, n))\n",
    "model = LinearRegression(fit_intercept = False)\n",
    "model.fit(X, y)\n",
    "    \n",
    "# List of RMSE values\n",
    "in_sample_rmse = [0, 0, 0, 0]\n",
    "rsq = [0, 0, 0, 0]\n",
    "\n",
    "# Each iteration we add another garbage column and record the RMSE\n",
    "for i in range(4, n):\n",
    "    \n",
    "    # fitting model\n",
    "    model = LinearRegression(fit_intercept = False)\n",
    "    model.fit(X, y)\n",
    "    \n",
    "    # Update the all_betas matrix\n",
    "    for k in range(i):\n",
    "        generated_b = model.coef_[0][k]\n",
    "        all_betas[i, k] = generated_b\n",
    "    \n",
    "    # get yhat\n",
    "    yhat = X @ np.asarray(all_betas[i, 0:i])\n",
    "    \n",
    "    # add new RMSE to list\n",
    "    RMSE = math.sqrt(((y - pd.DataFrame(yhat))**2).mean())\n",
    "    #RMSE = mean_squared_error(y_true=y, y_pred=yhat, squared=False)\n",
    "    in_sample_rmse += [RMSE]\n",
    "    rsq += [model.score(X, y)]\n",
    "    \n",
    "    # adding column\n",
    "    X[i] = [np.random.normal(0, 1) for j in range(n)]"
   ]
  },
  {
   "cell_type": "code",
   "execution_count": 25,
   "metadata": {},
   "outputs": [
    {
     "data": {
      "text/html": [
       "<div>\n",
       "<style scoped>\n",
       "    .dataframe tbody tr th:only-of-type {\n",
       "        vertical-align: middle;\n",
       "    }\n",
       "\n",
       "    .dataframe tbody tr th {\n",
       "        vertical-align: top;\n",
       "    }\n",
       "\n",
       "    .dataframe thead th {\n",
       "        text-align: right;\n",
       "    }\n",
       "</style>\n",
       "<table border=\"1\" class=\"dataframe\">\n",
       "  <thead>\n",
       "    <tr style=\"text-align: right;\">\n",
       "      <th></th>\n",
       "      <th>0</th>\n",
       "      <th>1</th>\n",
       "      <th>2</th>\n",
       "      <th>3</th>\n",
       "      <th>4</th>\n",
       "      <th>5</th>\n",
       "      <th>6</th>\n",
       "      <th>7</th>\n",
       "      <th>8</th>\n",
       "      <th>9</th>\n",
       "    </tr>\n",
       "  </thead>\n",
       "  <tbody>\n",
       "    <tr>\n",
       "      <th>0</th>\n",
       "      <td>1</td>\n",
       "      <td>0.166320</td>\n",
       "      <td>0.727994</td>\n",
       "      <td>0.331717</td>\n",
       "      <td>0.726295</td>\n",
       "      <td>0.014287</td>\n",
       "      <td>-0.442941</td>\n",
       "      <td>-0.134026</td>\n",
       "      <td>0.466746</td>\n",
       "      <td>-0.548269</td>\n",
       "    </tr>\n",
       "    <tr>\n",
       "      <th>1</th>\n",
       "      <td>1</td>\n",
       "      <td>0.971687</td>\n",
       "      <td>-1.316008</td>\n",
       "      <td>-0.297569</td>\n",
       "      <td>-0.875635</td>\n",
       "      <td>-2.072839</td>\n",
       "      <td>-1.534979</td>\n",
       "      <td>0.562164</td>\n",
       "      <td>-0.657256</td>\n",
       "      <td>-0.583933</td>\n",
       "    </tr>\n",
       "    <tr>\n",
       "      <th>2</th>\n",
       "      <td>1</td>\n",
       "      <td>-1.349091</td>\n",
       "      <td>-0.981522</td>\n",
       "      <td>1.144307</td>\n",
       "      <td>0.327100</td>\n",
       "      <td>-0.148184</td>\n",
       "      <td>-0.614767</td>\n",
       "      <td>-2.504987</td>\n",
       "      <td>-1.247470</td>\n",
       "      <td>-1.330641</td>\n",
       "    </tr>\n",
       "    <tr>\n",
       "      <th>3</th>\n",
       "      <td>1</td>\n",
       "      <td>-2.037137</td>\n",
       "      <td>-0.082677</td>\n",
       "      <td>0.201713</td>\n",
       "      <td>-0.674199</td>\n",
       "      <td>0.898246</td>\n",
       "      <td>-0.954010</td>\n",
       "      <td>2.388965</td>\n",
       "      <td>1.196857</td>\n",
       "      <td>-1.378643</td>\n",
       "    </tr>\n",
       "    <tr>\n",
       "      <th>4</th>\n",
       "      <td>1</td>\n",
       "      <td>0.868920</td>\n",
       "      <td>0.516596</td>\n",
       "      <td>-0.140266</td>\n",
       "      <td>0.075347</td>\n",
       "      <td>1.051541</td>\n",
       "      <td>0.597305</td>\n",
       "      <td>0.383844</td>\n",
       "      <td>-1.545248</td>\n",
       "      <td>-0.149525</td>\n",
       "    </tr>\n",
       "    <tr>\n",
       "      <th>5</th>\n",
       "      <td>1</td>\n",
       "      <td>0.097701</td>\n",
       "      <td>-0.507407</td>\n",
       "      <td>0.434962</td>\n",
       "      <td>-0.565838</td>\n",
       "      <td>1.419451</td>\n",
       "      <td>-1.900858</td>\n",
       "      <td>-1.212081</td>\n",
       "      <td>0.875708</td>\n",
       "      <td>-0.539050</td>\n",
       "    </tr>\n",
       "    <tr>\n",
       "      <th>6</th>\n",
       "      <td>1</td>\n",
       "      <td>-0.874498</td>\n",
       "      <td>-1.076396</td>\n",
       "      <td>-1.597601</td>\n",
       "      <td>0.895081</td>\n",
       "      <td>0.695349</td>\n",
       "      <td>-0.832339</td>\n",
       "      <td>0.173609</td>\n",
       "      <td>-1.886739</td>\n",
       "      <td>0.487281</td>\n",
       "    </tr>\n",
       "    <tr>\n",
       "      <th>7</th>\n",
       "      <td>1</td>\n",
       "      <td>-0.864564</td>\n",
       "      <td>0.447902</td>\n",
       "      <td>-0.085389</td>\n",
       "      <td>0.617046</td>\n",
       "      <td>1.494711</td>\n",
       "      <td>0.281516</td>\n",
       "      <td>0.192992</td>\n",
       "      <td>0.343247</td>\n",
       "      <td>-0.735670</td>\n",
       "    </tr>\n",
       "    <tr>\n",
       "      <th>8</th>\n",
       "      <td>1</td>\n",
       "      <td>-0.075893</td>\n",
       "      <td>-1.840804</td>\n",
       "      <td>0.522758</td>\n",
       "      <td>-0.556720</td>\n",
       "      <td>-0.468842</td>\n",
       "      <td>0.926964</td>\n",
       "      <td>-1.013105</td>\n",
       "      <td>0.942864</td>\n",
       "      <td>-0.846474</td>\n",
       "    </tr>\n",
       "    <tr>\n",
       "      <th>9</th>\n",
       "      <td>1</td>\n",
       "      <td>-0.369955</td>\n",
       "      <td>0.341661</td>\n",
       "      <td>1.334422</td>\n",
       "      <td>1.303671</td>\n",
       "      <td>-0.296377</td>\n",
       "      <td>-0.372676</td>\n",
       "      <td>-0.805030</td>\n",
       "      <td>-0.190271</td>\n",
       "      <td>-0.338007</td>\n",
       "    </tr>\n",
       "  </tbody>\n",
       "</table>\n",
       "</div>"
      ],
      "text/plain": [
       "   0         1         2         3         4         5         6         7  \\\n",
       "0  1  0.166320  0.727994  0.331717  0.726295  0.014287 -0.442941 -0.134026   \n",
       "1  1  0.971687 -1.316008 -0.297569 -0.875635 -2.072839 -1.534979  0.562164   \n",
       "2  1 -1.349091 -0.981522  1.144307  0.327100 -0.148184 -0.614767 -2.504987   \n",
       "3  1 -2.037137 -0.082677  0.201713 -0.674199  0.898246 -0.954010  2.388965   \n",
       "4  1  0.868920  0.516596 -0.140266  0.075347  1.051541  0.597305  0.383844   \n",
       "5  1  0.097701 -0.507407  0.434962 -0.565838  1.419451 -1.900858 -1.212081   \n",
       "6  1 -0.874498 -1.076396 -1.597601  0.895081  0.695349 -0.832339  0.173609   \n",
       "7  1 -0.864564  0.447902 -0.085389  0.617046  1.494711  0.281516  0.192992   \n",
       "8  1 -0.075893 -1.840804  0.522758 -0.556720 -0.468842  0.926964 -1.013105   \n",
       "9  1 -0.369955  0.341661  1.334422  1.303671 -0.296377 -0.372676 -0.805030   \n",
       "\n",
       "          8         9  \n",
       "0  0.466746 -0.548269  \n",
       "1 -0.657256 -0.583933  \n",
       "2 -1.247470 -1.330641  \n",
       "3  1.196857 -1.378643  \n",
       "4 -1.545248 -0.149525  \n",
       "5  0.875708 -0.539050  \n",
       "6 -1.886739  0.487281  \n",
       "7  0.343247 -0.735670  \n",
       "8  0.942864 -0.846474  \n",
       "9 -0.190271 -0.338007  "
      ]
     },
     "execution_count": 25,
     "metadata": {},
     "output_type": "execute_result"
    }
   ],
   "source": [
    "X"
   ]
  },
  {
   "cell_type": "code",
   "execution_count": 26,
   "metadata": {
    "scrolled": true
   },
   "outputs": [
    {
     "data": {
      "text/html": [
       "<div>\n",
       "<style scoped>\n",
       "    .dataframe tbody tr th:only-of-type {\n",
       "        vertical-align: middle;\n",
       "    }\n",
       "\n",
       "    .dataframe tbody tr th {\n",
       "        vertical-align: top;\n",
       "    }\n",
       "\n",
       "    .dataframe thead th {\n",
       "        text-align: right;\n",
       "    }\n",
       "</style>\n",
       "<table border=\"1\" class=\"dataframe\">\n",
       "  <thead>\n",
       "    <tr style=\"text-align: right;\">\n",
       "      <th></th>\n",
       "      <th>0</th>\n",
       "      <th>1</th>\n",
       "      <th>2</th>\n",
       "      <th>3</th>\n",
       "      <th>4</th>\n",
       "      <th>5</th>\n",
       "      <th>6</th>\n",
       "      <th>7</th>\n",
       "      <th>8</th>\n",
       "      <th>9</th>\n",
       "    </tr>\n",
       "  </thead>\n",
       "  <tbody>\n",
       "    <tr>\n",
       "      <th>0</th>\n",
       "      <td>2.121996e-314</td>\n",
       "      <td>6.365987e-314</td>\n",
       "      <td>1.060998e-313</td>\n",
       "      <td>1.485397e-313</td>\n",
       "      <td>1.909796e-313</td>\n",
       "      <td>2.334195e-313</td>\n",
       "      <td>2.758595e-313</td>\n",
       "      <td>3.182994e-313</td>\n",
       "      <td>3.607393e-313</td>\n",
       "      <td>4.031792e-313</td>\n",
       "    </tr>\n",
       "    <tr>\n",
       "      <th>1</th>\n",
       "      <td>4.456191e-313</td>\n",
       "      <td>4.880590e-313</td>\n",
       "      <td>5.304989e-313</td>\n",
       "      <td>5.729389e-313</td>\n",
       "      <td>6.153788e-313</td>\n",
       "      <td>6.578187e-313</td>\n",
       "      <td>7.002586e-313</td>\n",
       "      <td>7.426985e-313</td>\n",
       "      <td>7.851384e-313</td>\n",
       "      <td>8.275784e-313</td>\n",
       "    </tr>\n",
       "    <tr>\n",
       "      <th>2</th>\n",
       "      <td>8.700183e-313</td>\n",
       "      <td>9.124582e-313</td>\n",
       "      <td>9.548981e-313</td>\n",
       "      <td>9.973380e-313</td>\n",
       "      <td>1.039778e-312</td>\n",
       "      <td>1.082218e-312</td>\n",
       "      <td>1.124658e-312</td>\n",
       "      <td>1.167098e-312</td>\n",
       "      <td>1.209538e-312</td>\n",
       "      <td>1.251978e-312</td>\n",
       "    </tr>\n",
       "    <tr>\n",
       "      <th>3</th>\n",
       "      <td>1.294417e-312</td>\n",
       "      <td>1.336857e-312</td>\n",
       "      <td>1.379297e-312</td>\n",
       "      <td>1.421737e-312</td>\n",
       "      <td>1.464177e-312</td>\n",
       "      <td>1.506617e-312</td>\n",
       "      <td>1.549057e-312</td>\n",
       "      <td>1.591497e-312</td>\n",
       "      <td>1.633937e-312</td>\n",
       "      <td>1.676377e-312</td>\n",
       "    </tr>\n",
       "    <tr>\n",
       "      <th>4</th>\n",
       "      <td>2.174022e+01</td>\n",
       "      <td>2.000000e+00</td>\n",
       "      <td>3.000000e+00</td>\n",
       "      <td>4.000000e+00</td>\n",
       "      <td>1.888576e-312</td>\n",
       "      <td>1.931016e-312</td>\n",
       "      <td>1.973456e-312</td>\n",
       "      <td>2.015896e-312</td>\n",
       "      <td>2.058336e-312</td>\n",
       "      <td>2.100776e-312</td>\n",
       "    </tr>\n",
       "    <tr>\n",
       "      <th>5</th>\n",
       "      <td>2.174022e+01</td>\n",
       "      <td>2.000000e+00</td>\n",
       "      <td>3.000000e+00</td>\n",
       "      <td>4.000000e+00</td>\n",
       "      <td>4.609679e-15</td>\n",
       "      <td>2.355415e-312</td>\n",
       "      <td>2.397855e-312</td>\n",
       "      <td>2.440295e-312</td>\n",
       "      <td>2.482735e-312</td>\n",
       "      <td>2.525175e-312</td>\n",
       "    </tr>\n",
       "    <tr>\n",
       "      <th>6</th>\n",
       "      <td>2.174022e+01</td>\n",
       "      <td>2.000000e+00</td>\n",
       "      <td>3.000000e+00</td>\n",
       "      <td>4.000000e+00</td>\n",
       "      <td>-5.217976e-15</td>\n",
       "      <td>1.184199e-14</td>\n",
       "      <td>2.822254e-312</td>\n",
       "      <td>2.864694e-312</td>\n",
       "      <td>2.907134e-312</td>\n",
       "      <td>2.949574e-312</td>\n",
       "    </tr>\n",
       "    <tr>\n",
       "      <th>7</th>\n",
       "      <td>2.174022e+01</td>\n",
       "      <td>2.000000e+00</td>\n",
       "      <td>3.000000e+00</td>\n",
       "      <td>4.000000e+00</td>\n",
       "      <td>-7.446731e-16</td>\n",
       "      <td>4.582641e-16</td>\n",
       "      <td>4.547368e-15</td>\n",
       "      <td>3.289093e-312</td>\n",
       "      <td>3.331533e-312</td>\n",
       "      <td>3.373973e-312</td>\n",
       "    </tr>\n",
       "    <tr>\n",
       "      <th>8</th>\n",
       "      <td>2.174022e+01</td>\n",
       "      <td>2.000000e+00</td>\n",
       "      <td>3.000000e+00</td>\n",
       "      <td>4.000000e+00</td>\n",
       "      <td>2.432412e-16</td>\n",
       "      <td>3.940711e-15</td>\n",
       "      <td>-3.545601e-15</td>\n",
       "      <td>3.021277e-15</td>\n",
       "      <td>3.755933e-312</td>\n",
       "      <td>3.798372e-312</td>\n",
       "    </tr>\n",
       "    <tr>\n",
       "      <th>9</th>\n",
       "      <td>2.174022e+01</td>\n",
       "      <td>2.000000e+00</td>\n",
       "      <td>3.000000e+00</td>\n",
       "      <td>4.000000e+00</td>\n",
       "      <td>-3.565979e-15</td>\n",
       "      <td>1.173954e-14</td>\n",
       "      <td>1.033203e-14</td>\n",
       "      <td>7.034943e-15</td>\n",
       "      <td>-4.806934e-15</td>\n",
       "      <td>4.222772e-312</td>\n",
       "    </tr>\n",
       "  </tbody>\n",
       "</table>\n",
       "</div>"
      ],
      "text/plain": [
       "               0              1              2              3              4  \\\n",
       "0  2.121996e-314  6.365987e-314  1.060998e-313  1.485397e-313  1.909796e-313   \n",
       "1  4.456191e-313  4.880590e-313  5.304989e-313  5.729389e-313  6.153788e-313   \n",
       "2  8.700183e-313  9.124582e-313  9.548981e-313  9.973380e-313  1.039778e-312   \n",
       "3  1.294417e-312  1.336857e-312  1.379297e-312  1.421737e-312  1.464177e-312   \n",
       "4   2.174022e+01   2.000000e+00   3.000000e+00   4.000000e+00  1.888576e-312   \n",
       "5   2.174022e+01   2.000000e+00   3.000000e+00   4.000000e+00   4.609679e-15   \n",
       "6   2.174022e+01   2.000000e+00   3.000000e+00   4.000000e+00  -5.217976e-15   \n",
       "7   2.174022e+01   2.000000e+00   3.000000e+00   4.000000e+00  -7.446731e-16   \n",
       "8   2.174022e+01   2.000000e+00   3.000000e+00   4.000000e+00   2.432412e-16   \n",
       "9   2.174022e+01   2.000000e+00   3.000000e+00   4.000000e+00  -3.565979e-15   \n",
       "\n",
       "               5              6              7              8              9  \n",
       "0  2.334195e-313  2.758595e-313  3.182994e-313  3.607393e-313  4.031792e-313  \n",
       "1  6.578187e-313  7.002586e-313  7.426985e-313  7.851384e-313  8.275784e-313  \n",
       "2  1.082218e-312  1.124658e-312  1.167098e-312  1.209538e-312  1.251978e-312  \n",
       "3  1.506617e-312  1.549057e-312  1.591497e-312  1.633937e-312  1.676377e-312  \n",
       "4  1.931016e-312  1.973456e-312  2.015896e-312  2.058336e-312  2.100776e-312  \n",
       "5  2.355415e-312  2.397855e-312  2.440295e-312  2.482735e-312  2.525175e-312  \n",
       "6   1.184199e-14  2.822254e-312  2.864694e-312  2.907134e-312  2.949574e-312  \n",
       "7   4.582641e-16   4.547368e-15  3.289093e-312  3.331533e-312  3.373973e-312  \n",
       "8   3.940711e-15  -3.545601e-15   3.021277e-15  3.755933e-312  3.798372e-312  \n",
       "9   1.173954e-14   1.033203e-14   7.034943e-15  -4.806934e-15  4.222772e-312  "
      ]
     },
     "execution_count": 26,
     "metadata": {},
     "output_type": "execute_result"
    }
   ],
   "source": [
    "pd.DataFrame(all_betas).head(30)"
   ]
  },
  {
   "cell_type": "code",
   "execution_count": 27,
   "metadata": {},
   "outputs": [
    {
     "data": {
      "text/plain": [
       "[0,\n",
       " 0,\n",
       " 0,\n",
       " 0,\n",
       " 8.198228413799545e-15,\n",
       " 4.7994518887528756e-15,\n",
       " 2.2384915612894026e-14,\n",
       " 9.745709465637164e-15,\n",
       " 8.407255028117242e-15,\n",
       " 2.7340895994598107e-14]"
      ]
     },
     "execution_count": 27,
     "metadata": {},
     "output_type": "execute_result"
    }
   ],
   "source": [
    "in_sample_rmse"
   ]
  },
  {
   "cell_type": "code",
   "execution_count": 29,
   "metadata": {},
   "outputs": [
    {
     "data": {
      "text/plain": [
       "10"
      ]
     },
     "execution_count": 29,
     "metadata": {},
     "output_type": "execute_result"
    }
   ],
   "source": [
    "len(in_sample_rmse)"
   ]
  },
  {
   "cell_type": "code",
   "execution_count": 30,
   "metadata": {},
   "outputs": [
    {
     "data": {
      "text/plain": [
       "<AxesSubplot:xlabel='Num_of_Features', ylabel='In_Sample_RMSE'>"
      ]
     },
     "execution_count": 30,
     "metadata": {},
     "output_type": "execute_result"
    },
    {
     "data": {
      "image/png": "[encoded data removed]",
      "text/plain": [
       "<Figure size 432x288 with 1 Axes>"
      ]
     },
     "metadata": {
      "needs_background": "light"
     },
     "output_type": "display_data"
    }
   ],
   "source": [
    "df = pd.DataFrame({\"Num_of_Features\":[i for i in range(n)],\n",
    "                   \"In_Sample_RMSE\":in_sample_rmse})\n",
    "\n",
    "sns.scatterplot(data = df, x = \"Num_of_Features\", y = \"In_Sample_RMSE\")"
   ]
  }
 ],
 "metadata": {
  "kernelspec": {
   "display_name": "Python 3",
   "language": "python",
   "name": "python3"
  },
  "language_info": {
   "codemirror_mode": {
    "name": "ipython",
    "version": 3
   },
   "file_extension": ".py",
   "mimetype": "text/x-python",
   "name": "python",
   "nbconvert_exporter": "python",
   "pygments_lexer": "ipython3",
   "version": "3.8.5"
  }
 },
 "nbformat": 4,
 "nbformat_minor": 4
}
