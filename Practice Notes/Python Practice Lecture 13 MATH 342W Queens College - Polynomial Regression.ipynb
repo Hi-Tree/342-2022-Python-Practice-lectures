{
 "cells": [
  {
   "cell_type": "markdown",
   "metadata": {},
   "source": [
    "# Python Practice Lecture 13 MATH 342W Queens College - Polynomial Regression\n",
    "## Author: Amir ElTabakh\n",
    "## Date: March 15, 2021\n",
    "\n",
    "## Agenda:\n",
    "* Nonlinear Regression: Polynomial Regression\n",
    "* Extrapolation vs Interpolation\n",
    "* Overfitting with Polynomials\n",
    "\n",
    "## Nonlinear Linear Regression: Polynomial Regression\n",
    "\n",
    "Let's generate a polynomial model of degree 2, that is, $f = h^* \\in \\mathcal{H}$ and let $\\epsilon$ be random noise (the error due to ignorance) for $\\mathbb{D}$."
   ]
  },
  {
   "cell_type": "code",
   "execution_count": 1,
   "metadata": {},
   "outputs": [],
   "source": [
    "# importing dependencies\n",
    "import numpy as np\n",
    "from sklearn.linear_model import LinearRegression\n",
    "from sklearn.metrics import mean_squared_error # calculates RMSE\n",
    "import pandas as pd\n",
    "import seaborn as sns"
   ]
  },
  {
   "cell_type": "code",
   "execution_count": 2,
   "metadata": {},
   "outputs": [
    {
     "data": {
      "text/plain": [
       "<AxesSubplot:>"
      ]
     },
     "execution_count": 2,
     "metadata": {},
     "output_type": "execute_result"
    },
    {
     "data": {
      "image/png": "[encoded data removed]",
      "text/plain": [
       "<Figure size 432x288 with 1 Axes>"
      ]
     },
     "metadata": {
      "needs_background": "light"
     },
     "output_type": "display_data"
    }
   ],
   "source": [
    "# Set seed\n",
    "np.random.seed(1640)\n",
    "\n",
    "# Generating h_*\n",
    "n = 30\n",
    "beta_0 = 1\n",
    "beta_1 = 0\n",
    "beta_2 = 1\n",
    "\n",
    "x = np.random.uniform(low=-2.0, high=5.0, size=n)\n",
    "\n",
    "# best possible model\n",
    "h_star_x = beta_0 + beta_1 * x + beta_2 * x**2\n",
    "\n",
    "# actual data differs due to information we don't have\n",
    "epsilon = [np.random.normal(0, 1) for i in range(n)]\n",
    "y = h_star_x + epsilon\n",
    "\n",
    "df = pd.DataFrame({'x':x, 'y':y, 'h_star_x':h_star_x})\n",
    "\n",
    "sns.scatterplot(data = df, x = x, y = y)"
   ]
  },
  {
   "cell_type": "markdown",
   "metadata": {},
   "source": [
    "Let's try to estimate with a line:"
   ]
  },
  {
   "cell_type": "code",
   "execution_count": 3,
   "metadata": {},
   "outputs": [],
   "source": [
    "# importing dependencies\n",
    "from typing import Sequence, Union\n",
    "import numpy as np\n",
    "import matplotlib.pyplot as plt\n",
    "\n",
    "# function to plot via slope and intercept.\n",
    "\n",
    "def abline(slope, intercept):\n",
    "    \"\"\"Plot a line from slope and intercept\"\"\"\n",
    "    axes = plt.gca()\n",
    "    x_vals = np.array(axes.get_xlim())\n",
    "    y_vals = intercept + slope * x_vals\n",
    "    plt.plot(x_vals, y_vals, '--')\n",
    "\n",
    "\n",
    "# functions to plot polynomial expressions\n",
    "\n",
    "Number = Union[int, float, complex]\n",
    "\n",
    "def polyval(coefficients: Sequence[Number], x: Sequence[Number]) -> np.ndarray:\n",
    "    # expand dimensions to allow broadcasting (constant time + inexpensive)\n",
    "    # axis=-1 allows for arbitrarily shaped x\n",
    "    x = np.expand_dims(x, axis=-1)\n",
    "    powers = x ** np.arange(len(coefficients))\n",
    "    return powers @ coefficients\n",
    "\n",
    "def polyplot(coefficients: Sequence[Number], x: Sequence[Number]) -> None:\n",
    "    y = polyval(coefficients, x)\n",
    "    plt.plot(x, y)"
   ]
  },
  {
   "cell_type": "code",
   "execution_count": 4,
   "metadata": {},
   "outputs": [
    {
     "data": {
      "image/png": "[encoded data removed]",
      "text/plain": [
       "<Figure size 432x288 with 1 Axes>"
      ]
     },
     "metadata": {
      "needs_background": "light"
     },
     "output_type": "display_data"
    }
   ],
   "source": [
    "model = LinearRegression(fit_intercept = False)\n",
    "\n",
    "model.fit(pd.DataFrame(df.x), pd.DataFrame(df.y))\n",
    "\n",
    "slope = model.coef_[0][0]\n",
    "intercept = model.intercept_\n",
    "\n",
    "# plot data points\n",
    "sns.scatterplot(data = df, x = x, y = y)\n",
    "\n",
    "# plot model regression line\n",
    "abline(slope, intercept)\n",
    "\n",
    "# plotting h_star_x\n",
    "polyplot(np.array([beta_0, beta_1, beta_2]), np.linspace(-2, 5, 300))"
   ]
  },
  {
   "cell_type": "code",
   "execution_count": 5,
   "metadata": {},
   "outputs": [
    {
     "data": {
      "text/plain": [
       "0.7035670278464388"
      ]
     },
     "execution_count": 5,
     "metadata": {},
     "output_type": "execute_result"
    }
   ],
   "source": [
    "# output R^2 of dotted line\n",
    "model.score(pd.DataFrame(df.x), pd.DataFrame(df.y))"
   ]
  },
  {
   "cell_type": "markdown",
   "metadata": {},
   "source": [
    "The relationship is \"underfit\". $\\mathcal{H}$ is not rich enough right now to express something close to $f(x)$. But it is better than the null model!\n",
    "\n",
    "Now let's do a polynomial regression of degree two. Let's do so manually:"
   ]
  },
  {
   "cell_type": "code",
   "execution_count": 6,
   "metadata": {},
   "outputs": [
    {
     "data": {
      "text/html": [
       "<div>\n",
       "<style scoped>\n",
       "    .dataframe tbody tr th:only-of-type {\n",
       "        vertical-align: middle;\n",
       "    }\n",
       "\n",
       "    .dataframe tbody tr th {\n",
       "        vertical-align: top;\n",
       "    }\n",
       "\n",
       "    .dataframe thead th {\n",
       "        text-align: right;\n",
       "    }\n",
       "</style>\n",
       "<table border=\"1\" class=\"dataframe\">\n",
       "  <thead>\n",
       "    <tr style=\"text-align: right;\">\n",
       "      <th></th>\n",
       "      <th>0</th>\n",
       "      <th>1</th>\n",
       "      <th>2</th>\n",
       "    </tr>\n",
       "  </thead>\n",
       "  <tbody>\n",
       "    <tr>\n",
       "      <th>0</th>\n",
       "      <td>1</td>\n",
       "      <td>3.649334</td>\n",
       "      <td>13.317639</td>\n",
       "    </tr>\n",
       "    <tr>\n",
       "      <th>1</th>\n",
       "      <td>1</td>\n",
       "      <td>3.894910</td>\n",
       "      <td>15.170325</td>\n",
       "    </tr>\n",
       "    <tr>\n",
       "      <th>2</th>\n",
       "      <td>1</td>\n",
       "      <td>4.745076</td>\n",
       "      <td>22.515743</td>\n",
       "    </tr>\n",
       "    <tr>\n",
       "      <th>3</th>\n",
       "      <td>1</td>\n",
       "      <td>-1.128937</td>\n",
       "      <td>1.274500</td>\n",
       "    </tr>\n",
       "    <tr>\n",
       "      <th>4</th>\n",
       "      <td>1</td>\n",
       "      <td>4.379849</td>\n",
       "      <td>19.183073</td>\n",
       "    </tr>\n",
       "  </tbody>\n",
       "</table>\n",
       "</div>"
      ],
      "text/plain": [
       "   0         1          2\n",
       "0  1  3.649334  13.317639\n",
       "1  1  3.894910  15.170325\n",
       "2  1  4.745076  22.515743\n",
       "3  1 -1.128937   1.274500\n",
       "4  1  4.379849  19.183073"
      ]
     },
     "execution_count": 6,
     "metadata": {},
     "output_type": "execute_result"
    }
   ],
   "source": [
    "# Set seed\n",
    "np.random.seed(1640)\n",
    "\n",
    "# defining X\n",
    "X = [[1, x[i], x[i]**2] for i in range(len(x))]\n",
    "X = pd.DataFrame(X)\n",
    "\n",
    "X.head()"
   ]
  },
  {
   "cell_type": "code",
   "execution_count": 7,
   "metadata": {},
   "outputs": [
    {
     "name": "stdout",
     "output_type": "stream",
     "text": [
      "0    0.342843\n",
      "1   -0.219180\n",
      "2    1.104987\n",
      "dtype: float64\n",
      "[1, 0, 1]\n"
     ]
    }
   ],
   "source": [
    "# solve for your b_vec\n",
    "b = np.linalg.inv(X.transpose() @ X) @ X.transpose() @ y\n",
    "print(b)\n",
    "print([beta_0, beta_1, beta_2])"
   ]
  },
  {
   "cell_type": "markdown",
   "metadata": {},
   "source": [
    "And we'll plot it."
   ]
  },
  {
   "cell_type": "code",
   "execution_count": 8,
   "metadata": {},
   "outputs": [
    {
     "data": {
      "image/png": "[encoded data removed]",
      "text/plain": [
       "<Figure size 432x288 with 1 Axes>"
      ]
     },
     "metadata": {
      "needs_background": "light"
     },
     "output_type": "display_data"
    }
   ],
   "source": [
    "# plot data points\n",
    "sns.scatterplot(data = df, x = x, y = y)\n",
    "\n",
    "# plot model regression line\n",
    "#abline(slope, intercept)\n",
    "\n",
    "# plotting h_star_x - Blue\n",
    "polyplot(np.array([beta_0, beta_1, beta_2]), np.linspace(-2, 5, 300))\n",
    "\n",
    "# plotting model polynomial - Orange\n",
    "polyplot(np.array(b), np.linspace(-2, 5, 300))"
   ]
  },
  {
   "cell_type": "markdown",
   "metadata": {},
   "source": [
    "Now let's try polynomial of degree 3:"
   ]
  },
  {
   "cell_type": "code",
   "execution_count": 9,
   "metadata": {},
   "outputs": [
    {
     "data": {
      "text/html": [
       "<div>\n",
       "<style scoped>\n",
       "    .dataframe tbody tr th:only-of-type {\n",
       "        vertical-align: middle;\n",
       "    }\n",
       "\n",
       "    .dataframe tbody tr th {\n",
       "        vertical-align: top;\n",
       "    }\n",
       "\n",
       "    .dataframe thead th {\n",
       "        text-align: right;\n",
       "    }\n",
       "</style>\n",
       "<table border=\"1\" class=\"dataframe\">\n",
       "  <thead>\n",
       "    <tr style=\"text-align: right;\">\n",
       "      <th></th>\n",
       "      <th>0</th>\n",
       "      <th>1</th>\n",
       "      <th>2</th>\n",
       "      <th>3</th>\n",
       "    </tr>\n",
       "  </thead>\n",
       "  <tbody>\n",
       "    <tr>\n",
       "      <th>0</th>\n",
       "      <td>1</td>\n",
       "      <td>3.649334</td>\n",
       "      <td>13.317639</td>\n",
       "      <td>48.600511</td>\n",
       "    </tr>\n",
       "    <tr>\n",
       "      <th>1</th>\n",
       "      <td>1</td>\n",
       "      <td>3.894910</td>\n",
       "      <td>15.170325</td>\n",
       "      <td>59.087054</td>\n",
       "    </tr>\n",
       "    <tr>\n",
       "      <th>2</th>\n",
       "      <td>1</td>\n",
       "      <td>4.745076</td>\n",
       "      <td>22.515743</td>\n",
       "      <td>106.838904</td>\n",
       "    </tr>\n",
       "    <tr>\n",
       "      <th>3</th>\n",
       "      <td>1</td>\n",
       "      <td>-1.128937</td>\n",
       "      <td>1.274500</td>\n",
       "      <td>-1.438830</td>\n",
       "    </tr>\n",
       "    <tr>\n",
       "      <th>4</th>\n",
       "      <td>1</td>\n",
       "      <td>4.379849</td>\n",
       "      <td>19.183073</td>\n",
       "      <td>84.018955</td>\n",
       "    </tr>\n",
       "  </tbody>\n",
       "</table>\n",
       "</div>"
      ],
      "text/plain": [
       "   0         1          2           3\n",
       "0  1  3.649334  13.317639   48.600511\n",
       "1  1  3.894910  15.170325   59.087054\n",
       "2  1  4.745076  22.515743  106.838904\n",
       "3  1 -1.128937   1.274500   -1.438830\n",
       "4  1  4.379849  19.183073   84.018955"
      ]
     },
     "execution_count": 9,
     "metadata": {},
     "output_type": "execute_result"
    }
   ],
   "source": [
    "# Set seed\n",
    "np.random.seed(1640)\n",
    "\n",
    "# defining X\n",
    "X = [[1, x[i], x[i]**2, x[i]**3] for i in range(len(x))]\n",
    "X = pd.DataFrame(X)\n",
    "\n",
    "X.head()"
   ]
  },
  {
   "cell_type": "code",
   "execution_count": 10,
   "metadata": {},
   "outputs": [
    {
     "name": "stdout",
     "output_type": "stream",
     "text": [
      "0    0.609028\n",
      "1   -0.182762\n",
      "2    0.965918\n",
      "3    0.026249\n",
      "dtype: float64\n"
     ]
    }
   ],
   "source": [
    "# solve for your b_vec\n",
    "b = np.linalg.inv(X.transpose() @ X) @ X.transpose() @ y\n",
    "print(b)"
   ]
  },
  {
   "cell_type": "code",
   "execution_count": 11,
   "metadata": {},
   "outputs": [
    {
     "data": {
      "image/png": "[encoded data removed]",
      "text/plain": [
       "<Figure size 432x288 with 1 Axes>"
      ]
     },
     "metadata": {
      "needs_background": "light"
     },
     "output_type": "display_data"
    }
   ],
   "source": [
    "# plot data points\n",
    "sns.scatterplot(data = df, x = x, y = y)\n",
    "\n",
    "# plot model regression line\n",
    "#abline(slope, intercept)\n",
    "\n",
    "# plotting h_star_x - Blue\n",
    "polyplot(np.array([beta_0, beta_1, beta_2]), np.linspace(-2, 5, 300))\n",
    "\n",
    "# plotting model polynomial - Orange\n",
    "polyplot(np.array(b), np.linspace(-2, 5, 300))"
   ]
  },
  {
   "cell_type": "markdown",
   "metadata": {},
   "source": [
    "Still the same. Why? The $x^3$ term is like adding one \"nonsense\" predictor. One nonsense predictor marginally affects $R^2$ but it doesn't matter too much.\n",
    "\n",
    "Now let's try polynomial of degree 8:"
   ]
  },
  {
   "cell_type": "code",
   "execution_count": 12,
   "metadata": {},
   "outputs": [
    {
     "data": {
      "text/html": [
       "<div>\n",
       "<style scoped>\n",
       "    .dataframe tbody tr th:only-of-type {\n",
       "        vertical-align: middle;\n",
       "    }\n",
       "\n",
       "    .dataframe tbody tr th {\n",
       "        vertical-align: top;\n",
       "    }\n",
       "\n",
       "    .dataframe thead th {\n",
       "        text-align: right;\n",
       "    }\n",
       "</style>\n",
       "<table border=\"1\" class=\"dataframe\">\n",
       "  <thead>\n",
       "    <tr style=\"text-align: right;\">\n",
       "      <th></th>\n",
       "      <th>0</th>\n",
       "      <th>1</th>\n",
       "      <th>2</th>\n",
       "      <th>3</th>\n",
       "      <th>4</th>\n",
       "      <th>5</th>\n",
       "      <th>6</th>\n",
       "      <th>7</th>\n",
       "      <th>8</th>\n",
       "    </tr>\n",
       "  </thead>\n",
       "  <tbody>\n",
       "    <tr>\n",
       "      <th>0</th>\n",
       "      <td>1</td>\n",
       "      <td>3.649334</td>\n",
       "      <td>13.317639</td>\n",
       "      <td>48.600511</td>\n",
       "      <td>177.359497</td>\n",
       "      <td>647.244039</td>\n",
       "      <td>2362.009671</td>\n",
       "      <td>8619.762172</td>\n",
       "      <td>31456.391060</td>\n",
       "    </tr>\n",
       "    <tr>\n",
       "      <th>1</th>\n",
       "      <td>1</td>\n",
       "      <td>3.894910</td>\n",
       "      <td>15.170325</td>\n",
       "      <td>59.087054</td>\n",
       "      <td>230.138767</td>\n",
       "      <td>896.369822</td>\n",
       "      <td>3491.279933</td>\n",
       "      <td>13598.221704</td>\n",
       "      <td>52963.851957</td>\n",
       "    </tr>\n",
       "    <tr>\n",
       "      <th>2</th>\n",
       "      <td>1</td>\n",
       "      <td>4.745076</td>\n",
       "      <td>22.515743</td>\n",
       "      <td>106.838904</td>\n",
       "      <td>506.958682</td>\n",
       "      <td>2405.557303</td>\n",
       "      <td>11414.551400</td>\n",
       "      <td>54162.909982</td>\n",
       "      <td>257007.105667</td>\n",
       "    </tr>\n",
       "    <tr>\n",
       "      <th>3</th>\n",
       "      <td>1</td>\n",
       "      <td>-1.128937</td>\n",
       "      <td>1.274500</td>\n",
       "      <td>-1.438830</td>\n",
       "      <td>1.624349</td>\n",
       "      <td>-1.833789</td>\n",
       "      <td>2.070232</td>\n",
       "      <td>-2.337163</td>\n",
       "      <td>2.638510</td>\n",
       "    </tr>\n",
       "    <tr>\n",
       "      <th>4</th>\n",
       "      <td>1</td>\n",
       "      <td>4.379849</td>\n",
       "      <td>19.183073</td>\n",
       "      <td>84.018955</td>\n",
       "      <td>367.990295</td>\n",
       "      <td>1611.741751</td>\n",
       "      <td>7059.184739</td>\n",
       "      <td>30918.159892</td>\n",
       "      <td>135416.857109</td>\n",
       "    </tr>\n",
       "  </tbody>\n",
       "</table>\n",
       "</div>"
      ],
      "text/plain": [
       "   0         1          2           3           4            5             6  \\\n",
       "0  1  3.649334  13.317639   48.600511  177.359497   647.244039   2362.009671   \n",
       "1  1  3.894910  15.170325   59.087054  230.138767   896.369822   3491.279933   \n",
       "2  1  4.745076  22.515743  106.838904  506.958682  2405.557303  11414.551400   \n",
       "3  1 -1.128937   1.274500   -1.438830    1.624349    -1.833789      2.070232   \n",
       "4  1  4.379849  19.183073   84.018955  367.990295  1611.741751   7059.184739   \n",
       "\n",
       "              7              8  \n",
       "0   8619.762172   31456.391060  \n",
       "1  13598.221704   52963.851957  \n",
       "2  54162.909982  257007.105667  \n",
       "3     -2.337163       2.638510  \n",
       "4  30918.159892  135416.857109  "
      ]
     },
     "execution_count": 12,
     "metadata": {},
     "output_type": "execute_result"
    }
   ],
   "source": [
    "# Set seed\n",
    "np.random.seed(1640)\n",
    "\n",
    "# defining X\n",
    "X = [[1, x[i], x[i]**2, x[i]**3,  x[i]**4, x[i]**5, x[i]**6, x[i]**7, x[i]**8] for i in range(len(x))]\n",
    "X = pd.DataFrame(X)\n",
    "\n",
    "X.head()"
   ]
  },
  {
   "cell_type": "code",
   "execution_count": 13,
   "metadata": {},
   "outputs": [
    {
     "name": "stdout",
     "output_type": "stream",
     "text": [
      "0    0.449798\n",
      "1   -3.269151\n",
      "2    1.516623\n",
      "3    2.262595\n",
      "4   -1.000335\n",
      "5   -0.208365\n",
      "6    0.217042\n",
      "7   -0.047953\n",
      "8    0.003467\n",
      "dtype: float64\n"
     ]
    }
   ],
   "source": [
    "# solve for your b_vec\n",
    "b = np.linalg.inv(X.transpose() @ X) @ X.transpose() @ y\n",
    "print(b)"
   ]
  },
  {
   "cell_type": "code",
   "execution_count": 14,
   "metadata": {},
   "outputs": [
    {
     "data": {
      "image/png": "[encoded data removed]",
      "text/plain": [
       "<Figure size 432x288 with 1 Axes>"
      ]
     },
     "metadata": {
      "needs_background": "light"
     },
     "output_type": "display_data"
    }
   ],
   "source": [
    "# plot data points\n",
    "sns.scatterplot(data = df, x = x, y = y)\n",
    "\n",
    "# plot model regression line\n",
    "#abline(slope, intercept)\n",
    "\n",
    "# plotting h_star_x - Blue\n",
    "polyplot(np.array([beta_0, beta_1, beta_2]), np.linspace(-2, 5, 300))\n",
    "\n",
    "# plotting model polynomial - Orange\n",
    "polyplot(np.array(b), np.linspace(-2, 5, 300))"
   ]
  },
  {
   "cell_type": "markdown",
   "metadata": {},
   "source": [
    "We are seeing now a little bit of \"overfitting\" in the edge(s). We now have $p=9$ and $n=100$. We can do a lot worse!\n",
    "\n",
    "Now let's do polynomial of degree 13."
   ]
  },
  {
   "cell_type": "code",
   "execution_count": 15,
   "metadata": {},
   "outputs": [
    {
     "data": {
      "text/html": [
       "<div>\n",
       "<style scoped>\n",
       "    .dataframe tbody tr th:only-of-type {\n",
       "        vertical-align: middle;\n",
       "    }\n",
       "\n",
       "    .dataframe tbody tr th {\n",
       "        vertical-align: top;\n",
       "    }\n",
       "\n",
       "    .dataframe thead th {\n",
       "        text-align: right;\n",
       "    }\n",
       "</style>\n",
       "<table border=\"1\" class=\"dataframe\">\n",
       "  <thead>\n",
       "    <tr style=\"text-align: right;\">\n",
       "      <th></th>\n",
       "      <th>0</th>\n",
       "      <th>1</th>\n",
       "      <th>2</th>\n",
       "      <th>3</th>\n",
       "      <th>4</th>\n",
       "      <th>5</th>\n",
       "      <th>6</th>\n",
       "      <th>7</th>\n",
       "      <th>8</th>\n",
       "      <th>9</th>\n",
       "      <th>10</th>\n",
       "      <th>11</th>\n",
       "      <th>12</th>\n",
       "      <th>13</th>\n",
       "    </tr>\n",
       "  </thead>\n",
       "  <tbody>\n",
       "    <tr>\n",
       "      <th>0</th>\n",
       "      <td>1</td>\n",
       "      <td>3.649334</td>\n",
       "      <td>13.317639</td>\n",
       "      <td>48.600511</td>\n",
       "      <td>177.359497</td>\n",
       "      <td>647.244039</td>\n",
       "      <td>2362.009671</td>\n",
       "      <td>8619.762172</td>\n",
       "      <td>31456.391060</td>\n",
       "      <td>1.147949e+05</td>\n",
       "      <td>4.189248e+05</td>\n",
       "      <td>1.528797e+06</td>\n",
       "      <td>5.579090e+06</td>\n",
       "      <td>2.035996e+07</td>\n",
       "    </tr>\n",
       "    <tr>\n",
       "      <th>1</th>\n",
       "      <td>1</td>\n",
       "      <td>3.894910</td>\n",
       "      <td>15.170325</td>\n",
       "      <td>59.087054</td>\n",
       "      <td>230.138767</td>\n",
       "      <td>896.369822</td>\n",
       "      <td>3491.279933</td>\n",
       "      <td>13598.221704</td>\n",
       "      <td>52963.851957</td>\n",
       "      <td>2.062894e+05</td>\n",
       "      <td>8.034789e+05</td>\n",
       "      <td>3.129478e+06</td>\n",
       "      <td>1.218904e+07</td>\n",
       "      <td>4.747520e+07</td>\n",
       "    </tr>\n",
       "    <tr>\n",
       "      <th>2</th>\n",
       "      <td>1</td>\n",
       "      <td>4.745076</td>\n",
       "      <td>22.515743</td>\n",
       "      <td>106.838904</td>\n",
       "      <td>506.958682</td>\n",
       "      <td>2405.557303</td>\n",
       "      <td>11414.551400</td>\n",
       "      <td>54162.909982</td>\n",
       "      <td>257007.105667</td>\n",
       "      <td>1.219518e+06</td>\n",
       "      <td>5.786706e+06</td>\n",
       "      <td>2.745836e+07</td>\n",
       "      <td>1.302920e+08</td>\n",
       "      <td>6.182453e+08</td>\n",
       "    </tr>\n",
       "    <tr>\n",
       "      <th>3</th>\n",
       "      <td>1</td>\n",
       "      <td>-1.128937</td>\n",
       "      <td>1.274500</td>\n",
       "      <td>-1.438830</td>\n",
       "      <td>1.624349</td>\n",
       "      <td>-1.833789</td>\n",
       "      <td>2.070232</td>\n",
       "      <td>-2.337163</td>\n",
       "      <td>2.638510</td>\n",
       "      <td>-2.978713e+00</td>\n",
       "      <td>3.362780e+00</td>\n",
       "      <td>-3.796369e+00</td>\n",
       "      <td>4.285862e+00</td>\n",
       "      <td>-4.838470e+00</td>\n",
       "    </tr>\n",
       "    <tr>\n",
       "      <th>4</th>\n",
       "      <td>1</td>\n",
       "      <td>4.379849</td>\n",
       "      <td>19.183073</td>\n",
       "      <td>84.018955</td>\n",
       "      <td>367.990295</td>\n",
       "      <td>1611.741751</td>\n",
       "      <td>7059.184739</td>\n",
       "      <td>30918.159892</td>\n",
       "      <td>135416.857109</td>\n",
       "      <td>5.931053e+05</td>\n",
       "      <td>2.597711e+06</td>\n",
       "      <td>1.137758e+07</td>\n",
       "      <td>4.983209e+07</td>\n",
       "      <td>2.182570e+08</td>\n",
       "    </tr>\n",
       "  </tbody>\n",
       "</table>\n",
       "</div>"
      ],
      "text/plain": [
       "   0         1          2           3           4            5             6   \\\n",
       "0   1  3.649334  13.317639   48.600511  177.359497   647.244039   2362.009671   \n",
       "1   1  3.894910  15.170325   59.087054  230.138767   896.369822   3491.279933   \n",
       "2   1  4.745076  22.515743  106.838904  506.958682  2405.557303  11414.551400   \n",
       "3   1 -1.128937   1.274500   -1.438830    1.624349    -1.833789      2.070232   \n",
       "4   1  4.379849  19.183073   84.018955  367.990295  1611.741751   7059.184739   \n",
       "\n",
       "             7              8             9             10            11  \\\n",
       "0   8619.762172   31456.391060  1.147949e+05  4.189248e+05  1.528797e+06   \n",
       "1  13598.221704   52963.851957  2.062894e+05  8.034789e+05  3.129478e+06   \n",
       "2  54162.909982  257007.105667  1.219518e+06  5.786706e+06  2.745836e+07   \n",
       "3     -2.337163       2.638510 -2.978713e+00  3.362780e+00 -3.796369e+00   \n",
       "4  30918.159892  135416.857109  5.931053e+05  2.597711e+06  1.137758e+07   \n",
       "\n",
       "             12            13  \n",
       "0  5.579090e+06  2.035996e+07  \n",
       "1  1.218904e+07  4.747520e+07  \n",
       "2  1.302920e+08  6.182453e+08  \n",
       "3  4.285862e+00 -4.838470e+00  \n",
       "4  4.983209e+07  2.182570e+08  "
      ]
     },
     "execution_count": 15,
     "metadata": {},
     "output_type": "execute_result"
    }
   ],
   "source": [
    "# Set seed\n",
    "np.random.seed(1640)\n",
    "\n",
    "# defining X\n",
    "X = [[1, x[i], x[i]**2, x[i]**3,  x[i]**4, x[i]**5, x[i]**6, x[i]**7, x[i]**8,\n",
    "      x[i]**9, x[i]**10, x[i]**11, x[i]**12, x[i]**13] for i in range(len(x))]\n",
    "\n",
    "X = pd.DataFrame(X)\n",
    "\n",
    "X.head()"
   ]
  },
  {
   "cell_type": "code",
   "execution_count": 16,
   "metadata": {},
   "outputs": [
    {
     "name": "stdout",
     "output_type": "stream",
     "text": [
      "0      0.492448\n",
      "1      0.056234\n",
      "2      5.577316\n",
      "3     -7.321773\n",
      "4     -6.361994\n",
      "5     10.427066\n",
      "6      0.269744\n",
      "7     -4.580487\n",
      "8      1.635947\n",
      "9      0.309602\n",
      "10    -0.334635\n",
      "11     0.088897\n",
      "12    -0.010615\n",
      "13     0.000492\n",
      "dtype: float64\n"
     ]
    }
   ],
   "source": [
    "# solve for your b_vec\n",
    "b = np.linalg.inv(X.transpose() @ X) @ X.transpose() @ y\n",
    "print(b)"
   ]
  },
  {
   "cell_type": "code",
   "execution_count": 17,
   "metadata": {},
   "outputs": [
    {
     "data": {
      "image/png": "[encoded data removed]",
      "text/plain": [
       "<Figure size 432x288 with 1 Axes>"
      ]
     },
     "metadata": {
      "needs_background": "light"
     },
     "output_type": "display_data"
    }
   ],
   "source": [
    "# plot data points\n",
    "sns.scatterplot(data = df, x = x, y = y)\n",
    "\n",
    "# plot model regression line\n",
    "#abline(slope, intercept)\n",
    "\n",
    "# plotting h_star_x - Blue\n",
    "polyplot(np.array([beta_0, beta_1, beta_2]), np.linspace(-2, 6, 300))\n",
    "\n",
    "# plotting model polynomial - Orange\n",
    "polyplot(np.array(b), np.linspace(-2, 5, 300))"
   ]
  },
  {
   "cell_type": "markdown",
   "metadata": {},
   "source": [
    "What's happening for small values of $x$ (and a bit for large values)? This is called [Runge's Phenomenon](https://en.wikipedia.org/wiki/Runge%27s_phenomenon) meaning that the boundary activity of high-order polynomials has very large derivatives.\n",
    "\n",
    "## Extrapolation vs Interpolation\n",
    "\n",
    "Let's take a look at the Galton Data used by Galton in 1885 to study the relationship between a parent's height and their childrens. We'll import it straight from a URL using Pandas' `.read_csv()` method."
   ]
  },
  {
   "cell_type": "code",
   "execution_count": 18,
   "metadata": {},
   "outputs": [
    {
     "data": {
      "text/html": [
       "<div>\n",
       "<style scoped>\n",
       "    .dataframe tbody tr th:only-of-type {\n",
       "        vertical-align: middle;\n",
       "    }\n",
       "\n",
       "    .dataframe tbody tr th {\n",
       "        vertical-align: top;\n",
       "    }\n",
       "\n",
       "    .dataframe thead th {\n",
       "        text-align: right;\n",
       "    }\n",
       "</style>\n",
       "<table border=\"1\" class=\"dataframe\">\n",
       "  <thead>\n",
       "    <tr style=\"text-align: right;\">\n",
       "      <th></th>\n",
       "      <th>parent</th>\n",
       "      <th>child</th>\n",
       "    </tr>\n",
       "  </thead>\n",
       "  <tbody>\n",
       "    <tr>\n",
       "      <th>0</th>\n",
       "      <td>70.5</td>\n",
       "      <td>61.7</td>\n",
       "    </tr>\n",
       "    <tr>\n",
       "      <th>1</th>\n",
       "      <td>68.5</td>\n",
       "      <td>61.7</td>\n",
       "    </tr>\n",
       "    <tr>\n",
       "      <th>2</th>\n",
       "      <td>65.5</td>\n",
       "      <td>61.7</td>\n",
       "    </tr>\n",
       "    <tr>\n",
       "      <th>3</th>\n",
       "      <td>64.5</td>\n",
       "      <td>61.7</td>\n",
       "    </tr>\n",
       "    <tr>\n",
       "      <th>4</th>\n",
       "      <td>64.0</td>\n",
       "      <td>61.7</td>\n",
       "    </tr>\n",
       "  </tbody>\n",
       "</table>\n",
       "</div>"
      ],
      "text/plain": [
       "   parent  child\n",
       "0    70.5   61.7\n",
       "1    68.5   61.7\n",
       "2    65.5   61.7\n",
       "3    64.5   61.7\n",
       "4    64.0   61.7"
      ]
     },
     "execution_count": 18,
     "metadata": {},
     "output_type": "execute_result"
    }
   ],
   "source": [
    "# URL for Galton Height Data\n",
    "url = \"https://raw.github.com/vincentarelbundock/Rdatasets/master/csv/HistData/Galton.csv\"\n",
    "galton_df = pd.read_csv(url)\n",
    "\n",
    "galton_df = galton_df.iloc[:, 1:3]\n",
    "\n",
    "galton_df.head()"
   ]
  },
  {
   "cell_type": "code",
   "execution_count": 19,
   "metadata": {},
   "outputs": [
    {
     "name": "stdout",
     "output_type": "stream",
     "text": [
      "[23.94153018] [0.64629058]\n"
     ]
    }
   ],
   "source": [
    "model_g = LinearRegression(fit_intercept = True)\n",
    "\n",
    "x = pd.DataFrame(galton_df[\"parent\"])\n",
    "y = pd.DataFrame(galton_df[\"child\"])\n",
    "\n",
    "model_g.fit(x, y)\n",
    "\n",
    "b_0 = model_g.intercept_\n",
    "b_1 = model_g.coef_[0]\n",
    "\n",
    "print(b_0, b_1)"
   ]
  },
  {
   "cell_type": "code",
   "execution_count": 20,
   "metadata": {},
   "outputs": [
    {
     "data": {
      "image/png": "[encoded data removed]",
      "text/plain": [
       "<Figure size 432x288 with 1 Axes>"
      ]
     },
     "metadata": {
      "needs_background": "light"
     },
     "output_type": "display_data"
    }
   ],
   "source": [
    "sns.scatterplot(data = galton_df, x = \"parent\", y = \"child\")\n",
    "\n",
    "# plot model regression line\n",
    "abline(b_1, b_0)"
   ]
  },
  {
   "cell_type": "markdown",
   "metadata": {},
   "source": [
    "The `Seaborn` jitter functionality is currently unavailable for scatter plots, so we'll create our own function for it."
   ]
  },
  {
   "cell_type": "code",
   "execution_count": 21,
   "metadata": {},
   "outputs": [
    {
     "data": {
      "image/png": "[encoded data removed]",
      "text/plain": [
       "<Figure size 432x288 with 1 Axes>"
      ]
     },
     "metadata": {
      "needs_background": "light"
     },
     "output_type": "display_data"
    }
   ],
   "source": [
    "# add jitter to object\n",
    "def jitter(values,j = 0):\n",
    "    return values + np.random.normal(j, 0.1, values.shape)\n",
    "\n",
    "sns.scatterplot(x = jitter(galton_df[\"parent\"]), y = jitter(galton_df[\"child\"]), alpha = 0.4)\n",
    "\n",
    "# plot model regression line\n",
    "abline(b_1, b_0)"
   ]
  },
  {
   "cell_type": "markdown",
   "metadata": {},
   "source": [
    "Let's say I want to predict child's height for parents' average height of 70in. All I do is:"
   ]
  },
  {
   "cell_type": "code",
   "execution_count": 22,
   "metadata": {},
   "outputs": [
    {
     "data": {
      "text/plain": [
       "69.18187091996771"
      ]
     },
     "execution_count": 22,
     "metadata": {},
     "output_type": "execute_result"
    }
   ],
   "source": [
    "model_g.predict(pd.DataFrame({'parent':[70]}))[0][0]"
   ]
  },
  {
   "cell_type": "markdown",
   "metadata": {},
   "source": [
    "What if I want to predict for a parents' height of 5in. Is there any 12in tall human being? No... it is absurd. But nothing stops you from doing:"
   ]
  },
  {
   "cell_type": "code",
   "execution_count": 23,
   "metadata": {},
   "outputs": [
    {
     "data": {
      "text/plain": [
       "27.17298309038117"
      ]
     },
     "execution_count": 23,
     "metadata": {},
     "output_type": "execute_result"
    }
   ],
   "source": [
    "model_g.predict(pd.DataFrame({'parent':[5]}))[0][0]"
   ]
  },
  {
   "cell_type": "markdown",
   "metadata": {},
   "source": [
    "That's [actually possible](https://www.guinnessworldrecords.com/news/2012/2/shortest-man-world-record-its-official!-chandra-bahadur-dangi-is-smallest-adult-of-all-time/).\n",
    "\n",
    "Look at our linear model from Euclid's perspective:"
   ]
  },
  {
   "cell_type": "code",
   "execution_count": 24,
   "metadata": {},
   "outputs": [
    {
     "data": {
      "image/png": "[encoded data removed]",
      "text/plain": [
       "<Figure size 432x288 with 1 Axes>"
      ]
     },
     "metadata": {
      "needs_background": "light"
     },
     "output_type": "display_data"
    }
   ],
   "source": [
    "# plot data points\n",
    "sns.scatterplot(x = jitter(galton_df[\"parent\"]), y = jitter(galton_df[\"child\"]), alpha = 0.4)\n",
    "\n",
    "b = [model_g.intercept_[0], model_g.coef_[0][0]]\n",
    "\n",
    "# plotting model polynomial - Orange\n",
    "polyplot(np.array(b), np.linspace(-20, 100, 300))"
   ]
  },
  {
   "cell_type": "markdown",
   "metadata": {},
   "source": [
    "What is a linear model with $p + 1 = 2$. It's just a line. When geometry was first formalised by Euclid in the Elements, he defined a line to have \"breadthless length\" with a straight line being a line \"which lies evenly with the points on itself\". By \"breadthless\" he meant infinite in either direction. There is no mathematical problem with predicting childrens' heights using negative parents' heights e.g."
   ]
  },
  {
   "cell_type": "code",
   "execution_count": 25,
   "metadata": {},
   "outputs": [
    {
     "data": {
      "text/plain": [
       "20.71007727044478"
      ]
     },
     "execution_count": 25,
     "metadata": {},
     "output_type": "execute_result"
    }
   ],
   "source": [
    "model_g.predict(pd.DataFrame({'parent':[-5]}))[0][0]"
   ]
  },
  {
   "cell_type": "markdown",
   "metadata": {},
   "source": [
    "But this is absurd. So now we need to talk about a fundamental concept in data science we've been kind of avoiding and one that most people ignore. There are two types of prediction: interpolation and extrapolation. Interpolation is essentially the type of \"prediction\" we've been talking about this whole class. \n",
    "\n",
    "Extrapolation is totally different. It's what happens when you predict outside of the range of the covariate data you've seen in $\\mathbb{D}$. Extrapolation is very dangerous - your models only work based on $\\mathbb{D}$. Extrapolation is prediction outside of the range you've seen before which means you better have a good theoretical reason as to why your $\\mathcal{H}$ function class will extend outside that range. Because each $\\mathcal{H}$ function class will extrapolate very very differently.\n",
    "\n",
    "## Overfitting with Polynomials\n",
    "\n",
    "Can we achieve $R^2 = 100\\%$ using polynomial regression? Yes. Here's an example in one dimension. These are called \"interpolation polynomials\". In one dimension, as long as the $x$ values are distinct, $n$ data points can be fit by a $n - 1$ degree polynomial. Here's an example with the same dataset we used in the beginning of the demo but with $n = 5$ instead."
   ]
  },
  {
   "cell_type": "code",
   "execution_count": 26,
   "metadata": {},
   "outputs": [
    {
     "data": {
      "text/plain": [
       "<AxesSubplot:>"
      ]
     },
     "execution_count": 26,
     "metadata": {},
     "output_type": "execute_result"
    },
    {
     "data": {
      "image/png": "[encoded data removed]",
      "text/plain": [
       "<Figure size 432x288 with 1 Axes>"
      ]
     },
     "metadata": {
      "needs_background": "light"
     },
     "output_type": "display_data"
    }
   ],
   "source": [
    "# Set seed\n",
    "np.random.seed(1921)\n",
    "\n",
    "# Generating h_*\n",
    "n = 5\n",
    "beta_0 = 1\n",
    "beta_1 = 0\n",
    "beta_2 = 1\n",
    "\n",
    "x = np.random.uniform(low=0, high=1, size=n)\n",
    "\n",
    "# best possible model\n",
    "h_star_x = beta_0 + beta_1 * x + beta_2 * x**2\n",
    "\n",
    "# actual data differs due to information we don't have\n",
    "epsilon = [np.random.normal(0, 1) for i in range(n)]\n",
    "y = h_star_x + epsilon\n",
    "\n",
    "df = pd.DataFrame({'x':x, 'y':y, 'h_star_x':h_star_x})\n",
    "\n",
    "# plot it\n",
    "sns.scatterplot(data = df, x = x, y = y)"
   ]
  },
  {
   "cell_type": "markdown",
   "metadata": {},
   "source": [
    "Now fit polynomial models."
   ]
  },
  {
   "cell_type": "code",
   "execution_count": 27,
   "metadata": {},
   "outputs": [
    {
     "data": {
      "image/png": "[encoded data removed]",
      "text/plain": [
       "<Figure size 432x288 with 1 Axes>"
      ]
     },
     "metadata": {
      "needs_background": "light"
     },
     "output_type": "display_data"
    }
   ],
   "source": [
    "# Set seed\n",
    "np.random.seed(2022)\n",
    "\n",
    "# defining X\n",
    "X = [[1, x[i], x[i]**2, x[i]**3, x[i]**4] for i in range(len(x))]\n",
    "X = pd.DataFrame(X)\n",
    "\n",
    "# solve for b_vec\n",
    "b = np.linalg.inv(X.transpose() @ X) @ X.transpose() @ y\n",
    "\n",
    "# plot data points\n",
    "sns.scatterplot(data = df, x = x, y = y)\n",
    "\n",
    "# plotting model polynomial - Orange\n",
    "polyplot(np.array(b), np.linspace(0.2, 0.8, 100))"
   ]
  },
  {
   "cell_type": "markdown",
   "metadata": {},
   "source": [
    "Perfect fit!"
   ]
  },
  {
   "cell_type": "code",
   "execution_count": 28,
   "metadata": {},
   "outputs": [
    {
     "data": {
      "text/plain": [
       "1.0"
      ]
     },
     "execution_count": 28,
     "metadata": {},
     "output_type": "execute_result"
    }
   ],
   "source": [
    "# R^2\n",
    "model = LinearRegression(fit_intercept = False)\n",
    "model.fit(X, y)\n",
    "model.score(X, y)"
   ]
  },
  {
   "cell_type": "markdown",
   "metadata": {},
   "source": [
    "This is the same thing we've seen before! If $n = p + 1$, then the design matrix is square and there is no need to project onto a lower dimensional subspace. To estimate the linear model, one only needs to solve $n$ equations with $n$ unknowns.\n",
    "\n",
    "My recommendations:\n",
    "1) Keep polynomial degree low. Preferably 2. Anything past 2 is not interpretable anyway. We didn't talk about \"interpretability\" of models yet, but you get the idea.\n",
    "2) Be very careful not to extrapolate: make sure future predictions have the measurements within range of the training data $\\mathbb{D}$. Extrapolations are going to be very, very inaccurate. Polynomial regressions I'm sure have gotten data scientists fired before.\n"
   ]
  }
 ],
 "metadata": {
  "kernelspec": {
   "display_name": "Python 3",
   "language": "python",
   "name": "python3"
  },
  "language_info": {
   "codemirror_mode": {
    "name": "ipython",
    "version": 3
   },
   "file_extension": ".py",
   "mimetype": "text/x-python",
   "name": "python",
   "nbconvert_exporter": "python",
   "pygments_lexer": "ipython3",
   "version": "3.8.5"
  }
 },
 "nbformat": 4,
 "nbformat_minor": 4
}
