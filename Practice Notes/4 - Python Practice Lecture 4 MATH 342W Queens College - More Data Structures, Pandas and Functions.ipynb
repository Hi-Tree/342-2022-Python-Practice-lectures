{
 "cells": [
  {
   "cell_type": "markdown",
   "metadata": {},
   "source": [
    "# Python Practice Lecture 4 MATH 342W Queens College\n",
    "# - More Data Structures, Pandas, and Functions\n",
    "## Author: Amir ElTabakh\n",
    "## Date: February 8, 2022\n",
    "\n",
    "## Agenda:\n",
    "* More data structures\n",
    "* Pandas\n",
    "* Functions\n",
    "\n",
    "In this demo we will look at other means of storing some elements such as tuples, and sets. We will then take a look at functions, further explore dictionaries, and lastly introduce the Pandas Dataframe object.\n",
    "\n",
    "Before jumping into tuples or sets, lets re-jog our memories with lists."
   ]
  },
  {
   "cell_type": "code",
   "execution_count": 1,
   "metadata": {},
   "outputs": [],
   "source": [
    "# List of some classes in the Data Science major\n",
    "DS_classes = ['Math 341', 'CS 111', 'Math 231']"
   ]
  },
  {
   "cell_type": "code",
   "execution_count": 2,
   "metadata": {},
   "outputs": [],
   "source": [
    "# Output element at index 0\n",
    "DS_classes[0]"
   ]
  },
  {
   "cell_type": "code",
   "execution_count": 3,
   "metadata": {},
   "outputs": [],
   "source": [
    "# Output second to last element\n",
    "DS_classes[-2]"
   ]
  },
  {
   "cell_type": "code",
   "execution_count": 4,
   "metadata": {},
   "outputs": [],
   "source": [
    "# Change the last element to value 'Math 241'\n",
    "DS_classes[-1] = 'Math 241'\n",
    "DS_classes"
   ]
  },
  {
   "cell_type": "code",
   "execution_count": 5,
   "metadata": {},
   "outputs": [],
   "source": [
    "# Add the value 'CS 211' to end of the list\n",
    "DS_classes += ['CS 211']\n",
    "DS_classes"
   ]
  },
  {
   "cell_type": "code",
   "execution_count": 6,
   "metadata": {},
   "outputs": [
    {
     "data": {
      "text/plain": [
       "['Math 341', 'Math 241', 'CS 211']"
      ]
     },
     "execution_count": 6,
     "metadata": {},
     "output_type": "execute_result"
    }
   ],
   "source": [
    "# Remove the element at index 1\n",
    "DS_classes.pop(1)\n",
    "DS_classes"
   ]
  },
  {
   "cell_type": "markdown",
   "metadata": {},
   "source": [
    "## Tuples\n",
    "\n",
    "Another data structure thats similar to lists is the tuple. A tuple is an *immutable* object (objects that cannot be changed) where a list is a *mutable* object (objects that can be changed). To create a tuple object use paranthesis `()`, this differs from lists where we've seen lists use square brackets `[]`."
   ]
  },
  {
   "cell_type": "code",
   "execution_count": 7,
   "metadata": {},
   "outputs": [],
   "source": [
    "# Tuple of apple cultivars\n",
    "apples = (\"Golden\", \"Red\", \"Fuji\", \"Granny\")"
   ]
  },
  {
   "cell_type": "code",
   "execution_count": 8,
   "metadata": {},
   "outputs": [
    {
     "data": {
      "text/plain": [
       "tuple"
      ]
     },
     "execution_count": 8,
     "metadata": {},
     "output_type": "execute_result"
    }
   ],
   "source": [
    "# Output the data type of the apples object\n",
    "type(apples)"
   ]
  },
  {
   "cell_type": "code",
   "execution_count": 9,
   "metadata": {},
   "outputs": [
    {
     "data": {
      "text/plain": [
       "'Golden'"
      ]
     },
     "execution_count": 9,
     "metadata": {},
     "output_type": "execute_result"
    }
   ],
   "source": [
    "# Call the first element in apples\n",
    "apples[0]"
   ]
  },
  {
   "cell_type": "code",
   "execution_count": 10,
   "metadata": {},
   "outputs": [
    {
     "data": {
      "text/plain": [
       "('Golden', 'Red', 'Fuji')"
      ]
     },
     "execution_count": 10,
     "metadata": {},
     "output_type": "execute_result"
    }
   ],
   "source": [
    "# Call the first three elements in the apples\n",
    "apples[0:3]"
   ]
  },
  {
   "cell_type": "code",
   "execution_count": 11,
   "metadata": {},
   "outputs": [
    {
     "ename": "TypeError",
     "evalue": "'tuple' object does not support item assignment",
     "output_type": "error",
     "traceback": [
      "\u001b[1;31m---------------------------------------------------------------------------\u001b[0m",
      "\u001b[1;31mTypeError\u001b[0m                                 Traceback (most recent call last)",
      "\u001b[1;32m<ipython-input-11-6063b7671b49>\u001b[0m in \u001b[0;36m<module>\u001b[1;34m\u001b[0m\n\u001b[0;32m      1\u001b[0m \u001b[1;31m# Change the first element of apples to 'Honeycrisp'\u001b[0m\u001b[1;33m\u001b[0m\u001b[1;33m\u001b[0m\u001b[1;33m\u001b[0m\u001b[0m\n\u001b[1;32m----> 2\u001b[1;33m \u001b[0mapples\u001b[0m\u001b[1;33m[\u001b[0m\u001b[1;36m0\u001b[0m\u001b[1;33m]\u001b[0m \u001b[1;33m=\u001b[0m \u001b[1;34m\"Honeycrisp\"\u001b[0m\u001b[1;33m\u001b[0m\u001b[1;33m\u001b[0m\u001b[0m\n\u001b[0m\u001b[0;32m      3\u001b[0m \u001b[1;33m\u001b[0m\u001b[0m\n\u001b[0;32m      4\u001b[0m \u001b[1;31m# What went wrong?\u001b[0m\u001b[1;33m\u001b[0m\u001b[1;33m\u001b[0m\u001b[1;33m\u001b[0m\u001b[0m\n",
      "\u001b[1;31mTypeError\u001b[0m: 'tuple' object does not support item assignment"
     ]
    }
   ],
   "source": [
    "# Change the first element of apples to 'Honeycrisp'\n",
    "apples[0] = \"Honeycrisp\"\n",
    "\n",
    "# What went wrong?"
   ]
  },
  {
   "cell_type": "markdown",
   "metadata": {},
   "source": [
    "We have casting before, it is the process of changing the datatype of an object to a valid one. You can also cast a tuple as a list, and a list as a tuple."
   ]
  },
  {
   "cell_type": "code",
   "execution_count": 12,
   "metadata": {},
   "outputs": [],
   "source": [
    "# Creating a list\n",
    "programming_langs = [\"Python\", \"C++\", \"Java\", \"JavaScript\"]"
   ]
  },
  {
   "cell_type": "code",
   "execution_count": 13,
   "metadata": {},
   "outputs": [
    {
     "name": "stdout",
     "output_type": "stream",
     "text": [
      "<class 'list'>\n"
     ]
    }
   ],
   "source": [
    "# Print the type of the programming_langs object\n",
    "print(type(programming_langs))"
   ]
  },
  {
   "cell_type": "code",
   "execution_count": 14,
   "metadata": {},
   "outputs": [],
   "source": [
    "# Cast the programming_langs object as a tuple\n",
    "programming_langs_tuple = tuple(programming_langs)"
   ]
  },
  {
   "cell_type": "code",
   "execution_count": 15,
   "metadata": {},
   "outputs": [
    {
     "name": "stdout",
     "output_type": "stream",
     "text": [
      "<class 'tuple'>\n"
     ]
    }
   ],
   "source": [
    "# Print the type of the programming_langs_tuple object\n",
    "print(type(programming_langs_tuple))"
   ]
  },
  {
   "cell_type": "code",
   "execution_count": 16,
   "metadata": {},
   "outputs": [
    {
     "name": "stdout",
     "output_type": "stream",
     "text": [
      "<class 'tuple'>\n"
     ]
    }
   ],
   "source": [
    "# Print the object to confirm it is a tuple\n",
    "print(type(programming_langs_tuple))"
   ]
  },
  {
   "cell_type": "code",
   "execution_count": 17,
   "metadata": {},
   "outputs": [],
   "source": [
    "# Cast a tuple to a list\n",
    "programming_langs_list = list(programming_langs_tuple)"
   ]
  },
  {
   "cell_type": "code",
   "execution_count": 18,
   "metadata": {},
   "outputs": [
    {
     "name": "stdout",
     "output_type": "stream",
     "text": [
      "<class 'list'>\n"
     ]
    }
   ],
   "source": [
    "# Print the type of the programming_langs_list object\n",
    "print(type(programming_langs_list))"
   ]
  },
  {
   "cell_type": "code",
   "execution_count": 19,
   "metadata": {},
   "outputs": [
    {
     "name": "stdout",
     "output_type": "stream",
     "text": [
      "['C#', 'C++', 'Java', 'JavaScript']\n"
     ]
    }
   ],
   "source": [
    "# Lets try to change the first element of programming_langs_list to 'C#'\n",
    "programming_langs_list[0] = 'C#'\n",
    "print(programming_langs_list)"
   ]
  },
  {
   "cell_type": "markdown",
   "metadata": {},
   "source": [
    "## Sets\n",
    "\n",
    "Sets are used to store multiple elements in a single variable, similarly to lists, tuples, and dictionaries. The set is the last of 4 built-in data types in Python used to store collections of data. Each have different qualities and uses.\n",
    "\n",
    "* Lists: Mutable, ordered\n",
    "* Tuples: Immutable, ordered\n",
    "* Dictionaries: Mutable, Key-Value paired, does not allow for duplicate elements\n",
    "* Sets: Immutable-ish, unordered\n",
    "\n",
    "Elements in sets cannot be changed, but you may remove elements and add new ones."
   ]
  },
  {
   "cell_type": "code",
   "execution_count": 20,
   "metadata": {},
   "outputs": [],
   "source": [
    "# Set of cat breeds\n",
    "cat_set = {\"Siamese\", \"Bengal\", \"Calico\", \"Chartreux\"}"
   ]
  },
  {
   "cell_type": "code",
   "execution_count": 21,
   "metadata": {},
   "outputs": [
    {
     "name": "stdout",
     "output_type": "stream",
     "text": [
      "4\n"
     ]
    }
   ],
   "source": [
    "# Print the length of the set\n",
    "print(len(cat_set))"
   ]
  },
  {
   "cell_type": "markdown",
   "metadata": {},
   "source": [
    "## Back to dictionaries\n",
    "\n",
    "If we want to talk about Pandas Dataframes, we should explore dictionaries a little bit more. Below is an example of a dictionary, lets practice some new operations on it.\n",
    "\n",
    "Note: Below we use an f-string in the print statement. An f-string allows the programmer to directly add the value of a variable into the string using curly braces. Notice how we did not have to cast the non-string values into strings for this to work."
   ]
  },
  {
   "cell_type": "code",
   "execution_count": 22,
   "metadata": {},
   "outputs": [
    {
     "data": {
      "text/plain": [
       "{'Name': 'Max Verstappen',\n",
       " 'Sport': 'Formula 1',\n",
       " 'Team': 'Red Bull Racing',\n",
       " 'WDC': 1,\n",
       " 'Age': 24}"
      ]
     },
     "execution_count": 22,
     "metadata": {},
     "output_type": "execute_result"
    }
   ],
   "source": [
    "# Defining athlete_1 dict\n",
    "athlete_1 = {'Name' : 'Max Verstappen',\n",
    "             'Sport' : 'Formula 1',\n",
    "             'Team' : 'Red Bull Racing',\n",
    "             'WDC' : 1,\n",
    "             'Age' : 24\n",
    "             }\n",
    "\n",
    "athlete_1"
   ]
  },
  {
   "cell_type": "code",
   "execution_count": 23,
   "metadata": {},
   "outputs": [
    {
     "data": {
      "text/plain": [
       "dict"
      ]
     },
     "execution_count": 23,
     "metadata": {},
     "output_type": "execute_result"
    }
   ],
   "source": [
    "# print type of athlete_1\n",
    "type(athlete_1)"
   ]
  },
  {
   "cell_type": "code",
   "execution_count": 24,
   "metadata": {},
   "outputs": [
    {
     "name": "stdout",
     "output_type": "stream",
     "text": [
      "Key: Name - Value: Max Verstappen\n",
      "Key: Sport - Value: Formula 1\n",
      "Key: Team - Value: Red Bull Racing\n",
      "Key: WDC - Value: 1\n",
      "Key: Age - Value: 24\n"
     ]
    }
   ],
   "source": [
    "# Use a for loop to iterate over the key pairs in the dictionary\n",
    "for k, v in athlete_1.items():\n",
    "    print(f'Key: {k} - Value: {v}')"
   ]
  },
  {
   "cell_type": "markdown",
   "metadata": {},
   "source": [
    "We can use the `in` and `not in` operators to check whether a value exists in a dictionary, list, etc."
   ]
  },
  {
   "cell_type": "code",
   "execution_count": 25,
   "metadata": {},
   "outputs": [
    {
     "data": {
      "text/plain": [
       "True"
      ]
     },
     "execution_count": 25,
     "metadata": {},
     "output_type": "execute_result"
    }
   ],
   "source": [
    "'Name' in athlete_1.keys()"
   ]
  },
  {
   "cell_type": "code",
   "execution_count": 26,
   "metadata": {},
   "outputs": [
    {
     "data": {
      "text/plain": [
       "True"
      ]
     },
     "execution_count": 26,
     "metadata": {},
     "output_type": "execute_result"
    }
   ],
   "source": [
    "'Name' not in athlete_1.values()"
   ]
  },
  {
   "cell_type": "code",
   "execution_count": 27,
   "metadata": {},
   "outputs": [
    {
     "data": {
      "text/plain": [
       "False"
      ]
     },
     "execution_count": 27,
     "metadata": {},
     "output_type": "execute_result"
    }
   ],
   "source": [
    "'Sport' not in athlete_1"
   ]
  },
  {
   "cell_type": "markdown",
   "metadata": {},
   "source": [
    "### The `get()` method\n",
    "\n",
    "It can become tedious to check whether a key exists in a dictionary before accessing that key's value. Fortunately, dictionaries have a `get()` method that takes two arguments:\n",
    "\n",
    "- The key of the value to retrieve\n",
    "- A fallback value to return if that key does not exist"
   ]
  },
  {
   "cell_type": "code",
   "execution_count": 28,
   "metadata": {},
   "outputs": [
    {
     "name": "stdout",
     "output_type": "stream",
     "text": [
      "The name of the athlete is Max Verstappen.\n"
     ]
    }
   ],
   "source": [
    "# Redefining it so it's here\n",
    "athlete_1 = {'Name' : 'Max Verstappen',\n",
    "             'Sport' : 'Formula 1',\n",
    "             'Team' : 'Red Bull Racing',\n",
    "             'WDC' : 1,\n",
    "             'Age' : 24\n",
    "             }\n",
    "\n",
    "# Print the athletes name\n",
    "print(f\"The name of the athlete is {athlete_1.get('Name')}.\")"
   ]
  },
  {
   "cell_type": "code",
   "execution_count": 29,
   "metadata": {},
   "outputs": [
    {
     "name": "stdout",
     "output_type": "stream",
     "text": [
      "The athlete plays for Red Bull Racing.\n"
     ]
    }
   ],
   "source": [
    "# Print the athletes team\n",
    "team = athlete_1.get('Team')\n",
    "print(f\"The athlete plays for {team}.\")"
   ]
  },
  {
   "cell_type": "code",
   "execution_count": 30,
   "metadata": {},
   "outputs": [
    {
     "name": "stdout",
     "output_type": "stream",
     "text": [
      "The athlete is from -oh, I am not sure..\n"
     ]
    }
   ],
   "source": [
    "# Print the athletes nationality\n",
    "fallback = \"-oh, I am not sure.\"\n",
    "print(f\"The athlete is from {athlete_1.get('Nationality', fallback)}.\")"
   ]
  },
  {
   "cell_type": "code",
   "execution_count": 31,
   "metadata": {},
   "outputs": [
    {
     "name": "stdout",
     "output_type": "stream",
     "text": [
      "None\n"
     ]
    }
   ],
   "source": [
    "# What happens if you use the get method to find the value of a key, but that key does not exist in the dictionary\n",
    "print(athlete_1.get('Nationality'))"
   ]
  },
  {
   "cell_type": "markdown",
   "metadata": {},
   "source": [
    "## Pandas\n",
    "\n",
    "Pandas is a Python library used for data manipulation and analysis. It's name is a play on \"Python Data Analysis\", and was published as an open source library in 2009 by Wes McKinney.\n",
    "\n",
    "Pandas does not come with standard Python. Python is open source and developers are creating new libraries all the time. These developers can upload these packages as open-source for others to install and use! To install Pandas on our machine we will pip install it. pip is the standard package manager for Python, it allows you to install and manage additional packages. The Python installer installs pip, so it should be ready for us to use. Verify that pip is installed by running the following command:"
   ]
  },
  {
   "cell_type": "code",
   "execution_count": 32,
   "metadata": {},
   "outputs": [
    {
     "name": "stdout",
     "output_type": "stream",
     "text": [
      "pip 21.3.1 from E:\\Users\\amira\\anaconda\\lib\\site-packages\\pip (python 3.8)\n",
      "\n"
     ]
    }
   ],
   "source": [
    "!pip --version"
   ]
  },
  {
   "cell_type": "markdown",
   "metadata": {},
   "source": [
    "The cell above should return the version of your pip as well as where it is stored on your machine. Note when using a Notebook, such as this one on Jupyter, we can run shell commands by starting a line with an exclamation mark `!`."
   ]
  },
  {
   "cell_type": "code",
   "execution_count": 33,
   "metadata": {},
   "outputs": [
    {
     "name": "stdout",
     "output_type": "stream",
     "text": [
      "Requirement already satisfied: pip in e:\\users\\amira\\anaconda\\lib\\site-packages (21.3.1)\n",
      "Collecting pip\n",
      "  Downloading pip-22.0.2-py3-none-any.whl (2.1 MB)\n",
      "Installing collected packages: pip\n",
      "  Attempting uninstall: pip\n",
      "    Found existing installation: pip 21.3.1\n",
      "    Uninstalling pip-21.3.1:\n",
      "      Successfully uninstalled pip-21.3.1\n",
      "Successfully installed pip-22.0.2\n"
     ]
    },
    {
     "name": "stderr",
     "output_type": "stream",
     "text": [
      "WARNING: Ignoring invalid distribution -tatsmodels (e:\\users\\amira\\anaconda\\lib\\site-packages)\n",
      "WARNING: Ignoring invalid distribution -ip (e:\\users\\amira\\anaconda\\lib\\site-packages)\n",
      "WARNING: Ignoring invalid distribution -tatsmodels (e:\\users\\amira\\anaconda\\lib\\site-packages)\n",
      "WARNING: Ignoring invalid distribution -ip (e:\\users\\amira\\anaconda\\lib\\site-packages)\n",
      "WARNING: Ignoring invalid distribution -tatsmodels (e:\\users\\amira\\anaconda\\lib\\site-packages)\n",
      "WARNING: Ignoring invalid distribution -ip (e:\\users\\amira\\anaconda\\lib\\site-packages)\n",
      "    WARNING: Ignoring invalid distribution -tatsmodels (e:\\users\\amira\\anaconda\\lib\\site-packages)\n",
      "    WARNING: Ignoring invalid distribution -ip (e:\\users\\amira\\anaconda\\lib\\site-packages)\n",
      "WARNING: Ignoring invalid distribution -tatsmodels (e:\\users\\amira\\anaconda\\lib\\site-packages)\n",
      "WARNING: Ignoring invalid distribution -ip (e:\\users\\amira\\anaconda\\lib\\site-packages)\n",
      "WARNING: Ignoring invalid distribution -tatsmodels (e:\\users\\amira\\anaconda\\lib\\site-packages)\n",
      "WARNING: Ignoring invalid distribution -ip (e:\\users\\amira\\anaconda\\lib\\site-packages)\n",
      "WARNING: Ignoring invalid distribution -tatsmodels (e:\\users\\amira\\anaconda\\lib\\site-packages)\n",
      "WARNING: Ignoring invalid distribution -ip (e:\\users\\amira\\anaconda\\lib\\site-packages)\n",
      "WARNING: Ignoring invalid distribution -tatsmodels (e:\\users\\amira\\anaconda\\lib\\site-packages)\n",
      "WARNING: Ignoring invalid distribution -ip (e:\\users\\amira\\anaconda\\lib\\site-packages)\n"
     ]
    }
   ],
   "source": [
    "# Update pip\n",
    "!python -m pip install --upgrade pip"
   ]
  },
  {
   "cell_type": "code",
   "execution_count": 34,
   "metadata": {},
   "outputs": [
    {
     "name": "stdout",
     "output_type": "stream",
     "text": [
      "Requirement already satisfied: pandas in e:\\users\\amira\\anaconda\\lib\\site-packages (1.1.3)\n",
      "Requirement already satisfied: pytz>=2017.2 in e:\\users\\amira\\anaconda\\lib\\site-packages (from pandas) (2020.1)\n",
      "Requirement already satisfied: python-dateutil>=2.7.3 in e:\\users\\amira\\anaconda\\lib\\site-packages (from pandas) (2.8.1)\n",
      "Requirement already satisfied: numpy>=1.15.4 in e:\\users\\amira\\anaconda\\lib\\site-packages (from pandas) (1.22.0)\n",
      "Requirement already satisfied: six>=1.5 in e:\\users\\amira\\anaconda\\lib\\site-packages (from python-dateutil>=2.7.3->pandas) (1.15.0)\n"
     ]
    },
    {
     "name": "stderr",
     "output_type": "stream",
     "text": [
      "WARNING: Ignoring invalid distribution -tatsmodels (e:\\users\\amira\\anaconda\\lib\\site-packages)\n",
      "WARNING: Ignoring invalid distribution -ip (e:\\users\\amira\\anaconda\\lib\\site-packages)\n",
      "WARNING: Ignoring invalid distribution -tatsmodels (e:\\users\\amira\\anaconda\\lib\\site-packages)\n",
      "WARNING: Ignoring invalid distribution -ip (e:\\users\\amira\\anaconda\\lib\\site-packages)\n",
      "WARNING: Ignoring invalid distribution -tatsmodels (e:\\users\\amira\\anaconda\\lib\\site-packages)\n",
      "WARNING: Ignoring invalid distribution -ip (e:\\users\\amira\\anaconda\\lib\\site-packages)\n",
      "WARNING: Ignoring invalid distribution -tatsmodels (e:\\users\\amira\\anaconda\\lib\\site-packages)\n",
      "WARNING: Ignoring invalid distribution -ip (e:\\users\\amira\\anaconda\\lib\\site-packages)\n",
      "WARNING: Ignoring invalid distribution -tatsmodels (e:\\users\\amira\\anaconda\\lib\\site-packages)\n",
      "WARNING: Ignoring invalid distribution -ip (e:\\users\\amira\\anaconda\\lib\\site-packages)\n"
     ]
    }
   ],
   "source": [
    "# Install Pandas on your machine\n",
    "!pip install pandas"
   ]
  },
  {
   "cell_type": "markdown",
   "metadata": {},
   "source": [
    "Now that we've installed Pandas, lets import the library. Note that we only have to install a library once per machine, but we have to import it in every program we wish to use the library in.\n",
    "\n",
    "---\n",
    "\n",
    "Pandas is the most common Python library for data analytics, and data wrangling. Thankfully theres a lot of documentation for us to use in case we get stuck.\n",
    "\n",
    "https://pandas.pydata.org/pandas-docs/stable/user_guide/index.html#user-guide\n",
    "\n",
    "What is a Pandas Dataframe? Well, lets refer to the documentation.\n",
    "https://pandas.pydata.org/pandas-docs/stable/reference/api/pandas.DataFrame.html?highlight=dataframe#pandas.DataFrame\n",
    "\n",
    "A Pandas DataFrame is a 2 dimensional data structure, like a 2 dimensional array, or a table with rows and columns. \n",
    "\n",
    "Features of DataFrame\n",
    "- Potentially columns are of different types\n",
    "- Size – Mutable\n",
    "- Labeled axes (rows and columns)\n",
    "- Can Perform Arithmetic operations on rows and columns"
   ]
  },
  {
   "cell_type": "code",
   "execution_count": 35,
   "metadata": {},
   "outputs": [
    {
     "data": {
      "text/plain": [
       "{'Item Name': ['Snickers', 'Twix', 'KitKat', 'M&Ms'],\n",
       " 'Price': [0.25, 0.49, 2.5, 1.0],\n",
       " 'Mini': [1, 1, 0, 0],\n",
       " 'Family Size': [False, False, True, False]}"
      ]
     },
     "execution_count": 35,
     "metadata": {},
     "output_type": "execute_result"
    }
   ],
   "source": [
    "# import the pandas library\n",
    "import pandas as pd\n",
    "\n",
    "# Create a dictionary of the chocolate bars\n",
    "menu = {'Item Name': ['Snickers', 'Twix', 'KitKat', 'M&Ms'],\n",
    "       'Price':[0.25, 0.49, 2.50, 1.00],\n",
    "       'Mini':[1, 1, 0, 0],\n",
    "       'Family Size':[False, False, True, False]\n",
    "       }\n",
    "\n",
    "# Output dictionary\n",
    "menu"
   ]
  },
  {
   "cell_type": "code",
   "execution_count": 36,
   "metadata": {},
   "outputs": [
    {
     "data": {
      "text/html": [
       "<div>\n",
       "<style scoped>\n",
       "    .dataframe tbody tr th:only-of-type {\n",
       "        vertical-align: middle;\n",
       "    }\n",
       "\n",
       "    .dataframe tbody tr th {\n",
       "        vertical-align: top;\n",
       "    }\n",
       "\n",
       "    .dataframe thead th {\n",
       "        text-align: right;\n",
       "    }\n",
       "</style>\n",
       "<table border=\"1\" class=\"dataframe\">\n",
       "  <thead>\n",
       "    <tr style=\"text-align: right;\">\n",
       "      <th></th>\n",
       "      <th>Item Name</th>\n",
       "      <th>Price</th>\n",
       "      <th>Mini</th>\n",
       "      <th>Family Size</th>\n",
       "    </tr>\n",
       "  </thead>\n",
       "  <tbody>\n",
       "    <tr>\n",
       "      <th>0</th>\n",
       "      <td>Snickers</td>\n",
       "      <td>0.25</td>\n",
       "      <td>1</td>\n",
       "      <td>False</td>\n",
       "    </tr>\n",
       "    <tr>\n",
       "      <th>1</th>\n",
       "      <td>Twix</td>\n",
       "      <td>0.49</td>\n",
       "      <td>1</td>\n",
       "      <td>False</td>\n",
       "    </tr>\n",
       "    <tr>\n",
       "      <th>2</th>\n",
       "      <td>KitKat</td>\n",
       "      <td>2.50</td>\n",
       "      <td>0</td>\n",
       "      <td>True</td>\n",
       "    </tr>\n",
       "    <tr>\n",
       "      <th>3</th>\n",
       "      <td>M&amp;Ms</td>\n",
       "      <td>1.00</td>\n",
       "      <td>0</td>\n",
       "      <td>False</td>\n",
       "    </tr>\n",
       "  </tbody>\n",
       "</table>\n",
       "</div>"
      ],
      "text/plain": [
       "  Item Name  Price  Mini  Family Size\n",
       "0  Snickers   0.25     1        False\n",
       "1      Twix   0.49     1        False\n",
       "2    KitKat   2.50     0         True\n",
       "3      M&Ms   1.00     0        False"
      ]
     },
     "execution_count": 36,
     "metadata": {},
     "output_type": "execute_result"
    }
   ],
   "source": [
    "# Convert the dictionary aboce into a Pandas DataFrame\n",
    "menu_df = pd.DataFrame(menu)\n",
    "menu_df"
   ]
  },
  {
   "cell_type": "markdown",
   "metadata": {},
   "source": [
    "This is our first dataframe, lets practice some useful operations on it."
   ]
  },
  {
   "cell_type": "code",
   "execution_count": 37,
   "metadata": {},
   "outputs": [
    {
     "data": {
      "text/html": [
       "<div>\n",
       "<style scoped>\n",
       "    .dataframe tbody tr th:only-of-type {\n",
       "        vertical-align: middle;\n",
       "    }\n",
       "\n",
       "    .dataframe tbody tr th {\n",
       "        vertical-align: top;\n",
       "    }\n",
       "\n",
       "    .dataframe thead th {\n",
       "        text-align: right;\n",
       "    }\n",
       "</style>\n",
       "<table border=\"1\" class=\"dataframe\">\n",
       "  <thead>\n",
       "    <tr style=\"text-align: right;\">\n",
       "      <th></th>\n",
       "      <th>Mini</th>\n",
       "    </tr>\n",
       "  </thead>\n",
       "  <tbody>\n",
       "    <tr>\n",
       "      <th>0</th>\n",
       "      <td>1</td>\n",
       "    </tr>\n",
       "    <tr>\n",
       "      <th>1</th>\n",
       "      <td>1</td>\n",
       "    </tr>\n",
       "    <tr>\n",
       "      <th>2</th>\n",
       "      <td>0</td>\n",
       "    </tr>\n",
       "    <tr>\n",
       "      <th>3</th>\n",
       "      <td>0</td>\n",
       "    </tr>\n",
       "  </tbody>\n",
       "</table>\n",
       "</div>"
      ],
      "text/plain": [
       "   Mini\n",
       "0     1\n",
       "1     1\n",
       "2     0\n",
       "3     0"
      ]
     },
     "execution_count": 37,
     "metadata": {},
     "output_type": "execute_result"
    }
   ],
   "source": [
    "# Get the Mini column\n",
    "menu_df[['Mini']]"
   ]
  },
  {
   "cell_type": "code",
   "execution_count": 38,
   "metadata": {},
   "outputs": [
    {
     "data": {
      "text/plain": [
       "0    1\n",
       "1    1\n",
       "2    0\n",
       "3    0\n",
       "Name: Mini, dtype: int64"
      ]
     },
     "execution_count": 38,
     "metadata": {},
     "output_type": "execute_result"
    }
   ],
   "source": [
    "# Get the Mini column\n",
    "menu_df['Mini']"
   ]
  },
  {
   "cell_type": "markdown",
   "metadata": {},
   "source": [
    "The difference this cell above and the one above it is the single square brackets. They also output differently. Lets check the data type of each.\n",
    "\n",
    "We find that the column call with a single pair of brackets is a series data type. What is a Series?\n",
    "\n",
    "### Series\n",
    "The Pandas Series object is a one-dimensional 'ndarray' with axis labels. It is analogous to an indexed one dimensional column vector. We will explore them more in future demos. Back to dataframes."
   ]
  },
  {
   "cell_type": "code",
   "execution_count": 39,
   "metadata": {},
   "outputs": [
    {
     "name": "stdout",
     "output_type": "stream",
     "text": [
      "<class 'pandas.core.series.Series'>\n",
      "<class 'pandas.core.frame.DataFrame'>\n"
     ]
    }
   ],
   "source": [
    "print(type(menu_df['Item Name']))\n",
    "print(type(menu_df[['Item Name']]))"
   ]
  },
  {
   "cell_type": "code",
   "execution_count": 40,
   "metadata": {},
   "outputs": [
    {
     "data": {
      "text/plain": [
       "Item Name       object\n",
       "Price          float64\n",
       "Mini             int64\n",
       "Family Size       bool\n",
       "dtype: object"
      ]
     },
     "execution_count": 40,
     "metadata": {},
     "output_type": "execute_result"
    }
   ],
   "source": [
    "# Return the data type of each column in menu_df\n",
    "menu_df.dtypes"
   ]
  },
  {
   "cell_type": "code",
   "execution_count": 41,
   "metadata": {},
   "outputs": [
    {
     "name": "stdout",
     "output_type": "stream",
     "text": [
      "<class 'pandas.core.frame.DataFrame'>\n",
      "RangeIndex: 4 entries, 0 to 3\n",
      "Data columns (total 4 columns):\n",
      " #   Column       Non-Null Count  Dtype  \n",
      "---  ------       --------------  -----  \n",
      " 0   Item Name    4 non-null      object \n",
      " 1   Price        4 non-null      float64\n",
      " 2   Mini         4 non-null      int64  \n",
      " 3   Family Size  4 non-null      bool   \n",
      "dtypes: bool(1), float64(1), int64(1), object(1)\n",
      "memory usage: 228.0+ bytes\n"
     ]
    }
   ],
   "source": [
    "# Print a concise summary of menu_df\n",
    "menu_df.info()"
   ]
  },
  {
   "cell_type": "code",
   "execution_count": 42,
   "metadata": {},
   "outputs": [
    {
     "name": "stdout",
     "output_type": "stream",
     "text": [
      "16\n"
     ]
    }
   ],
   "source": [
    "# Print out the size of menu_df\n",
    "print(menu_df.size)"
   ]
  },
  {
   "cell_type": "markdown",
   "metadata": {},
   "source": [
    "Nothing too exciting here. We just explored how to gather different characteristics of our DataFrame, lets take a deeper dive.\n",
    "\n",
    "Lets create a more complex DataFrame."
   ]
  },
  {
   "cell_type": "code",
   "execution_count": 43,
   "metadata": {},
   "outputs": [
    {
     "data": {
      "text/html": [
       "<div>\n",
       "<style scoped>\n",
       "    .dataframe tbody tr th:only-of-type {\n",
       "        vertical-align: middle;\n",
       "    }\n",
       "\n",
       "    .dataframe tbody tr th {\n",
       "        vertical-align: top;\n",
       "    }\n",
       "\n",
       "    .dataframe thead th {\n",
       "        text-align: right;\n",
       "    }\n",
       "</style>\n",
       "<table border=\"1\" class=\"dataframe\">\n",
       "  <thead>\n",
       "    <tr style=\"text-align: right;\">\n",
       "      <th></th>\n",
       "      <th>Salary</th>\n",
       "      <th>past_crime_severity</th>\n",
       "      <th>has_past_unpaid_loan</th>\n",
       "    </tr>\n",
       "  </thead>\n",
       "  <tbody>\n",
       "    <tr>\n",
       "      <th>Sophia</th>\n",
       "      <td>48968</td>\n",
       "      <td>infraction</td>\n",
       "      <td>0</td>\n",
       "    </tr>\n",
       "    <tr>\n",
       "      <th>Emma</th>\n",
       "      <td>44881</td>\n",
       "      <td>no crime</td>\n",
       "      <td>0</td>\n",
       "    </tr>\n",
       "    <tr>\n",
       "      <th>Olivia</th>\n",
       "      <td>85312</td>\n",
       "      <td>no crime</td>\n",
       "      <td>1</td>\n",
       "    </tr>\n",
       "    <tr>\n",
       "      <th>Ava</th>\n",
       "      <td>57685</td>\n",
       "      <td>infraction</td>\n",
       "      <td>0</td>\n",
       "    </tr>\n",
       "    <tr>\n",
       "      <th>Mia</th>\n",
       "      <td>18735</td>\n",
       "      <td>felony</td>\n",
       "      <td>0</td>\n",
       "    </tr>\n",
       "    <tr>\n",
       "      <th>...</th>\n",
       "      <td>...</td>\n",
       "      <td>...</td>\n",
       "      <td>...</td>\n",
       "    </tr>\n",
       "    <tr>\n",
       "      <th>Christian</th>\n",
       "      <td>46384</td>\n",
       "      <td>infraction</td>\n",
       "      <td>0</td>\n",
       "    </tr>\n",
       "    <tr>\n",
       "      <th>Andrew</th>\n",
       "      <td>44982</td>\n",
       "      <td>infraction</td>\n",
       "      <td>0</td>\n",
       "    </tr>\n",
       "    <tr>\n",
       "      <th>Brayden</th>\n",
       "      <td>61932</td>\n",
       "      <td>infraction</td>\n",
       "      <td>0</td>\n",
       "    </tr>\n",
       "    <tr>\n",
       "      <th>John</th>\n",
       "      <td>30008</td>\n",
       "      <td>no crime</td>\n",
       "      <td>0</td>\n",
       "    </tr>\n",
       "    <tr>\n",
       "      <th>Lincoln</th>\n",
       "      <td>40521</td>\n",
       "      <td>infraction</td>\n",
       "      <td>0</td>\n",
       "    </tr>\n",
       "  </tbody>\n",
       "</table>\n",
       "<p>100 rows × 3 columns</p>\n",
       "</div>"
      ],
      "text/plain": [
       "           Salary past_crime_severity  has_past_unpaid_loan\n",
       "Sophia      48968          infraction                     0\n",
       "Emma        44881            no crime                     0\n",
       "Olivia      85312            no crime                     1\n",
       "Ava         57685          infraction                     0\n",
       "Mia         18735              felony                     0\n",
       "...           ...                 ...                   ...\n",
       "Christian   46384          infraction                     0\n",
       "Andrew      44982          infraction                     0\n",
       "Brayden     61932          infraction                     0\n",
       "John        30008            no crime                     0\n",
       "Lincoln     40521          infraction                     0\n",
       "\n",
       "[100 rows x 3 columns]"
      ]
     },
     "execution_count": 43,
     "metadata": {},
     "output_type": "execute_result"
    }
   ],
   "source": [
    "list_of_names = [\"Sophia\", \"Emma\", \"Olivia\", \"Ava\", \"Mia\", \"Isabella\", \"Riley\", \n",
    "                      \"Aria\", \"Zoe\", \"Charlotte\", \"Lily\", \"Layla\", \"Amelia\", \"Emily\", \n",
    "                      \"Madelyn\", \"Aubrey\", \"Adalyn\", \"Madison\", \"Chloe\", \"Harper\", \n",
    "                      \"Abigail\", \"Aaliyah\", \"Avery\", \"Evelyn\", \"Kaylee\", \"Ella\", \"Ellie\", \n",
    "                      \"Scarlett\", \"Arianna\", \"Hailey\", \"Nora\", \"Addison\", \"Brooklyn\", \n",
    "                      \"Hannah\", \"Mila\", \"Leah\", \"Elizabeth\", \"Sarah\", \"Eliana\", \"Mackenzie\", \n",
    "                      \"Peyton\", \"Maria\", \"Grace\", \"Adeline\", \"Elena\", \"Anna\", \"Victoria\", \n",
    "                      \"Camilla\", \"Lillian\", \"Natalie\", \"Jackson\", \"Aiden\", \"Lucas\", \n",
    "                      \"Liam\", \"Noah\", \"Ethan\", \"Mason\", \"Caden\", \"Oliver\", \"Elijah\", \n",
    "                      \"Grayson\", \"Jacob\", \"Michael\", \"Benjamin\", \"Carter\", \"James\", \n",
    "                      \"Jayden\", \"Logan\", \"Alexander\", \"Caleb\", \"Ryan\", \"Luke\", \"Daniel\", \n",
    "                      \"Jack\", \"William\", \"Owen\", \"Gabriel\", \"Matthew\", \"Connor\", \"Jayce\", \n",
    "                      \"Isaac\", \"Sebastian\", \"Henry\", \"Muhammad\", \"Cameron\", \"Wyatt\", \n",
    "                      \"Dylan\", \"Nathan\", \"Nicholas\", \"Julian\", \"Eli\", \"Levi\", \"Isaiah\", \n",
    "                      \"Landon\", \"David\", \"Christian\", \"Andrew\", \"Brayden\", \"John\", \n",
    "                      \"Lincoln\"]\n",
    "\n",
    "# Generating list of n many salaries\n",
    "from random import gauss\n",
    "\n",
    "n = len(list_of_names)\n",
    "mu = 50000\n",
    "sigma = 20000\n",
    "list_of_salaries = []\n",
    "\n",
    "for i in range(n):\n",
    "    list_of_salaries += [int(gauss(mu, sigma))]\n",
    "    \n",
    "\n",
    "# Generating list of n many past_crime_severity values\n",
    "# We will use the numpy library\n",
    "import numpy as np\n",
    "items = [\"no crime\", \"infraction\", \"misdimeanor\", \"felony\"]\n",
    "probs = [.50, .40, .08, .02]\n",
    "list_of_past_crime_severity = np.random.choice(items, n, p = probs) # run `help(choices)` to read documentation\n",
    "\n",
    "\n",
    "# Generating list of n many has_past_unpaid_loan values\n",
    "\n",
    "list_of_has_past_unpaid_loan = np.random.binomial(n = 1, size = n, p = 0.2)\n",
    "\n",
    "\n",
    "\n",
    "\n",
    "# Initializing Pandas DataFrame\n",
    "df = pd.DataFrame({'Salary' : pd.Series(list_of_salaries, index = list_of_names),\n",
    "                  'past_crime_severity' : pd.Series(list_of_past_crime_severity, index = list_of_names),\n",
    "                  'has_past_unpaid_loan' : pd.Series(list_of_has_past_unpaid_loan, index = list_of_names)})\n",
    "\n",
    "df"
   ]
  },
  {
   "cell_type": "code",
   "execution_count": 44,
   "metadata": {},
   "outputs": [],
   "source": [
    "# Lets read documentation to see what univariate distributions are available in the numpy.random module\n",
    "import numpy\n",
    "#help(numpy.random)"
   ]
  },
  {
   "cell_type": "code",
   "execution_count": 45,
   "metadata": {},
   "outputs": [
    {
     "data": {
      "text/html": [
       "<div>\n",
       "<style scoped>\n",
       "    .dataframe tbody tr th:only-of-type {\n",
       "        vertical-align: middle;\n",
       "    }\n",
       "\n",
       "    .dataframe tbody tr th {\n",
       "        vertical-align: top;\n",
       "    }\n",
       "\n",
       "    .dataframe thead th {\n",
       "        text-align: right;\n",
       "    }\n",
       "</style>\n",
       "<table border=\"1\" class=\"dataframe\">\n",
       "  <thead>\n",
       "    <tr style=\"text-align: right;\">\n",
       "      <th></th>\n",
       "      <th>Salary</th>\n",
       "      <th>past_crime_severity</th>\n",
       "      <th>has_past_unpaid_loan</th>\n",
       "    </tr>\n",
       "  </thead>\n",
       "  <tbody>\n",
       "    <tr>\n",
       "      <th>Sophia</th>\n",
       "      <td>48968</td>\n",
       "      <td>infraction</td>\n",
       "      <td>0</td>\n",
       "    </tr>\n",
       "    <tr>\n",
       "      <th>Emma</th>\n",
       "      <td>44881</td>\n",
       "      <td>no crime</td>\n",
       "      <td>0</td>\n",
       "    </tr>\n",
       "    <tr>\n",
       "      <th>Olivia</th>\n",
       "      <td>85312</td>\n",
       "      <td>no crime</td>\n",
       "      <td>1</td>\n",
       "    </tr>\n",
       "    <tr>\n",
       "      <th>Ava</th>\n",
       "      <td>57685</td>\n",
       "      <td>infraction</td>\n",
       "      <td>0</td>\n",
       "    </tr>\n",
       "    <tr>\n",
       "      <th>Mia</th>\n",
       "      <td>18735</td>\n",
       "      <td>felony</td>\n",
       "      <td>0</td>\n",
       "    </tr>\n",
       "    <tr>\n",
       "      <th>Isabella</th>\n",
       "      <td>62240</td>\n",
       "      <td>no crime</td>\n",
       "      <td>0</td>\n",
       "    </tr>\n",
       "    <tr>\n",
       "      <th>Riley</th>\n",
       "      <td>42420</td>\n",
       "      <td>no crime</td>\n",
       "      <td>1</td>\n",
       "    </tr>\n",
       "    <tr>\n",
       "      <th>Aria</th>\n",
       "      <td>12347</td>\n",
       "      <td>no crime</td>\n",
       "      <td>1</td>\n",
       "    </tr>\n",
       "    <tr>\n",
       "      <th>Zoe</th>\n",
       "      <td>41652</td>\n",
       "      <td>infraction</td>\n",
       "      <td>0</td>\n",
       "    </tr>\n",
       "    <tr>\n",
       "      <th>Charlotte</th>\n",
       "      <td>36816</td>\n",
       "      <td>no crime</td>\n",
       "      <td>0</td>\n",
       "    </tr>\n",
       "  </tbody>\n",
       "</table>\n",
       "</div>"
      ],
      "text/plain": [
       "           Salary past_crime_severity  has_past_unpaid_loan\n",
       "Sophia      48968          infraction                     0\n",
       "Emma        44881            no crime                     0\n",
       "Olivia      85312            no crime                     1\n",
       "Ava         57685          infraction                     0\n",
       "Mia         18735              felony                     0\n",
       "Isabella    62240            no crime                     0\n",
       "Riley       42420            no crime                     1\n",
       "Aria        12347            no crime                     1\n",
       "Zoe         41652          infraction                     0\n",
       "Charlotte   36816            no crime                     0"
      ]
     },
     "execution_count": 45,
     "metadata": {},
     "output_type": "execute_result"
    }
   ],
   "source": [
    "# Capture a snapshot of df\n",
    "df.head(10) # default is 5"
   ]
  },
  {
   "cell_type": "markdown",
   "metadata": {},
   "source": [
    "50% of people have no crime, 40% have an infraction, 8% a misdimeanor and 2% a felony. There is a 20% chance that any individual has a past unpaid loan. Is this a reasonable fabrication of this dataset? No... since salary and not paying back a loan are dependent r.v.'s. But... we will ignore this for now.\n",
    "\n",
    "It would be nice to see a summary of values. Would median and mean be appropriate here? Not for categorical variables!"
   ]
  },
  {
   "cell_type": "code",
   "execution_count": 46,
   "metadata": {},
   "outputs": [
    {
     "data": {
      "text/html": [
       "<div>\n",
       "<style scoped>\n",
       "    .dataframe tbody tr th:only-of-type {\n",
       "        vertical-align: middle;\n",
       "    }\n",
       "\n",
       "    .dataframe tbody tr th {\n",
       "        vertical-align: top;\n",
       "    }\n",
       "\n",
       "    .dataframe thead th {\n",
       "        text-align: right;\n",
       "    }\n",
       "</style>\n",
       "<table border=\"1\" class=\"dataframe\">\n",
       "  <thead>\n",
       "    <tr style=\"text-align: right;\">\n",
       "      <th></th>\n",
       "      <th>Salary</th>\n",
       "      <th>has_past_unpaid_loan</th>\n",
       "    </tr>\n",
       "  </thead>\n",
       "  <tbody>\n",
       "    <tr>\n",
       "      <th>count</th>\n",
       "      <td>100.000000</td>\n",
       "      <td>100.00000</td>\n",
       "    </tr>\n",
       "    <tr>\n",
       "      <th>mean</th>\n",
       "      <td>46831.110000</td>\n",
       "      <td>0.15000</td>\n",
       "    </tr>\n",
       "    <tr>\n",
       "      <th>std</th>\n",
       "      <td>18832.121593</td>\n",
       "      <td>0.35887</td>\n",
       "    </tr>\n",
       "    <tr>\n",
       "      <th>min</th>\n",
       "      <td>-6722.000000</td>\n",
       "      <td>0.00000</td>\n",
       "    </tr>\n",
       "    <tr>\n",
       "      <th>25%</th>\n",
       "      <td>36194.000000</td>\n",
       "      <td>0.00000</td>\n",
       "    </tr>\n",
       "    <tr>\n",
       "      <th>50%</th>\n",
       "      <td>46807.000000</td>\n",
       "      <td>0.00000</td>\n",
       "    </tr>\n",
       "    <tr>\n",
       "      <th>75%</th>\n",
       "      <td>60107.250000</td>\n",
       "      <td>0.00000</td>\n",
       "    </tr>\n",
       "    <tr>\n",
       "      <th>max</th>\n",
       "      <td>91471.000000</td>\n",
       "      <td>1.00000</td>\n",
       "    </tr>\n",
       "  </tbody>\n",
       "</table>\n",
       "</div>"
      ],
      "text/plain": [
       "             Salary  has_past_unpaid_loan\n",
       "count    100.000000             100.00000\n",
       "mean   46831.110000               0.15000\n",
       "std    18832.121593               0.35887\n",
       "min    -6722.000000               0.00000\n",
       "25%    36194.000000               0.00000\n",
       "50%    46807.000000               0.00000\n",
       "75%    60107.250000               0.00000\n",
       "max    91471.000000               1.00000"
      ]
     },
     "execution_count": 46,
     "metadata": {},
     "output_type": "execute_result"
    }
   ],
   "source": [
    "# You can view summary statistics of each feature with the .describe() method\n",
    "df.describe()"
   ]
  },
  {
   "cell_type": "code",
   "execution_count": 47,
   "metadata": {},
   "outputs": [
    {
     "data": {
      "text/plain": [
       "Index(['Salary', 'past_crime_severity', 'has_past_unpaid_loan'], dtype='object')"
      ]
     },
     "execution_count": 47,
     "metadata": {},
     "output_type": "execute_result"
    }
   ],
   "source": [
    "# Get column labels\n",
    "df.columns"
   ]
  },
  {
   "cell_type": "code",
   "execution_count": 48,
   "metadata": {},
   "outputs": [
    {
     "data": {
      "text/plain": [
       "Salary                   int64\n",
       "past_crime_severity     object\n",
       "has_past_unpaid_loan     int32\n",
       "dtype: object"
      ]
     },
     "execution_count": 48,
     "metadata": {},
     "output_type": "execute_result"
    }
   ],
   "source": [
    "# get data types of columns\n",
    "df.dtypes"
   ]
  },
  {
   "cell_type": "markdown",
   "metadata": {},
   "source": [
    "`has_past_unpaid_loan` should not be an integer value! The difference between someone paying vs. not paying a loan is not the value 1, it is a boolean value. Let's cast the feature as a boolean instead of an integer value."
   ]
  },
  {
   "cell_type": "code",
   "execution_count": 49,
   "metadata": {},
   "outputs": [
    {
     "data": {
      "text/html": [
       "<div>\n",
       "<style scoped>\n",
       "    .dataframe tbody tr th:only-of-type {\n",
       "        vertical-align: middle;\n",
       "    }\n",
       "\n",
       "    .dataframe tbody tr th {\n",
       "        vertical-align: top;\n",
       "    }\n",
       "\n",
       "    .dataframe thead th {\n",
       "        text-align: right;\n",
       "    }\n",
       "</style>\n",
       "<table border=\"1\" class=\"dataframe\">\n",
       "  <thead>\n",
       "    <tr style=\"text-align: right;\">\n",
       "      <th></th>\n",
       "      <th>Salary</th>\n",
       "      <th>past_crime_severity</th>\n",
       "      <th>has_past_unpaid_loan</th>\n",
       "    </tr>\n",
       "  </thead>\n",
       "  <tbody>\n",
       "    <tr>\n",
       "      <th>Sophia</th>\n",
       "      <td>48968</td>\n",
       "      <td>infraction</td>\n",
       "      <td>False</td>\n",
       "    </tr>\n",
       "    <tr>\n",
       "      <th>Emma</th>\n",
       "      <td>44881</td>\n",
       "      <td>no crime</td>\n",
       "      <td>False</td>\n",
       "    </tr>\n",
       "    <tr>\n",
       "      <th>Olivia</th>\n",
       "      <td>85312</td>\n",
       "      <td>no crime</td>\n",
       "      <td>True</td>\n",
       "    </tr>\n",
       "    <tr>\n",
       "      <th>Ava</th>\n",
       "      <td>57685</td>\n",
       "      <td>infraction</td>\n",
       "      <td>False</td>\n",
       "    </tr>\n",
       "    <tr>\n",
       "      <th>Mia</th>\n",
       "      <td>18735</td>\n",
       "      <td>felony</td>\n",
       "      <td>False</td>\n",
       "    </tr>\n",
       "  </tbody>\n",
       "</table>\n",
       "</div>"
      ],
      "text/plain": [
       "        Salary past_crime_severity  has_past_unpaid_loan\n",
       "Sophia   48968          infraction                 False\n",
       "Emma     44881            no crime                 False\n",
       "Olivia   85312            no crime                  True\n",
       "Ava      57685          infraction                 False\n",
       "Mia      18735              felony                 False"
      ]
     },
     "execution_count": 49,
     "metadata": {},
     "output_type": "execute_result"
    }
   ],
   "source": [
    "# Cast the has_past_unpaid_loan feature as bool\n",
    "df['has_past_unpaid_loan'] = df['has_past_unpaid_loan'].astype('bool')\n",
    "\n",
    "df.head()"
   ]
  },
  {
   "cell_type": "code",
   "execution_count": 50,
   "metadata": {},
   "outputs": [
    {
     "data": {
      "text/plain": [
       "count          100\n",
       "unique           4\n",
       "top       no crime\n",
       "freq            45\n",
       "Name: past_crime_severity, dtype: object"
      ]
     },
     "execution_count": 50,
     "metadata": {},
     "output_type": "execute_result"
    }
   ],
   "source": [
    "df['past_crime_severity'].describe()"
   ]
  },
  {
   "cell_type": "markdown",
   "metadata": {},
   "source": [
    "Here are some base functions to be aware of"
   ]
  },
  {
   "cell_type": "code",
   "execution_count": 51,
   "metadata": {},
   "outputs": [
    {
     "name": "stdout",
     "output_type": "stream",
     "text": [
      "Min: -6722\n"
     ]
    }
   ],
   "source": [
    "# min\n",
    "print(f\"Min: {df['Salary'].min()}\")"
   ]
  },
  {
   "cell_type": "code",
   "execution_count": 52,
   "metadata": {},
   "outputs": [
    {
     "name": "stdout",
     "output_type": "stream",
     "text": [
      "Max: 91471\n"
     ]
    }
   ],
   "source": [
    "# max\n",
    "print(f\"Max: {df['Salary'].max()}\")"
   ]
  },
  {
   "cell_type": "code",
   "execution_count": 53,
   "metadata": {},
   "outputs": [
    {
     "name": "stdout",
     "output_type": "stream",
     "text": [
      "Mean: 46831.11\n"
     ]
    }
   ],
   "source": [
    "# mean\n",
    "print(f\"Mean: {df['Salary'].mean()}\")"
   ]
  },
  {
   "cell_type": "code",
   "execution_count": 54,
   "metadata": {},
   "outputs": [
    {
     "name": "stdout",
     "output_type": "stream",
     "text": [
      "Median: 46807.0\n"
     ]
    }
   ],
   "source": [
    "# median\n",
    "print(f\"Median: {df['Salary'].median()}\")"
   ]
  },
  {
   "cell_type": "code",
   "execution_count": 55,
   "metadata": {},
   "outputs": [
    {
     "name": "stdout",
     "output_type": "stream",
     "text": [
      "Mode: 0     -6722\n",
      "1     -1341\n",
      "2     10215\n",
      "3     12347\n",
      "4     13408\n",
      "      ...  \n",
      "95    81997\n",
      "96    82273\n",
      "97    83334\n",
      "98    85312\n",
      "99    91471\n",
      "Length: 100, dtype: int64\n"
     ]
    }
   ],
   "source": [
    "# mode\n",
    "print(f\"Mode: {df['Salary'].mode()}\") # Can you understand what is going on here?"
   ]
  },
  {
   "cell_type": "code",
   "execution_count": 56,
   "metadata": {},
   "outputs": [
    {
     "name": "stdout",
     "output_type": "stream",
     "text": [
      "Std: 18832\n"
     ]
    }
   ],
   "source": [
    "# standard deviation\n",
    "print(f\"Std: {int(df['Salary'].std())}\")"
   ]
  },
  {
   "cell_type": "code",
   "execution_count": 57,
   "metadata": {},
   "outputs": [
    {
     "name": "stdout",
     "output_type": "stream",
     "text": [
      "Variance: 354648803\n"
     ]
    }
   ],
   "source": [
    "# variance\n",
    "print(f\"Variance: {int(df['Salary'].var())}\")"
   ]
  },
  {
   "cell_type": "code",
   "execution_count": 58,
   "metadata": {},
   "outputs": [
    {
     "name": "stdout",
     "output_type": "stream",
     "text": [
      "Quantile: 32186.0\n"
     ]
    }
   ],
   "source": [
    "# Quantile function\n",
    "print(f\"Quantile: {df['Salary'].quantile(0.2)}\")"
   ]
  },
  {
   "cell_type": "code",
   "execution_count": 59,
   "metadata": {},
   "outputs": [
    {
     "name": "stdout",
     "output_type": "stream",
     "text": [
      "Distinct Values: 100\n"
     ]
    }
   ],
   "source": [
    "# Number of distinct elements\n",
    "print(f\"Distinct Values: {df['Salary'].nunique()}\")"
   ]
  },
  {
   "cell_type": "code",
   "execution_count": 60,
   "metadata": {},
   "outputs": [
    {
     "name": "stdout",
     "output_type": "stream",
     "text": [
      "IQR: 23913.25\n"
     ]
    }
   ],
   "source": [
    "# Calculate interquartile range\n",
    "q3, q1 = np.percentile(df['Salary'], [75, 25])\n",
    "iqr = q3 - q1\n",
    "print(f\"IQR: {iqr}\")"
   ]
  },
  {
   "cell_type": "markdown",
   "metadata": {},
   "source": [
    "Great work! We've created a Pandas DataFrame object, explored and manipulated the data. This DataFrame is our training set `D`. We are missing one final variable, the response! Let's add it and say that 90\\% of people are creditworthy i.e. they paid back their loan."
   ]
  },
  {
   "cell_type": "code",
   "execution_count": 61,
   "metadata": {},
   "outputs": [
    {
     "data": {
      "text/html": [
       "<div>\n",
       "<style scoped>\n",
       "    .dataframe tbody tr th:only-of-type {\n",
       "        vertical-align: middle;\n",
       "    }\n",
       "\n",
       "    .dataframe tbody tr th {\n",
       "        vertical-align: top;\n",
       "    }\n",
       "\n",
       "    .dataframe thead th {\n",
       "        text-align: right;\n",
       "    }\n",
       "</style>\n",
       "<table border=\"1\" class=\"dataframe\">\n",
       "  <thead>\n",
       "    <tr style=\"text-align: right;\">\n",
       "      <th></th>\n",
       "      <th>Salary</th>\n",
       "      <th>past_crime_severity</th>\n",
       "      <th>has_past_unpaid_loan</th>\n",
       "      <th>paid_back_loan</th>\n",
       "    </tr>\n",
       "  </thead>\n",
       "  <tbody>\n",
       "    <tr>\n",
       "      <th>Sophia</th>\n",
       "      <td>48968</td>\n",
       "      <td>infraction</td>\n",
       "      <td>False</td>\n",
       "      <td>False</td>\n",
       "    </tr>\n",
       "    <tr>\n",
       "      <th>Emma</th>\n",
       "      <td>44881</td>\n",
       "      <td>no crime</td>\n",
       "      <td>False</td>\n",
       "      <td>True</td>\n",
       "    </tr>\n",
       "    <tr>\n",
       "      <th>Olivia</th>\n",
       "      <td>85312</td>\n",
       "      <td>no crime</td>\n",
       "      <td>True</td>\n",
       "      <td>True</td>\n",
       "    </tr>\n",
       "    <tr>\n",
       "      <th>Ava</th>\n",
       "      <td>57685</td>\n",
       "      <td>infraction</td>\n",
       "      <td>False</td>\n",
       "      <td>True</td>\n",
       "    </tr>\n",
       "    <tr>\n",
       "      <th>Mia</th>\n",
       "      <td>18735</td>\n",
       "      <td>felony</td>\n",
       "      <td>False</td>\n",
       "      <td>True</td>\n",
       "    </tr>\n",
       "  </tbody>\n",
       "</table>\n",
       "</div>"
      ],
      "text/plain": [
       "        Salary past_crime_severity  has_past_unpaid_loan  paid_back_loan\n",
       "Sophia   48968          infraction                 False           False\n",
       "Emma     44881            no crime                 False            True\n",
       "Olivia   85312            no crime                  True            True\n",
       "Ava      57685          infraction                 False            True\n",
       "Mia      18735              felony                 False            True"
      ]
     },
     "execution_count": 61,
     "metadata": {},
     "output_type": "execute_result"
    }
   ],
   "source": [
    "# Creating response variable (this is your y)\n",
    "df['paid_back_loan'] = np.random.binomial(n = 1, size = n, p = 0.9).astype('bool')\n",
    "\n",
    "df.head()"
   ]
  },
  {
   "cell_type": "markdown",
   "metadata": {},
   "source": [
    "Conceptually - why does this not make sense? `y` is independent of `X` --- what happens then? No function `f` can ever have any predictive / explanatory power! This is just a silly example to explore Pandas library. We will work with real data soon. Don't worry.\n",
    "\n",
    "This was only a brief glimpse of what Pandas can do. We'll be working with Pandas in almost every demo, so we'll gain more exposure to the library with time.\n",
    "\n",
    "---\n",
    "\n",
    "## Functions\n",
    "\n",
    "A function is a block of code which only runs when it is called. The functions we have worked with already come from imported or standard libraries, however we can create our own functions! You can define the parameters the function will accept, when you pass variables into the function call, these values are called arguments (nomenclature counts).\n",
    "\n",
    "A function entails:\n",
    "- The `def` statement\n",
    "- The name of the function followed by ()\n",
    "- You may define arguments inside the parenthesis\n",
    "- a colon\n",
    "- Starting on a new line and indented, the body of the function to execute (also called the function clause)"
   ]
  },
  {
   "cell_type": "code",
   "execution_count": 62,
   "metadata": {},
   "outputs": [],
   "source": [
    "# Our first function\n",
    "def hello():\n",
    "    print(\"Hello!\")"
   ]
  },
  {
   "cell_type": "markdown",
   "metadata": {},
   "source": [
    "Cool, our first function! How come nothing was output? We did not call the function, lets do that now."
   ]
  },
  {
   "cell_type": "code",
   "execution_count": 63,
   "metadata": {},
   "outputs": [
    {
     "name": "stdout",
     "output_type": "stream",
     "text": [
      "Hello!\n"
     ]
    }
   ],
   "source": [
    "hello()"
   ]
  },
  {
   "cell_type": "markdown",
   "metadata": {},
   "source": [
    "A function can take on multiple arguments. An argument is information that can be passed into a function. There is a very subtle difference between an argument and a parameter.\n",
    "\n",
    "* A parameter is the variable listed inside the parentheses in the function declaration.\n",
    "* An argument is the value that are sent to the function when it is called.\n",
    "\n",
    "Lets edit the `hello()` function to include a parameter called `name`, that way we can include the persons name in the print statement. When I call the function, we'll pass our own name as an argument.\n",
    "\n",
    "You can add a default to an argument in case a corresponding parameter is not passed into the function call.\n",
    "\n",
    "The `return` statement is exactly what you think it is. Once it is called, the interpreter exits the function and returns whatever value comes after the statement. You don't need to include a return statement."
   ]
  },
  {
   "cell_type": "code",
   "execution_count": 64,
   "metadata": {},
   "outputs": [
    {
     "name": "stdout",
     "output_type": "stream",
     "text": [
      "Hello Amir! I am 21 years old.\n",
      "Hello Amir! I am 40 years old.\n"
     ]
    },
    {
     "ename": "TypeError",
     "evalue": "hello() missing 1 required positional argument: 'name'",
     "output_type": "error",
     "traceback": [
      "\u001b[1;31m---------------------------------------------------------------------------\u001b[0m",
      "\u001b[1;31mTypeError\u001b[0m                                 Traceback (most recent call last)",
      "\u001b[1;32m<ipython-input-64-9ef1668941b4>\u001b[0m in \u001b[0;36m<module>\u001b[1;34m\u001b[0m\n\u001b[0;32m      7\u001b[0m \u001b[0mhello\u001b[0m\u001b[1;33m(\u001b[0m\u001b[1;34m\"Amir\"\u001b[0m\u001b[1;33m)\u001b[0m\u001b[1;33m\u001b[0m\u001b[1;33m\u001b[0m\u001b[0m\n\u001b[0;32m      8\u001b[0m \u001b[1;33m\u001b[0m\u001b[0m\n\u001b[1;32m----> 9\u001b[1;33m \u001b[0mhello\u001b[0m\u001b[1;33m(\u001b[0m\u001b[1;33m)\u001b[0m\u001b[1;33m\u001b[0m\u001b[1;33m\u001b[0m\u001b[0m\n\u001b[0m\u001b[0;32m     10\u001b[0m \u001b[1;31m# What is wrong with the line above?\u001b[0m\u001b[1;33m\u001b[0m\u001b[1;33m\u001b[0m\u001b[1;33m\u001b[0m\u001b[0m\n",
      "\u001b[1;31mTypeError\u001b[0m: hello() missing 1 required positional argument: 'name'"
     ]
    }
   ],
   "source": [
    "def hello(name, age = 40):\n",
    "    hello_statement = f\"Hello {name}! I am {str(age)} years old.\"\n",
    "    print(hello_statement)\n",
    "    \n",
    "hello(\"Amir\", 21)\n",
    "\n",
    "hello(\"Amir\")\n",
    "\n",
    "hello()\n",
    "# What is wrong with the line above?"
   ]
  },
  {
   "cell_type": "markdown",
   "metadata": {},
   "source": [
    "Lets take a look at a fun function. For those of you in CS 220 you might be learning about encryption and decryption. One cipher you learn about is the Shift Cypher, where you simply replace the letter with the letter k positions away. The function for the shift cipher is generally `f(p) = (p + k) % 26` where `p` is a specific letter in the string and `k` is a given key. Here is a Python function for the shift cypher."
   ]
  },
  {
   "cell_type": "code",
   "execution_count": 65,
   "metadata": {},
   "outputs": [],
   "source": [
    "# Shift Cipher Decryptor Function\n",
    "def shift_cipher_decrypt(coded_message, key):\n",
    "    coded_message = list(coded_message)\n",
    "    encrypted_message = ''\n",
    "    letters = \"A B C D E F G H I J K L M N O P Q R S T U V W X Y Z\"\n",
    "    letters = letters.split()\n",
    "    \n",
    "    for letter in coded_message:\n",
    "        if letter in letters:\n",
    "            x = letters.index(str(letter))\n",
    "            char = (x - key) % 26\n",
    "            encrypted_message += letters[char]\n",
    "            \n",
    "        else:\n",
    "            encrypted_message += ' '\n",
    "            \n",
    "    return print(encrypted_message)"
   ]
  },
  {
   "cell_type": "markdown",
   "metadata": {},
   "source": [
    "Consider the following message encrypted with a simple shift cipher: \"CKKZ SKNG\"\n",
    "Use the encryption key `100` to decode the message."
   ]
  },
  {
   "cell_type": "code",
   "execution_count": 66,
   "metadata": {},
   "outputs": [
    {
     "name": "stdout",
     "output_type": "stream",
     "text": [
      "GOOD WORK\n"
     ]
    }
   ],
   "source": [
    "shift_cipher_decrypt(\"CKKZ SKNG\", 100)"
   ]
  },
  {
   "cell_type": "markdown",
   "metadata": {},
   "source": [
    "Below is a Python function to encrypt messages with the shift cypher. To encrypt and decrypt the same message make sure your key is the same! These two functions might look intimidating, but its nothing we haven't already gone over. Go through each function line by line, and make sense of each. Now you're a Python programmer and a spy!"
   ]
  },
  {
   "cell_type": "code",
   "execution_count": 67,
   "metadata": {},
   "outputs": [],
   "source": [
    "def shift_cipher_encrypt(coded_message, key):\n",
    "    coded_message = list(coded_message)\n",
    "    encrypted_message = ''\n",
    "    letters = \"A B C D E F G H I J K L M N O P Q R S T U V W X Y Z\"\n",
    "    letters = letters.split()\n",
    "    \n",
    "    for letter in coded_message:\n",
    "        if letter in letters:\n",
    "            x = letters.index(str(letter))\n",
    "            char = (x + key) % 26\n",
    "            encrypted_message += letters[char]\n",
    "            \n",
    "        else:\n",
    "            encrypted_message += ' '\n",
    "            \n",
    "    return print(encrypted_message)"
   ]
  },
  {
   "cell_type": "code",
   "execution_count": 68,
   "metadata": {},
   "outputs": [
    {
     "name": "stdout",
     "output_type": "stream",
     "text": [
      "CKKZ SKNG\n"
     ]
    }
   ],
   "source": [
    "shift_cipher_encrypt(\"GOOD WORK\", 100)"
   ]
  }
 ],
 "metadata": {
  "kernelspec": {
   "display_name": "Python 3",
   "language": "python",
   "name": "python3"
  },
  "language_info": {
   "codemirror_mode": {
    "name": "ipython",
    "version": 3
   },
   "file_extension": ".py",
   "mimetype": "text/x-python",
   "name": "python",
   "nbconvert_exporter": "python",
   "pygments_lexer": "ipython3",
   "version": "3.8.5"
  }
 },
 "nbformat": 4,
 "nbformat_minor": 4
}
