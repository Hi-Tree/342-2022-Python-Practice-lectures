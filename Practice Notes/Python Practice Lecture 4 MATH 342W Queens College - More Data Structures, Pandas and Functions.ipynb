{
 "cells": [
  {
   "cell_type": "markdown",
   "metadata": {},
   "source": [
    "# Python Practice Lecture 4 MATH 342W Queens College\n",
    "# - More Data Structures, Pandas, and Functions\n",
    "## Author: Amir ElTabakh\n",
    "## Date: February 8, 2022\n",
    "\n",
    "In this demo we will look at other means of storing some elements such as tuples, and sets. We will then take a look at functions, explore dictionaries a little more and lastly introduce the Pandas Dataframe object.\n",
    "\n",
    "Before jumping into tuples or sets, lets re-jog our memories with lists."
   ]
  },
  {
   "cell_type": "code",
   "execution_count": null,
   "metadata": {},
   "outputs": [],
   "source": [
    "# List of some classes in the Data Science major\n",
    "DS_classes = ['Math 341', 'CS 111', 'Math 231']\n",
    "\n",
    "# Output element at index 0\n",
    "DS_classes[0]\n",
    "\n",
    "# Output second to last element\n",
    "DS_classes[-2]\n",
    "\n",
    "# Change the last element to value 'Math 241'\n",
    "DS_classes[-1] = 'Math 241'\n",
    "\n",
    "# Add the value 'CS 211' to end of the list\n",
    "DS_classes += ['CS 211']\n",
    "\n",
    "# Remove the element at index 1\n",
    "DS_classes.pop(1)\n",
    "\n",
    "print(DS_classes)"
   ]
  },
  {
   "cell_type": "markdown",
   "metadata": {},
   "source": [
    "## Tuples\n",
    "\n",
    "Another data structure thats similar to the list is the tuple. A tuple is an *immutable* object where a list is a *mutable* object. To create a tuple object use paranthesis `()`, and we've seen lists use square brackets `[]`."
   ]
  },
  {
   "cell_type": "code",
   "execution_count": null,
   "metadata": {},
   "outputs": [],
   "source": [
    "# Tuple of apple cultivars\n",
    "apples = (\"Golden\", \"Red\", \"Fuji\", \"Granny\")\n",
    "\n",
    "# Output the data type of the apples object\n",
    "type(apples)"
   ]
  },
  {
   "cell_type": "code",
   "execution_count": null,
   "metadata": {},
   "outputs": [],
   "source": [
    "# Call the first element in apples\n",
    "apples[0]\n",
    "\n",
    "# Call the first three elements in the apples\n",
    "apples[0:3]\n",
    "\n",
    "# Change the first element of apples to 'Honeycrisp'\n",
    "apples[0] = \"Honeycrisp\"\n",
    "\n",
    "# What went wrong?"
   ]
  },
  {
   "cell_type": "markdown",
   "metadata": {},
   "source": [
    "We have casting before, it is the process of changing the datatype of an object to a valid one. You can also cast a tuple as a list, and a list as a tuple."
   ]
  },
  {
   "cell_type": "code",
   "execution_count": null,
   "metadata": {},
   "outputs": [],
   "source": [
    "# Creating a list\n",
    "programming_langs = [\"Python\", \"C++\", \"Java\", \"JavaScript\"]\n",
    "\n",
    "# Print the type of the programming_langs object\n",
    "print(type(programming_langs))\n",
    "\n",
    "# Cast the programming_langs object as a tuple\n",
    "programming_langs_tuple = tuple(programming_langs)\n",
    "\n",
    "# Print the type of the programming_langs_tuple object\n",
    "print(type(programming_langs_tuple))"
   ]
  },
  {
   "cell_type": "code",
   "execution_count": null,
   "metadata": {},
   "outputs": [],
   "source": [
    "# Print the object to confirm it is a tuple\n",
    "print(type(programming_langs_tuple))\n",
    "\n",
    "# Cast a tuple to a list\n",
    "programming_langs_list = list(programming_langs_tuple)\n",
    "\n",
    "# Print the type of the programming_langs_list object\n",
    "print(type(programming_langs_list))\n",
    "\n",
    "# Lets try to change the first element of programming_langs_list to 'C#'\n",
    "programming_langs_list[0] = 'C#'\n",
    "\n",
    "print(programming_langs_list)"
   ]
  },
  {
   "cell_type": "markdown",
   "metadata": {},
   "source": [
    "## Sets\n",
    "\n",
    "Sets are used to store multiple elements in a single variable, similarly to lists, tuples, and dictionaries. The set is the last of 4 built-in data types in Python used to store collections of data. Each have different qualities and uses.\n",
    "\n",
    "* Lists: Mutable, ordered\n",
    "* Tuples: Immutable, ordered\n",
    "* Dictionaries: Mutable, Key-Value paired, does not allow for duplicate elements\n",
    "* Sets: Immutable-ish, unordered\n",
    "\n",
    "Elements in sets cannot be changed, but you may remove elements and add new ones."
   ]
  },
  {
   "cell_type": "code",
   "execution_count": null,
   "metadata": {},
   "outputs": [],
   "source": [
    "# Set of cat breeds\n",
    "cat_set = {\"Siamese\", \"Bengal\", \"Calico\", \"Chartreux\"}\n",
    "\n",
    "# Print the length of the set\n",
    "print(len(cat_set))"
   ]
  },
  {
   "cell_type": "markdown",
   "metadata": {},
   "source": [
    "## Back to dictionaries\n",
    "\n",
    "If we want talk about Pandas Dataframes, we should explore dictionaries a little bit more. Below is an example of a dictionary, lets practice some new operations on it.\n",
    "\n",
    "Note in the below we use an f-string in the print statement. An f-string allows the programmer to directly add the value of a variable into the string using curly braces. Notice how we did not have to cast the non-string values into strings for this to work."
   ]
  },
  {
   "cell_type": "code",
   "execution_count": null,
   "metadata": {},
   "outputs": [],
   "source": [
    "athlete_1 = {'Name' : 'Max Verstappen',\n",
    "             'Sport' : 'Formula 1',\n",
    "             'Team' : 'Red Bull Racing',\n",
    "             'WDC' : 1,\n",
    "             'Age' : 24\n",
    "             }\n",
    "\n",
    "# Use a for loop to iterate over the key pairs in the dictionary\n",
    "for k, v in athlete_1.items():\n",
    "    print(f'Key: {k} - Value: {v}')"
   ]
  },
  {
   "cell_type": "markdown",
   "metadata": {},
   "source": [
    "We can use the `in` and `not in` operators to check whether a value exists in a dictionary, list, etc."
   ]
  },
  {
   "cell_type": "code",
   "execution_count": null,
   "metadata": {},
   "outputs": [],
   "source": [
    "'Name' in athlete_1.keys()"
   ]
  },
  {
   "cell_type": "code",
   "execution_count": null,
   "metadata": {},
   "outputs": [],
   "source": [
    "'Name' not in athlete_1.values()"
   ]
  },
  {
   "cell_type": "code",
   "execution_count": null,
   "metadata": {},
   "outputs": [],
   "source": [
    "'Sport' in athlete_1"
   ]
  },
  {
   "cell_type": "markdown",
   "metadata": {},
   "source": [
    "### The `get()` method\n",
    "\n",
    "It can become tedious to check whether a key exists in a dictionary before accessing that key's value. Fortunately, dictionries have a `get()` method that takes two arguments:\n",
    "\n",
    "- The key of the value to retrieve\n",
    "- A fallback value to return if that key does not exist"
   ]
  },
  {
   "cell_type": "code",
   "execution_count": null,
   "metadata": {},
   "outputs": [],
   "source": [
    "athlete_1 = {'Name' : 'Max Verstappen',\n",
    "             'Sport' : 'Formula 1',\n",
    "             'Team' : 'Red Bull Racing',\n",
    "             'WDC' : 1,\n",
    "             'Age' : 24\n",
    "             }\n",
    "\n",
    "# Print the athletes name\n",
    "print(f\"The name of the athlete is {athlete_1.get('Name')}.\")"
   ]
  },
  {
   "cell_type": "code",
   "execution_count": null,
   "metadata": {},
   "outputs": [],
   "source": [
    "# Print the athletes team\n",
    "team = athlete_1.get('Team')\n",
    "print(f\"The athlete plays for {team}.\")\n",
    "\n",
    "# Print the athletes nationality\n",
    "fallback = \"-oh, I am not sure.\"\n",
    "print(f\"The athlete is from {athlete_1.get('Nationality', fallback)}.\")"
   ]
  },
  {
   "cell_type": "code",
   "execution_count": null,
   "metadata": {},
   "outputs": [],
   "source": [
    "# What happens if you use the get method to find the value of a key, but that key does not exist in the dictionary\n",
    "print(athlete_1.get('Nationality'))"
   ]
  },
  {
   "cell_type": "markdown",
   "metadata": {},
   "source": [
    "## Pandas\n",
    "\n",
    "Pandas is a Python library used for data manipulation and analysis. It's name is a play on \"Python Data Analysis\", and was published as an open source library in 2009 by Wes McKinney.\n",
    "\n",
    "Pandas does not come with standard Python. Python is open source and developers are creating new libraries all the time. These developers can upload these packages as open-source for others to install and use! To install Pandas on our machine we will pip install it. pip is the standard package manager for Python, it allows you to install and manage additional packages. The Python installer installs pip, so it should be ready for us to use. Verify that pip is installed by running the following command:"
   ]
  },
  {
   "cell_type": "code",
   "execution_count": null,
   "metadata": {},
   "outputs": [],
   "source": [
    "!pip --version"
   ]
  },
  {
   "cell_type": "markdown",
   "metadata": {},
   "source": [
    "The cell aboce should return the version of your pip as well as where it is stored on your machine. Note when using a Notebook, such as this one on Jupyter, we can run shell commands by starting a line with an exclamation mark `!`."
   ]
  },
  {
   "cell_type": "code",
   "execution_count": null,
   "metadata": {},
   "outputs": [],
   "source": [
    "# Update pip\n",
    "!python -m pip install --upgrade pip"
   ]
  },
  {
   "cell_type": "code",
   "execution_count": null,
   "metadata": {},
   "outputs": [],
   "source": [
    "# Install Pandas on your machine\n",
    "!pip install pandas"
   ]
  },
  {
   "cell_type": "markdown",
   "metadata": {},
   "source": [
    "Now that we've installed Pandas, lets import the library. Note that we only have to install a library once per machine, but we have to import it in every program we wish to use the library in.\n",
    "\n",
    "---\n",
    "\n",
    "Pandas is the most common Python library for data analytics, and data wrangling. Thankfully theres a lot of documentation for us to use in case we get stuck.\n",
    "\n",
    "https://pandas.pydata.org/pandas-docs/stable/user_guide/index.html#user-guide\n",
    "\n",
    "What is a Pandas Dataframe? Well, lets refer to the documentation.\n",
    "https://pandas.pydata.org/pandas-docs/stable/reference/api/pandas.DataFrame.html?highlight=dataframe#pandas.DataFrame\n",
    "\n",
    "A Pandas DataFrame is a 2 dimensional data structure, like a 2 dimensional array, or a table with rows and columns. \n",
    "\n",
    "Features of DataFrame\n",
    "- Potentially columns are of different types\n",
    "- Size – Mutable\n",
    "- Labeled axes (rows and columns)\n",
    "- Can Perform Arithmetic operations on rows and columns"
   ]
  },
  {
   "cell_type": "code",
   "execution_count": null,
   "metadata": {},
   "outputs": [],
   "source": [
    "# import the pandas library\n",
    "import pandas as pd\n",
    "\n",
    "# Create a dictionary of the chocolate bars\n",
    "menu = {'Item Name': ['Snickers', 'Twix', 'KitKat', 'M&Ms'],\n",
    "       'Price':[0.25, 0.49, 2.50, 1.00],\n",
    "       'Mini':[1, 1, 0, 0],\n",
    "       'Family Size':[False, False, True, False]\n",
    "       }\n",
    "\n",
    "# Output dictionary\n",
    "menu"
   ]
  },
  {
   "cell_type": "code",
   "execution_count": null,
   "metadata": {},
   "outputs": [],
   "source": [
    "# Convert the dictionary aboce into a Pandas DataFrame\n",
    "menu_df = pd.DataFrame(menu)\n",
    "\n",
    "menu_df"
   ]
  },
  {
   "cell_type": "markdown",
   "metadata": {},
   "source": [
    "This is our first dataframe, lets practice some useful operations on it."
   ]
  },
  {
   "cell_type": "code",
   "execution_count": null,
   "metadata": {},
   "outputs": [],
   "source": [
    "# Get the Mini column\n",
    "menu_df[['Mini']]"
   ]
  },
  {
   "cell_type": "code",
   "execution_count": null,
   "metadata": {},
   "outputs": [],
   "source": [
    "# Get the Price and Family Size columns\n",
    "menu_df[['Mini', 'Family Size']]"
   ]
  },
  {
   "cell_type": "code",
   "execution_count": null,
   "metadata": {},
   "outputs": [],
   "source": [
    "menu_df['Item Name']"
   ]
  },
  {
   "cell_type": "markdown",
   "metadata": {},
   "source": [
    "The difference this cell, and the one twice above it, is the single square brackets. Lets check the data type of each.\n",
    "\n",
    "We find that the single column is of a series data type. What is a Series?\n",
    "\n",
    "### Series\n",
    "The Pandas Series object is a one-dimensional 'ndarray' with axis labels. It is analogous to an indexed one dimensional column vector. We will explore them more in future demos. Back to dataframes."
   ]
  },
  {
   "cell_type": "code",
   "execution_count": null,
   "metadata": {},
   "outputs": [],
   "source": [
    "print(type(menu_df['Item Name']))\n",
    "print(type(menu_df[['Item Name']]))"
   ]
  },
  {
   "cell_type": "code",
   "execution_count": null,
   "metadata": {},
   "outputs": [],
   "source": [
    "# Return the data type of each column in menu_df\n",
    "menu_df.dtypes"
   ]
  },
  {
   "cell_type": "code",
   "execution_count": null,
   "metadata": {},
   "outputs": [],
   "source": [
    "# Print a concise summary of menu_df\n",
    "menu_df.info()"
   ]
  },
  {
   "cell_type": "code",
   "execution_count": null,
   "metadata": {},
   "outputs": [],
   "source": [
    "# Print out the size of menu_df\n",
    "print(menu_df.size)"
   ]
  },
  {
   "cell_type": "markdown",
   "metadata": {},
   "source": [
    "Nothing too exciting here. We only just explored how to gather different characteristics of our DataFrame, lets take a deeper dive.\n",
    "\n",
    "Lets create a more complex DataFrame."
   ]
  },
  {
   "cell_type": "code",
   "execution_count": null,
   "metadata": {},
   "outputs": [],
   "source": [
    "list_of_names = [\"Sophia\", \"Emma\", \"Olivia\", \"Ava\", \"Mia\", \"Isabella\", \"Riley\", \n",
    "                      \"Aria\", \"Zoe\", \"Charlotte\", \"Lily\", \"Layla\", \"Amelia\", \"Emily\", \n",
    "                      \"Madelyn\", \"Aubrey\", \"Adalyn\", \"Madison\", \"Chloe\", \"Harper\", \n",
    "                      \"Abigail\", \"Aaliyah\", \"Avery\", \"Evelyn\", \"Kaylee\", \"Ella\", \"Ellie\", \n",
    "                      \"Scarlett\", \"Arianna\", \"Hailey\", \"Nora\", \"Addison\", \"Brooklyn\", \n",
    "                      \"Hannah\", \"Mila\", \"Leah\", \"Elizabeth\", \"Sarah\", \"Eliana\", \"Mackenzie\", \n",
    "                      \"Peyton\", \"Maria\", \"Grace\", \"Adeline\", \"Elena\", \"Anna\", \"Victoria\", \n",
    "                      \"Camilla\", \"Lillian\", \"Natalie\", \"Jackson\", \"Aiden\", \"Lucas\", \n",
    "                      \"Liam\", \"Noah\", \"Ethan\", \"Mason\", \"Caden\", \"Oliver\", \"Elijah\", \n",
    "                      \"Grayson\", \"Jacob\", \"Michael\", \"Benjamin\", \"Carter\", \"James\", \n",
    "                      \"Jayden\", \"Logan\", \"Alexander\", \"Caleb\", \"Ryan\", \"Luke\", \"Daniel\", \n",
    "                      \"Jack\", \"William\", \"Owen\", \"Gabriel\", \"Matthew\", \"Connor\", \"Jayce\", \n",
    "                      \"Isaac\", \"Sebastian\", \"Henry\", \"Muhammad\", \"Cameron\", \"Wyatt\", \n",
    "                      \"Dylan\", \"Nathan\", \"Nicholas\", \"Julian\", \"Eli\", \"Levi\", \"Isaiah\", \n",
    "                      \"Landon\", \"David\", \"Christian\", \"Andrew\", \"Brayden\", \"John\", \n",
    "                      \"Lincoln\"]\n",
    "\n",
    "# Generating list of n many salaries\n",
    "from random import gauss\n",
    "\n",
    "n = len(list_of_names)\n",
    "mu = 50000\n",
    "sigma = 20000\n",
    "list_of_salaries = []\n",
    "\n",
    "for i in range(n):\n",
    "    list_of_salaries += [int(gauss(mu, sigma))]\n",
    "    \n",
    "\n",
    "# Generating list of n many past_crime_severity values\n",
    "# We will use the numpy library\n",
    "import numpy as np\n",
    "items = [\"no crime\", \"infraction\", \"misdimeanor\", \"felony\"]\n",
    "probs = [.50, .40, .08, .02]\n",
    "list_of_past_crime_severity = np.random.choice(items, n, p = probs) # run `help(choices)` to read documentation\n",
    "\n",
    "\n",
    "# Generating list of n many has_past_unpaid_loan values\n",
    "\n",
    "list_of_has_past_unpaid_loan = np.random.binomial(n = 1, size = n, p = 0.2)\n",
    "\n",
    "\n",
    "\n",
    "\n",
    "# Initializing Pandas DataFrame\n",
    "df = pd.DataFrame({'Salary' : pd.Series(list_of_salaries, index = list_of_names),\n",
    "                  'past_crime_severity' : pd.Series(list_of_past_crime_severity, index = list_of_names),\n",
    "                  'has_past_unpaid_loan' : pd.Series(list_of_has_paid_past_loan, index = list_of_names)})\n",
    "\n",
    "df"
   ]
  },
  {
   "cell_type": "code",
   "execution_count": null,
   "metadata": {},
   "outputs": [],
   "source": [
    "# Lets read documentation to see what univariate distributions are available in the numpy.random module\n",
    "import numpy\n",
    "help(numpy.random)"
   ]
  },
  {
   "cell_type": "code",
   "execution_count": null,
   "metadata": {},
   "outputs": [],
   "source": [
    "# Capture a snapshot of df\n",
    "df.head(10) # default is 5"
   ]
  },
  {
   "cell_type": "markdown",
   "metadata": {},
   "source": [
    "50% of people have no crime, 40% have an infraction, 8% a misdimeanor and 2% a felony. There is a 20% chance that any individual has a past unpaid loan. Is this a reasonable fabrication of this dataset? No... since salary and not paying back a loan are dependent r.v.'s. But... we will ignore this now.\n",
    "\n",
    "It would be nice to see a summary of values. Would median and mean be appropriate here? Not for categorical variables!"
   ]
  },
  {
   "cell_type": "code",
   "execution_count": null,
   "metadata": {},
   "outputs": [],
   "source": [
    "# You can view summary statistics of each feature with the .describe() method\n",
    "df.describe()"
   ]
  },
  {
   "cell_type": "code",
   "execution_count": null,
   "metadata": {},
   "outputs": [],
   "source": [
    "# Get column labels\n",
    "df.columns"
   ]
  },
  {
   "cell_type": "code",
   "execution_count": null,
   "metadata": {},
   "outputs": [],
   "source": [
    "# get data types of columns\n",
    "df.dtypes"
   ]
  },
  {
   "cell_type": "markdown",
   "metadata": {},
   "source": [
    "`has_past_unpaid_loan` should not be an integer value! The difference between someone paying vs. not paying a loan is not the value 1, it is boolean. Let's cast the feature as a boolean instead of an integer value."
   ]
  },
  {
   "cell_type": "code",
   "execution_count": null,
   "metadata": {},
   "outputs": [],
   "source": [
    "# Cast the has_past_unpaid_loan feature as bool\n",
    "df['has_past_unpaid_loan'] = df['has_past_unpaid_loan'].astype('bool')\n",
    "\n",
    "df.head()"
   ]
  },
  {
   "cell_type": "code",
   "execution_count": null,
   "metadata": {},
   "outputs": [],
   "source": [
    "df['past_crime_severity'].describe()"
   ]
  },
  {
   "cell_type": "code",
   "execution_count": null,
   "metadata": {},
   "outputs": [],
   "source": [
    "# Here are some base functions to be aware of\n",
    "\n",
    "# min\n",
    "print(f\"Min: {df['Salary'].min()}\")\n",
    "\n",
    "# max\n",
    "print(f\"Max: {df['Salary'].max()}\")\n",
    "\n",
    "# median\n",
    "print(f\"Median: {df['Salary'].median()}\")\n",
    "\n",
    "# mean\n",
    "print(f\"Mean: {df['Salary'].mean()}\")\n",
    "\n",
    "# standard deviation\n",
    "print(f\"Std: {int(df['Salary'].std())}\")\n",
    "\n",
    "# variance\n",
    "print(f\"Variance: {int(df['Salary'].var())}\")\n",
    "\n",
    "# Quantile function\n",
    "print(f\"Quantile: {df['Salary'].quantile(0.2)}\")\n",
    "\n",
    "# Number of distinct elements\n",
    "print(f\"Distinct Values: {df['Salary'].nunique()}\")\n",
    "\n",
    "# Calculate interquartile range\n",
    "q3, q1 = np.percentile(df['Salary'], [75, 25])\n",
    "iqr = q3 - q1\n",
    "print(f\"IQR: {iqr}\")"
   ]
  },
  {
   "cell_type": "markdown",
   "metadata": {},
   "source": [
    "Great work! We've created a Pandas DataFrame object, explored and manipulated the data. This DataFrame is our training set `D`. We are missing one final variable, the response! Let's add it and say that 90\\% of people are creditworthy i.e. they paid back their loan."
   ]
  },
  {
   "cell_type": "code",
   "execution_count": null,
   "metadata": {},
   "outputs": [],
   "source": [
    "# Creating response variable (this is your y)\n",
    "df['paid_back_loan'] = np.random.binomial(n = 1, size = n, p = 0.9).astype('bool')\n",
    "\n",
    "df.head()"
   ]
  },
  {
   "cell_type": "markdown",
   "metadata": {},
   "source": [
    "Conceptually - why does this make no sense at all? `y` is independent of `X` --- what happens then? No function `f` can ever have any predictive / explanatory power! This is just a silly example to show you the data types. We will work with real data soon. Don't worry.\n",
    "\n",
    "---\n",
    "\n",
    "## Functions\n",
    "\n",
    "A function is a block of code which only runs when it is called. The functions we have worked with already come from imported or standard libraries, however we can create our own functions! You can define the arguments the function will accept, when you pass variables into the function call these values are called parameters (nomenclature counts).\n",
    "\n",
    "A function entails:\n",
    "- The `def` statement\n",
    "- The name of the function followed by ()\n",
    "- You may define arguments inside the parenthesis\n",
    "- a colon\n",
    "- Starting on a new line and indented, the body of the function to execute (also called the function clause)"
   ]
  },
  {
   "cell_type": "code",
   "execution_count": null,
   "metadata": {},
   "outputs": [],
   "source": [
    "# Our first function\n",
    "def hello():\n",
    "    print(\"Hello!\")"
   ]
  },
  {
   "cell_type": "markdown",
   "metadata": {},
   "source": [
    "Cool, our first function! How come nothing was outputted? We did not call the function, lets do that now."
   ]
  },
  {
   "cell_type": "code",
   "execution_count": null,
   "metadata": {},
   "outputs": [],
   "source": [
    "hello()"
   ]
  },
  {
   "cell_type": "markdown",
   "metadata": {},
   "source": [
    "A function can take on multiple arguments. An argument is information that can be passed into a function. There is a very subtle difference between an argument and a parameter.\n",
    "\n",
    "* A parameter is the variable listed inside the parentheses in the function definition.\n",
    "* An argument is the value that are sent to the function when it is called.\n",
    "\n",
    "Lets edit the `hello()` function to include a parameter called `name`, that way we can include the persons name in the print statement. When I call the function, we'll pass our own name as an argument in the function.\n",
    "\n",
    "You can add a default to an argument in case a corresponding parameter is not passed in the function call.\n",
    "\n",
    "The `return` statement is exactly what you think it is. Once it is called, the interpreter exits the function and returns whatever value comes after the statement. You don't need to include a return statement."
   ]
  },
  {
   "cell_type": "code",
   "execution_count": null,
   "metadata": {},
   "outputs": [],
   "source": [
    "def hello(name, age = 40):\n",
    "    hello_statement = f\"Hello {name}! I am {str(age)} years old.\"\n",
    "    print(hello_statement)\n",
    "    \n",
    "hello(\"Amir\", 21)\n",
    "\n",
    "hello(\"Amir\")\n",
    "\n",
    "hello()\n",
    "# What is wrong with the line above?"
   ]
  },
  {
   "cell_type": "markdown",
   "metadata": {},
   "source": [
    "Lets take a look at a fun function. For those of you in CS 220 you might be learning about encryption and decryption. One cipher you learn about is the Shift Cypher, where you simply replace the letter with the letter n positions away. The function for the shift cipher is generally `f(p) = (p + k) % 26` where `p` is a specific letter in the string and `k` is a given key. Here is a Python function for the shift cypher."
   ]
  },
  {
   "cell_type": "code",
   "execution_count": null,
   "metadata": {},
   "outputs": [],
   "source": [
    "# Shift Cipher Decryptor Function\n",
    "def shift_cipher_decrypt(coded_message, key):\n",
    "    coded_message = list(coded_message)\n",
    "    encrypted_message = ''\n",
    "    letters = \"A B C D E F G H I J K L M N O P Q R S T U V W X Y Z\"\n",
    "    letters = letters.split()\n",
    "    \n",
    "    for letter in coded_message:\n",
    "        if letter in letters:\n",
    "            x = letters.index(str(letter))\n",
    "            char = (x - key) % 26\n",
    "            encrypted_message += letters[char]\n",
    "            \n",
    "        else:\n",
    "            encrypted_message += ' '\n",
    "            \n",
    "    return print(encrypted_message)"
   ]
  },
  {
   "cell_type": "markdown",
   "metadata": {},
   "source": [
    "Consider the following message encrypted with a simple shift cipher: \"CKKZ SKNG\"\n",
    "Use the encryption key `100` to decode the message."
   ]
  },
  {
   "cell_type": "code",
   "execution_count": null,
   "metadata": {},
   "outputs": [],
   "source": [
    "shift_cipher_decrypt(\"CKKZ SKNG\", 100)"
   ]
  },
  {
   "cell_type": "markdown",
   "metadata": {},
   "source": [
    "Below is a Python function to encrypt messages with the shift cypher. To encrypt and decrypt the same message make sure your key is the same! These two functions might look intimidating, but its nothing we haven't already gone over. Go through each function line by line, and make sense of each. Now you're a Python programmer and a spy!"
   ]
  },
  {
   "cell_type": "code",
   "execution_count": null,
   "metadata": {},
   "outputs": [],
   "source": [
    "def shift_cipher_encrypt(coded_message, key):\n",
    "    coded_message = list(coded_message)\n",
    "    encrypted_message = ''\n",
    "    letters = \"A B C D E F G H I J K L M N O P Q R S T U V W X Y Z\"\n",
    "    letters = letters.split()\n",
    "    \n",
    "    for letter in coded_message:\n",
    "        if letter in letters:\n",
    "            x = letters.index(str(letter))\n",
    "            char = (x + key) % 26\n",
    "            encrypted_message += letters[char]\n",
    "            \n",
    "        else:\n",
    "            encrypted_message += ' '\n",
    "            \n",
    "    return print(encrypted_message)"
   ]
  },
  {
   "cell_type": "code",
   "execution_count": null,
   "metadata": {},
   "outputs": [],
   "source": [
    "shift_cipher_encrypt(\"GOOD WORK\", 100)"
   ]
  }
 ],
 "metadata": {
  "kernelspec": {
   "display_name": "Python 3",
   "language": "python",
   "name": "python3"
  },
  "language_info": {
   "codemirror_mode": {
    "name": "ipython",
    "version": 3
   },
   "file_extension": ".py",
   "mimetype": "text/x-python",
   "name": "python",
   "nbconvert_exporter": "python",
   "pygments_lexer": "ipython3",
   "version": "3.8.5"
  }
 },
 "nbformat": 4,
 "nbformat_minor": 4
}
